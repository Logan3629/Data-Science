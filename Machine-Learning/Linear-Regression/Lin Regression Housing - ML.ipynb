{
 "cells": [
  {
   "cell_type": "code",
   "execution_count": 1,
   "metadata": {},
   "outputs": [],
   "source": [
    "import pandas as pd\n",
    "import numpy as np\n",
    "import matplotlib.pyplot as plt\n",
    "import seaborn as sns"
   ]
  },
  {
   "cell_type": "code",
   "execution_count": 2,
   "metadata": {},
   "outputs": [
    {
     "data": {
      "text/html": [
       "<div>\n",
       "<style scoped>\n",
       "    .dataframe tbody tr th:only-of-type {\n",
       "        vertical-align: middle;\n",
       "    }\n",
       "\n",
       "    .dataframe tbody tr th {\n",
       "        vertical-align: top;\n",
       "    }\n",
       "\n",
       "    .dataframe thead th {\n",
       "        text-align: right;\n",
       "    }\n",
       "</style>\n",
       "<table border=\"1\" class=\"dataframe\">\n",
       "  <thead>\n",
       "    <tr style=\"text-align: right;\">\n",
       "      <th></th>\n",
       "      <th>Unnamed: 0</th>\n",
       "      <th>price</th>\n",
       "      <th>lotsize</th>\n",
       "      <th>bedrooms</th>\n",
       "      <th>bathrms</th>\n",
       "      <th>stories</th>\n",
       "      <th>driveway</th>\n",
       "      <th>recroom</th>\n",
       "      <th>fullbase</th>\n",
       "      <th>gashw</th>\n",
       "      <th>airco</th>\n",
       "      <th>garagepl</th>\n",
       "      <th>prefarea</th>\n",
       "    </tr>\n",
       "  </thead>\n",
       "  <tbody>\n",
       "    <tr>\n",
       "      <td>399</td>\n",
       "      <td>400</td>\n",
       "      <td>85000.0</td>\n",
       "      <td>7231</td>\n",
       "      <td>3</td>\n",
       "      <td>1</td>\n",
       "      <td>2</td>\n",
       "      <td>yes</td>\n",
       "      <td>yes</td>\n",
       "      <td>yes</td>\n",
       "      <td>no</td>\n",
       "      <td>yes</td>\n",
       "      <td>0</td>\n",
       "      <td>yes</td>\n",
       "    </tr>\n",
       "    <tr>\n",
       "      <td>251</td>\n",
       "      <td>252</td>\n",
       "      <td>52000.0</td>\n",
       "      <td>3520</td>\n",
       "      <td>2</td>\n",
       "      <td>2</td>\n",
       "      <td>1</td>\n",
       "      <td>yes</td>\n",
       "      <td>no</td>\n",
       "      <td>yes</td>\n",
       "      <td>no</td>\n",
       "      <td>no</td>\n",
       "      <td>0</td>\n",
       "      <td>no</td>\n",
       "    </tr>\n",
       "    <tr>\n",
       "      <td>455</td>\n",
       "      <td>456</td>\n",
       "      <td>75000.0</td>\n",
       "      <td>3800</td>\n",
       "      <td>3</td>\n",
       "      <td>1</td>\n",
       "      <td>2</td>\n",
       "      <td>yes</td>\n",
       "      <td>yes</td>\n",
       "      <td>yes</td>\n",
       "      <td>no</td>\n",
       "      <td>no</td>\n",
       "      <td>1</td>\n",
       "      <td>yes</td>\n",
       "    </tr>\n",
       "    <tr>\n",
       "      <td>466</td>\n",
       "      <td>467</td>\n",
       "      <td>54000.0</td>\n",
       "      <td>2856</td>\n",
       "      <td>3</td>\n",
       "      <td>1</td>\n",
       "      <td>3</td>\n",
       "      <td>yes</td>\n",
       "      <td>no</td>\n",
       "      <td>no</td>\n",
       "      <td>no</td>\n",
       "      <td>no</td>\n",
       "      <td>0</td>\n",
       "      <td>yes</td>\n",
       "    </tr>\n",
       "    <tr>\n",
       "      <td>129</td>\n",
       "      <td>130</td>\n",
       "      <td>127000.0</td>\n",
       "      <td>4600</td>\n",
       "      <td>3</td>\n",
       "      <td>2</td>\n",
       "      <td>2</td>\n",
       "      <td>yes</td>\n",
       "      <td>yes</td>\n",
       "      <td>no</td>\n",
       "      <td>no</td>\n",
       "      <td>yes</td>\n",
       "      <td>2</td>\n",
       "      <td>no</td>\n",
       "    </tr>\n",
       "    <tr>\n",
       "      <td>...</td>\n",
       "      <td>...</td>\n",
       "      <td>...</td>\n",
       "      <td>...</td>\n",
       "      <td>...</td>\n",
       "      <td>...</td>\n",
       "      <td>...</td>\n",
       "      <td>...</td>\n",
       "      <td>...</td>\n",
       "      <td>...</td>\n",
       "      <td>...</td>\n",
       "      <td>...</td>\n",
       "      <td>...</td>\n",
       "      <td>...</td>\n",
       "    </tr>\n",
       "    <tr>\n",
       "      <td>480</td>\n",
       "      <td>481</td>\n",
       "      <td>89500.0</td>\n",
       "      <td>6000</td>\n",
       "      <td>4</td>\n",
       "      <td>1</td>\n",
       "      <td>3</td>\n",
       "      <td>yes</td>\n",
       "      <td>yes</td>\n",
       "      <td>yes</td>\n",
       "      <td>no</td>\n",
       "      <td>no</td>\n",
       "      <td>0</td>\n",
       "      <td>yes</td>\n",
       "    </tr>\n",
       "    <tr>\n",
       "      <td>422</td>\n",
       "      <td>423</td>\n",
       "      <td>61100.0</td>\n",
       "      <td>3400</td>\n",
       "      <td>3</td>\n",
       "      <td>1</td>\n",
       "      <td>2</td>\n",
       "      <td>yes</td>\n",
       "      <td>no</td>\n",
       "      <td>yes</td>\n",
       "      <td>no</td>\n",
       "      <td>no</td>\n",
       "      <td>2</td>\n",
       "      <td>yes</td>\n",
       "    </tr>\n",
       "    <tr>\n",
       "      <td>119</td>\n",
       "      <td>120</td>\n",
       "      <td>116000.0</td>\n",
       "      <td>6840</td>\n",
       "      <td>5</td>\n",
       "      <td>1</td>\n",
       "      <td>2</td>\n",
       "      <td>yes</td>\n",
       "      <td>yes</td>\n",
       "      <td>yes</td>\n",
       "      <td>no</td>\n",
       "      <td>yes</td>\n",
       "      <td>1</td>\n",
       "      <td>no</td>\n",
       "    </tr>\n",
       "    <tr>\n",
       "      <td>256</td>\n",
       "      <td>257</td>\n",
       "      <td>71000.0</td>\n",
       "      <td>4410</td>\n",
       "      <td>4</td>\n",
       "      <td>3</td>\n",
       "      <td>2</td>\n",
       "      <td>yes</td>\n",
       "      <td>no</td>\n",
       "      <td>yes</td>\n",
       "      <td>no</td>\n",
       "      <td>no</td>\n",
       "      <td>2</td>\n",
       "      <td>no</td>\n",
       "    </tr>\n",
       "    <tr>\n",
       "      <td>249</td>\n",
       "      <td>250</td>\n",
       "      <td>45000.0</td>\n",
       "      <td>3450</td>\n",
       "      <td>3</td>\n",
       "      <td>1</td>\n",
       "      <td>2</td>\n",
       "      <td>yes</td>\n",
       "      <td>no</td>\n",
       "      <td>yes</td>\n",
       "      <td>no</td>\n",
       "      <td>no</td>\n",
       "      <td>0</td>\n",
       "      <td>no</td>\n",
       "    </tr>\n",
       "  </tbody>\n",
       "</table>\n",
       "<p>546 rows × 13 columns</p>\n",
       "</div>"
      ],
      "text/plain": [
       "     Unnamed: 0     price  lotsize  bedrooms  bathrms  stories driveway  \\\n",
       "399         400   85000.0     7231         3        1        2      yes   \n",
       "251         252   52000.0     3520         2        2        1      yes   \n",
       "455         456   75000.0     3800         3        1        2      yes   \n",
       "466         467   54000.0     2856         3        1        3      yes   \n",
       "129         130  127000.0     4600         3        2        2      yes   \n",
       "..          ...       ...      ...       ...      ...      ...      ...   \n",
       "480         481   89500.0     6000         4        1        3      yes   \n",
       "422         423   61100.0     3400         3        1        2      yes   \n",
       "119         120  116000.0     6840         5        1        2      yes   \n",
       "256         257   71000.0     4410         4        3        2      yes   \n",
       "249         250   45000.0     3450         3        1        2      yes   \n",
       "\n",
       "    recroom fullbase gashw airco  garagepl prefarea  \n",
       "399     yes      yes    no   yes         0      yes  \n",
       "251      no      yes    no    no         0       no  \n",
       "455     yes      yes    no    no         1      yes  \n",
       "466      no       no    no    no         0      yes  \n",
       "129     yes       no    no   yes         2       no  \n",
       "..      ...      ...   ...   ...       ...      ...  \n",
       "480     yes      yes    no    no         0      yes  \n",
       "422      no      yes    no    no         2      yes  \n",
       "119     yes      yes    no   yes         1       no  \n",
       "256      no      yes    no    no         2       no  \n",
       "249      no      yes    no    no         0       no  \n",
       "\n",
       "[546 rows x 13 columns]"
      ]
     },
     "execution_count": 2,
     "metadata": {},
     "output_type": "execute_result"
    }
   ],
   "source": [
    "df = pd.read_csv('Housing.csv')\n",
    "df = df.sample(frac = 1, random_state = 3)\n",
    "df"
   ]
  },
  {
   "cell_type": "code",
   "execution_count": 3,
   "metadata": {},
   "outputs": [
    {
     "name": "stdout",
     "output_type": "stream",
     "text": [
      "<class 'pandas.core.frame.DataFrame'>\n",
      "Int64Index: 546 entries, 399 to 249\n",
      "Data columns (total 13 columns):\n",
      "Unnamed: 0    546 non-null int64\n",
      "price         546 non-null float64\n",
      "lotsize       546 non-null int64\n",
      "bedrooms      546 non-null int64\n",
      "bathrms       546 non-null int64\n",
      "stories       546 non-null int64\n",
      "driveway      546 non-null object\n",
      "recroom       546 non-null object\n",
      "fullbase      546 non-null object\n",
      "gashw         546 non-null object\n",
      "airco         546 non-null object\n",
      "garagepl      546 non-null int64\n",
      "prefarea      546 non-null object\n",
      "dtypes: float64(1), int64(6), object(6)\n",
      "memory usage: 59.7+ KB\n"
     ]
    }
   ],
   "source": [
    "df.info()"
   ]
  },
  {
   "cell_type": "code",
   "execution_count": 4,
   "metadata": {},
   "outputs": [],
   "source": [
    "df = df.drop('Unnamed: 0', axis = 1)"
   ]
  },
  {
   "cell_type": "code",
   "execution_count": 5,
   "metadata": {},
   "outputs": [
    {
     "data": {
      "text/plain": [
       "['driveway', 'recroom', 'fullbase', 'gashw', 'airco', 'prefarea']"
      ]
     },
     "execution_count": 5,
     "metadata": {},
     "output_type": "execute_result"
    }
   ],
   "source": [
    "obj_cols = list(df.select_dtypes(include = 'object').columns)\n",
    "obj_cols"
   ]
  },
  {
   "cell_type": "code",
   "execution_count": 6,
   "metadata": {},
   "outputs": [
    {
     "name": "stdout",
     "output_type": "stream",
     "text": [
      "yes    469\n",
      "no      77\n",
      "Name: driveway, dtype: int64\n",
      "no     449\n",
      "yes     97\n",
      "Name: recroom, dtype: int64\n",
      "no     355\n",
      "yes    191\n",
      "Name: fullbase, dtype: int64\n",
      "no     521\n",
      "yes     25\n",
      "Name: gashw, dtype: int64\n",
      "no     373\n",
      "yes    173\n",
      "Name: airco, dtype: int64\n",
      "no     418\n",
      "yes    128\n",
      "Name: prefarea, dtype: int64\n"
     ]
    }
   ],
   "source": [
    "for col in obj_cols: \n",
    "    print(df[col].value_counts())"
   ]
  },
  {
   "cell_type": "code",
   "execution_count": 7,
   "metadata": {},
   "outputs": [],
   "source": [
    "df = pd.get_dummies(df, columns = obj_cols, drop_first = True)"
   ]
  },
  {
   "cell_type": "code",
   "execution_count": 8,
   "metadata": {},
   "outputs": [],
   "source": [
    "y = df['price']\n",
    "X = df.drop('price', axis = 1)"
   ]
  },
  {
   "cell_type": "code",
   "execution_count": 9,
   "metadata": {},
   "outputs": [],
   "source": [
    "from sklearn.model_selection import train_test_split\n",
    "X_train, X_test, y_train, y_test = train_test_split(X, y, test_size = 0.3, random_state = 3)"
   ]
  },
  {
   "cell_type": "markdown",
   "metadata": {},
   "source": [
    "### Recursive Feature Elimination"
   ]
  },
  {
   "cell_type": "code",
   "execution_count": 17,
   "metadata": {},
   "outputs": [],
   "source": [
    "from sklearn.feature_selection import RFE\n",
    "from sklearn.linear_model import LinearRegression\n",
    "from sklearn.metrics import r2_score, mean_squared_error"
   ]
  },
  {
   "cell_type": "code",
   "execution_count": 18,
   "metadata": {},
   "outputs": [
    {
     "name": "stdout",
     "output_type": "stream",
     "text": [
      "(382, 11)\n"
     ]
    }
   ],
   "source": [
    "print(X_train.shape)"
   ]
  },
  {
   "cell_type": "code",
   "execution_count": 19,
   "metadata": {},
   "outputs": [],
   "source": [
    "no_ofcols = X_train.shape[1]\n",
    "r2score = []\n",
    "rmse = []\n",
    "\n",
    "lr = LinearRegression()\n",
    "\n",
    "for i in range(no_ofcols):\n",
    "    rfe = RFE(lr, n_features_to_select = i+1)\n",
    "    rfe.fit(X_train, y_train)\n",
    "    y_test_pred = rfe.predict(X_test)\n",
    "    r2 = r2_score(y_test, y_test_pred)\n",
    "    rms = np.sqrt(mean_squared_error(y_test, y_test_pred))\n",
    "    r2score.append(r2)\n",
    "    rmse.append(rms)\n",
    "    "
   ]
  },
  {
   "cell_type": "code",
   "execution_count": 21,
   "metadata": {},
   "outputs": [
    {
     "data": {
      "text/plain": [
       "[<matplotlib.lines.Line2D at 0x1ab05215608>]"
      ]
     },
     "execution_count": 21,
     "metadata": {},
     "output_type": "execute_result"
    },
    {
     "data": {
      "image/png": "[encoded data removed]",
      "text/plain": [
       "<Figure size 432x288 with 1 Axes>"
      ]
     },
     "metadata": {
      "needs_background": "light"
     },
     "output_type": "display_data"
    }
   ],
   "source": [
    "plt.plot(range(1,12), r2score)\n"
   ]
  },
  {
   "cell_type": "code",
   "execution_count": 22,
   "metadata": {},
   "outputs": [
    {
     "data": {
      "text/plain": [
       "[0.1850299788183395,\n",
       " 0.3131259692895041,\n",
       " 0.39798607981680967,\n",
       " 0.42136297775317877,\n",
       " 0.4947101901228007,\n",
       " 0.48399829696985786,\n",
       " 0.5267337241770209,\n",
       " 0.568988286201481,\n",
       " 0.5733244027708126,\n",
       " 0.5797432558608717,\n",
       " 0.6368778022054269]"
      ]
     },
     "execution_count": 22,
     "metadata": {},
     "output_type": "execute_result"
    }
   ],
   "source": [
    "r2score"
   ]
  },
  {
   "cell_type": "code",
   "execution_count": 23,
   "metadata": {},
   "outputs": [
    {
     "data": {
      "text/plain": [
       "[<matplotlib.lines.Line2D at 0x1ab05274c48>]"
      ]
     },
     "execution_count": 23,
     "metadata": {},
     "output_type": "execute_result"
    },
    {
     "data": {
      "image/png": "[encoded data removed]",
      "text/plain": [
       "<Figure size 432x288 with 1 Axes>"
      ]
     },
     "metadata": {
      "needs_background": "light"
     },
     "output_type": "display_data"
    }
   ],
   "source": [
    "plt.plot(range(1,12), rmse)"
   ]
  },
  {
   "cell_type": "code",
   "execution_count": 24,
   "metadata": {},
   "outputs": [
    {
     "data": {
      "text/plain": [
       "[24352.18631280027,\n",
       " 22356.596548621514,\n",
       " 20930.056841332,\n",
       " 20519.66421349967,\n",
       " 19175.090001059732,\n",
       " 19377.275258922353,\n",
       " 18557.51927456962,\n",
       " 17709.719303472873,\n",
       " 17620.411380887675,\n",
       " 17487.369511411336,\n",
       " 16255.245772193812]"
      ]
     },
     "execution_count": 24,
     "metadata": {},
     "output_type": "execute_result"
    }
   ],
   "source": [
    "rmse"
   ]
  },
  {
   "cell_type": "code",
   "execution_count": 25,
   "metadata": {},
   "outputs": [
    {
     "data": {
      "text/plain": [
       "RFE(estimator=LinearRegression(copy_X=True, fit_intercept=True, n_jobs=None,\n",
       "                               normalize=False),\n",
       "    n_features_to_select=8, step=1, verbose=0)"
      ]
     },
     "execution_count": 25,
     "metadata": {},
     "output_type": "execute_result"
    }
   ],
   "source": [
    "rfe = RFE(lr, n_features_to_select = 8)\n",
    "rfe.fit(X_train, y_train)"
   ]
  },
  {
   "cell_type": "code",
   "execution_count": 27,
   "metadata": {},
   "outputs": [
    {
     "data": {
      "text/html": [
       "<div>\n",
       "<style scoped>\n",
       "    .dataframe tbody tr th:only-of-type {\n",
       "        vertical-align: middle;\n",
       "    }\n",
       "\n",
       "    .dataframe tbody tr th {\n",
       "        vertical-align: top;\n",
       "    }\n",
       "\n",
       "    .dataframe thead th {\n",
       "        text-align: right;\n",
       "    }\n",
       "</style>\n",
       "<table border=\"1\" class=\"dataframe\">\n",
       "  <thead>\n",
       "    <tr style=\"text-align: right;\">\n",
       "      <th></th>\n",
       "      <th>selected</th>\n",
       "    </tr>\n",
       "  </thead>\n",
       "  <tbody>\n",
       "    <tr>\n",
       "      <td>lotsize</td>\n",
       "      <td>4</td>\n",
       "    </tr>\n",
       "    <tr>\n",
       "      <td>bedrooms</td>\n",
       "      <td>3</td>\n",
       "    </tr>\n",
       "    <tr>\n",
       "      <td>bathrms</td>\n",
       "      <td>1</td>\n",
       "    </tr>\n",
       "    <tr>\n",
       "      <td>stories</td>\n",
       "      <td>1</td>\n",
       "    </tr>\n",
       "    <tr>\n",
       "      <td>garagepl</td>\n",
       "      <td>1</td>\n",
       "    </tr>\n",
       "    <tr>\n",
       "      <td>driveway_yes</td>\n",
       "      <td>1</td>\n",
       "    </tr>\n",
       "    <tr>\n",
       "      <td>recroom_yes</td>\n",
       "      <td>1</td>\n",
       "    </tr>\n",
       "    <tr>\n",
       "      <td>fullbase_yes</td>\n",
       "      <td>2</td>\n",
       "    </tr>\n",
       "    <tr>\n",
       "      <td>gashw_yes</td>\n",
       "      <td>1</td>\n",
       "    </tr>\n",
       "    <tr>\n",
       "      <td>airco_yes</td>\n",
       "      <td>1</td>\n",
       "    </tr>\n",
       "    <tr>\n",
       "      <td>prefarea_yes</td>\n",
       "      <td>1</td>\n",
       "    </tr>\n",
       "  </tbody>\n",
       "</table>\n",
       "</div>"
      ],
      "text/plain": [
       "              selected\n",
       "lotsize              4\n",
       "bedrooms             3\n",
       "bathrms              1\n",
       "stories              1\n",
       "garagepl             1\n",
       "driveway_yes         1\n",
       "recroom_yes          1\n",
       "fullbase_yes         2\n",
       "gashw_yes            1\n",
       "airco_yes            1\n",
       "prefarea_yes         1"
      ]
     },
     "execution_count": 27,
     "metadata": {},
     "output_type": "execute_result"
    }
   ],
   "source": [
    "pd.DataFrame(rfe.ranking_, index = X.columns, columns = ['selected'])"
   ]
  },
  {
   "cell_type": "markdown",
   "metadata": {},
   "source": [
    "### Hyper parameter tuning approach to find the optimal number of features to keep"
   ]
  },
  {
   "cell_type": "code",
   "execution_count": 30,
   "metadata": {},
   "outputs": [
    {
     "data": {
      "text/plain": [
       "GridSearchCV(cv=KFold(n_splits=3, random_state=3, shuffle=False),\n",
       "             error_score='raise-deprecating',\n",
       "             estimator=RFE(estimator=LinearRegression(copy_X=True,\n",
       "                                                      fit_intercept=True,\n",
       "                                                      n_jobs=None,\n",
       "                                                      normalize=False),\n",
       "                           n_features_to_select=None, step=1, verbose=0),\n",
       "             iid='warn', n_jobs=None,\n",
       "             param_grid={'n_features_to_select': [1, 2, 3, 4, 5, 6, 7, 8, 9, 10,\n",
       "                                                  11]},\n",
       "             pre_dispatch='2*n_jobs', refit=True, return_train_score=True,\n",
       "             scoring='r2', verbose=0)"
      ]
     },
     "execution_count": 30,
     "metadata": {},
     "output_type": "execute_result"
    }
   ],
   "source": [
    "from sklearn.model_selection import KFold, GridSearchCV\n",
    "\n",
    "params = {'n_features_to_select': list(range(1,12))}\n",
    "lr = LinearRegression()\n",
    "rfe = RFE(lr)\n",
    "\n",
    "kf = KFold(n_splits = 3, random_state = 3)\n",
    "\n",
    "gsearch = GridSearchCV(rfe, param_grid = params, scoring = 'r2', cv = kf, return_train_score = True)\n",
    "\n",
    "gsearch.fit(X, y)"
   ]
  },
  {
   "cell_type": "code",
   "execution_count": 31,
   "metadata": {},
   "outputs": [
    {
     "data": {
      "text/plain": [
       "{'n_features_to_select': 11}"
      ]
     },
     "execution_count": 31,
     "metadata": {},
     "output_type": "execute_result"
    }
   ],
   "source": [
    "gsearch.best_params_"
   ]
  },
  {
   "cell_type": "code",
   "execution_count": 32,
   "metadata": {},
   "outputs": [
    {
     "data": {
      "text/html": [
       "<div>\n",
       "<style scoped>\n",
       "    .dataframe tbody tr th:only-of-type {\n",
       "        vertical-align: middle;\n",
       "    }\n",
       "\n",
       "    .dataframe tbody tr th {\n",
       "        vertical-align: top;\n",
       "    }\n",
       "\n",
       "    .dataframe thead th {\n",
       "        text-align: right;\n",
       "    }\n",
       "</style>\n",
       "<table border=\"1\" class=\"dataframe\">\n",
       "  <thead>\n",
       "    <tr style=\"text-align: right;\">\n",
       "      <th></th>\n",
       "      <th>mean_fit_time</th>\n",
       "      <th>std_fit_time</th>\n",
       "      <th>mean_score_time</th>\n",
       "      <th>std_score_time</th>\n",
       "      <th>param_n_features_to_select</th>\n",
       "      <th>params</th>\n",
       "      <th>split0_test_score</th>\n",
       "      <th>split1_test_score</th>\n",
       "      <th>split2_test_score</th>\n",
       "      <th>mean_test_score</th>\n",
       "      <th>std_test_score</th>\n",
       "      <th>rank_test_score</th>\n",
       "      <th>split0_train_score</th>\n",
       "      <th>split1_train_score</th>\n",
       "      <th>split2_train_score</th>\n",
       "      <th>mean_train_score</th>\n",
       "      <th>std_train_score</th>\n",
       "    </tr>\n",
       "  </thead>\n",
       "  <tbody>\n",
       "    <tr>\n",
       "      <td>0</td>\n",
       "      <td>0.010305</td>\n",
       "      <td>4.696283e-04</td>\n",
       "      <td>0.001662</td>\n",
       "      <td>4.701903e-04</td>\n",
       "      <td>1</td>\n",
       "      <td>{'n_features_to_select': 1}</td>\n",
       "      <td>0.217671</td>\n",
       "      <td>0.285813</td>\n",
       "      <td>0.289996</td>\n",
       "      <td>0.264493</td>\n",
       "      <td>0.033152</td>\n",
       "      <td>11</td>\n",
       "      <td>0.292885</td>\n",
       "      <td>0.254951</td>\n",
       "      <td>0.256315</td>\n",
       "      <td>0.268050</td>\n",
       "      <td>0.017569</td>\n",
       "    </tr>\n",
       "    <tr>\n",
       "      <td>1</td>\n",
       "      <td>0.009309</td>\n",
       "      <td>4.695722e-04</td>\n",
       "      <td>0.001330</td>\n",
       "      <td>4.700779e-04</td>\n",
       "      <td>2</td>\n",
       "      <td>{'n_features_to_select': 2}</td>\n",
       "      <td>0.307654</td>\n",
       "      <td>0.448551</td>\n",
       "      <td>0.298140</td>\n",
       "      <td>0.351448</td>\n",
       "      <td>0.068772</td>\n",
       "      <td>10</td>\n",
       "      <td>0.451576</td>\n",
       "      <td>0.374300</td>\n",
       "      <td>0.375353</td>\n",
       "      <td>0.400410</td>\n",
       "      <td>0.036182</td>\n",
       "    </tr>\n",
       "    <tr>\n",
       "      <td>2</td>\n",
       "      <td>0.010639</td>\n",
       "      <td>1.695108e-03</td>\n",
       "      <td>0.001663</td>\n",
       "      <td>4.706427e-04</td>\n",
       "      <td>3</td>\n",
       "      <td>{'n_features_to_select': 3}</td>\n",
       "      <td>0.356029</td>\n",
       "      <td>0.523029</td>\n",
       "      <td>0.282677</td>\n",
       "      <td>0.387245</td>\n",
       "      <td>0.100576</td>\n",
       "      <td>9</td>\n",
       "      <td>0.515776</td>\n",
       "      <td>0.439805</td>\n",
       "      <td>0.389132</td>\n",
       "      <td>0.448238</td>\n",
       "      <td>0.052045</td>\n",
       "    </tr>\n",
       "    <tr>\n",
       "      <td>3</td>\n",
       "      <td>0.006647</td>\n",
       "      <td>9.380765e-04</td>\n",
       "      <td>0.001330</td>\n",
       "      <td>4.699655e-04</td>\n",
       "      <td>4</td>\n",
       "      <td>{'n_features_to_select': 4}</td>\n",
       "      <td>0.375549</td>\n",
       "      <td>0.547192</td>\n",
       "      <td>0.407523</td>\n",
       "      <td>0.443421</td>\n",
       "      <td>0.074529</td>\n",
       "      <td>8</td>\n",
       "      <td>0.522729</td>\n",
       "      <td>0.451497</td>\n",
       "      <td>0.508000</td>\n",
       "      <td>0.494075</td>\n",
       "      <td>0.030702</td>\n",
       "    </tr>\n",
       "    <tr>\n",
       "      <td>4</td>\n",
       "      <td>0.005984</td>\n",
       "      <td>2.973602e-07</td>\n",
       "      <td>0.000998</td>\n",
       "      <td>8.142961e-04</td>\n",
       "      <td>5</td>\n",
       "      <td>{'n_features_to_select': 5}</td>\n",
       "      <td>0.452198</td>\n",
       "      <td>0.602401</td>\n",
       "      <td>0.458651</td>\n",
       "      <td>0.504416</td>\n",
       "      <td>0.069335</td>\n",
       "      <td>7</td>\n",
       "      <td>0.551450</td>\n",
       "      <td>0.481724</td>\n",
       "      <td>0.540816</td>\n",
       "      <td>0.524663</td>\n",
       "      <td>0.030672</td>\n",
       "    </tr>\n",
       "    <tr>\n",
       "      <td>5</td>\n",
       "      <td>0.004986</td>\n",
       "      <td>8.141989e-04</td>\n",
       "      <td>0.000997</td>\n",
       "      <td>2.247832e-07</td>\n",
       "      <td>6</td>\n",
       "      <td>{'n_features_to_select': 6}</td>\n",
       "      <td>0.445773</td>\n",
       "      <td>0.632419</td>\n",
       "      <td>0.479301</td>\n",
       "      <td>0.519164</td>\n",
       "      <td>0.081245</td>\n",
       "      <td>6</td>\n",
       "      <td>0.571612</td>\n",
       "      <td>0.522290</td>\n",
       "      <td>0.586293</td>\n",
       "      <td>0.560065</td>\n",
       "      <td>0.027375</td>\n",
       "    </tr>\n",
       "    <tr>\n",
       "      <td>6</td>\n",
       "      <td>0.005155</td>\n",
       "      <td>8.485810e-04</td>\n",
       "      <td>0.000997</td>\n",
       "      <td>2.973602e-07</td>\n",
       "      <td>7</td>\n",
       "      <td>{'n_features_to_select': 7}</td>\n",
       "      <td>0.467880</td>\n",
       "      <td>0.632769</td>\n",
       "      <td>0.501931</td>\n",
       "      <td>0.534193</td>\n",
       "      <td>0.071076</td>\n",
       "      <td>5</td>\n",
       "      <td>0.603103</td>\n",
       "      <td>0.527985</td>\n",
       "      <td>0.590851</td>\n",
       "      <td>0.573979</td>\n",
       "      <td>0.032906</td>\n",
       "    </tr>\n",
       "    <tr>\n",
       "      <td>7</td>\n",
       "      <td>0.004322</td>\n",
       "      <td>4.703588e-04</td>\n",
       "      <td>0.001662</td>\n",
       "      <td>4.699655e-04</td>\n",
       "      <td>8</td>\n",
       "      <td>{'n_features_to_select': 8}</td>\n",
       "      <td>0.531259</td>\n",
       "      <td>0.661532</td>\n",
       "      <td>0.539507</td>\n",
       "      <td>0.577433</td>\n",
       "      <td>0.059562</td>\n",
       "      <td>4</td>\n",
       "      <td>0.631563</td>\n",
       "      <td>0.569639</td>\n",
       "      <td>0.621615</td>\n",
       "      <td>0.607606</td>\n",
       "      <td>0.027152</td>\n",
       "    </tr>\n",
       "    <tr>\n",
       "      <td>8</td>\n",
       "      <td>0.004322</td>\n",
       "      <td>4.697972e-04</td>\n",
       "      <td>0.001330</td>\n",
       "      <td>4.695164e-04</td>\n",
       "      <td>9</td>\n",
       "      <td>{'n_features_to_select': 9}</td>\n",
       "      <td>0.536340</td>\n",
       "      <td>0.674097</td>\n",
       "      <td>0.550592</td>\n",
       "      <td>0.587010</td>\n",
       "      <td>0.061854</td>\n",
       "      <td>2</td>\n",
       "      <td>0.637938</td>\n",
       "      <td>0.573052</td>\n",
       "      <td>0.623820</td>\n",
       "      <td>0.611603</td>\n",
       "      <td>0.027863</td>\n",
       "    </tr>\n",
       "    <tr>\n",
       "      <td>9</td>\n",
       "      <td>0.003324</td>\n",
       "      <td>4.705837e-04</td>\n",
       "      <td>0.000998</td>\n",
       "      <td>7.370010e-07</td>\n",
       "      <td>10</td>\n",
       "      <td>{'n_features_to_select': 10}</td>\n",
       "      <td>0.541111</td>\n",
       "      <td>0.653360</td>\n",
       "      <td>0.557355</td>\n",
       "      <td>0.583942</td>\n",
       "      <td>0.049532</td>\n",
       "      <td>3</td>\n",
       "      <td>0.641553</td>\n",
       "      <td>0.584540</td>\n",
       "      <td>0.624308</td>\n",
       "      <td>0.616800</td>\n",
       "      <td>0.023873</td>\n",
       "    </tr>\n",
       "    <tr>\n",
       "      <td>10</td>\n",
       "      <td>0.001566</td>\n",
       "      <td>4.188433e-04</td>\n",
       "      <td>0.001330</td>\n",
       "      <td>4.696845e-04</td>\n",
       "      <td>11</td>\n",
       "      <td>{'n_features_to_select': 11}</td>\n",
       "      <td>0.582917</td>\n",
       "      <td>0.732335</td>\n",
       "      <td>0.652389</td>\n",
       "      <td>0.655881</td>\n",
       "      <td>0.061049</td>\n",
       "      <td>1</td>\n",
       "      <td>0.717659</td>\n",
       "      <td>0.642781</td>\n",
       "      <td>0.675907</td>\n",
       "      <td>0.678782</td>\n",
       "      <td>0.030636</td>\n",
       "    </tr>\n",
       "  </tbody>\n",
       "</table>\n",
       "</div>"
      ],
      "text/plain": [
       "    mean_fit_time  std_fit_time  mean_score_time  std_score_time  \\\n",
       "0        0.010305  4.696283e-04         0.001662    4.701903e-04   \n",
       "1        0.009309  4.695722e-04         0.001330    4.700779e-04   \n",
       "2        0.010639  1.695108e-03         0.001663    4.706427e-04   \n",
       "3        0.006647  9.380765e-04         0.001330    4.699655e-04   \n",
       "4        0.005984  2.973602e-07         0.000998    8.142961e-04   \n",
       "5        0.004986  8.141989e-04         0.000997    2.247832e-07   \n",
       "6        0.005155  8.485810e-04         0.000997    2.973602e-07   \n",
       "7        0.004322  4.703588e-04         0.001662    4.699655e-04   \n",
       "8        0.004322  4.697972e-04         0.001330    4.695164e-04   \n",
       "9        0.003324  4.705837e-04         0.000998    7.370010e-07   \n",
       "10       0.001566  4.188433e-04         0.001330    4.696845e-04   \n",
       "\n",
       "   param_n_features_to_select                        params  \\\n",
       "0                           1   {'n_features_to_select': 1}   \n",
       "1                           2   {'n_features_to_select': 2}   \n",
       "2                           3   {'n_features_to_select': 3}   \n",
       "3                           4   {'n_features_to_select': 4}   \n",
       "4                           5   {'n_features_to_select': 5}   \n",
       "5                           6   {'n_features_to_select': 6}   \n",
       "6                           7   {'n_features_to_select': 7}   \n",
       "7                           8   {'n_features_to_select': 8}   \n",
       "8                           9   {'n_features_to_select': 9}   \n",
       "9                          10  {'n_features_to_select': 10}   \n",
       "10                         11  {'n_features_to_select': 11}   \n",
       "\n",
       "    split0_test_score  split1_test_score  split2_test_score  mean_test_score  \\\n",
       "0            0.217671           0.285813           0.289996         0.264493   \n",
       "1            0.307654           0.448551           0.298140         0.351448   \n",
       "2            0.356029           0.523029           0.282677         0.387245   \n",
       "3            0.375549           0.547192           0.407523         0.443421   \n",
       "4            0.452198           0.602401           0.458651         0.504416   \n",
       "5            0.445773           0.632419           0.479301         0.519164   \n",
       "6            0.467880           0.632769           0.501931         0.534193   \n",
       "7            0.531259           0.661532           0.539507         0.577433   \n",
       "8            0.536340           0.674097           0.550592         0.587010   \n",
       "9            0.541111           0.653360           0.557355         0.583942   \n",
       "10           0.582917           0.732335           0.652389         0.655881   \n",
       "\n",
       "    std_test_score  rank_test_score  split0_train_score  split1_train_score  \\\n",
       "0         0.033152               11            0.292885            0.254951   \n",
       "1         0.068772               10            0.451576            0.374300   \n",
       "2         0.100576                9            0.515776            0.439805   \n",
       "3         0.074529                8            0.522729            0.451497   \n",
       "4         0.069335                7            0.551450            0.481724   \n",
       "5         0.081245                6            0.571612            0.522290   \n",
       "6         0.071076                5            0.603103            0.527985   \n",
       "7         0.059562                4            0.631563            0.569639   \n",
       "8         0.061854                2            0.637938            0.573052   \n",
       "9         0.049532                3            0.641553            0.584540   \n",
       "10        0.061049                1            0.717659            0.642781   \n",
       "\n",
       "    split2_train_score  mean_train_score  std_train_score  \n",
       "0             0.256315          0.268050         0.017569  \n",
       "1             0.375353          0.400410         0.036182  \n",
       "2             0.389132          0.448238         0.052045  \n",
       "3             0.508000          0.494075         0.030702  \n",
       "4             0.540816          0.524663         0.030672  \n",
       "5             0.586293          0.560065         0.027375  \n",
       "6             0.590851          0.573979         0.032906  \n",
       "7             0.621615          0.607606         0.027152  \n",
       "8             0.623820          0.611603         0.027863  \n",
       "9             0.624308          0.616800         0.023873  \n",
       "10            0.675907          0.678782         0.030636  "
      ]
     },
     "execution_count": 32,
     "metadata": {},
     "output_type": "execute_result"
    }
   ],
   "source": [
    "pd.DataFrame(gsearch.cv_results_)"
   ]
  },
  {
   "cell_type": "markdown",
   "metadata": {},
   "source": [
    "### Forward Selection to decide the best number of Features to keep in the model"
   ]
  },
  {
   "cell_type": "code",
   "execution_count": 33,
   "metadata": {},
   "outputs": [],
   "source": [
    "from mlxtend.feature_selection import SequentialFeatureSelector as sfs"
   ]
  },
  {
   "cell_type": "code",
   "execution_count": 40,
   "metadata": {},
   "outputs": [
    {
     "name": "stderr",
     "output_type": "stream",
     "text": [
      "[Parallel(n_jobs=1)]: Using backend SequentialBackend with 1 concurrent workers.\n",
      "[Parallel(n_jobs=1)]: Done   1 out of   1 | elapsed:    0.0s remaining:    0.0s\n",
      "[Parallel(n_jobs=1)]: Done  11 out of  11 | elapsed:    0.0s finished\n",
      "\n",
      "[2020-03-12 16:36:18] Features: 1/11 -- score: 0.2857505175498098[Parallel(n_jobs=1)]: Using backend SequentialBackend with 1 concurrent workers.\n",
      "[Parallel(n_jobs=1)]: Done   1 out of   1 | elapsed:    0.0s remaining:    0.0s\n",
      "[Parallel(n_jobs=1)]: Done  10 out of  10 | elapsed:    0.0s finished\n",
      "\n",
      "[2020-03-12 16:36:18] Features: 2/11 -- score: 0.4639747012048489[Parallel(n_jobs=1)]: Using backend SequentialBackend with 1 concurrent workers.\n",
      "[Parallel(n_jobs=1)]: Done   1 out of   1 | elapsed:    0.0s remaining:    0.0s\n",
      "[Parallel(n_jobs=1)]: Done   9 out of   9 | elapsed:    0.0s finished\n",
      "\n",
      "[2020-03-12 16:36:18] Features: 3/11 -- score: 0.5458765658183345[Parallel(n_jobs=1)]: Using backend SequentialBackend with 1 concurrent workers.\n",
      "[Parallel(n_jobs=1)]: Done   1 out of   1 | elapsed:    0.0s remaining:    0.0s\n",
      "[Parallel(n_jobs=1)]: Done   8 out of   8 | elapsed:    0.0s finished\n",
      "\n",
      "[2020-03-12 16:36:18] Features: 4/11 -- score: 0.5828899916510595[Parallel(n_jobs=1)]: Using backend SequentialBackend with 1 concurrent workers.\n",
      "[Parallel(n_jobs=1)]: Done   1 out of   1 | elapsed:    0.0s remaining:    0.0s\n",
      "[Parallel(n_jobs=1)]: Done   7 out of   7 | elapsed:    0.0s finished\n",
      "\n",
      "[2020-03-12 16:36:18] Features: 5/11 -- score: 0.611743436832076[Parallel(n_jobs=1)]: Using backend SequentialBackend with 1 concurrent workers.\n",
      "[Parallel(n_jobs=1)]: Done   1 out of   1 | elapsed:    0.0s remaining:    0.0s\n",
      "[Parallel(n_jobs=1)]: Done   6 out of   6 | elapsed:    0.0s finished\n",
      "\n",
      "[2020-03-12 16:36:18] Features: 6/11 -- score: 0.6283163523219795[Parallel(n_jobs=1)]: Using backend SequentialBackend with 1 concurrent workers.\n",
      "[Parallel(n_jobs=1)]: Done   1 out of   1 | elapsed:    0.0s remaining:    0.0s\n",
      "[Parallel(n_jobs=1)]: Done   5 out of   5 | elapsed:    0.0s finished\n",
      "\n",
      "[2020-03-12 16:36:18] Features: 7/11 -- score: 0.6396890831648214[Parallel(n_jobs=1)]: Using backend SequentialBackend with 1 concurrent workers.\n",
      "[Parallel(n_jobs=1)]: Done   1 out of   1 | elapsed:    0.0s remaining:    0.0s\n",
      "[Parallel(n_jobs=1)]: Done   4 out of   4 | elapsed:    0.0s finished\n",
      "\n",
      "[2020-03-12 16:36:18] Features: 8/11 -- score: 0.6482401020644585[Parallel(n_jobs=1)]: Using backend SequentialBackend with 1 concurrent workers.\n",
      "[Parallel(n_jobs=1)]: Done   1 out of   1 | elapsed:    0.0s remaining:    0.0s\n",
      "[Parallel(n_jobs=1)]: Done   3 out of   3 | elapsed:    0.0s finished\n",
      "\n",
      "[2020-03-12 16:36:18] Features: 9/11 -- score: 0.6533796604718165[Parallel(n_jobs=1)]: Using backend SequentialBackend with 1 concurrent workers.\n",
      "[Parallel(n_jobs=1)]: Done   1 out of   1 | elapsed:    0.0s remaining:    0.0s\n",
      "[Parallel(n_jobs=1)]: Done   2 out of   2 | elapsed:    0.0s finished\n",
      "\n",
      "[2020-03-12 16:36:18] Features: 10/11 -- score: 0.6564662980508277[Parallel(n_jobs=1)]: Using backend SequentialBackend with 1 concurrent workers.\n",
      "[Parallel(n_jobs=1)]: Done   1 out of   1 | elapsed:    0.0s remaining:    0.0s\n",
      "[Parallel(n_jobs=1)]: Done   1 out of   1 | elapsed:    0.0s finished\n",
      "\n",
      "[2020-03-12 16:36:18] Features: 11/11 -- score: 0.6558805766221248"
     ]
    },
    {
     "data": {
      "text/plain": [
       "SequentialFeatureSelector(clone_estimator=True, cv=3,\n",
       "                          estimator=LinearRegression(copy_X=True,\n",
       "                                                     fit_intercept=True,\n",
       "                                                     n_jobs=None,\n",
       "                                                     normalize=False),\n",
       "                          fixed_features=None, floating=False, forward=True,\n",
       "                          k_features=11, n_jobs=1, pre_dispatch='2*n_jobs',\n",
       "                          scoring='r2', verbose=2)"
      ]
     },
     "execution_count": 40,
     "metadata": {},
     "output_type": "execute_result"
    }
   ],
   "source": [
    "lr = LinearRegression()\n",
    "\n",
    "sfs1 = sfs(lr, k_features = 11, cv = 3, scoring = 'r2', verbose = 2)\n",
    "sfs1.fit(X, y)"
   ]
  },
  {
   "cell_type": "code",
   "execution_count": 41,
   "metadata": {},
   "outputs": [
    {
     "data": {
      "image/png": "[encoded data removed]",
      "text/plain": [
       "<Figure size 432x288 with 1 Axes>"
      ]
     },
     "metadata": {
      "needs_background": "light"
     },
     "output_type": "display_data"
    }
   ],
   "source": [
    "sf = pd.DataFrame(sfs1.subsets_).T\n",
    "\n",
    "plt.plot(sf['avg_score'])\n",
    "plt.show()"
   ]
  },
  {
   "cell_type": "code",
   "execution_count": 42,
   "metadata": {},
   "outputs": [
    {
     "data": {
      "text/plain": [
       "SequentialFeatureSelector(clone_estimator=True, cv=3,\n",
       "                          estimator=LinearRegression(copy_X=True,\n",
       "                                                     fit_intercept=True,\n",
       "                                                     n_jobs=None,\n",
       "                                                     normalize=False),\n",
       "                          fixed_features=None, floating=False, forward=True,\n",
       "                          k_features=9, n_jobs=1, pre_dispatch='2*n_jobs',\n",
       "                          scoring='r2', verbose=0)"
      ]
     },
     "execution_count": 42,
     "metadata": {},
     "output_type": "execute_result"
    }
   ],
   "source": [
    "lr = LinearRegression()\n",
    "sfs1 = sfs(lr, k_features = 9, cv = 3, scoring = 'r2', verbose = 0)\n",
    "sfs1.fit(X,y)"
   ]
  },
  {
   "cell_type": "code",
   "execution_count": 44,
   "metadata": {},
   "outputs": [],
   "source": [
    "cols = list(sfs1.k_feature_names_)\n"
   ]
  },
  {
   "cell_type": "code",
   "execution_count": 46,
   "metadata": {},
   "outputs": [
    {
     "data": {
      "text/plain": [
       "[<matplotlib.lines.Line2D at 0x1ab06069648>]"
      ]
     },
     "execution_count": 46,
     "metadata": {},
     "output_type": "execute_result"
    },
    {
     "data": {
      "image/png": "[encoded data removed]",
      "text/plain": [
       "<Figure size 432x288 with 1 Axes>"
      ]
     },
     "metadata": {
      "needs_background": "light"
     },
     "output_type": "display_data"
    }
   ],
   "source": [
    "X_train, X_test, y_train, y_test = train_test_split(X[cols], y, test_size = 0.3, random_state = 3)\n",
    "\n",
    "lr.fit(X_train, y_train)\n",
    "y_test_pred = lr.predict(X_test)\n",
    "\n",
    "plt.scatter(y_test, y_test_pred)\n",
    "plt.plot(y_test, y_test, 'r')"
   ]
  },
  {
   "cell_type": "markdown",
   "metadata": {},
   "source": [
    "### Regularization"
   ]
  },
  {
   "cell_type": "code",
   "execution_count": 47,
   "metadata": {},
   "outputs": [
    {
     "name": "stdout",
     "output_type": "stream",
     "text": [
      "r-squared of Train:  0.6834303298559896\n",
      "r-squared of Test:  0.6368778022054269\n"
     ]
    }
   ],
   "source": [
    "X_train, X_test, y_train, y_test = train_test_split(X, y, test_size = 0.3, random_state = 3)\n",
    "\n",
    "lr.fit(X_train, y_train)\n",
    "y_train_pred = lr.predict(X_train)\n",
    "y_test_pred = lr.predict(X_test)\n",
    "\n",
    "print('r-squared of Train: ', r2_score(y_train, y_train_pred))\n",
    "print('r-squared of Test: ', r2_score(y_test, y_test_pred))"
   ]
  },
  {
   "cell_type": "code",
   "execution_count": 48,
   "metadata": {},
   "outputs": [],
   "source": [
    "from sklearn.linear_model import Lasso, LassoCV, Ridge, RidgeCV"
   ]
  },
  {
   "cell_type": "code",
   "execution_count": 49,
   "metadata": {},
   "outputs": [
    {
     "data": {
      "text/plain": [
       "LassoCV(alphas=array([0.001     , 0.01109091, 0.02118182, 0.03127273, 0.04136364,\n",
       "       0.05145455, 0.06154545, 0.07163636, 0.08172727, 0.09181818,\n",
       "       0.10190909, 0.112     , 0.12209091, 0.13218182, 0.14227273,\n",
       "       0.15236364, 0.16245455, 0.17254545, 0.18263636, 0.19272727,\n",
       "       0.20281818, 0.21290909, 0.223     , 0.23309091, 0.24318182,\n",
       "       0.25327273, 0.26336364, 0.27345455, 0.28354545, 0.29363636,\n",
       "       0.30372727, 0....\n",
       "       0.80827273, 0.81836364, 0.82845455, 0.83854545, 0.84863636,\n",
       "       0.85872727, 0.86881818, 0.87890909, 0.889     , 0.89909091,\n",
       "       0.90918182, 0.91927273, 0.92936364, 0.93945455, 0.94954545,\n",
       "       0.95963636, 0.96972727, 0.97981818, 0.98990909, 1.        ]),\n",
       "        copy_X=True, cv=3, eps=0.001, fit_intercept=True, max_iter=1000,\n",
       "        n_alphas=100, n_jobs=None, normalize=False, positive=False,\n",
       "        precompute='auto', random_state=3, selection='cyclic', tol=0.0001,\n",
       "        verbose=False)"
      ]
     },
     "execution_count": 49,
     "metadata": {},
     "output_type": "execute_result"
    }
   ],
   "source": [
    "alphas = np.linspace(0.001, 1, 100)\n",
    "lasso_cv = LassoCV(alphas = alphas, cv = 3, random_state = 3)\n",
    "lasso_cv.fit(X, y)"
   ]
  },
  {
   "cell_type": "code",
   "execution_count": 50,
   "metadata": {},
   "outputs": [
    {
     "data": {
      "text/plain": [
       "0.001"
      ]
     },
     "execution_count": 50,
     "metadata": {},
     "output_type": "execute_result"
    }
   ],
   "source": [
    "lasso_cv.alpha_"
   ]
  },
  {
   "cell_type": "markdown",
   "metadata": {},
   "source": [
    "Best Alpha is hitting the lowest. This indicate that this model doesn't require Lasso regularization"
   ]
  },
  {
   "cell_type": "markdown",
   "metadata": {},
   "source": [
    "### Ridge Regularization"
   ]
  },
  {
   "cell_type": "code",
   "execution_count": 52,
   "metadata": {},
   "outputs": [
    {
     "data": {
      "text/plain": [
       "RidgeCV(alphas=array([1.00000000e-04, 1.04737090e-04, 1.09698580e-04, 1.14895100e-04,\n",
       "       1.20337784e-04, 1.26038293e-04, 1.32008840e-04, 1.38262217e-04,\n",
       "       1.44811823e-04, 1.51671689e-04, 1.58856513e-04, 1.66381689e-04,\n",
       "       1.74263339e-04, 1.82518349e-04, 1.91164408e-04, 2.00220037e-04,\n",
       "       2.09704640e-04, 2.19638537e-04, 2.30043012e-04, 2.40940356e-04,\n",
       "       2.52353917e-04, 2.64308149e-0...\n",
       "       4.15040476e-01, 4.34701316e-01, 4.55293507e-01, 4.76861170e-01,\n",
       "       4.99450512e-01, 5.23109931e-01, 5.47890118e-01, 5.73844165e-01,\n",
       "       6.01027678e-01, 6.29498899e-01, 6.59318827e-01, 6.90551352e-01,\n",
       "       7.23263390e-01, 7.57525026e-01, 7.93409667e-01, 8.30994195e-01,\n",
       "       8.70359136e-01, 9.11588830e-01, 9.54771611e-01, 1.00000000e+00]),\n",
       "        cv=None, fit_intercept=True, gcv_mode=None, normalize=False,\n",
       "        scoring='r2', store_cv_values=True)"
      ]
     },
     "execution_count": 52,
     "metadata": {},
     "output_type": "execute_result"
    }
   ],
   "source": [
    "alphas = np.logspace(-4, 0, 200)\n",
    "\n",
    "ridge_cv = RidgeCV(alphas = alphas, scoring = 'r2', store_cv_values = True)\n",
    "\n",
    "ridge_cv.fit(X, y)\n"
   ]
  },
  {
   "cell_type": "code",
   "execution_count": 53,
   "metadata": {},
   "outputs": [
    {
     "name": "stdout",
     "output_type": "stream",
     "text": [
      "r-squared of Train:  0.6834303298555318\n",
      "r-squared of Test:  0.6368777428752552\n"
     ]
    }
   ],
   "source": [
    "ridge = Ridge(alpha = ridge_cv.alpha_, random_state = 3)\n",
    "\n",
    "ridge.fit(X_train, y_train)\n",
    "\n",
    "y_train_pred = ridge.predict(X_train)\n",
    "y_test_pred = ridge.predict(X_test)\n",
    "\n",
    "print('r-squared of Train: ', r2_score(y_train, y_train_pred))\n",
    "print('r-squared of Test: ', r2_score(y_test, y_test_pred))"
   ]
  },
  {
   "cell_type": "code",
   "execution_count": null,
   "metadata": {},
   "outputs": [],
   "source": []
  }
 ],
 "metadata": {
  "kernelspec": {
   "display_name": "Python 3",
   "language": "python",
   "name": "python3"
  },
  "language_info": {
   "codemirror_mode": {
    "name": "ipython",
    "version": 3
   },
   "file_extension": ".py",
   "mimetype": "text/x-python",
   "name": "python",
   "nbconvert_exporter": "python",
   "pygments_lexer": "ipython3",
   "version": "3.7.4"
  }
 },
 "nbformat": 4,
 "nbformat_minor": 2
}
