{
 "cells": [
  {
   "cell_type": "code",
   "execution_count": 1,
   "metadata": {},
   "outputs": [],
   "source": [
    "import pandas as pd\n",
    "import numpy as np\n",
    "import matplotlib.pyplot as plt\n",
    "import seaborn as sns"
   ]
  },
  {
   "cell_type": "code",
   "execution_count": 36,
   "metadata": {},
   "outputs": [],
   "source": [
    "from sklearn.datasets import load_boston\n",
    "boston = load_boston()\n",
    "bos = pd.DataFrame(boston.data, columns = boston.feature_names)\n",
    "bos['price'] = boston.target\n",
    "\n",
    "bos = bos.sample(frac = 1, random_state = 3)"
   ]
  },
  {
   "cell_type": "code",
   "execution_count": 21,
   "metadata": {},
   "outputs": [],
   "source": [
    "y = bos['price']\n",
    "X = bos.drop('price', axis = 1)"
   ]
  },
  {
   "cell_type": "markdown",
   "metadata": {},
   "source": [
    "### Recursive Feature Elimination"
   ]
  },
  {
   "cell_type": "code",
   "execution_count": 40,
   "metadata": {},
   "outputs": [
    {
     "data": {
      "text/plain": [
       "RFE(estimator=LinearRegression(copy_X=True, fit_intercept=True, n_jobs=None,\n",
       "                               normalize=False),\n",
       "    n_features_to_select=11, step=1, verbose=0)"
      ]
     },
     "execution_count": 40,
     "metadata": {},
     "output_type": "execute_result"
    }
   ],
   "source": [
    "from sklearn.linear_model import LinearRegression\n",
    "from sklearn.feature_selection import RFE\n",
    "lr = LinearRegression()\n",
    "\n",
    "rfe = RFE(lr, n_features_to_select = 11)\n",
    "rfe.fit(X, y)"
   ]
  },
  {
   "cell_type": "code",
   "execution_count": 41,
   "metadata": {},
   "outputs": [
    {
     "data": {
      "text/plain": [
       "array([ True,  True,  True,  True,  True,  True, False,  True,  True,\n",
       "        True,  True, False,  True])"
      ]
     },
     "execution_count": 41,
     "metadata": {},
     "output_type": "execute_result"
    }
   ],
   "source": [
    "rfe.support_"
   ]
  },
  {
   "cell_type": "code",
   "execution_count": 42,
   "metadata": {},
   "outputs": [
    {
     "data": {
      "text/html": [
       "<div>\n",
       "<style scoped>\n",
       "    .dataframe tbody tr th:only-of-type {\n",
       "        vertical-align: middle;\n",
       "    }\n",
       "\n",
       "    .dataframe tbody tr th {\n",
       "        vertical-align: top;\n",
       "    }\n",
       "\n",
       "    .dataframe thead th {\n",
       "        text-align: right;\n",
       "    }\n",
       "</style>\n",
       "<table border=\"1\" class=\"dataframe\">\n",
       "  <thead>\n",
       "    <tr style=\"text-align: right;\">\n",
       "      <th></th>\n",
       "      <th>select</th>\n",
       "    </tr>\n",
       "  </thead>\n",
       "  <tbody>\n",
       "    <tr>\n",
       "      <td>CRIM</td>\n",
       "      <td>1</td>\n",
       "    </tr>\n",
       "    <tr>\n",
       "      <td>ZN</td>\n",
       "      <td>1</td>\n",
       "    </tr>\n",
       "    <tr>\n",
       "      <td>INDUS</td>\n",
       "      <td>1</td>\n",
       "    </tr>\n",
       "    <tr>\n",
       "      <td>CHAS</td>\n",
       "      <td>1</td>\n",
       "    </tr>\n",
       "    <tr>\n",
       "      <td>NOX</td>\n",
       "      <td>1</td>\n",
       "    </tr>\n",
       "    <tr>\n",
       "      <td>RM</td>\n",
       "      <td>1</td>\n",
       "    </tr>\n",
       "    <tr>\n",
       "      <td>AGE</td>\n",
       "      <td>3</td>\n",
       "    </tr>\n",
       "    <tr>\n",
       "      <td>DIS</td>\n",
       "      <td>1</td>\n",
       "    </tr>\n",
       "    <tr>\n",
       "      <td>RAD</td>\n",
       "      <td>1</td>\n",
       "    </tr>\n",
       "    <tr>\n",
       "      <td>TAX</td>\n",
       "      <td>1</td>\n",
       "    </tr>\n",
       "    <tr>\n",
       "      <td>PTRATIO</td>\n",
       "      <td>1</td>\n",
       "    </tr>\n",
       "    <tr>\n",
       "      <td>B</td>\n",
       "      <td>2</td>\n",
       "    </tr>\n",
       "    <tr>\n",
       "      <td>LSTAT</td>\n",
       "      <td>1</td>\n",
       "    </tr>\n",
       "  </tbody>\n",
       "</table>\n",
       "</div>"
      ],
      "text/plain": [
       "         select\n",
       "CRIM          1\n",
       "ZN            1\n",
       "INDUS         1\n",
       "CHAS          1\n",
       "NOX           1\n",
       "RM            1\n",
       "AGE           3\n",
       "DIS           1\n",
       "RAD           1\n",
       "TAX           1\n",
       "PTRATIO       1\n",
       "B             2\n",
       "LSTAT         1"
      ]
     },
     "execution_count": 42,
     "metadata": {},
     "output_type": "execute_result"
    }
   ],
   "source": [
    "pd.DataFrame(rfe.ranking_, index = X.columns, columns = ['select'])"
   ]
  },
  {
   "cell_type": "code",
   "execution_count": 43,
   "metadata": {},
   "outputs": [],
   "source": [
    "from sklearn.metrics import r2_score, mean_squared_error\n",
    "from sklearn.model_selection import train_test_split\n",
    "X_train, X_test, y_train, y_test = train_test_split(X, y, test_size = 0.3, random_state = 3)\n"
   ]
  },
  {
   "cell_type": "code",
   "execution_count": 44,
   "metadata": {},
   "outputs": [],
   "source": [
    "no_ofcols = X.shape[1]\n",
    "score_list = []\n",
    "rmse_list = []\n",
    "\n",
    "for n in range(no_ofcols):\n",
    "    model = LinearRegression()\n",
    "    rfe = RFE(model, n_features_to_select = n+1)\n",
    "    rfe.fit(X_train, y_train)\n",
    "    y_test_pred = rfe.predict(X_test)\n",
    "    score = r2_score(y_test, y_test_pred )\n",
    "    rmse = np.sqrt(mean_squared_error(y_test, y_test_pred))\n",
    "    score_list.append(score)\n",
    "    rmse_list.append(rmse)"
   ]
  },
  {
   "cell_type": "code",
   "execution_count": 45,
   "metadata": {},
   "outputs": [
    {
     "data": {
      "text/plain": [
       "[<matplotlib.lines.Line2D at 0x119e56f56c8>]"
      ]
     },
     "execution_count": 45,
     "metadata": {},
     "output_type": "execute_result"
    },
    {
     "data": {
      "image/png": "[encoded data removed]",
      "text/plain": [
       "<Figure size 432x288 with 1 Axes>"
      ]
     },
     "metadata": {
      "needs_background": "light"
     },
     "output_type": "display_data"
    }
   ],
   "source": [
    "plt.plot(score_list)"
   ]
  },
  {
   "cell_type": "code",
   "execution_count": 46,
   "metadata": {},
   "outputs": [
    {
     "data": {
      "text/plain": [
       "[<matplotlib.lines.Line2D at 0x119e5fd6e48>]"
      ]
     },
     "execution_count": 46,
     "metadata": {},
     "output_type": "execute_result"
    },
    {
     "data": {
      "image/png": "[encoded data removed]",
      "text/plain": [
       "<Figure size 432x288 with 1 Axes>"
      ]
     },
     "metadata": {
      "needs_background": "light"
     },
     "output_type": "display_data"
    }
   ],
   "source": [
    "\n",
    "plt.plot(range(1,14), score_list)"
   ]
  },
  {
   "cell_type": "code",
   "execution_count": 47,
   "metadata": {},
   "outputs": [
    {
     "data": {
      "text/plain": [
       "[<matplotlib.lines.Line2D at 0x119e603e488>]"
      ]
     },
     "execution_count": 47,
     "metadata": {},
     "output_type": "execute_result"
    },
    {
     "data": {
      "image/png": "[encoded data removed]",
      "text/plain": [
       "<Figure size 432x288 with 1 Axes>"
      ]
     },
     "metadata": {
      "needs_background": "light"
     },
     "output_type": "display_data"
    }
   ],
   "source": [
    "plt.plot(range(1,14), rmse_list)"
   ]
  },
  {
   "cell_type": "markdown",
   "metadata": {},
   "source": [
    "The results of r2 and rmse shows that we are getting values very close to maximum when no. of features = 10. Hence, we will choose 10 as the optimal no. to keeo\\p"
   ]
  },
  {
   "cell_type": "code",
   "execution_count": 49,
   "metadata": {},
   "outputs": [
    {
     "data": {
      "text/plain": [
       "RFE(estimator=LinearRegression(copy_X=True, fit_intercept=True, n_jobs=None,\n",
       "                               normalize=False),\n",
       "    n_features_to_select=10, step=1, verbose=0)"
      ]
     },
     "execution_count": 49,
     "metadata": {},
     "output_type": "execute_result"
    }
   ],
   "source": [
    "rfe = RFE(lr, n_features_to_select = 10)\n",
    "rfe.fit(X,y)"
   ]
  },
  {
   "cell_type": "code",
   "execution_count": 50,
   "metadata": {},
   "outputs": [
    {
     "data": {
      "text/html": [
       "<div>\n",
       "<style scoped>\n",
       "    .dataframe tbody tr th:only-of-type {\n",
       "        vertical-align: middle;\n",
       "    }\n",
       "\n",
       "    .dataframe tbody tr th {\n",
       "        vertical-align: top;\n",
       "    }\n",
       "\n",
       "    .dataframe thead th {\n",
       "        text-align: right;\n",
       "    }\n",
       "</style>\n",
       "<table border=\"1\" class=\"dataframe\">\n",
       "  <thead>\n",
       "    <tr style=\"text-align: right;\">\n",
       "      <th></th>\n",
       "      <th>ranks</th>\n",
       "    </tr>\n",
       "  </thead>\n",
       "  <tbody>\n",
       "    <tr>\n",
       "      <td>CRIM</td>\n",
       "      <td>1</td>\n",
       "    </tr>\n",
       "    <tr>\n",
       "      <td>ZN</td>\n",
       "      <td>1</td>\n",
       "    </tr>\n",
       "    <tr>\n",
       "      <td>INDUS</td>\n",
       "      <td>1</td>\n",
       "    </tr>\n",
       "    <tr>\n",
       "      <td>CHAS</td>\n",
       "      <td>1</td>\n",
       "    </tr>\n",
       "    <tr>\n",
       "      <td>NOX</td>\n",
       "      <td>1</td>\n",
       "    </tr>\n",
       "    <tr>\n",
       "      <td>RM</td>\n",
       "      <td>1</td>\n",
       "    </tr>\n",
       "    <tr>\n",
       "      <td>DIS</td>\n",
       "      <td>1</td>\n",
       "    </tr>\n",
       "    <tr>\n",
       "      <td>RAD</td>\n",
       "      <td>1</td>\n",
       "    </tr>\n",
       "    <tr>\n",
       "      <td>PTRATIO</td>\n",
       "      <td>1</td>\n",
       "    </tr>\n",
       "    <tr>\n",
       "      <td>LSTAT</td>\n",
       "      <td>1</td>\n",
       "    </tr>\n",
       "    <tr>\n",
       "      <td>TAX</td>\n",
       "      <td>2</td>\n",
       "    </tr>\n",
       "    <tr>\n",
       "      <td>B</td>\n",
       "      <td>3</td>\n",
       "    </tr>\n",
       "    <tr>\n",
       "      <td>AGE</td>\n",
       "      <td>4</td>\n",
       "    </tr>\n",
       "  </tbody>\n",
       "</table>\n",
       "</div>"
      ],
      "text/plain": [
       "         ranks\n",
       "CRIM         1\n",
       "ZN           1\n",
       "INDUS        1\n",
       "CHAS         1\n",
       "NOX          1\n",
       "RM           1\n",
       "DIS          1\n",
       "RAD          1\n",
       "PTRATIO      1\n",
       "LSTAT        1\n",
       "TAX          2\n",
       "B            3\n",
       "AGE          4"
      ]
     },
     "execution_count": 50,
     "metadata": {},
     "output_type": "execute_result"
    }
   ],
   "source": [
    "rf = pd.DataFrame(rfe.ranking_, index = X.columns, columns = ['ranks'])\n",
    "rf = rf.sort_values(by = 'ranks')\n",
    "rf"
   ]
  },
  {
   "cell_type": "code",
   "execution_count": 51,
   "metadata": {},
   "outputs": [
    {
     "data": {
      "text/plain": [
       "dict_keys(['explained_variance', 'r2', 'max_error', 'neg_median_absolute_error', 'neg_mean_absolute_error', 'neg_mean_squared_error', 'neg_mean_squared_log_error', 'accuracy', 'roc_auc', 'balanced_accuracy', 'average_precision', 'neg_log_loss', 'brier_score_loss', 'adjusted_rand_score', 'homogeneity_score', 'completeness_score', 'v_measure_score', 'mutual_info_score', 'adjusted_mutual_info_score', 'normalized_mutual_info_score', 'fowlkes_mallows_score', 'precision', 'precision_macro', 'precision_micro', 'precision_samples', 'precision_weighted', 'recall', 'recall_macro', 'recall_micro', 'recall_samples', 'recall_weighted', 'f1', 'f1_macro', 'f1_micro', 'f1_samples', 'f1_weighted', 'jaccard', 'jaccard_macro', 'jaccard_micro', 'jaccard_samples', 'jaccard_weighted'])"
      ]
     },
     "execution_count": 51,
     "metadata": {},
     "output_type": "execute_result"
    }
   ],
   "source": [
    "import sklearn\n",
    "sklearn.metrics.SCORERS.keys()"
   ]
  },
  {
   "cell_type": "code",
   "execution_count": 65,
   "metadata": {},
   "outputs": [
    {
     "data": {
      "text/plain": [
       "GridSearchCV(cv=3, error_score='raise-deprecating',\n",
       "             estimator=RFE(estimator=LinearRegression(copy_X=True,\n",
       "                                                      fit_intercept=True,\n",
       "                                                      n_jobs=None,\n",
       "                                                      normalize=False),\n",
       "                           n_features_to_select=None, step=1, verbose=0),\n",
       "             iid='warn', n_jobs=None,\n",
       "             param_grid={'n_features_to_select': [1, 2, 3, 4, 5, 6, 7, 8, 9, 10,\n",
       "                                                  11, 12, 13]},\n",
       "             pre_dispatch='2*n_jobs', refit=True, return_train_score=True,\n",
       "             scoring='r2', verbose=0)"
      ]
     },
     "execution_count": 65,
     "metadata": {},
     "output_type": "execute_result"
    }
   ],
   "source": [
    "from sklearn.model_selection import KFold, GridSearchCV\n",
    "\n",
    "kf = KFold(n_splits =3, random_state = 3)\n",
    "\n",
    "params = {'n_features_to_select': list(range(1,14))}\n",
    "\n",
    "lr = LinearRegression()\n",
    "rfe = RFE(lr)\n",
    "\n",
    "gsearch = GridSearchCV(rfe, param_grid = params, cv = 3, scoring = 'r2', return_train_score = True)\n",
    "\n",
    "gsearch.fit(X, y)"
   ]
  },
  {
   "cell_type": "code",
   "execution_count": 66,
   "metadata": {},
   "outputs": [
    {
     "data": {
      "text/plain": [
       "{'n_features_to_select': 13}"
      ]
     },
     "execution_count": 66,
     "metadata": {},
     "output_type": "execute_result"
    }
   ],
   "source": [
    "gsearch.best_params_"
   ]
  },
  {
   "cell_type": "code",
   "execution_count": 67,
   "metadata": {},
   "outputs": [],
   "source": [
    "gs = pd.DataFrame(gsearch.cv_results_)"
   ]
  },
  {
   "cell_type": "code",
   "execution_count": 68,
   "metadata": {},
   "outputs": [
    {
     "data": {
      "text/html": [
       "<div>\n",
       "<style scoped>\n",
       "    .dataframe tbody tr th:only-of-type {\n",
       "        vertical-align: middle;\n",
       "    }\n",
       "\n",
       "    .dataframe tbody tr th {\n",
       "        vertical-align: top;\n",
       "    }\n",
       "\n",
       "    .dataframe thead th {\n",
       "        text-align: right;\n",
       "    }\n",
       "</style>\n",
       "<table border=\"1\" class=\"dataframe\">\n",
       "  <thead>\n",
       "    <tr style=\"text-align: right;\">\n",
       "      <th></th>\n",
       "      <th>mean_fit_time</th>\n",
       "      <th>std_fit_time</th>\n",
       "      <th>mean_score_time</th>\n",
       "      <th>std_score_time</th>\n",
       "      <th>param_n_features_to_select</th>\n",
       "      <th>params</th>\n",
       "      <th>split0_test_score</th>\n",
       "      <th>split1_test_score</th>\n",
       "      <th>split2_test_score</th>\n",
       "      <th>mean_test_score</th>\n",
       "      <th>std_test_score</th>\n",
       "      <th>rank_test_score</th>\n",
       "      <th>split0_train_score</th>\n",
       "      <th>split1_train_score</th>\n",
       "      <th>split2_train_score</th>\n",
       "      <th>mean_train_score</th>\n",
       "      <th>std_train_score</th>\n",
       "    </tr>\n",
       "  </thead>\n",
       "  <tbody>\n",
       "    <tr>\n",
       "      <td>0</td>\n",
       "      <td>0.011968</td>\n",
       "      <td>0.000815</td>\n",
       "      <td>0.001661</td>\n",
       "      <td>4.707525e-04</td>\n",
       "      <td>1</td>\n",
       "      <td>{'n_features_to_select': 1}</td>\n",
       "      <td>0.199862</td>\n",
       "      <td>0.158002</td>\n",
       "      <td>0.184327</td>\n",
       "      <td>0.180723</td>\n",
       "      <td>0.017294</td>\n",
       "      <td>13</td>\n",
       "      <td>0.174418</td>\n",
       "      <td>0.192692</td>\n",
       "      <td>0.180015</td>\n",
       "      <td>0.182375</td>\n",
       "      <td>0.007644</td>\n",
       "    </tr>\n",
       "    <tr>\n",
       "      <td>1</td>\n",
       "      <td>0.011635</td>\n",
       "      <td>0.000941</td>\n",
       "      <td>0.000997</td>\n",
       "      <td>4.052337e-07</td>\n",
       "      <td>2</td>\n",
       "      <td>{'n_features_to_select': 2}</td>\n",
       "      <td>0.620833</td>\n",
       "      <td>0.497652</td>\n",
       "      <td>0.483520</td>\n",
       "      <td>0.534101</td>\n",
       "      <td>0.061690</td>\n",
       "      <td>12</td>\n",
       "      <td>0.494590</td>\n",
       "      <td>0.552738</td>\n",
       "      <td>0.561023</td>\n",
       "      <td>0.536117</td>\n",
       "      <td>0.029558</td>\n",
       "    </tr>\n",
       "    <tr>\n",
       "      <td>2</td>\n",
       "      <td>0.011968</td>\n",
       "      <td>0.000814</td>\n",
       "      <td>0.001330</td>\n",
       "      <td>4.697412e-04</td>\n",
       "      <td>3</td>\n",
       "      <td>{'n_features_to_select': 3}</td>\n",
       "      <td>0.587543</td>\n",
       "      <td>0.524968</td>\n",
       "      <td>0.519504</td>\n",
       "      <td>0.544053</td>\n",
       "      <td>0.030878</td>\n",
       "      <td>11</td>\n",
       "      <td>0.535370</td>\n",
       "      <td>0.569403</td>\n",
       "      <td>0.568948</td>\n",
       "      <td>0.557907</td>\n",
       "      <td>0.015937</td>\n",
       "    </tr>\n",
       "  </tbody>\n",
       "</table>\n",
       "</div>"
      ],
      "text/plain": [
       "   mean_fit_time  std_fit_time  mean_score_time  std_score_time  \\\n",
       "0       0.011968      0.000815         0.001661    4.707525e-04   \n",
       "1       0.011635      0.000941         0.000997    4.052337e-07   \n",
       "2       0.011968      0.000814         0.001330    4.697412e-04   \n",
       "\n",
       "  param_n_features_to_select                       params  split0_test_score  \\\n",
       "0                          1  {'n_features_to_select': 1}           0.199862   \n",
       "1                          2  {'n_features_to_select': 2}           0.620833   \n",
       "2                          3  {'n_features_to_select': 3}           0.587543   \n",
       "\n",
       "   split1_test_score  split2_test_score  mean_test_score  std_test_score  \\\n",
       "0           0.158002           0.184327         0.180723        0.017294   \n",
       "1           0.497652           0.483520         0.534101        0.061690   \n",
       "2           0.524968           0.519504         0.544053        0.030878   \n",
       "\n",
       "   rank_test_score  split0_train_score  split1_train_score  \\\n",
       "0               13            0.174418            0.192692   \n",
       "1               12            0.494590            0.552738   \n",
       "2               11            0.535370            0.569403   \n",
       "\n",
       "   split2_train_score  mean_train_score  std_train_score  \n",
       "0            0.180015          0.182375         0.007644  \n",
       "1            0.561023          0.536117         0.029558  \n",
       "2            0.568948          0.557907         0.015937  "
      ]
     },
     "execution_count": 68,
     "metadata": {},
     "output_type": "execute_result"
    }
   ],
   "source": [
    "gs.head(3)"
   ]
  },
  {
   "cell_type": "code",
   "execution_count": 69,
   "metadata": {},
   "outputs": [
    {
     "name": "stderr",
     "output_type": "stream",
     "text": [
      "No handles with labels found to put in legend.\n"
     ]
    },
    {
     "data": {
      "text/plain": [
       "Text(0, 0.5, 'r-square')"
      ]
     },
     "execution_count": 69,
     "metadata": {},
     "output_type": "execute_result"
    },
    {
     "data": {
      "image/png": "[encoded data removed]",
      "text/plain": [
       "<Figure size 432x288 with 1 Axes>"
      ]
     },
     "metadata": {
      "needs_background": "light"
     },
     "output_type": "display_data"
    }
   ],
   "source": [
    "plt.plot(gs['param_n_features_to_select'], gs['mean_test_score'])\n",
    "plt.plot(gs['param_n_features_to_select'], gs['mean_train_score'], 'r')\n",
    "plt.xlabel('Number of Features')\n",
    "plt.legend()\n",
    "plt.ylabel('r-square')"
   ]
  },
  {
   "cell_type": "markdown",
   "metadata": {},
   "source": [
    "### Step Forward Selection"
   ]
  },
  {
   "cell_type": "code",
   "execution_count": 71,
   "metadata": {},
   "outputs": [],
   "source": [
    "from mlxtend.feature_selection import SequentialFeatureSelector as sfs"
   ]
  },
  {
   "cell_type": "code",
   "execution_count": 72,
   "metadata": {},
   "outputs": [
    {
     "data": {
      "text/plain": [
       "SequentialFeatureSelector(clone_estimator=True,\n",
       "                          cv=KFold(n_splits=3, random_state=3, shuffle=False),\n",
       "                          estimator=LinearRegression(copy_X=True,\n",
       "                                                     fit_intercept=True,\n",
       "                                                     n_jobs=None,\n",
       "                                                     normalize=False),\n",
       "                          fixed_features=None, floating=False, forward=True,\n",
       "                          k_features=13, n_jobs=1, pre_dispatch='2*n_jobs',\n",
       "                          scoring='r2', verbose=0)"
      ]
     },
     "execution_count": 72,
     "metadata": {},
     "output_type": "execute_result"
    }
   ],
   "source": [
    "lr = LinearRegression()\n",
    "\n",
    "kf = KFold(n_splits = 3, random_state = 3)\n",
    "sfs1 = sfs(lr, k_features = 13, scoring = 'r2', cv = kf)\n",
    "\n",
    "sfs1.fit(X, y)"
   ]
  },
  {
   "cell_type": "code",
   "execution_count": 73,
   "metadata": {},
   "outputs": [
    {
     "data": {
      "text/plain": [
       "{1: {'feature_idx': (12,),\n",
       "  'cv_scores': array([0.47498301, 0.56609828, 0.57455135]),\n",
       "  'avg_score': 0.5385442127122603,\n",
       "  'feature_names': ('LSTAT',)},\n",
       " 2: {'feature_idx': (5, 12),\n",
       "  'cv_scores': array([0.60036603, 0.65293983, 0.63135447]),\n",
       "  'avg_score': 0.6282201069923401,\n",
       "  'feature_names': ('RM', 'LSTAT')},\n",
       " 3: {'feature_idx': (5, 10, 12),\n",
       "  'cv_scores': array([0.65745471, 0.68441498, 0.66421068]),\n",
       "  'avg_score': 0.6686934564375585,\n",
       "  'feature_names': ('RM', 'PTRATIO', 'LSTAT')},\n",
       " 4: {'feature_idx': (5, 7, 10, 12),\n",
       "  'cv_scores': array([0.67016622, 0.70001991, 0.67424572]),\n",
       "  'avg_score': 0.6814772826504827,\n",
       "  'feature_names': ('RM', 'DIS', 'PTRATIO', 'LSTAT')},\n",
       " 5: {'feature_idx': (4, 5, 7, 10, 12),\n",
       "  'cv_scores': array([0.70589773, 0.70338011, 0.67346229]),\n",
       "  'avg_score': 0.6942467104909952,\n",
       "  'feature_names': ('NOX', 'RM', 'DIS', 'PTRATIO', 'LSTAT')},\n",
       " 6: {'feature_idx': (4, 5, 7, 10, 11, 12),\n",
       "  'cv_scores': array([0.71000238, 0.71462993, 0.67781512]),\n",
       "  'avg_score': 0.7008158112722648,\n",
       "  'feature_names': ('NOX', 'RM', 'DIS', 'PTRATIO', 'B', 'LSTAT')},\n",
       " 7: {'feature_idx': (3, 4, 5, 7, 10, 11, 12),\n",
       "  'cv_scores': array([0.704237  , 0.72360608, 0.68970073]),\n",
       "  'avg_score': 0.7058479381042497,\n",
       "  'feature_names': ('CHAS', 'NOX', 'RM', 'DIS', 'PTRATIO', 'B', 'LSTAT')},\n",
       " 8: {'feature_idx': (3, 4, 5, 7, 8, 10, 11, 12),\n",
       "  'cv_scores': array([0.70720175, 0.72743802, 0.69553292]),\n",
       "  'avg_score': 0.7100575641498229,\n",
       "  'feature_names': ('CHAS',\n",
       "   'NOX',\n",
       "   'RM',\n",
       "   'DIS',\n",
       "   'RAD',\n",
       "   'PTRATIO',\n",
       "   'B',\n",
       "   'LSTAT')},\n",
       " 9: {'feature_idx': (3, 4, 5, 7, 8, 9, 10, 11, 12),\n",
       "  'cv_scores': array([0.71554387, 0.7335561 , 0.69250233]),\n",
       "  'avg_score': 0.7138674346860272,\n",
       "  'feature_names': ('CHAS',\n",
       "   'NOX',\n",
       "   'RM',\n",
       "   'DIS',\n",
       "   'RAD',\n",
       "   'TAX',\n",
       "   'PTRATIO',\n",
       "   'B',\n",
       "   'LSTAT')},\n",
       " 10: {'feature_idx': (1, 3, 4, 5, 7, 8, 9, 10, 11, 12),\n",
       "  'cv_scores': array([0.7239641 , 0.72674557, 0.69988183]),\n",
       "  'avg_score': 0.7168638324241933,\n",
       "  'feature_names': ('ZN',\n",
       "   'CHAS',\n",
       "   'NOX',\n",
       "   'RM',\n",
       "   'DIS',\n",
       "   'RAD',\n",
       "   'TAX',\n",
       "   'PTRATIO',\n",
       "   'B',\n",
       "   'LSTAT')},\n",
       " 11: {'feature_idx': (0, 1, 3, 4, 5, 7, 8, 9, 10, 11, 12),\n",
       "  'cv_scores': array([0.71912987, 0.72633999, 0.71013363]),\n",
       "  'avg_score': 0.7185344980088425,\n",
       "  'feature_names': ('CRIM',\n",
       "   'ZN',\n",
       "   'CHAS',\n",
       "   'NOX',\n",
       "   'RM',\n",
       "   'DIS',\n",
       "   'RAD',\n",
       "   'TAX',\n",
       "   'PTRATIO',\n",
       "   'B',\n",
       "   'LSTAT')},\n",
       " 12: {'feature_idx': (0, 1, 3, 4, 5, 6, 7, 8, 9, 10, 11, 12),\n",
       "  'cv_scores': array([0.71701129, 0.72634245, 0.70915983]),\n",
       "  'avg_score': 0.7175045246306683,\n",
       "  'feature_names': ('CRIM',\n",
       "   'ZN',\n",
       "   'CHAS',\n",
       "   'NOX',\n",
       "   'RM',\n",
       "   'AGE',\n",
       "   'DIS',\n",
       "   'RAD',\n",
       "   'TAX',\n",
       "   'PTRATIO',\n",
       "   'B',\n",
       "   'LSTAT')},\n",
       " 13: {'feature_idx': (0, 1, 2, 3, 4, 5, 6, 7, 8, 9, 10, 11, 12),\n",
       "  'cv_scores': array([0.71442549, 0.72620331, 0.70824153]),\n",
       "  'avg_score': 0.7162901085213041,\n",
       "  'feature_names': ('CRIM',\n",
       "   'ZN',\n",
       "   'INDUS',\n",
       "   'CHAS',\n",
       "   'NOX',\n",
       "   'RM',\n",
       "   'AGE',\n",
       "   'DIS',\n",
       "   'RAD',\n",
       "   'TAX',\n",
       "   'PTRATIO',\n",
       "   'B',\n",
       "   'LSTAT')}}"
      ]
     },
     "execution_count": 73,
     "metadata": {},
     "output_type": "execute_result"
    }
   ],
   "source": [
    "sfs1.subsets_"
   ]
  },
  {
   "cell_type": "code",
   "execution_count": 75,
   "metadata": {},
   "outputs": [
    {
     "data": {
      "text/html": [
       "<div>\n",
       "<style scoped>\n",
       "    .dataframe tbody tr th:only-of-type {\n",
       "        vertical-align: middle;\n",
       "    }\n",
       "\n",
       "    .dataframe tbody tr th {\n",
       "        vertical-align: top;\n",
       "    }\n",
       "\n",
       "    .dataframe thead th {\n",
       "        text-align: right;\n",
       "    }\n",
       "</style>\n",
       "<table border=\"1\" class=\"dataframe\">\n",
       "  <thead>\n",
       "    <tr style=\"text-align: right;\">\n",
       "      <th></th>\n",
       "      <th>feature_idx</th>\n",
       "      <th>cv_scores</th>\n",
       "      <th>avg_score</th>\n",
       "      <th>feature_names</th>\n",
       "    </tr>\n",
       "  </thead>\n",
       "  <tbody>\n",
       "    <tr>\n",
       "      <td>1</td>\n",
       "      <td>(12,)</td>\n",
       "      <td>[0.4749830090548759, 0.5660982817170748, 0.574...</td>\n",
       "      <td>0.538544</td>\n",
       "      <td>(LSTAT,)</td>\n",
       "    </tr>\n",
       "    <tr>\n",
       "      <td>2</td>\n",
       "      <td>(5, 12)</td>\n",
       "      <td>[0.6003660252605316, 0.6529398298950582, 0.631...</td>\n",
       "      <td>0.62822</td>\n",
       "      <td>(RM, LSTAT)</td>\n",
       "    </tr>\n",
       "    <tr>\n",
       "      <td>3</td>\n",
       "      <td>(5, 10, 12)</td>\n",
       "      <td>[0.6574547085117268, 0.6844149765905737, 0.664...</td>\n",
       "      <td>0.668693</td>\n",
       "      <td>(RM, PTRATIO, LSTAT)</td>\n",
       "    </tr>\n",
       "    <tr>\n",
       "      <td>4</td>\n",
       "      <td>(5, 7, 10, 12)</td>\n",
       "      <td>[0.6701662157084982, 0.7000199113250303, 0.674...</td>\n",
       "      <td>0.681477</td>\n",
       "      <td>(RM, DIS, PTRATIO, LSTAT)</td>\n",
       "    </tr>\n",
       "    <tr>\n",
       "      <td>5</td>\n",
       "      <td>(4, 5, 7, 10, 12)</td>\n",
       "      <td>[0.7058977311250213, 0.7033801102200267, 0.673...</td>\n",
       "      <td>0.694247</td>\n",
       "      <td>(NOX, RM, DIS, PTRATIO, LSTAT)</td>\n",
       "    </tr>\n",
       "    <tr>\n",
       "      <td>6</td>\n",
       "      <td>(4, 5, 7, 10, 11, 12)</td>\n",
       "      <td>[0.7100023770635135, 0.7146299333738408, 0.677...</td>\n",
       "      <td>0.700816</td>\n",
       "      <td>(NOX, RM, DIS, PTRATIO, B, LSTAT)</td>\n",
       "    </tr>\n",
       "    <tr>\n",
       "      <td>7</td>\n",
       "      <td>(3, 4, 5, 7, 10, 11, 12)</td>\n",
       "      <td>[0.7042370034440062, 0.7236060770908831, 0.689...</td>\n",
       "      <td>0.705848</td>\n",
       "      <td>(CHAS, NOX, RM, DIS, PTRATIO, B, LSTAT)</td>\n",
       "    </tr>\n",
       "    <tr>\n",
       "      <td>8</td>\n",
       "      <td>(3, 4, 5, 7, 8, 10, 11, 12)</td>\n",
       "      <td>[0.7072017496995515, 0.7274380228793207, 0.695...</td>\n",
       "      <td>0.710058</td>\n",
       "      <td>(CHAS, NOX, RM, DIS, RAD, PTRATIO, B, LSTAT)</td>\n",
       "    </tr>\n",
       "    <tr>\n",
       "      <td>9</td>\n",
       "      <td>(3, 4, 5, 7, 8, 9, 10, 11, 12)</td>\n",
       "      <td>[0.715543873547657, 0.733556097889901, 0.69250...</td>\n",
       "      <td>0.713867</td>\n",
       "      <td>(CHAS, NOX, RM, DIS, RAD, TAX, PTRATIO, B, LSTAT)</td>\n",
       "    </tr>\n",
       "    <tr>\n",
       "      <td>10</td>\n",
       "      <td>(1, 3, 4, 5, 7, 8, 9, 10, 11, 12)</td>\n",
       "      <td>[0.7239641006709546, 0.7267455672126852, 0.699...</td>\n",
       "      <td>0.716864</td>\n",
       "      <td>(ZN, CHAS, NOX, RM, DIS, RAD, TAX, PTRATIO, B,...</td>\n",
       "    </tr>\n",
       "    <tr>\n",
       "      <td>11</td>\n",
       "      <td>(0, 1, 3, 4, 5, 7, 8, 9, 10, 11, 12)</td>\n",
       "      <td>[0.7191298743397663, 0.7263399876500796, 0.710...</td>\n",
       "      <td>0.718534</td>\n",
       "      <td>(CRIM, ZN, CHAS, NOX, RM, DIS, RAD, TAX, PTRAT...</td>\n",
       "    </tr>\n",
       "    <tr>\n",
       "      <td>12</td>\n",
       "      <td>(0, 1, 3, 4, 5, 6, 7, 8, 9, 10, 11, 12)</td>\n",
       "      <td>[0.7170112875361433, 0.7263424526087849, 0.709...</td>\n",
       "      <td>0.717505</td>\n",
       "      <td>(CRIM, ZN, CHAS, NOX, RM, AGE, DIS, RAD, TAX, ...</td>\n",
       "    </tr>\n",
       "    <tr>\n",
       "      <td>13</td>\n",
       "      <td>(0, 1, 2, 3, 4, 5, 6, 7, 8, 9, 10, 11, 12)</td>\n",
       "      <td>[0.7144254933499383, 0.7262033065717164, 0.708...</td>\n",
       "      <td>0.71629</td>\n",
       "      <td>(CRIM, ZN, INDUS, CHAS, NOX, RM, AGE, DIS, RAD...</td>\n",
       "    </tr>\n",
       "  </tbody>\n",
       "</table>\n",
       "</div>"
      ],
      "text/plain": [
       "                                   feature_idx  \\\n",
       "1                                        (12,)   \n",
       "2                                      (5, 12)   \n",
       "3                                  (5, 10, 12)   \n",
       "4                               (5, 7, 10, 12)   \n",
       "5                            (4, 5, 7, 10, 12)   \n",
       "6                        (4, 5, 7, 10, 11, 12)   \n",
       "7                     (3, 4, 5, 7, 10, 11, 12)   \n",
       "8                  (3, 4, 5, 7, 8, 10, 11, 12)   \n",
       "9               (3, 4, 5, 7, 8, 9, 10, 11, 12)   \n",
       "10           (1, 3, 4, 5, 7, 8, 9, 10, 11, 12)   \n",
       "11        (0, 1, 3, 4, 5, 7, 8, 9, 10, 11, 12)   \n",
       "12     (0, 1, 3, 4, 5, 6, 7, 8, 9, 10, 11, 12)   \n",
       "13  (0, 1, 2, 3, 4, 5, 6, 7, 8, 9, 10, 11, 12)   \n",
       "\n",
       "                                            cv_scores avg_score  \\\n",
       "1   [0.4749830090548759, 0.5660982817170748, 0.574...  0.538544   \n",
       "2   [0.6003660252605316, 0.6529398298950582, 0.631...   0.62822   \n",
       "3   [0.6574547085117268, 0.6844149765905737, 0.664...  0.668693   \n",
       "4   [0.6701662157084982, 0.7000199113250303, 0.674...  0.681477   \n",
       "5   [0.7058977311250213, 0.7033801102200267, 0.673...  0.694247   \n",
       "6   [0.7100023770635135, 0.7146299333738408, 0.677...  0.700816   \n",
       "7   [0.7042370034440062, 0.7236060770908831, 0.689...  0.705848   \n",
       "8   [0.7072017496995515, 0.7274380228793207, 0.695...  0.710058   \n",
       "9   [0.715543873547657, 0.733556097889901, 0.69250...  0.713867   \n",
       "10  [0.7239641006709546, 0.7267455672126852, 0.699...  0.716864   \n",
       "11  [0.7191298743397663, 0.7263399876500796, 0.710...  0.718534   \n",
       "12  [0.7170112875361433, 0.7263424526087849, 0.709...  0.717505   \n",
       "13  [0.7144254933499383, 0.7262033065717164, 0.708...   0.71629   \n",
       "\n",
       "                                        feature_names  \n",
       "1                                            (LSTAT,)  \n",
       "2                                         (RM, LSTAT)  \n",
       "3                                (RM, PTRATIO, LSTAT)  \n",
       "4                           (RM, DIS, PTRATIO, LSTAT)  \n",
       "5                      (NOX, RM, DIS, PTRATIO, LSTAT)  \n",
       "6                   (NOX, RM, DIS, PTRATIO, B, LSTAT)  \n",
       "7             (CHAS, NOX, RM, DIS, PTRATIO, B, LSTAT)  \n",
       "8        (CHAS, NOX, RM, DIS, RAD, PTRATIO, B, LSTAT)  \n",
       "9   (CHAS, NOX, RM, DIS, RAD, TAX, PTRATIO, B, LSTAT)  \n",
       "10  (ZN, CHAS, NOX, RM, DIS, RAD, TAX, PTRATIO, B,...  \n",
       "11  (CRIM, ZN, CHAS, NOX, RM, DIS, RAD, TAX, PTRAT...  \n",
       "12  (CRIM, ZN, CHAS, NOX, RM, AGE, DIS, RAD, TAX, ...  \n",
       "13  (CRIM, ZN, INDUS, CHAS, NOX, RM, AGE, DIS, RAD...  "
      ]
     },
     "execution_count": 75,
     "metadata": {},
     "output_type": "execute_result"
    }
   ],
   "source": [
    "sf = pd.DataFrame(sfs1.subsets_).T\n",
    "sf"
   ]
  },
  {
   "cell_type": "code",
   "execution_count": 80,
   "metadata": {},
   "outputs": [
    {
     "data": {
      "text/plain": [
       "Text(0, 0.5, 'r-squared')"
      ]
     },
     "execution_count": 80,
     "metadata": {},
     "output_type": "execute_result"
    },
    {
     "data": {
      "image/png": "[encoded data removed]",
      "text/plain": [
       "<Figure size 432x288 with 1 Axes>"
      ]
     },
     "metadata": {
      "needs_background": "light"
     },
     "output_type": "display_data"
    }
   ],
   "source": [
    "plt.plot(range(1,14), sf['avg_score'])\n",
    "plt.xlabel('Number of Features Selected')\n",
    "plt.ylabel('r-squared')\n"
   ]
  },
  {
   "cell_type": "markdown",
   "metadata": {},
   "source": [
    "Verbose = 2 output showed that r-squared is reaching a peak at 'number of features' = 11. Hence, we will run sfs again with k_features = 11 to identify the selected features."
   ]
  },
  {
   "cell_type": "code",
   "execution_count": 82,
   "metadata": {},
   "outputs": [
    {
     "name": "stderr",
     "output_type": "stream",
     "text": [
      "[Parallel(n_jobs=1)]: Using backend SequentialBackend with 1 concurrent workers.\n",
      "[Parallel(n_jobs=1)]: Done   1 out of   1 | elapsed:    0.0s remaining:    0.0s\n",
      "[Parallel(n_jobs=1)]: Done  13 out of  13 | elapsed:    0.0s finished\n",
      "\n",
      "[2020-03-11 14:32:01] Features: 1/11 -- score: 0.5385442127122603[Parallel(n_jobs=1)]: Using backend SequentialBackend with 1 concurrent workers.\n",
      "[Parallel(n_jobs=1)]: Done   1 out of   1 | elapsed:    0.0s remaining:    0.0s\n",
      "[Parallel(n_jobs=1)]: Done  12 out of  12 | elapsed:    0.0s finished\n",
      "\n",
      "[2020-03-11 14:32:01] Features: 2/11 -- score: 0.6282201069923401[Parallel(n_jobs=1)]: Using backend SequentialBackend with 1 concurrent workers.\n",
      "[Parallel(n_jobs=1)]: Done   1 out of   1 | elapsed:    0.0s remaining:    0.0s\n",
      "[Parallel(n_jobs=1)]: Done  11 out of  11 | elapsed:    0.0s finished\n",
      "\n",
      "[2020-03-11 14:32:01] Features: 3/11 -- score: 0.6686934564375585[Parallel(n_jobs=1)]: Using backend SequentialBackend with 1 concurrent workers.\n",
      "[Parallel(n_jobs=1)]: Done   1 out of   1 | elapsed:    0.0s remaining:    0.0s\n",
      "[Parallel(n_jobs=1)]: Done  10 out of  10 | elapsed:    0.0s finished\n",
      "\n",
      "[2020-03-11 14:32:01] Features: 4/11 -- score: 0.6814772826504827[Parallel(n_jobs=1)]: Using backend SequentialBackend with 1 concurrent workers.\n",
      "[Parallel(n_jobs=1)]: Done   1 out of   1 | elapsed:    0.0s remaining:    0.0s\n",
      "[Parallel(n_jobs=1)]: Done   9 out of   9 | elapsed:    0.0s finished\n",
      "\n",
      "[2020-03-11 14:32:02] Features: 5/11 -- score: 0.6942467104909952[Parallel(n_jobs=1)]: Using backend SequentialBackend with 1 concurrent workers.\n",
      "[Parallel(n_jobs=1)]: Done   1 out of   1 | elapsed:    0.0s remaining:    0.0s\n",
      "[Parallel(n_jobs=1)]: Done   8 out of   8 | elapsed:    0.0s finished\n",
      "\n",
      "[2020-03-11 14:32:02] Features: 6/11 -- score: 0.7008158112722648[Parallel(n_jobs=1)]: Using backend SequentialBackend with 1 concurrent workers.\n",
      "[Parallel(n_jobs=1)]: Done   1 out of   1 | elapsed:    0.0s remaining:    0.0s\n",
      "[Parallel(n_jobs=1)]: Done   7 out of   7 | elapsed:    0.0s finished\n",
      "\n",
      "[2020-03-11 14:32:02] Features: 7/11 -- score: 0.7058479381042497[Parallel(n_jobs=1)]: Using backend SequentialBackend with 1 concurrent workers.\n",
      "[Parallel(n_jobs=1)]: Done   1 out of   1 | elapsed:    0.0s remaining:    0.0s\n",
      "[Parallel(n_jobs=1)]: Done   6 out of   6 | elapsed:    0.0s finished\n",
      "\n",
      "[2020-03-11 14:32:02] Features: 8/11 -- score: 0.7100575641498229[Parallel(n_jobs=1)]: Using backend SequentialBackend with 1 concurrent workers.\n",
      "[Parallel(n_jobs=1)]: Done   1 out of   1 | elapsed:    0.0s remaining:    0.0s\n",
      "[Parallel(n_jobs=1)]: Done   5 out of   5 | elapsed:    0.0s finished\n",
      "\n",
      "[2020-03-11 14:32:02] Features: 9/11 -- score: 0.7138674346860272[Parallel(n_jobs=1)]: Using backend SequentialBackend with 1 concurrent workers.\n",
      "[Parallel(n_jobs=1)]: Done   1 out of   1 | elapsed:    0.0s remaining:    0.0s\n",
      "[Parallel(n_jobs=1)]: Done   4 out of   4 | elapsed:    0.0s finished\n",
      "\n",
      "[2020-03-11 14:32:02] Features: 10/11 -- score: 0.7168638324241933[Parallel(n_jobs=1)]: Using backend SequentialBackend with 1 concurrent workers.\n",
      "[Parallel(n_jobs=1)]: Done   1 out of   1 | elapsed:    0.0s remaining:    0.0s\n",
      "[Parallel(n_jobs=1)]: Done   3 out of   3 | elapsed:    0.0s finished\n",
      "\n",
      "[2020-03-11 14:32:02] Features: 11/11 -- score: 0.7185344980088425"
     ]
    },
    {
     "data": {
      "text/plain": [
       "SequentialFeatureSelector(clone_estimator=True,\n",
       "                          cv=KFold(n_splits=3, random_state=3, shuffle=False),\n",
       "                          estimator=LinearRegression(copy_X=True,\n",
       "                                                     fit_intercept=True,\n",
       "                                                     n_jobs=None,\n",
       "                                                     normalize=False),\n",
       "                          fixed_features=None, floating=False, forward=True,\n",
       "                          k_features=11, n_jobs=1, pre_dispatch='2*n_jobs',\n",
       "                          scoring='r2', verbose=2)"
      ]
     },
     "execution_count": 82,
     "metadata": {},
     "output_type": "execute_result"
    }
   ],
   "source": [
    "lr = LinearRegression()\n",
    "\n",
    "kf = KFold(n_splits = 3, random_state = 3)\n",
    "sfs1 = sfs(lr, k_features = 11, scoring = 'r2', cv = kf, verbose = 2)\n",
    "\n",
    "sfs1.fit(X, y)"
   ]
  },
  {
   "cell_type": "code",
   "execution_count": 86,
   "metadata": {},
   "outputs": [],
   "source": [
    "cols = list(sfs1.k_feature_names_)"
   ]
  },
  {
   "cell_type": "code",
   "execution_count": 95,
   "metadata": {},
   "outputs": [],
   "source": [
    "X_train, X_test, y_train, y_test = train_test_split(X[cols], y, test_size = 0.3, random_state = 2)"
   ]
  },
  {
   "cell_type": "code",
   "execution_count": 96,
   "metadata": {},
   "outputs": [
    {
     "name": "stdout",
     "output_type": "stream",
     "text": [
      "r-squared on Train:  0.745118122002017\n",
      "r-squared on Test:  0.7195983903480653\n"
     ]
    }
   ],
   "source": [
    "lr.fit(X_train, y_train)\n",
    "y_train_pred = lr.predict(X_train)\n",
    "y_test_pred = lr.predict(X_test)\n",
    "\n",
    "print('r-squared on Train: ', r2_score(y_train, y_train_pred))\n",
    "print('r-squared on Test: ', r2_score(y_test, y_test_pred))"
   ]
  },
  {
   "cell_type": "code",
   "execution_count": null,
   "metadata": {},
   "outputs": [],
   "source": []
  }
 ],
 "metadata": {
  "kernelspec": {
   "display_name": "Python 3",
   "language": "python",
   "name": "python3"
  },
  "language_info": {
   "codemirror_mode": {
    "name": "ipython",
    "version": 3
   },
   "file_extension": ".py",
   "mimetype": "text/x-python",
   "name": "python",
   "nbconvert_exporter": "python",
   "pygments_lexer": "ipython3",
   "version": "3.7.4"
  }
 },
 "nbformat": 4,
 "nbformat_minor": 2
}
