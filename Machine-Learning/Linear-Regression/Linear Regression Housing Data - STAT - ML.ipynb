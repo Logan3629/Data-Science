{
 "cells": [
  {
   "cell_type": "code",
   "execution_count": 38,
   "metadata": {},
   "outputs": [],
   "source": [
    "import pandas as pd\n",
    "import numpy as np\n",
    "import matplotlib.pyplot as plt\n",
    "import seaborn as sns"
   ]
  },
  {
   "cell_type": "code",
   "execution_count": 39,
   "metadata": {},
   "outputs": [
    {
     "data": {
      "text/html": [
       "<div>\n",
       "<style scoped>\n",
       "    .dataframe tbody tr th:only-of-type {\n",
       "        vertical-align: middle;\n",
       "    }\n",
       "\n",
       "    .dataframe tbody tr th {\n",
       "        vertical-align: top;\n",
       "    }\n",
       "\n",
       "    .dataframe thead th {\n",
       "        text-align: right;\n",
       "    }\n",
       "</style>\n",
       "<table border=\"1\" class=\"dataframe\">\n",
       "  <thead>\n",
       "    <tr style=\"text-align: right;\">\n",
       "      <th></th>\n",
       "      <th>Unnamed: 0</th>\n",
       "      <th>price</th>\n",
       "      <th>lotsize</th>\n",
       "      <th>bedrooms</th>\n",
       "      <th>bathrms</th>\n",
       "      <th>stories</th>\n",
       "      <th>driveway</th>\n",
       "      <th>recroom</th>\n",
       "      <th>fullbase</th>\n",
       "      <th>gashw</th>\n",
       "      <th>airco</th>\n",
       "      <th>garagepl</th>\n",
       "      <th>prefarea</th>\n",
       "    </tr>\n",
       "  </thead>\n",
       "  <tbody>\n",
       "    <tr>\n",
       "      <td>399</td>\n",
       "      <td>400</td>\n",
       "      <td>85000.0</td>\n",
       "      <td>7231</td>\n",
       "      <td>3</td>\n",
       "      <td>1</td>\n",
       "      <td>2</td>\n",
       "      <td>yes</td>\n",
       "      <td>yes</td>\n",
       "      <td>yes</td>\n",
       "      <td>no</td>\n",
       "      <td>yes</td>\n",
       "      <td>0</td>\n",
       "      <td>yes</td>\n",
       "    </tr>\n",
       "    <tr>\n",
       "      <td>251</td>\n",
       "      <td>252</td>\n",
       "      <td>52000.0</td>\n",
       "      <td>3520</td>\n",
       "      <td>2</td>\n",
       "      <td>2</td>\n",
       "      <td>1</td>\n",
       "      <td>yes</td>\n",
       "      <td>no</td>\n",
       "      <td>yes</td>\n",
       "      <td>no</td>\n",
       "      <td>no</td>\n",
       "      <td>0</td>\n",
       "      <td>no</td>\n",
       "    </tr>\n",
       "    <tr>\n",
       "      <td>455</td>\n",
       "      <td>456</td>\n",
       "      <td>75000.0</td>\n",
       "      <td>3800</td>\n",
       "      <td>3</td>\n",
       "      <td>1</td>\n",
       "      <td>2</td>\n",
       "      <td>yes</td>\n",
       "      <td>yes</td>\n",
       "      <td>yes</td>\n",
       "      <td>no</td>\n",
       "      <td>no</td>\n",
       "      <td>1</td>\n",
       "      <td>yes</td>\n",
       "    </tr>\n",
       "    <tr>\n",
       "      <td>466</td>\n",
       "      <td>467</td>\n",
       "      <td>54000.0</td>\n",
       "      <td>2856</td>\n",
       "      <td>3</td>\n",
       "      <td>1</td>\n",
       "      <td>3</td>\n",
       "      <td>yes</td>\n",
       "      <td>no</td>\n",
       "      <td>no</td>\n",
       "      <td>no</td>\n",
       "      <td>no</td>\n",
       "      <td>0</td>\n",
       "      <td>yes</td>\n",
       "    </tr>\n",
       "    <tr>\n",
       "      <td>129</td>\n",
       "      <td>130</td>\n",
       "      <td>127000.0</td>\n",
       "      <td>4600</td>\n",
       "      <td>3</td>\n",
       "      <td>2</td>\n",
       "      <td>2</td>\n",
       "      <td>yes</td>\n",
       "      <td>yes</td>\n",
       "      <td>no</td>\n",
       "      <td>no</td>\n",
       "      <td>yes</td>\n",
       "      <td>2</td>\n",
       "      <td>no</td>\n",
       "    </tr>\n",
       "    <tr>\n",
       "      <td>...</td>\n",
       "      <td>...</td>\n",
       "      <td>...</td>\n",
       "      <td>...</td>\n",
       "      <td>...</td>\n",
       "      <td>...</td>\n",
       "      <td>...</td>\n",
       "      <td>...</td>\n",
       "      <td>...</td>\n",
       "      <td>...</td>\n",
       "      <td>...</td>\n",
       "      <td>...</td>\n",
       "      <td>...</td>\n",
       "      <td>...</td>\n",
       "    </tr>\n",
       "    <tr>\n",
       "      <td>480</td>\n",
       "      <td>481</td>\n",
       "      <td>89500.0</td>\n",
       "      <td>6000</td>\n",
       "      <td>4</td>\n",
       "      <td>1</td>\n",
       "      <td>3</td>\n",
       "      <td>yes</td>\n",
       "      <td>yes</td>\n",
       "      <td>yes</td>\n",
       "      <td>no</td>\n",
       "      <td>no</td>\n",
       "      <td>0</td>\n",
       "      <td>yes</td>\n",
       "    </tr>\n",
       "    <tr>\n",
       "      <td>422</td>\n",
       "      <td>423</td>\n",
       "      <td>61100.0</td>\n",
       "      <td>3400</td>\n",
       "      <td>3</td>\n",
       "      <td>1</td>\n",
       "      <td>2</td>\n",
       "      <td>yes</td>\n",
       "      <td>no</td>\n",
       "      <td>yes</td>\n",
       "      <td>no</td>\n",
       "      <td>no</td>\n",
       "      <td>2</td>\n",
       "      <td>yes</td>\n",
       "    </tr>\n",
       "    <tr>\n",
       "      <td>119</td>\n",
       "      <td>120</td>\n",
       "      <td>116000.0</td>\n",
       "      <td>6840</td>\n",
       "      <td>5</td>\n",
       "      <td>1</td>\n",
       "      <td>2</td>\n",
       "      <td>yes</td>\n",
       "      <td>yes</td>\n",
       "      <td>yes</td>\n",
       "      <td>no</td>\n",
       "      <td>yes</td>\n",
       "      <td>1</td>\n",
       "      <td>no</td>\n",
       "    </tr>\n",
       "    <tr>\n",
       "      <td>256</td>\n",
       "      <td>257</td>\n",
       "      <td>71000.0</td>\n",
       "      <td>4410</td>\n",
       "      <td>4</td>\n",
       "      <td>3</td>\n",
       "      <td>2</td>\n",
       "      <td>yes</td>\n",
       "      <td>no</td>\n",
       "      <td>yes</td>\n",
       "      <td>no</td>\n",
       "      <td>no</td>\n",
       "      <td>2</td>\n",
       "      <td>no</td>\n",
       "    </tr>\n",
       "    <tr>\n",
       "      <td>249</td>\n",
       "      <td>250</td>\n",
       "      <td>45000.0</td>\n",
       "      <td>3450</td>\n",
       "      <td>3</td>\n",
       "      <td>1</td>\n",
       "      <td>2</td>\n",
       "      <td>yes</td>\n",
       "      <td>no</td>\n",
       "      <td>yes</td>\n",
       "      <td>no</td>\n",
       "      <td>no</td>\n",
       "      <td>0</td>\n",
       "      <td>no</td>\n",
       "    </tr>\n",
       "  </tbody>\n",
       "</table>\n",
       "<p>546 rows × 13 columns</p>\n",
       "</div>"
      ],
      "text/plain": [
       "     Unnamed: 0     price  lotsize  bedrooms  bathrms  stories driveway  \\\n",
       "399         400   85000.0     7231         3        1        2      yes   \n",
       "251         252   52000.0     3520         2        2        1      yes   \n",
       "455         456   75000.0     3800         3        1        2      yes   \n",
       "466         467   54000.0     2856         3        1        3      yes   \n",
       "129         130  127000.0     4600         3        2        2      yes   \n",
       "..          ...       ...      ...       ...      ...      ...      ...   \n",
       "480         481   89500.0     6000         4        1        3      yes   \n",
       "422         423   61100.0     3400         3        1        2      yes   \n",
       "119         120  116000.0     6840         5        1        2      yes   \n",
       "256         257   71000.0     4410         4        3        2      yes   \n",
       "249         250   45000.0     3450         3        1        2      yes   \n",
       "\n",
       "    recroom fullbase gashw airco  garagepl prefarea  \n",
       "399     yes      yes    no   yes         0      yes  \n",
       "251      no      yes    no    no         0       no  \n",
       "455     yes      yes    no    no         1      yes  \n",
       "466      no       no    no    no         0      yes  \n",
       "129     yes       no    no   yes         2       no  \n",
       "..      ...      ...   ...   ...       ...      ...  \n",
       "480     yes      yes    no    no         0      yes  \n",
       "422      no      yes    no    no         2      yes  \n",
       "119     yes      yes    no   yes         1       no  \n",
       "256      no      yes    no    no         2       no  \n",
       "249      no      yes    no    no         0       no  \n",
       "\n",
       "[546 rows x 13 columns]"
      ]
     },
     "execution_count": 39,
     "metadata": {},
     "output_type": "execute_result"
    }
   ],
   "source": [
    "df = pd.read_csv('Housing.csv')\n",
    "df = df.sample(frac = 1, random_state = 3)\n",
    "df"
   ]
  },
  {
   "cell_type": "code",
   "execution_count": 40,
   "metadata": {},
   "outputs": [
    {
     "name": "stdout",
     "output_type": "stream",
     "text": [
      "<class 'pandas.core.frame.DataFrame'>\n",
      "Int64Index: 546 entries, 399 to 249\n",
      "Data columns (total 13 columns):\n",
      "Unnamed: 0    546 non-null int64\n",
      "price         546 non-null float64\n",
      "lotsize       546 non-null int64\n",
      "bedrooms      546 non-null int64\n",
      "bathrms       546 non-null int64\n",
      "stories       546 non-null int64\n",
      "driveway      546 non-null object\n",
      "recroom       546 non-null object\n",
      "fullbase      546 non-null object\n",
      "gashw         546 non-null object\n",
      "airco         546 non-null object\n",
      "garagepl      546 non-null int64\n",
      "prefarea      546 non-null object\n",
      "dtypes: float64(1), int64(6), object(6)\n",
      "memory usage: 59.7+ KB\n"
     ]
    }
   ],
   "source": [
    "df.info()"
   ]
  },
  {
   "cell_type": "code",
   "execution_count": 41,
   "metadata": {},
   "outputs": [],
   "source": [
    "df = df.drop('Unnamed: 0', axis = 1)"
   ]
  },
  {
   "cell_type": "code",
   "execution_count": 42,
   "metadata": {},
   "outputs": [
    {
     "data": {
      "text/plain": [
       "['driveway', 'recroom', 'fullbase', 'gashw', 'airco', 'prefarea']"
      ]
     },
     "execution_count": 42,
     "metadata": {},
     "output_type": "execute_result"
    }
   ],
   "source": [
    "obj_cols = list(df.select_dtypes(include = 'object').columns)\n",
    "obj_cols"
   ]
  },
  {
   "cell_type": "code",
   "execution_count": 43,
   "metadata": {},
   "outputs": [
    {
     "name": "stdout",
     "output_type": "stream",
     "text": [
      "yes    469\n",
      "no      77\n",
      "Name: driveway, dtype: int64\n",
      "no     449\n",
      "yes     97\n",
      "Name: recroom, dtype: int64\n",
      "no     355\n",
      "yes    191\n",
      "Name: fullbase, dtype: int64\n",
      "no     521\n",
      "yes     25\n",
      "Name: gashw, dtype: int64\n",
      "no     373\n",
      "yes    173\n",
      "Name: airco, dtype: int64\n",
      "no     418\n",
      "yes    128\n",
      "Name: prefarea, dtype: int64\n"
     ]
    }
   ],
   "source": [
    "for col in obj_cols: \n",
    "    print(df[col].value_counts())"
   ]
  },
  {
   "cell_type": "code",
   "execution_count": 44,
   "metadata": {},
   "outputs": [],
   "source": [
    "df = pd.get_dummies(df, columns = obj_cols, drop_first = True)"
   ]
  },
  {
   "cell_type": "code",
   "execution_count": 45,
   "metadata": {},
   "outputs": [
    {
     "name": "stdout",
     "output_type": "stream",
     "text": [
      "<class 'pandas.core.frame.DataFrame'>\n",
      "Int64Index: 546 entries, 399 to 249\n",
      "Data columns (total 12 columns):\n",
      "price           546 non-null float64\n",
      "lotsize         546 non-null int64\n",
      "bedrooms        546 non-null int64\n",
      "bathrms         546 non-null int64\n",
      "stories         546 non-null int64\n",
      "garagepl        546 non-null int64\n",
      "driveway_yes    546 non-null uint8\n",
      "recroom_yes     546 non-null uint8\n",
      "fullbase_yes    546 non-null uint8\n",
      "gashw_yes       546 non-null uint8\n",
      "airco_yes       546 non-null uint8\n",
      "prefarea_yes    546 non-null uint8\n",
      "dtypes: float64(1), int64(5), uint8(6)\n",
      "memory usage: 33.1 KB\n"
     ]
    }
   ],
   "source": [
    "df.info()"
   ]
  },
  {
   "cell_type": "code",
   "execution_count": 46,
   "metadata": {},
   "outputs": [
    {
     "data": {
      "text/plain": [
       "price           0\n",
       "lotsize         0\n",
       "bedrooms        0\n",
       "bathrms         0\n",
       "stories         0\n",
       "garagepl        0\n",
       "driveway_yes    0\n",
       "recroom_yes     0\n",
       "fullbase_yes    0\n",
       "gashw_yes       0\n",
       "airco_yes       0\n",
       "prefarea_yes    0\n",
       "dtype: int64"
      ]
     },
     "execution_count": 46,
     "metadata": {},
     "output_type": "execute_result"
    }
   ],
   "source": [
    "df.isnull().sum()"
   ]
  },
  {
   "cell_type": "code",
   "execution_count": 47,
   "metadata": {},
   "outputs": [
    {
     "data": {
      "text/plain": [
       "<matplotlib.axes._subplots.AxesSubplot at 0x184ec95ccc8>"
      ]
     },
     "execution_count": 47,
     "metadata": {},
     "output_type": "execute_result"
    },
    {
     "data": {
      "image/png": "[encoded data removed]",
      "text/plain": [
       "<Figure size 432x288 with 1 Axes>"
      ]
     },
     "metadata": {
      "needs_background": "light"
     },
     "output_type": "display_data"
    }
   ],
   "source": [
    "sns.distplot(df['price'])"
   ]
  },
  {
   "cell_type": "code",
   "execution_count": 48,
   "metadata": {},
   "outputs": [
    {
     "data": {
      "text/plain": [
       "count       546.000000\n",
       "mean      68121.597070\n",
       "std       26702.670926\n",
       "min       25000.000000\n",
       "25%       49125.000000\n",
       "50%       62000.000000\n",
       "75%       82000.000000\n",
       "max      190000.000000\n",
       "Name: price, dtype: float64"
      ]
     },
     "execution_count": 48,
     "metadata": {},
     "output_type": "execute_result"
    }
   ],
   "source": [
    "df['price'].describe()"
   ]
  },
  {
   "cell_type": "code",
   "execution_count": 49,
   "metadata": {},
   "outputs": [
    {
     "data": {
      "text/plain": [
       "count      546.000000\n",
       "mean      5150.265568\n",
       "std       2168.158725\n",
       "min       1650.000000\n",
       "25%       3600.000000\n",
       "50%       4600.000000\n",
       "75%       6360.000000\n",
       "max      16200.000000\n",
       "Name: lotsize, dtype: float64"
      ]
     },
     "execution_count": 49,
     "metadata": {},
     "output_type": "execute_result"
    }
   ],
   "source": [
    "df['lotsize'].describe()"
   ]
  },
  {
   "cell_type": "code",
   "execution_count": 50,
   "metadata": {},
   "outputs": [
    {
     "data": {
      "text/plain": [
       "<matplotlib.axes._subplots.AxesSubplot at 0x184eca7ff48>"
      ]
     },
     "execution_count": 50,
     "metadata": {},
     "output_type": "execute_result"
    },
    {
     "data": {
      "image/png": "[encoded data removed]",
      "text/plain": [
       "<Figure size 432x288 with 1 Axes>"
      ]
     },
     "metadata": {
      "needs_background": "light"
     },
     "output_type": "display_data"
    }
   ],
   "source": [
    "sns.distplot(df['lotsize'])"
   ]
  },
  {
   "cell_type": "code",
   "execution_count": 51,
   "metadata": {},
   "outputs": [
    {
     "data": {
      "text/plain": [
       "<matplotlib.axes._subplots.AxesSubplot at 0x184ecb21948>"
      ]
     },
     "execution_count": 51,
     "metadata": {},
     "output_type": "execute_result"
    },
    {
     "data": {
      "image/png": "[encoded data removed]",
      "text/plain": [
       "<Figure size 432x288 with 1 Axes>"
      ]
     },
     "metadata": {
      "needs_background": "light"
     },
     "output_type": "display_data"
    }
   ],
   "source": [
    "sns.boxplot(df['lotsize'])"
   ]
  },
  {
   "cell_type": "markdown",
   "metadata": {},
   "source": [
    "Outliers:\n",
    "    1. It is critical for statistics.\n",
    "    2. With outliers, model can be biased.\n",
    "    "
   ]
  },
  {
   "cell_type": "markdown",
   "metadata": {},
   "source": [
    "### Statistical model to predict Price"
   ]
  },
  {
   "cell_type": "code",
   "execution_count": 52,
   "metadata": {},
   "outputs": [],
   "source": [
    "import statsmodels.api as sm"
   ]
  },
  {
   "cell_type": "code",
   "execution_count": 53,
   "metadata": {},
   "outputs": [
    {
     "name": "stderr",
     "output_type": "stream",
     "text": [
      "C:\\Users\\Loki\\Anaconda3\\lib\\site-packages\\numpy\\core\\fromnumeric.py:2389: FutureWarning: Method .ptp is deprecated and will be removed in a future version. Use numpy.ptp instead.\n",
      "  return ptp(axis=axis, out=out, **kwargs)\n"
     ]
    }
   ],
   "source": [
    "y = df['price']\n",
    "X = df.drop('price', axis = 1) \n",
    "Xc = sm.add_constant(X)"
   ]
  },
  {
   "cell_type": "code",
   "execution_count": 54,
   "metadata": {},
   "outputs": [
    {
     "data": {
      "text/html": [
       "<div>\n",
       "<style scoped>\n",
       "    .dataframe tbody tr th:only-of-type {\n",
       "        vertical-align: middle;\n",
       "    }\n",
       "\n",
       "    .dataframe tbody tr th {\n",
       "        vertical-align: top;\n",
       "    }\n",
       "\n",
       "    .dataframe thead th {\n",
       "        text-align: right;\n",
       "    }\n",
       "</style>\n",
       "<table border=\"1\" class=\"dataframe\">\n",
       "  <thead>\n",
       "    <tr style=\"text-align: right;\">\n",
       "      <th></th>\n",
       "      <th>VIF</th>\n",
       "    </tr>\n",
       "  </thead>\n",
       "  <tbody>\n",
       "    <tr>\n",
       "      <td>const</td>\n",
       "      <td>26.682009</td>\n",
       "    </tr>\n",
       "    <tr>\n",
       "      <td>lotsize</td>\n",
       "      <td>1.321632</td>\n",
       "    </tr>\n",
       "    <tr>\n",
       "      <td>bedrooms</td>\n",
       "      <td>1.365633</td>\n",
       "    </tr>\n",
       "    <tr>\n",
       "      <td>bathrms</td>\n",
       "      <td>1.282494</td>\n",
       "    </tr>\n",
       "    <tr>\n",
       "      <td>stories</td>\n",
       "      <td>1.478584</td>\n",
       "    </tr>\n",
       "    <tr>\n",
       "      <td>garagepl</td>\n",
       "      <td>1.200839</td>\n",
       "    </tr>\n",
       "    <tr>\n",
       "      <td>driveway_yes</td>\n",
       "      <td>1.163091</td>\n",
       "    </tr>\n",
       "    <tr>\n",
       "      <td>recroom_yes</td>\n",
       "      <td>1.210501</td>\n",
       "    </tr>\n",
       "    <tr>\n",
       "      <td>fullbase_yes</td>\n",
       "      <td>1.316543</td>\n",
       "    </tr>\n",
       "    <tr>\n",
       "      <td>gashw_yes</td>\n",
       "      <td>1.038246</td>\n",
       "    </tr>\n",
       "    <tr>\n",
       "      <td>airco_yes</td>\n",
       "      <td>1.201397</td>\n",
       "    </tr>\n",
       "    <tr>\n",
       "      <td>prefarea_yes</td>\n",
       "      <td>1.147639</td>\n",
       "    </tr>\n",
       "  </tbody>\n",
       "</table>\n",
       "</div>"
      ],
      "text/plain": [
       "                    VIF\n",
       "const         26.682009\n",
       "lotsize        1.321632\n",
       "bedrooms       1.365633\n",
       "bathrms        1.282494\n",
       "stories        1.478584\n",
       "garagepl       1.200839\n",
       "driveway_yes   1.163091\n",
       "recroom_yes    1.210501\n",
       "fullbase_yes   1.316543\n",
       "gashw_yes      1.038246\n",
       "airco_yes      1.201397\n",
       "prefarea_yes   1.147639"
      ]
     },
     "execution_count": 54,
     "metadata": {},
     "output_type": "execute_result"
    }
   ],
   "source": [
    "from statsmodels.stats.outliers_influence import variance_inflation_factor as vif\n",
    "\n",
    "pd.DataFrame([vif(Xc.values, i) for i in range(Xc.shape[1])], index = Xc.columns, columns = ['VIF'])"
   ]
  },
  {
   "cell_type": "code",
   "execution_count": 55,
   "metadata": {},
   "outputs": [
    {
     "data": {
      "text/html": [
       "<table class=\"simpletable\">\n",
       "<caption>OLS Regression Results</caption>\n",
       "<tr>\n",
       "  <th>Dep. Variable:</th>          <td>price</td>      <th>  R-squared:         </th> <td>   0.673</td> \n",
       "</tr>\n",
       "<tr>\n",
       "  <th>Model:</th>                   <td>OLS</td>       <th>  Adj. R-squared:    </th> <td>   0.666</td> \n",
       "</tr>\n",
       "<tr>\n",
       "  <th>Method:</th>             <td>Least Squares</td>  <th>  F-statistic:       </th> <td>   99.97</td> \n",
       "</tr>\n",
       "<tr>\n",
       "  <th>Date:</th>             <td>Thu, 12 Mar 2020</td> <th>  Prob (F-statistic):</th> <td>6.18e-122</td>\n",
       "</tr>\n",
       "<tr>\n",
       "  <th>Time:</th>                 <td>15:02:04</td>     <th>  Log-Likelihood:    </th> <td> -6034.1</td> \n",
       "</tr>\n",
       "<tr>\n",
       "  <th>No. Observations:</th>      <td>   546</td>      <th>  AIC:               </th> <td>1.209e+04</td>\n",
       "</tr>\n",
       "<tr>\n",
       "  <th>Df Residuals:</th>          <td>   534</td>      <th>  BIC:               </th> <td>1.214e+04</td>\n",
       "</tr>\n",
       "<tr>\n",
       "  <th>Df Model:</th>              <td>    11</td>      <th>                     </th>     <td> </td>    \n",
       "</tr>\n",
       "<tr>\n",
       "  <th>Covariance Type:</th>      <td>nonrobust</td>    <th>                     </th>     <td> </td>    \n",
       "</tr>\n",
       "</table>\n",
       "<table class=\"simpletable\">\n",
       "<tr>\n",
       "        <td></td>          <th>coef</th>     <th>std err</th>      <th>t</th>      <th>P>|t|</th>  <th>[0.025</th>    <th>0.975]</th>  \n",
       "</tr>\n",
       "<tr>\n",
       "  <th>const</th>        <td>-4038.3504</td> <td> 3409.471</td> <td>   -1.184</td> <td> 0.237</td> <td>-1.07e+04</td> <td> 2659.271</td>\n",
       "</tr>\n",
       "<tr>\n",
       "  <th>lotsize</th>      <td>    3.5463</td> <td>    0.350</td> <td>   10.124</td> <td> 0.000</td> <td>    2.858</td> <td>    4.234</td>\n",
       "</tr>\n",
       "<tr>\n",
       "  <th>bedrooms</th>     <td> 1832.0035</td> <td> 1047.000</td> <td>    1.750</td> <td> 0.081</td> <td> -224.741</td> <td> 3888.748</td>\n",
       "</tr>\n",
       "<tr>\n",
       "  <th>bathrms</th>      <td> 1.434e+04</td> <td> 1489.921</td> <td>    9.622</td> <td> 0.000</td> <td> 1.14e+04</td> <td> 1.73e+04</td>\n",
       "</tr>\n",
       "<tr>\n",
       "  <th>stories</th>      <td> 6556.9457</td> <td>  925.290</td> <td>    7.086</td> <td> 0.000</td> <td> 4739.291</td> <td> 8374.600</td>\n",
       "</tr>\n",
       "<tr>\n",
       "  <th>garagepl</th>     <td> 4244.8290</td> <td>  840.544</td> <td>    5.050</td> <td> 0.000</td> <td> 2593.650</td> <td> 5896.008</td>\n",
       "</tr>\n",
       "<tr>\n",
       "  <th>driveway_yes</th> <td> 6687.7789</td> <td> 2045.246</td> <td>    3.270</td> <td> 0.001</td> <td> 2670.065</td> <td> 1.07e+04</td>\n",
       "</tr>\n",
       "<tr>\n",
       "  <th>recroom_yes</th>  <td> 4511.2838</td> <td> 1899.958</td> <td>    2.374</td> <td> 0.018</td> <td>  778.976</td> <td> 8243.592</td>\n",
       "</tr>\n",
       "<tr>\n",
       "  <th>fullbase_yes</th> <td> 5452.3855</td> <td> 1588.024</td> <td>    3.433</td> <td> 0.001</td> <td> 2332.845</td> <td> 8571.926</td>\n",
       "</tr>\n",
       "<tr>\n",
       "  <th>gashw_yes</th>    <td> 1.283e+04</td> <td> 3217.597</td> <td>    3.988</td> <td> 0.000</td> <td> 6510.706</td> <td> 1.92e+04</td>\n",
       "</tr>\n",
       "<tr>\n",
       "  <th>airco_yes</th>    <td> 1.263e+04</td> <td> 1555.021</td> <td>    8.124</td> <td> 0.000</td> <td> 9578.182</td> <td> 1.57e+04</td>\n",
       "</tr>\n",
       "<tr>\n",
       "  <th>prefarea_yes</th> <td> 9369.5132</td> <td> 1669.091</td> <td>    5.614</td> <td> 0.000</td> <td> 6090.724</td> <td> 1.26e+04</td>\n",
       "</tr>\n",
       "</table>\n",
       "<table class=\"simpletable\">\n",
       "<tr>\n",
       "  <th>Omnibus:</th>       <td>93.454</td> <th>  Durbin-Watson:     </th> <td>   1.964</td>\n",
       "</tr>\n",
       "<tr>\n",
       "  <th>Prob(Omnibus):</th> <td> 0.000</td> <th>  Jarque-Bera (JB):  </th> <td> 247.620</td>\n",
       "</tr>\n",
       "<tr>\n",
       "  <th>Skew:</th>          <td> 0.853</td> <th>  Prob(JB):          </th> <td>1.70e-54</td>\n",
       "</tr>\n",
       "<tr>\n",
       "  <th>Kurtosis:</th>      <td> 5.824</td> <th>  Cond. No.          </th> <td>3.07e+04</td>\n",
       "</tr>\n",
       "</table><br/><br/>Warnings:<br/>[1] Standard Errors assume that the covariance matrix of the errors is correctly specified.<br/>[2] The condition number is large, 3.07e+04. This might indicate that there are<br/>strong multicollinearity or other numerical problems."
      ],
      "text/plain": [
       "<class 'statsmodels.iolib.summary.Summary'>\n",
       "\"\"\"\n",
       "                            OLS Regression Results                            \n",
       "==============================================================================\n",
       "Dep. Variable:                  price   R-squared:                       0.673\n",
       "Model:                            OLS   Adj. R-squared:                  0.666\n",
       "Method:                 Least Squares   F-statistic:                     99.97\n",
       "Date:                Thu, 12 Mar 2020   Prob (F-statistic):          6.18e-122\n",
       "Time:                        15:02:04   Log-Likelihood:                -6034.1\n",
       "No. Observations:                 546   AIC:                         1.209e+04\n",
       "Df Residuals:                     534   BIC:                         1.214e+04\n",
       "Df Model:                          11                                         \n",
       "Covariance Type:            nonrobust                                         \n",
       "================================================================================\n",
       "                   coef    std err          t      P>|t|      [0.025      0.975]\n",
       "--------------------------------------------------------------------------------\n",
       "const        -4038.3504   3409.471     -1.184      0.237   -1.07e+04    2659.271\n",
       "lotsize          3.5463      0.350     10.124      0.000       2.858       4.234\n",
       "bedrooms      1832.0035   1047.000      1.750      0.081    -224.741    3888.748\n",
       "bathrms       1.434e+04   1489.921      9.622      0.000    1.14e+04    1.73e+04\n",
       "stories       6556.9457    925.290      7.086      0.000    4739.291    8374.600\n",
       "garagepl      4244.8290    840.544      5.050      0.000    2593.650    5896.008\n",
       "driveway_yes  6687.7789   2045.246      3.270      0.001    2670.065    1.07e+04\n",
       "recroom_yes   4511.2838   1899.958      2.374      0.018     778.976    8243.592\n",
       "fullbase_yes  5452.3855   1588.024      3.433      0.001    2332.845    8571.926\n",
       "gashw_yes     1.283e+04   3217.597      3.988      0.000    6510.706    1.92e+04\n",
       "airco_yes     1.263e+04   1555.021      8.124      0.000    9578.182    1.57e+04\n",
       "prefarea_yes  9369.5132   1669.091      5.614      0.000    6090.724    1.26e+04\n",
       "==============================================================================\n",
       "Omnibus:                       93.454   Durbin-Watson:                   1.964\n",
       "Prob(Omnibus):                  0.000   Jarque-Bera (JB):              247.620\n",
       "Skew:                           0.853   Prob(JB):                     1.70e-54\n",
       "Kurtosis:                       5.824   Cond. No.                     3.07e+04\n",
       "==============================================================================\n",
       "\n",
       "Warnings:\n",
       "[1] Standard Errors assume that the covariance matrix of the errors is correctly specified.\n",
       "[2] The condition number is large, 3.07e+04. This might indicate that there are\n",
       "strong multicollinearity or other numerical problems.\n",
       "\"\"\""
      ]
     },
     "execution_count": 55,
     "metadata": {},
     "output_type": "execute_result"
    }
   ],
   "source": [
    "model = sm.OLS(y, Xc).fit()\n",
    "model.summary()"
   ]
  },
  {
   "cell_type": "markdown",
   "metadata": {},
   "source": [
    "Bedrooms is the only feature not significant (prob > 0.05)"
   ]
  },
  {
   "cell_type": "code",
   "execution_count": 56,
   "metadata": {},
   "outputs": [
    {
     "data": {
      "text/html": [
       "<table class=\"simpletable\">\n",
       "<caption>OLS Regression Results</caption>\n",
       "<tr>\n",
       "  <th>Dep. Variable:</th>          <td>price</td>      <th>  R-squared:         </th> <td>   0.671</td> \n",
       "</tr>\n",
       "<tr>\n",
       "  <th>Model:</th>                   <td>OLS</td>       <th>  Adj. R-squared:    </th> <td>   0.665</td> \n",
       "</tr>\n",
       "<tr>\n",
       "  <th>Method:</th>             <td>Least Squares</td>  <th>  F-statistic:       </th> <td>   109.2</td> \n",
       "</tr>\n",
       "<tr>\n",
       "  <th>Date:</th>             <td>Thu, 12 Mar 2020</td> <th>  Prob (F-statistic):</th> <td>2.62e-122</td>\n",
       "</tr>\n",
       "<tr>\n",
       "  <th>Time:</th>                 <td>15:02:04</td>     <th>  Log-Likelihood:    </th> <td> -6035.7</td> \n",
       "</tr>\n",
       "<tr>\n",
       "  <th>No. Observations:</th>      <td>   546</td>      <th>  AIC:               </th> <td>1.209e+04</td>\n",
       "</tr>\n",
       "<tr>\n",
       "  <th>Df Residuals:</th>          <td>   535</td>      <th>  BIC:               </th> <td>1.214e+04</td>\n",
       "</tr>\n",
       "<tr>\n",
       "  <th>Df Model:</th>              <td>    10</td>      <th>                     </th>     <td> </td>    \n",
       "</tr>\n",
       "<tr>\n",
       "  <th>Covariance Type:</th>      <td>nonrobust</td>    <th>                     </th>     <td> </td>    \n",
       "</tr>\n",
       "</table>\n",
       "<table class=\"simpletable\">\n",
       "<tr>\n",
       "        <td></td>          <th>coef</th>     <th>std err</th>      <th>t</th>      <th>P>|t|</th>  <th>[0.025</th>    <th>0.975]</th>  \n",
       "</tr>\n",
       "<tr>\n",
       "  <th>const</th>        <td> -497.3484</td> <td> 2749.207</td> <td>   -0.181</td> <td> 0.857</td> <td>-5897.912</td> <td> 4903.215</td>\n",
       "</tr>\n",
       "<tr>\n",
       "  <th>lotsize</th>      <td>    3.5959</td> <td>    0.350</td> <td>   10.279</td> <td> 0.000</td> <td>    2.909</td> <td>    4.283</td>\n",
       "</tr>\n",
       "<tr>\n",
       "  <th>bathrms</th>      <td> 1.492e+04</td> <td> 1454.244</td> <td>   10.262</td> <td> 0.000</td> <td> 1.21e+04</td> <td> 1.78e+04</td>\n",
       "</tr>\n",
       "<tr>\n",
       "  <th>stories</th>      <td> 7128.7990</td> <td>  867.317</td> <td>    8.219</td> <td> 0.000</td> <td> 5425.034</td> <td> 8832.564</td>\n",
       "</tr>\n",
       "<tr>\n",
       "  <th>garagepl</th>     <td> 4355.3216</td> <td>  839.782</td> <td>    5.186</td> <td> 0.000</td> <td> 2705.647</td> <td> 6004.997</td>\n",
       "</tr>\n",
       "<tr>\n",
       "  <th>driveway_yes</th> <td> 6259.6177</td> <td> 2034.464</td> <td>    3.077</td> <td> 0.002</td> <td> 2263.101</td> <td> 1.03e+04</td>\n",
       "</tr>\n",
       "<tr>\n",
       "  <th>recroom_yes</th>  <td> 4440.4102</td> <td> 1903.182</td> <td>    2.333</td> <td> 0.020</td> <td>  701.783</td> <td> 8179.037</td>\n",
       "</tr>\n",
       "<tr>\n",
       "  <th>fullbase_yes</th> <td> 5846.5080</td> <td> 1574.995</td> <td>    3.712</td> <td> 0.000</td> <td> 2752.576</td> <td> 8940.440</td>\n",
       "</tr>\n",
       "<tr>\n",
       "  <th>gashw_yes</th>    <td> 1.295e+04</td> <td> 3223.082</td> <td>    4.018</td> <td> 0.000</td> <td> 6617.994</td> <td> 1.93e+04</td>\n",
       "</tr>\n",
       "<tr>\n",
       "  <th>airco_yes</th>    <td> 1.261e+04</td> <td> 1557.938</td> <td>    8.091</td> <td> 0.000</td> <td> 9545.496</td> <td> 1.57e+04</td>\n",
       "</tr>\n",
       "<tr>\n",
       "  <th>prefarea_yes</th> <td> 9431.7782</td> <td> 1671.923</td> <td>    5.641</td> <td> 0.000</td> <td> 6147.438</td> <td> 1.27e+04</td>\n",
       "</tr>\n",
       "</table>\n",
       "<table class=\"simpletable\">\n",
       "<tr>\n",
       "  <th>Omnibus:</th>       <td>98.563</td> <th>  Durbin-Watson:     </th> <td>   1.953</td>\n",
       "</tr>\n",
       "<tr>\n",
       "  <th>Prob(Omnibus):</th> <td> 0.000</td> <th>  Jarque-Bera (JB):  </th> <td> 269.305</td>\n",
       "</tr>\n",
       "<tr>\n",
       "  <th>Skew:</th>          <td> 0.887</td> <th>  Prob(JB):          </th> <td>3.32e-59</td>\n",
       "</tr>\n",
       "<tr>\n",
       "  <th>Kurtosis:</th>      <td> 5.948</td> <th>  Cond. No.          </th> <td>2.74e+04</td>\n",
       "</tr>\n",
       "</table><br/><br/>Warnings:<br/>[1] Standard Errors assume that the covariance matrix of the errors is correctly specified.<br/>[2] The condition number is large, 2.74e+04. This might indicate that there are<br/>strong multicollinearity or other numerical problems."
      ],
      "text/plain": [
       "<class 'statsmodels.iolib.summary.Summary'>\n",
       "\"\"\"\n",
       "                            OLS Regression Results                            \n",
       "==============================================================================\n",
       "Dep. Variable:                  price   R-squared:                       0.671\n",
       "Model:                            OLS   Adj. R-squared:                  0.665\n",
       "Method:                 Least Squares   F-statistic:                     109.2\n",
       "Date:                Thu, 12 Mar 2020   Prob (F-statistic):          2.62e-122\n",
       "Time:                        15:02:04   Log-Likelihood:                -6035.7\n",
       "No. Observations:                 546   AIC:                         1.209e+04\n",
       "Df Residuals:                     535   BIC:                         1.214e+04\n",
       "Df Model:                          10                                         \n",
       "Covariance Type:            nonrobust                                         \n",
       "================================================================================\n",
       "                   coef    std err          t      P>|t|      [0.025      0.975]\n",
       "--------------------------------------------------------------------------------\n",
       "const         -497.3484   2749.207     -0.181      0.857   -5897.912    4903.215\n",
       "lotsize          3.5959      0.350     10.279      0.000       2.909       4.283\n",
       "bathrms       1.492e+04   1454.244     10.262      0.000    1.21e+04    1.78e+04\n",
       "stories       7128.7990    867.317      8.219      0.000    5425.034    8832.564\n",
       "garagepl      4355.3216    839.782      5.186      0.000    2705.647    6004.997\n",
       "driveway_yes  6259.6177   2034.464      3.077      0.002    2263.101    1.03e+04\n",
       "recroom_yes   4440.4102   1903.182      2.333      0.020     701.783    8179.037\n",
       "fullbase_yes  5846.5080   1574.995      3.712      0.000    2752.576    8940.440\n",
       "gashw_yes     1.295e+04   3223.082      4.018      0.000    6617.994    1.93e+04\n",
       "airco_yes     1.261e+04   1557.938      8.091      0.000    9545.496    1.57e+04\n",
       "prefarea_yes  9431.7782   1671.923      5.641      0.000    6147.438    1.27e+04\n",
       "==============================================================================\n",
       "Omnibus:                       98.563   Durbin-Watson:                   1.953\n",
       "Prob(Omnibus):                  0.000   Jarque-Bera (JB):              269.305\n",
       "Skew:                           0.887   Prob(JB):                     3.32e-59\n",
       "Kurtosis:                       5.948   Cond. No.                     2.74e+04\n",
       "==============================================================================\n",
       "\n",
       "Warnings:\n",
       "[1] Standard Errors assume that the covariance matrix of the errors is correctly specified.\n",
       "[2] The condition number is large, 2.74e+04. This might indicate that there are\n",
       "strong multicollinearity or other numerical problems.\n",
       "\"\"\""
      ]
     },
     "execution_count": 56,
     "metadata": {},
     "output_type": "execute_result"
    }
   ],
   "source": [
    "Xc = Xc.drop('bedrooms', axis = 1)\n",
    "model = sm.OLS(y, Xc).fit()\n",
    "model.summary()"
   ]
  },
  {
   "cell_type": "markdown",
   "metadata": {},
   "source": [
    "### Normality of Residuals"
   ]
  },
  {
   "cell_type": "code",
   "execution_count": 57,
   "metadata": {},
   "outputs": [
    {
     "data": {
      "text/plain": [
       "<matplotlib.axes._subplots.AxesSubplot at 0x184edb77a88>"
      ]
     },
     "execution_count": 57,
     "metadata": {},
     "output_type": "execute_result"
    },
    {
     "data": {
      "image/png": "[encoded data removed]",
      "text/plain": [
       "<Figure size 432x288 with 1 Axes>"
      ]
     },
     "metadata": {
      "needs_background": "light"
     },
     "output_type": "display_data"
    }
   ],
   "source": [
    "from scipy.stats import norm\n",
    "norm.fit(model.resid)\n",
    "sns.distplot(model.resid, fit = norm)"
   ]
  },
  {
   "cell_type": "code",
   "execution_count": null,
   "metadata": {},
   "outputs": [],
   "source": []
  },
  {
   "cell_type": "code",
   "execution_count": 58,
   "metadata": {},
   "outputs": [
    {
     "data": {
      "text/plain": [
       "((array([-3.01884660e+00, -2.73920016e+00, -2.58212353e+00, -2.47082970e+00,\n",
       "         -2.38367879e+00, -2.31157505e+00, -2.24979960e+00, -2.19557711e+00,\n",
       "         -2.14713190e+00, -2.10325667e+00, -2.06309192e+00, -2.02600324e+00,\n",
       "         -1.99150853e+00, -1.95923249e+00, -1.92887709e+00, -1.90020152e+00,\n",
       "         -1.87300833e+00, -1.84713352e+00, -1.82243935e+00, -1.79880896e+00,\n",
       "         -1.77614232e+00, -1.75435312e+00, -1.73336635e+00, -1.71311638e+00,\n",
       "         -1.69354547e+00, -1.67460252e+00, -1.65624210e+00, -1.63842361e+00,\n",
       "         -1.62111063e+00, -1.60427036e+00, -1.58787314e+00, -1.57189207e+00,\n",
       "         -1.55630265e+00, -1.54108255e+00, -1.52621129e+00, -1.51167009e+00,\n",
       "         -1.49744169e+00, -1.48351014e+00, -1.46986072e+00, -1.45647977e+00,\n",
       "         -1.44335465e+00, -1.43047356e+00, -1.41782554e+00, -1.40540035e+00,\n",
       "         -1.39318842e+00, -1.38118080e+00, -1.36936908e+00, -1.35774539e+00,\n",
       "         -1.34630229e+00, -1.33503283e+00, -1.32393040e+00, -1.31298882e+00,\n",
       "         -1.30220220e+00, -1.29156501e+00, -1.28107198e+00, -1.27071813e+00,\n",
       "         -1.26049875e+00, -1.25040934e+00, -1.24044563e+00, -1.23060357e+00,\n",
       "         -1.22087929e+00, -1.21126911e+00, -1.20176952e+00, -1.19237715e+00,\n",
       "         -1.18308881e+00, -1.17390143e+00, -1.16481209e+00, -1.15581797e+00,\n",
       "         -1.14691639e+00, -1.13810478e+00, -1.12938065e+00, -1.12074165e+00,\n",
       "         -1.11218549e+00, -1.10370999e+00, -1.09531304e+00, -1.08699261e+00,\n",
       "         -1.07874677e+00, -1.07057363e+00, -1.06247138e+00, -1.05443829e+00,\n",
       "         -1.04647267e+00, -1.03857290e+00, -1.03073742e+00, -1.02296472e+00,\n",
       "         -1.01525333e+00, -1.00760185e+00, -1.00000891e+00, -9.92473187e-01,\n",
       "         -9.84993407e-01, -9.77568332e-01, -9.70196765e-01, -9.62877545e-01,\n",
       "         -9.55609548e-01, -9.48391682e-01, -9.41222890e-01, -9.34102145e-01,\n",
       "         -9.27028452e-01, -9.20000843e-01, -9.13018379e-01, -9.06080148e-01,\n",
       "         -8.99185263e-01, -8.92332862e-01, -8.85522107e-01, -8.78752182e-01,\n",
       "         -8.72022295e-01, -8.65331673e-01, -8.58679564e-01, -8.52065237e-01,\n",
       "         -8.45487979e-01, -8.38947096e-01, -8.32441910e-01, -8.25971761e-01,\n",
       "         -8.19536006e-01, -8.13134018e-01, -8.06765185e-01, -8.00428909e-01,\n",
       "         -7.94124606e-01, -7.87851709e-01, -7.81609661e-01, -7.75397920e-01,\n",
       "         -7.69215955e-01, -7.63063248e-01, -7.56939292e-01, -7.50843594e-01,\n",
       "         -7.44775668e-01, -7.38735041e-01, -7.32721251e-01, -7.26733844e-01,\n",
       "         -7.20772377e-01, -7.14836417e-01, -7.08925538e-01, -7.03039325e-01,\n",
       "         -6.97177370e-01, -6.91339275e-01, -6.85524648e-01, -6.79733107e-01,\n",
       "         -6.73964276e-01, -6.68217788e-01, -6.62493282e-01, -6.56790404e-01,\n",
       "         -6.51108806e-01, -6.45448150e-01, -6.39808101e-01, -6.34188331e-01,\n",
       "         -6.28588519e-01, -6.23008349e-01, -6.17447512e-01, -6.11905703e-01,\n",
       "         -6.06382623e-01, -6.00877979e-01, -5.95391482e-01, -5.89922849e-01,\n",
       "         -5.84471802e-01, -5.79038067e-01, -5.73621375e-01, -5.68221461e-01,\n",
       "         -5.62838065e-01, -5.57470932e-01, -5.52119809e-01, -5.46784450e-01,\n",
       "         -5.41464611e-01, -5.36160051e-01, -5.30870535e-01, -5.25595831e-01,\n",
       "         -5.20335711e-01, -5.15089948e-01, -5.09858321e-01, -5.04640612e-01,\n",
       "         -4.99436606e-01, -4.94246090e-01, -4.89068856e-01, -4.83904698e-01,\n",
       "         -4.78753412e-01, -4.73614800e-01, -4.68488663e-01, -4.63374808e-01,\n",
       "         -4.58273042e-01, -4.53183176e-01, -4.48105024e-01, -4.43038401e-01,\n",
       "         -4.37983126e-01, -4.32939019e-01, -4.27905904e-01, -4.22883605e-01,\n",
       "         -4.17871950e-01, -4.12870769e-01, -4.07879893e-01, -4.02899157e-01,\n",
       "         -3.97928395e-01, -3.92967447e-01, -3.88016151e-01, -3.83074349e-01,\n",
       "         -3.78141885e-01, -3.73218604e-01, -3.68304352e-01, -3.63398979e-01,\n",
       "         -3.58502335e-01, -3.53614271e-01, -3.48734642e-01, -3.43863303e-01,\n",
       "         -3.39000110e-01, -3.34144921e-01, -3.29297597e-01, -3.24457997e-01,\n",
       "         -3.19625985e-01, -3.14801424e-01, -3.09984180e-01, -3.05174118e-01,\n",
       "         -3.00371107e-01, -2.95575015e-01, -2.90785712e-01, -2.86003070e-01,\n",
       "         -2.81226962e-01, -2.76457259e-01, -2.71693838e-01, -2.66936574e-01,\n",
       "         -2.62185343e-01, -2.57440024e-01, -2.52700494e-01, -2.47966634e-01,\n",
       "         -2.43238325e-01, -2.38515447e-01, -2.33797884e-01, -2.29085518e-01,\n",
       "         -2.24378234e-01, -2.19675917e-01, -2.14978452e-01, -2.10285726e-01,\n",
       "         -2.05597626e-01, -2.00914041e-01, -1.96234859e-01, -1.91559969e-01,\n",
       "         -1.86889262e-01, -1.82222629e-01, -1.77559961e-01, -1.72901150e-01,\n",
       "         -1.68246088e-01, -1.63594670e-01, -1.58946788e-01, -1.54302338e-01,\n",
       "         -1.49661213e-01, -1.45023310e-01, -1.40388525e-01, -1.35756753e-01,\n",
       "         -1.31127892e-01, -1.26501838e-01, -1.21878491e-01, -1.17257747e-01,\n",
       "         -1.12639505e-01, -1.08023665e-01, -1.03410125e-01, -9.87987848e-02,\n",
       "         -9.41895447e-02, -8.95823049e-02, -8.49769657e-02, -8.03734282e-02,\n",
       "         -7.57715934e-02, -7.11713627e-02, -6.65726375e-02, -6.19753199e-02,\n",
       "         -5.73793118e-02, -5.27845154e-02, -4.81908331e-02, -4.35981675e-02,\n",
       "         -3.90064214e-02, -3.44154975e-02, -2.98252988e-02, -2.52357285e-02,\n",
       "         -2.06466898e-02, -1.60580857e-02, -1.14698198e-02, -6.88179530e-03,\n",
       "         -2.29391567e-03,  2.29391567e-03,  6.88179530e-03,  1.14698198e-02,\n",
       "          1.60580857e-02,  2.06466898e-02,  2.52357285e-02,  2.98252988e-02,\n",
       "          3.44154975e-02,  3.90064214e-02,  4.35981675e-02,  4.81908331e-02,\n",
       "          5.27845154e-02,  5.73793118e-02,  6.19753199e-02,  6.65726375e-02,\n",
       "          7.11713627e-02,  7.57715934e-02,  8.03734282e-02,  8.49769657e-02,\n",
       "          8.95823049e-02,  9.41895447e-02,  9.87987848e-02,  1.03410125e-01,\n",
       "          1.08023665e-01,  1.12639505e-01,  1.17257747e-01,  1.21878491e-01,\n",
       "          1.26501838e-01,  1.31127892e-01,  1.35756753e-01,  1.40388525e-01,\n",
       "          1.45023310e-01,  1.49661213e-01,  1.54302338e-01,  1.58946788e-01,\n",
       "          1.63594670e-01,  1.68246088e-01,  1.72901150e-01,  1.77559961e-01,\n",
       "          1.82222629e-01,  1.86889262e-01,  1.91559969e-01,  1.96234859e-01,\n",
       "          2.00914041e-01,  2.05597626e-01,  2.10285726e-01,  2.14978452e-01,\n",
       "          2.19675917e-01,  2.24378234e-01,  2.29085518e-01,  2.33797884e-01,\n",
       "          2.38515447e-01,  2.43238325e-01,  2.47966634e-01,  2.52700494e-01,\n",
       "          2.57440024e-01,  2.62185343e-01,  2.66936574e-01,  2.71693838e-01,\n",
       "          2.76457259e-01,  2.81226962e-01,  2.86003070e-01,  2.90785712e-01,\n",
       "          2.95575015e-01,  3.00371107e-01,  3.05174118e-01,  3.09984180e-01,\n",
       "          3.14801424e-01,  3.19625985e-01,  3.24457997e-01,  3.29297597e-01,\n",
       "          3.34144921e-01,  3.39000110e-01,  3.43863303e-01,  3.48734642e-01,\n",
       "          3.53614271e-01,  3.58502335e-01,  3.63398979e-01,  3.68304352e-01,\n",
       "          3.73218604e-01,  3.78141885e-01,  3.83074349e-01,  3.88016151e-01,\n",
       "          3.92967447e-01,  3.97928395e-01,  4.02899157e-01,  4.07879893e-01,\n",
       "          4.12870769e-01,  4.17871950e-01,  4.22883605e-01,  4.27905904e-01,\n",
       "          4.32939019e-01,  4.37983126e-01,  4.43038401e-01,  4.48105024e-01,\n",
       "          4.53183176e-01,  4.58273042e-01,  4.63374808e-01,  4.68488663e-01,\n",
       "          4.73614800e-01,  4.78753412e-01,  4.83904698e-01,  4.89068856e-01,\n",
       "          4.94246090e-01,  4.99436606e-01,  5.04640612e-01,  5.09858321e-01,\n",
       "          5.15089948e-01,  5.20335711e-01,  5.25595831e-01,  5.30870535e-01,\n",
       "          5.36160051e-01,  5.41464611e-01,  5.46784450e-01,  5.52119809e-01,\n",
       "          5.57470932e-01,  5.62838065e-01,  5.68221461e-01,  5.73621375e-01,\n",
       "          5.79038067e-01,  5.84471802e-01,  5.89922849e-01,  5.95391482e-01,\n",
       "          6.00877979e-01,  6.06382623e-01,  6.11905703e-01,  6.17447512e-01,\n",
       "          6.23008349e-01,  6.28588519e-01,  6.34188331e-01,  6.39808101e-01,\n",
       "          6.45448150e-01,  6.51108806e-01,  6.56790404e-01,  6.62493282e-01,\n",
       "          6.68217788e-01,  6.73964276e-01,  6.79733107e-01,  6.85524648e-01,\n",
       "          6.91339275e-01,  6.97177370e-01,  7.03039325e-01,  7.08925538e-01,\n",
       "          7.14836417e-01,  7.20772377e-01,  7.26733844e-01,  7.32721251e-01,\n",
       "          7.38735041e-01,  7.44775668e-01,  7.50843594e-01,  7.56939292e-01,\n",
       "          7.63063248e-01,  7.69215955e-01,  7.75397920e-01,  7.81609661e-01,\n",
       "          7.87851709e-01,  7.94124606e-01,  8.00428909e-01,  8.06765185e-01,\n",
       "          8.13134018e-01,  8.19536006e-01,  8.25971761e-01,  8.32441910e-01,\n",
       "          8.38947096e-01,  8.45487979e-01,  8.52065237e-01,  8.58679564e-01,\n",
       "          8.65331673e-01,  8.72022295e-01,  8.78752182e-01,  8.85522107e-01,\n",
       "          8.92332862e-01,  8.99185263e-01,  9.06080148e-01,  9.13018379e-01,\n",
       "          9.20000843e-01,  9.27028452e-01,  9.34102145e-01,  9.41222890e-01,\n",
       "          9.48391682e-01,  9.55609548e-01,  9.62877545e-01,  9.70196765e-01,\n",
       "          9.77568332e-01,  9.84993407e-01,  9.92473187e-01,  1.00000891e+00,\n",
       "          1.00760185e+00,  1.01525333e+00,  1.02296472e+00,  1.03073742e+00,\n",
       "          1.03857290e+00,  1.04647267e+00,  1.05443829e+00,  1.06247138e+00,\n",
       "          1.07057363e+00,  1.07874677e+00,  1.08699261e+00,  1.09531304e+00,\n",
       "          1.10370999e+00,  1.11218549e+00,  1.12074165e+00,  1.12938065e+00,\n",
       "          1.13810478e+00,  1.14691639e+00,  1.15581797e+00,  1.16481209e+00,\n",
       "          1.17390143e+00,  1.18308881e+00,  1.19237715e+00,  1.20176952e+00,\n",
       "          1.21126911e+00,  1.22087929e+00,  1.23060357e+00,  1.24044563e+00,\n",
       "          1.25040934e+00,  1.26049875e+00,  1.27071813e+00,  1.28107198e+00,\n",
       "          1.29156501e+00,  1.30220220e+00,  1.31298882e+00,  1.32393040e+00,\n",
       "          1.33503283e+00,  1.34630229e+00,  1.35774539e+00,  1.36936908e+00,\n",
       "          1.38118080e+00,  1.39318842e+00,  1.40540035e+00,  1.41782554e+00,\n",
       "          1.43047356e+00,  1.44335465e+00,  1.45647977e+00,  1.46986072e+00,\n",
       "          1.48351014e+00,  1.49744169e+00,  1.51167009e+00,  1.52621129e+00,\n",
       "          1.54108255e+00,  1.55630265e+00,  1.57189207e+00,  1.58787314e+00,\n",
       "          1.60427036e+00,  1.62111063e+00,  1.63842361e+00,  1.65624210e+00,\n",
       "          1.67460252e+00,  1.69354547e+00,  1.71311638e+00,  1.73336635e+00,\n",
       "          1.75435312e+00,  1.77614232e+00,  1.79880896e+00,  1.82243935e+00,\n",
       "          1.84713352e+00,  1.87300833e+00,  1.90020152e+00,  1.92887709e+00,\n",
       "          1.95923249e+00,  1.99150853e+00,  2.02600324e+00,  2.06309192e+00,\n",
       "          2.10325667e+00,  2.14713190e+00,  2.19557711e+00,  2.24979960e+00,\n",
       "          2.31157505e+00,  2.38367879e+00,  2.47082970e+00,  2.58212353e+00,\n",
       "          2.73920016e+00,  3.01884660e+00]),\n",
       "  array([-4.16025661e+04, -3.80261514e+04, -3.69912710e+04, -3.61983071e+04,\n",
       "         -3.60151555e+04, -3.32405783e+04, -3.22717305e+04, -3.11846235e+04,\n",
       "         -3.10175295e+04, -3.08984407e+04, -3.07514372e+04, -2.96067633e+04,\n",
       "         -2.84831755e+04, -2.74729250e+04, -2.73853136e+04, -2.71599971e+04,\n",
       "         -2.70812881e+04, -2.58898806e+04, -2.44302196e+04, -2.43602125e+04,\n",
       "         -2.42072916e+04, -2.41817141e+04, -2.40334401e+04, -2.38220729e+04,\n",
       "         -2.37881374e+04, -2.33704427e+04, -2.32587953e+04, -2.31584207e+04,\n",
       "         -2.26302865e+04, -2.25661502e+04, -2.21864485e+04, -2.20235169e+04,\n",
       "         -2.14297821e+04, -2.13672518e+04, -2.12424240e+04, -2.11312209e+04,\n",
       "         -2.10705107e+04, -2.08461466e+04, -2.05034515e+04, -2.04888559e+04,\n",
       "         -2.04551561e+04, -2.03274176e+04, -2.01031877e+04, -2.00213657e+04,\n",
       "         -1.99380752e+04, -1.94291416e+04, -1.88313769e+04, -1.85294251e+04,\n",
       "         -1.82676336e+04, -1.82355840e+04, -1.80630101e+04, -1.78313318e+04,\n",
       "         -1.75239557e+04, -1.73555751e+04, -1.73480522e+04, -1.73332863e+04,\n",
       "         -1.71971226e+04, -1.71407170e+04, -1.71350892e+04, -1.70260469e+04,\n",
       "         -1.68047372e+04, -1.67307277e+04, -1.64936549e+04, -1.64578901e+04,\n",
       "         -1.58322874e+04, -1.58069421e+04, -1.57316448e+04, -1.55877674e+04,\n",
       "         -1.53196429e+04, -1.52658678e+04, -1.46828400e+04, -1.46749187e+04,\n",
       "         -1.46623488e+04, -1.44847139e+04, -1.44491170e+04, -1.42526819e+04,\n",
       "         -1.40570092e+04, -1.39740041e+04, -1.39365678e+04, -1.39263109e+04,\n",
       "         -1.38620073e+04, -1.37314112e+04, -1.35741207e+04, -1.33982102e+04,\n",
       "         -1.33617414e+04, -1.32671653e+04, -1.29822940e+04, -1.29126373e+04,\n",
       "         -1.28931371e+04, -1.28674455e+04, -1.27964498e+04, -1.27001516e+04,\n",
       "         -1.25221290e+04, -1.24857620e+04, -1.24812923e+04, -1.24047197e+04,\n",
       "         -1.23773217e+04, -1.23555763e+04, -1.23052978e+04, -1.22918253e+04,\n",
       "         -1.22691275e+04, -1.22260085e+04, -1.19801750e+04, -1.19469105e+04,\n",
       "         -1.17067894e+04, -1.16174750e+04, -1.15892282e+04, -1.15196566e+04,\n",
       "         -1.12323724e+04, -1.09354592e+04, -1.08326697e+04, -1.07702395e+04,\n",
       "         -1.06206195e+04, -1.06075404e+04, -1.05783289e+04, -1.05466762e+04,\n",
       "         -1.04083318e+04, -1.03354592e+04, -1.03313779e+04, -1.02177502e+04,\n",
       "         -1.01625910e+04, -1.01480663e+04, -1.01437415e+04, -1.01150791e+04,\n",
       "         -1.00945779e+04, -1.00589238e+04, -9.84381122e+03, -9.84119278e+03,\n",
       "         -9.73164484e+03, -9.73081703e+03, -9.72024239e+03, -9.71775021e+03,\n",
       "         -9.66314023e+03, -9.59273233e+03, -9.51700369e+03, -9.24336493e+03,\n",
       "         -9.00824692e+03, -8.97607989e+03, -8.83521182e+03, -8.80366878e+03,\n",
       "         -8.79276792e+03, -8.74453749e+03, -8.72105835e+03, -8.60246323e+03,\n",
       "         -8.60021743e+03, -8.47797891e+03, -8.42779313e+03, -8.40005924e+03,\n",
       "         -8.39046649e+03, -8.37710903e+03, -8.37588467e+03, -8.27040400e+03,\n",
       "         -8.19629595e+03, -7.95816746e+03, -7.91795016e+03, -7.84864692e+03,\n",
       "         -7.77441631e+03, -7.68947031e+03, -7.67951192e+03, -7.63683079e+03,\n",
       "         -7.40785813e+03, -7.40420490e+03, -7.36032795e+03, -7.32725045e+03,\n",
       "         -7.18635951e+03, -7.18168031e+03, -7.12018824e+03, -7.08737166e+03,\n",
       "         -7.02132900e+03, -7.01959949e+03, -7.00196958e+03, -6.94417567e+03,\n",
       "         -6.93230404e+03, -6.79350624e+03, -6.71512159e+03, -6.68418677e+03,\n",
       "         -6.63706880e+03, -6.49404160e+03, -6.33756656e+03, -6.31428330e+03,\n",
       "         -6.27814020e+03, -6.26885861e+03, -6.25097064e+03, -6.25010306e+03,\n",
       "         -6.18896982e+03, -6.06826718e+03, -6.05230497e+03, -6.03207878e+03,\n",
       "         -5.82523371e+03, -5.80305894e+03, -5.79948278e+03, -5.73704890e+03,\n",
       "         -5.68476064e+03, -5.64873832e+03, -5.60728957e+03, -5.55215644e+03,\n",
       "         -5.42855001e+03, -5.35635544e+03, -5.32426830e+03, -5.21339262e+03,\n",
       "         -5.20603220e+03, -5.19821785e+03, -5.09696537e+03, -5.05012087e+03,\n",
       "         -4.94070397e+03, -4.76863285e+03, -4.73149810e+03, -4.65799161e+03,\n",
       "         -4.65310876e+03, -4.63426181e+03, -4.61432040e+03, -4.60099572e+03,\n",
       "         -4.40611084e+03, -4.31322115e+03, -4.30694213e+03, -4.28813736e+03,\n",
       "         -4.23103296e+03, -4.19871938e+03, -4.13577128e+03, -4.10267395e+03,\n",
       "         -4.05913185e+03, -4.01506850e+03, -3.98487290e+03, -3.97202713e+03,\n",
       "         -3.96139172e+03, -3.80520608e+03, -3.76036995e+03, -3.69871938e+03,\n",
       "         -3.65075799e+03, -3.57307185e+03, -3.55336808e+03, -3.52835058e+03,\n",
       "         -3.50522863e+03, -3.48981126e+03, -3.43164484e+03, -3.38620077e+03,\n",
       "         -3.33122546e+03, -3.32334440e+03, -3.05662663e+03, -2.99590962e+03,\n",
       "         -2.86938178e+03, -2.79890728e+03, -2.79699350e+03, -2.74951999e+03,\n",
       "         -2.74166839e+03, -2.46799563e+03, -2.44602627e+03, -2.24449061e+03,\n",
       "         -2.22110085e+03, -2.10267395e+03, -2.05803878e+03, -2.05488443e+03,\n",
       "         -2.01421105e+03, -1.93818439e+03, -1.84322811e+03, -1.80694213e+03,\n",
       "         -1.78579355e+03, -1.75902322e+03, -1.75043373e+03, -1.70760429e+03,\n",
       "         -1.64083345e+03, -1.62780077e+03, -1.57957670e+03, -1.56413168e+03,\n",
       "         -1.50413929e+03, -1.48504253e+03, -1.35624351e+03, -1.31490818e+03,\n",
       "         -1.28575336e+03, -1.26960597e+03, -1.11753388e+03, -1.03805256e+03,\n",
       "         -9.74167875e+02, -9.50413608e+02, -9.08048548e+02, -6.52278794e+02,\n",
       "         -6.48014178e+02, -6.18553285e+02, -6.05509626e+02, -5.18471307e+02,\n",
       "         -4.49149824e+02, -2.38641745e+02, -2.26607818e+02, -1.94758225e+02,\n",
       "         -1.30497616e+02, -5.63420527e+01,  1.16328892e+02,  1.30018378e+02,\n",
       "          1.31753840e+02,  1.38416882e+02,  1.54696323e+02,  3.33100957e+02,\n",
       "          3.50197634e+02,  4.61821215e+02,  5.03541710e+02,  5.34028644e+02,\n",
       "          5.67971440e+02,  6.24580289e+02,  6.48218713e+02,  7.08440339e+02,\n",
       "          7.33312953e+02,  8.02124042e+02,  8.46725992e+02,  8.89515675e+02,\n",
       "          9.07208575e+02,  1.01712230e+03,  1.02127429e+03,  1.03890712e+03,\n",
       "          1.04077639e+03,  1.04103834e+03,  1.17416844e+03,  1.22946158e+03,\n",
       "          1.25639529e+03,  1.32327705e+03,  1.33382179e+03,  1.44663192e+03,\n",
       "          1.56179820e+03,  1.60172866e+03,  1.70199865e+03,  1.72386529e+03,\n",
       "          1.74862728e+03,  1.79371727e+03,  1.83294372e+03,  1.93103735e+03,\n",
       "          1.98859184e+03,  2.00794245e+03,  2.02045534e+03,  2.05728012e+03,\n",
       "          2.31763825e+03,  2.32187751e+03,  2.49124431e+03,  2.53835293e+03,\n",
       "          2.79662618e+03,  2.87436145e+03,  2.96072149e+03,  2.96672267e+03,\n",
       "          2.96676515e+03,  3.00951465e+03,  3.10437546e+03,  3.18622001e+03,\n",
       "          3.19173839e+03,  3.20260399e+03,  3.20434425e+03,  3.20648038e+03,\n",
       "          3.25960857e+03,  3.32483087e+03,  3.35272157e+03,  3.53761604e+03,\n",
       "          3.59581311e+03,  3.69765143e+03,  3.73935663e+03,  3.81696361e+03,\n",
       "          3.84878695e+03,  3.86259139e+03,  4.08827672e+03,  4.09921740e+03,\n",
       "          4.18270059e+03,  4.26215130e+03,  4.34912572e+03,  4.36107437e+03,\n",
       "          4.48629778e+03,  4.53589417e+03,  4.55489716e+03,  4.58968740e+03,\n",
       "          4.65744568e+03,  4.67332502e+03,  4.74047346e+03,  4.77901108e+03,\n",
       "          4.82854104e+03,  4.83773623e+03,  4.86411678e+03,  4.99047332e+03,\n",
       "          5.01232711e+03,  5.09596473e+03,  5.18040051e+03,  5.23842209e+03,\n",
       "          5.33773623e+03,  5.48726397e+03,  5.62564275e+03,  5.65303416e+03,\n",
       "          5.75977510e+03,  5.78524584e+03,  5.81592544e+03,  5.90895629e+03,\n",
       "          5.92473043e+03,  5.93393141e+03,  5.96183832e+03,  5.99919277e+03,\n",
       "          6.03420763e+03,  6.09646804e+03,  6.13323905e+03,  6.21505866e+03,\n",
       "          6.28512476e+03,  6.44939066e+03,  6.51357202e+03,  6.51881801e+03,\n",
       "          6.55455089e+03,  6.55744568e+03,  6.63680542e+03,  6.70024901e+03,\n",
       "          6.70939258e+03,  6.80128062e+03,  6.94838241e+03,  7.02266967e+03,\n",
       "          7.06338233e+03,  7.19414131e+03,  7.29623721e+03,  7.34066166e+03,\n",
       "          7.38478900e+03,  7.44057338e+03,  7.46672267e+03,  7.50334385e+03,\n",
       "          7.57954449e+03,  7.59579510e+03,  7.67850110e+03,  7.70641982e+03,\n",
       "          7.80979941e+03,  7.81631655e+03,  7.88430841e+03,  8.16808175e+03,\n",
       "          8.19489042e+03,  8.40121652e+03,  8.51293695e+03,  8.76296156e+03,\n",
       "          8.81002453e+03,  9.18557446e+03,  9.34188731e+03,  9.34188731e+03,\n",
       "          9.62271260e+03,  9.80566062e+03,  1.00110251e+04,  1.00514536e+04,\n",
       "          1.00727809e+04,  1.00957951e+04,  1.01196210e+04,  1.01568358e+04,\n",
       "          1.01733250e+04,  1.01883050e+04,  1.02683552e+04,  1.02923115e+04,\n",
       "          1.03150190e+04,  1.03377362e+04,  1.03779671e+04,  1.06214869e+04,\n",
       "          1.06574457e+04,  1.06636657e+04,  1.06814018e+04,  1.07355340e+04,\n",
       "          1.08126095e+04,  1.10610620e+04,  1.11832886e+04,  1.14441918e+04,\n",
       "          1.16644139e+04,  1.17323246e+04,  1.17396300e+04,  1.18171600e+04,\n",
       "          1.19133308e+04,  1.19683428e+04,  1.19927307e+04,  1.21549241e+04,\n",
       "          1.22429214e+04,  1.25136107e+04,  1.28190100e+04,  1.32396300e+04,\n",
       "          1.32629616e+04,  1.32790606e+04,  1.33406617e+04,  1.33627724e+04,\n",
       "          1.35076096e+04,  1.35320690e+04,  1.35397047e+04,  1.40380301e+04,\n",
       "          1.42188228e+04,  1.45786836e+04,  1.47352732e+04,  1.47455398e+04,\n",
       "          1.48548030e+04,  1.49536470e+04,  1.50399903e+04,  1.50955217e+04,\n",
       "          1.55883363e+04,  1.56382586e+04,  1.56979853e+04,  1.61340159e+04,\n",
       "          1.63344596e+04,  1.65376636e+04,  1.66355340e+04,  1.68218569e+04,\n",
       "          1.68639548e+04,  1.70932342e+04,  1.71679462e+04,  1.72161613e+04,\n",
       "          1.72474323e+04,  1.80205045e+04,  1.81149848e+04,  1.82312685e+04,\n",
       "          1.93617483e+04,  1.96715667e+04,  1.97049118e+04,  1.97191137e+04,\n",
       "          1.99477430e+04,  1.99854165e+04,  2.00471673e+04,  2.01962169e+04,\n",
       "          2.06189464e+04,  2.09955936e+04,  2.14218472e+04,  2.15695627e+04,\n",
       "          2.17608458e+04,  2.19545105e+04,  2.23773742e+04,  2.28754052e+04,\n",
       "          2.29551875e+04,  2.31349935e+04,  2.39286595e+04,  2.42921743e+04,\n",
       "          2.43106979e+04,  2.43645162e+04,  2.46909344e+04,  2.60158009e+04,\n",
       "          2.61187961e+04,  2.64706863e+04,  2.71532891e+04,  2.74280820e+04,\n",
       "          2.84376636e+04,  2.91712248e+04,  2.92120392e+04,  2.99864740e+04,\n",
       "          3.09677330e+04,  3.15194911e+04,  3.16482902e+04,  3.31858256e+04,\n",
       "          3.37725582e+04,  3.48338254e+04,  3.58879643e+04,  3.58941386e+04,\n",
       "          3.94898312e+04,  4.46522270e+04,  4.70152080e+04,  4.78861754e+04,\n",
       "          5.59160754e+04,  5.67125944e+04,  5.89235832e+04,  6.53279888e+04,\n",
       "          6.97711109e+04,  7.55732949e+04])),\n",
       " (15004.703608553042, 1.371755047285703e-11, 0.9763087484347244))"
      ]
     },
     "execution_count": 58,
     "metadata": {},
     "output_type": "execute_result"
    }
   ],
   "source": [
    "import scipy.stats as stats\n",
    "stats.probplot(model.resid)\n"
   ]
  },
  {
   "cell_type": "code",
   "execution_count": 59,
   "metadata": {},
   "outputs": [
    {
     "data": {
      "text/plain": [
       "(269.30481125198565, 0.0)"
      ]
     },
     "execution_count": 59,
     "metadata": {},
     "output_type": "execute_result"
    }
   ],
   "source": [
    "## H0 Data is normal\n",
    "## H1 DAta is not normal\n",
    "\n",
    "stats.jarque_bera(model.resid)"
   ]
  },
  {
   "cell_type": "markdown",
   "metadata": {},
   "source": [
    "JB test indicates that residual are not normal"
   ]
  },
  {
   "cell_type": "code",
   "execution_count": 60,
   "metadata": {},
   "outputs": [],
   "source": [
    "ly = np.log(y)"
   ]
  },
  {
   "cell_type": "code",
   "execution_count": 62,
   "metadata": {},
   "outputs": [
    {
     "data": {
      "text/html": [
       "<table class=\"simpletable\">\n",
       "<caption>OLS Regression Results</caption>\n",
       "<tr>\n",
       "  <th>Dep. Variable:</th>          <td>price</td>      <th>  R-squared:         </th> <td>   0.673</td> \n",
       "</tr>\n",
       "<tr>\n",
       "  <th>Model:</th>                   <td>OLS</td>       <th>  Adj. R-squared:    </th> <td>   0.667</td> \n",
       "</tr>\n",
       "<tr>\n",
       "  <th>Method:</th>             <td>Least Squares</td>  <th>  F-statistic:       </th> <td>   110.2</td> \n",
       "</tr>\n",
       "<tr>\n",
       "  <th>Date:</th>             <td>Thu, 12 Mar 2020</td> <th>  Prob (F-statistic):</th> <td>5.13e-123</td>\n",
       "</tr>\n",
       "<tr>\n",
       "  <th>Time:</th>                 <td>15:02:28</td>     <th>  Log-Likelihood:    </th> <td>  71.076</td> \n",
       "</tr>\n",
       "<tr>\n",
       "  <th>No. Observations:</th>      <td>   546</td>      <th>  AIC:               </th> <td>  -120.2</td> \n",
       "</tr>\n",
       "<tr>\n",
       "  <th>Df Residuals:</th>          <td>   535</td>      <th>  BIC:               </th> <td>  -72.82</td> \n",
       "</tr>\n",
       "<tr>\n",
       "  <th>Df Model:</th>              <td>    10</td>      <th>                     </th>     <td> </td>    \n",
       "</tr>\n",
       "<tr>\n",
       "  <th>Covariance Type:</th>      <td>nonrobust</td>    <th>                     </th>     <td> </td>    \n",
       "</tr>\n",
       "</table>\n",
       "<table class=\"simpletable\">\n",
       "<tr>\n",
       "        <td></td>          <th>coef</th>     <th>std err</th>      <th>t</th>      <th>P>|t|</th>  <th>[0.025</th>    <th>0.975]</th>  \n",
       "</tr>\n",
       "<tr>\n",
       "  <th>const</th>        <td>   10.0913</td> <td>    0.038</td> <td>  264.303</td> <td> 0.000</td> <td>   10.016</td> <td>   10.166</td>\n",
       "</tr>\n",
       "<tr>\n",
       "  <th>lotsize</th>      <td> 5.149e-05</td> <td> 4.86e-06</td> <td>   10.598</td> <td> 0.000</td> <td> 4.19e-05</td> <td>  6.1e-05</td>\n",
       "</tr>\n",
       "<tr>\n",
       "  <th>bathrms</th>      <td>    0.1787</td> <td>    0.020</td> <td>    8.848</td> <td> 0.000</td> <td>    0.139</td> <td>    0.218</td>\n",
       "</tr>\n",
       "<tr>\n",
       "  <th>stories</th>      <td>    0.1029</td> <td>    0.012</td> <td>    8.542</td> <td> 0.000</td> <td>    0.079</td> <td>    0.127</td>\n",
       "</tr>\n",
       "<tr>\n",
       "  <th>garagepl</th>     <td>    0.0528</td> <td>    0.012</td> <td>    4.528</td> <td> 0.000</td> <td>    0.030</td> <td>    0.076</td>\n",
       "</tr>\n",
       "<tr>\n",
       "  <th>driveway_yes</th> <td>    0.1227</td> <td>    0.028</td> <td>    4.343</td> <td> 0.000</td> <td>    0.067</td> <td>    0.178</td>\n",
       "</tr>\n",
       "<tr>\n",
       "  <th>recroom_yes</th>  <td>    0.0722</td> <td>    0.026</td> <td>    2.732</td> <td> 0.007</td> <td>    0.020</td> <td>    0.124</td>\n",
       "</tr>\n",
       "<tr>\n",
       "  <th>fullbase_yes</th> <td>    0.1067</td> <td>    0.022</td> <td>    4.879</td> <td> 0.000</td> <td>    0.064</td> <td>    0.150</td>\n",
       "</tr>\n",
       "<tr>\n",
       "  <th>gashw_yes</th>    <td>    0.1805</td> <td>    0.045</td> <td>    4.033</td> <td> 0.000</td> <td>    0.093</td> <td>    0.268</td>\n",
       "</tr>\n",
       "<tr>\n",
       "  <th>airco_yes</th>    <td>    0.1775</td> <td>    0.022</td> <td>    8.205</td> <td> 0.000</td> <td>    0.135</td> <td>    0.220</td>\n",
       "</tr>\n",
       "<tr>\n",
       "  <th>prefarea_yes</th> <td>    0.1283</td> <td>    0.023</td> <td>    5.524</td> <td> 0.000</td> <td>    0.083</td> <td>    0.174</td>\n",
       "</tr>\n",
       "</table>\n",
       "<table class=\"simpletable\">\n",
       "<tr>\n",
       "  <th>Omnibus:</th>       <td> 7.058</td> <th>  Durbin-Watson:     </th> <td>   1.962</td>\n",
       "</tr>\n",
       "<tr>\n",
       "  <th>Prob(Omnibus):</th> <td> 0.029</td> <th>  Jarque-Bera (JB):  </th> <td>   8.326</td>\n",
       "</tr>\n",
       "<tr>\n",
       "  <th>Skew:</th>          <td>-0.160</td> <th>  Prob(JB):          </th> <td>  0.0156</td>\n",
       "</tr>\n",
       "<tr>\n",
       "  <th>Kurtosis:</th>      <td> 3.514</td> <th>  Cond. No.          </th> <td>2.74e+04</td>\n",
       "</tr>\n",
       "</table><br/><br/>Warnings:<br/>[1] Standard Errors assume that the covariance matrix of the errors is correctly specified.<br/>[2] The condition number is large, 2.74e+04. This might indicate that there are<br/>strong multicollinearity or other numerical problems."
      ],
      "text/plain": [
       "<class 'statsmodels.iolib.summary.Summary'>\n",
       "\"\"\"\n",
       "                            OLS Regression Results                            \n",
       "==============================================================================\n",
       "Dep. Variable:                  price   R-squared:                       0.673\n",
       "Model:                            OLS   Adj. R-squared:                  0.667\n",
       "Method:                 Least Squares   F-statistic:                     110.2\n",
       "Date:                Thu, 12 Mar 2020   Prob (F-statistic):          5.13e-123\n",
       "Time:                        15:02:28   Log-Likelihood:                 71.076\n",
       "No. Observations:                 546   AIC:                            -120.2\n",
       "Df Residuals:                     535   BIC:                            -72.82\n",
       "Df Model:                          10                                         \n",
       "Covariance Type:            nonrobust                                         \n",
       "================================================================================\n",
       "                   coef    std err          t      P>|t|      [0.025      0.975]\n",
       "--------------------------------------------------------------------------------\n",
       "const           10.0913      0.038    264.303      0.000      10.016      10.166\n",
       "lotsize       5.149e-05   4.86e-06     10.598      0.000    4.19e-05     6.1e-05\n",
       "bathrms          0.1787      0.020      8.848      0.000       0.139       0.218\n",
       "stories          0.1029      0.012      8.542      0.000       0.079       0.127\n",
       "garagepl         0.0528      0.012      4.528      0.000       0.030       0.076\n",
       "driveway_yes     0.1227      0.028      4.343      0.000       0.067       0.178\n",
       "recroom_yes      0.0722      0.026      2.732      0.007       0.020       0.124\n",
       "fullbase_yes     0.1067      0.022      4.879      0.000       0.064       0.150\n",
       "gashw_yes        0.1805      0.045      4.033      0.000       0.093       0.268\n",
       "airco_yes        0.1775      0.022      8.205      0.000       0.135       0.220\n",
       "prefarea_yes     0.1283      0.023      5.524      0.000       0.083       0.174\n",
       "==============================================================================\n",
       "Omnibus:                        7.058   Durbin-Watson:                   1.962\n",
       "Prob(Omnibus):                  0.029   Jarque-Bera (JB):                8.326\n",
       "Skew:                          -0.160   Prob(JB):                       0.0156\n",
       "Kurtosis:                       3.514   Cond. No.                     2.74e+04\n",
       "==============================================================================\n",
       "\n",
       "Warnings:\n",
       "[1] Standard Errors assume that the covariance matrix of the errors is correctly specified.\n",
       "[2] The condition number is large, 2.74e+04. This might indicate that there are\n",
       "strong multicollinearity or other numerical problems.\n",
       "\"\"\""
      ]
     },
     "execution_count": 62,
     "metadata": {},
     "output_type": "execute_result"
    }
   ],
   "source": [
    "model = sm.OLS(ly, Xc).fit()\n",
    "model.summary()"
   ]
  },
  {
   "cell_type": "code",
   "execution_count": 63,
   "metadata": {},
   "outputs": [
    {
     "data": {
      "text/plain": [
       "(8.325936602162214, 0.015561298678578805)"
      ]
     },
     "execution_count": 63,
     "metadata": {},
     "output_type": "execute_result"
    }
   ],
   "source": [
    "## H0 Data is normal\n",
    "## H1 DAta is not normal\n",
    "\n",
    "stats.jarque_bera(model.resid)"
   ]
  },
  {
   "cell_type": "markdown",
   "metadata": {},
   "source": [
    "### Test Homoscedasticity"
   ]
  },
  {
   "cell_type": "code",
   "execution_count": 64,
   "metadata": {},
   "outputs": [],
   "source": [
    "y_pred = model.predict(Xc)"
   ]
  },
  {
   "cell_type": "code",
   "execution_count": 65,
   "metadata": {},
   "outputs": [
    {
     "data": {
      "text/plain": [
       "<matplotlib.axes._subplots.AxesSubplot at 0x184edc7f988>"
      ]
     },
     "execution_count": 65,
     "metadata": {},
     "output_type": "execute_result"
    },
    {
     "data": {
      "image/png": "[encoded data removed]",
      "text/plain": [
       "<Figure size 432x288 with 1 Axes>"
      ]
     },
     "metadata": {
      "needs_background": "light"
     },
     "output_type": "display_data"
    }
   ],
   "source": [
    "sns.regplot(x = y_pred,  y = model.resid, lowess = True, line_kws = {'color': 'red'})"
   ]
  },
  {
   "cell_type": "code",
   "execution_count": 66,
   "metadata": {},
   "outputs": [
    {
     "data": {
      "text/plain": [
       "(0.8284844177542069, 0.9357727109130592, 'increasing')"
      ]
     },
     "execution_count": 66,
     "metadata": {},
     "output_type": "execute_result"
    }
   ],
   "source": [
    "import statsmodels.stats.api as sms\n",
    "\n",
    "## H0: residual Variance is constant\n",
    "## H1: residual variance is not constant\n",
    "\n",
    "test = sms.het_goldfeldquandt(y = model.resid, x = Xc)\n",
    "test\n"
   ]
  },
  {
   "cell_type": "markdown",
   "metadata": {},
   "source": [
    "Probability value suggests that residual variance is constant"
   ]
  },
  {
   "cell_type": "markdown",
   "metadata": {},
   "source": [
    "### Test for Autocorrelation"
   ]
  },
  {
   "cell_type": "code",
   "execution_count": 68,
   "metadata": {},
   "outputs": [
    {
     "name": "stderr",
     "output_type": "stream",
     "text": [
      "C:\\Users\\Loki\\Anaconda3\\lib\\site-packages\\ipykernel_launcher.py:3: UserWarning: Matplotlib is currently using module://ipykernel.pylab.backend_inline, which is a non-GUI backend, so cannot show the figure.\n",
      "  This is separate from the ipykernel package so we can avoid doing imports until\n"
     ]
    },
    {
     "data": {
      "image/png": "[encoded data removed]",
      "text/plain": [
       "<Figure size 432x288 with 1 Axes>"
      ]
     },
     "metadata": {
      "needs_background": "light"
     },
     "output_type": "display_data"
    }
   ],
   "source": [
    "import statsmodels.tsa.api as smt\n",
    "acf = smt.graphics.plot_acf(model.resid, lags = 30)\n",
    "acf.show()"
   ]
  },
  {
   "cell_type": "markdown",
   "metadata": {},
   "source": [
    "DW = 1.96 indicates that there is no autocorrelation"
   ]
  },
  {
   "cell_type": "markdown",
   "metadata": {},
   "source": [
    "### Test of Linearity"
   ]
  },
  {
   "cell_type": "code",
   "execution_count": 73,
   "metadata": {},
   "outputs": [
    {
     "data": {
      "image/png": "[encoded data removed]",
      "text/plain": [
       "<Figure size 432x288 with 1 Axes>"
      ]
     },
     "metadata": {
      "needs_background": "light"
     },
     "output_type": "display_data"
    }
   ],
   "source": [
    "sns.regplot(x = y_pred, y = ly, lowess = True, line_kws = {'color' : 'red'})\n",
    "plt.show()"
   ]
  },
  {
   "cell_type": "code",
   "execution_count": 74,
   "metadata": {},
   "outputs": [],
   "source": [
    "import statsmodels.api as sm\n"
   ]
  },
  {
   "cell_type": "code",
   "execution_count": 75,
   "metadata": {},
   "outputs": [
    {
     "data": {
      "text/plain": [
       "(1.1445347285612018, 0.13545993609138263)"
      ]
     },
     "execution_count": 75,
     "metadata": {},
     "output_type": "execute_result"
    }
   ],
   "source": [
    "sm.stats.diagnostic.linear_rainbow(res = model)"
   ]
  },
  {
   "cell_type": "code",
   "execution_count": 76,
   "metadata": {},
   "outputs": [],
   "source": [
    "### H0 residuals exhibit linearity\n",
    "### H1 residuals exhibit non-linearity\n",
    "\n",
    "# Null hypothesis accepted and it's concluded that residuals are linear."
   ]
  },
  {
   "cell_type": "code",
   "execution_count": 80,
   "metadata": {},
   "outputs": [
    {
     "data": {
      "image/png": "[encoded data removed]",
      "text/plain": [
       "<Figure size 432x288 with 1 Axes>"
      ]
     },
     "metadata": {
      "needs_background": "light"
     },
     "output_type": "display_data"
    }
   ],
   "source": [
    "plt.scatter(ly, y_pred)\n",
    "plt.plot(ly, ly, 'r')\n",
    "plt.show()"
   ]
  },
  {
   "cell_type": "code",
   "execution_count": null,
   "metadata": {},
   "outputs": [],
   "source": []
  }
 ],
 "metadata": {
  "kernelspec": {
   "display_name": "Python 3",
   "language": "python",
   "name": "python3"
  },
  "language_info": {
   "codemirror_mode": {
    "name": "ipython",
    "version": 3
   },
   "file_extension": ".py",
   "mimetype": "text/x-python",
   "name": "python",
   "nbconvert_exporter": "python",
   "pygments_lexer": "ipython3",
   "version": "3.7.4"
  }
 },
 "nbformat": 4,
 "nbformat_minor": 2
}
