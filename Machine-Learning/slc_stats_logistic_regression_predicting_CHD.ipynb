{
 "cells": [
  {
   "cell_type": "code",
   "execution_count": null,
   "metadata": {
    "id": "IIJuCmYhbxdW",
    "outputId": "be5eb8cf-8ad6-436a-f3dd-001b29e0baf3"
   },
   "outputs": [
    {
     "name": "stderr",
     "output_type": "stream",
     "text": [
      "C:\\Users\\maghw\\Anaconda3\\lib\\site-packages\\sklearn\\externals\\six.py:31: FutureWarning: The module is deprecated in version 0.21 and will be removed in version 0.23 since we've dropped support for Python 2.7. Please rely on the official version of six (https://pypi.org/project/six/).\n",
      "  \"(https://pypi.org/project/six/).\", FutureWarning)\n"
     ]
    }
   ],
   "source": [
    "from IPython.display import Image\n",
    "from sklearn.externals.six import StringIO\n",
    "from sklearn.tree import export_graphviz"
   ]
  },
  {
   "cell_type": "code",
   "execution_count": null,
   "metadata": {
    "id": "uwRZhaP7bxdg"
   },
   "outputs": [],
   "source": [
    "#pip install pydotplus"
   ]
  },
  {
   "cell_type": "code",
   "execution_count": null,
   "metadata": {
    "id": "wrAYflQCbxdl"
   },
   "outputs": [],
   "source": [
    "#pip install imblearn\n"
   ]
  },
  {
   "cell_type": "code",
   "execution_count": null,
   "metadata": {
    "id": "9WCvfpk3bxdr"
   },
   "outputs": [],
   "source": [
    "#pip install lightgbm"
   ]
  },
  {
   "cell_type": "code",
   "execution_count": null,
   "metadata": {
    "id": "7MOLuTgjbxdx"
   },
   "outputs": [],
   "source": [
    "#pip install hyperopt"
   ]
  },
  {
   "cell_type": "code",
   "execution_count": null,
   "metadata": {
    "id": "InJ2rCDMbxd3"
   },
   "outputs": [],
   "source": [
    "import pandas as pd\n",
    "import matplotlib.pyplot as plt\n",
    "import seaborn as sns\n",
    "import numpy as np"
   ]
  },
  {
   "cell_type": "code",
   "execution_count": null,
   "metadata": {
    "id": "h9BbY_vwbxd8",
    "outputId": "65ec4f1f-0adb-4650-fcbf-fa3083490cbd"
   },
   "outputs": [
    {
     "data": {
      "text/html": [
       "<div>\n",
       "<style scoped>\n",
       "    .dataframe tbody tr th:only-of-type {\n",
       "        vertical-align: middle;\n",
       "    }\n",
       "\n",
       "    .dataframe tbody tr th {\n",
       "        vertical-align: top;\n",
       "    }\n",
       "\n",
       "    .dataframe thead th {\n",
       "        text-align: right;\n",
       "    }\n",
       "</style>\n",
       "<table border=\"1\" class=\"dataframe\">\n",
       "  <thead>\n",
       "    <tr style=\"text-align: right;\">\n",
       "      <th></th>\n",
       "      <th>male</th>\n",
       "      <th>age</th>\n",
       "      <th>education</th>\n",
       "      <th>currentSmoker</th>\n",
       "      <th>cigsPerDay</th>\n",
       "      <th>BPMeds</th>\n",
       "      <th>prevalentStroke</th>\n",
       "      <th>prevalentHyp</th>\n",
       "      <th>diabetes</th>\n",
       "      <th>totChol</th>\n",
       "      <th>sysBP</th>\n",
       "      <th>diaBP</th>\n",
       "      <th>BMI</th>\n",
       "      <th>heartRate</th>\n",
       "      <th>glucose</th>\n",
       "      <th>TenYearCHD</th>\n",
       "    </tr>\n",
       "  </thead>\n",
       "  <tbody>\n",
       "    <tr>\n",
       "      <td>3546</td>\n",
       "      <td>0</td>\n",
       "      <td>54</td>\n",
       "      <td>1.0</td>\n",
       "      <td>0</td>\n",
       "      <td>0.0</td>\n",
       "      <td>0.0</td>\n",
       "      <td>0</td>\n",
       "      <td>0</td>\n",
       "      <td>0</td>\n",
       "      <td>241.0</td>\n",
       "      <td>106.0</td>\n",
       "      <td>77.0</td>\n",
       "      <td>27.64</td>\n",
       "      <td>78.0</td>\n",
       "      <td>74.0</td>\n",
       "      <td>0</td>\n",
       "    </tr>\n",
       "    <tr>\n",
       "      <td>1127</td>\n",
       "      <td>0</td>\n",
       "      <td>42</td>\n",
       "      <td>3.0</td>\n",
       "      <td>1</td>\n",
       "      <td>10.0</td>\n",
       "      <td>0.0</td>\n",
       "      <td>0</td>\n",
       "      <td>0</td>\n",
       "      <td>0</td>\n",
       "      <td>253.0</td>\n",
       "      <td>109.0</td>\n",
       "      <td>74.0</td>\n",
       "      <td>24.38</td>\n",
       "      <td>88.0</td>\n",
       "      <td>60.0</td>\n",
       "      <td>0</td>\n",
       "    </tr>\n",
       "    <tr>\n",
       "      <td>3088</td>\n",
       "      <td>0</td>\n",
       "      <td>58</td>\n",
       "      <td>1.0</td>\n",
       "      <td>0</td>\n",
       "      <td>0.0</td>\n",
       "      <td>1.0</td>\n",
       "      <td>1</td>\n",
       "      <td>1</td>\n",
       "      <td>0</td>\n",
       "      <td>274.0</td>\n",
       "      <td>159.0</td>\n",
       "      <td>90.0</td>\n",
       "      <td>28.40</td>\n",
       "      <td>72.0</td>\n",
       "      <td>81.0</td>\n",
       "      <td>0</td>\n",
       "    </tr>\n",
       "    <tr>\n",
       "      <td>437</td>\n",
       "      <td>1</td>\n",
       "      <td>45</td>\n",
       "      <td>1.0</td>\n",
       "      <td>1</td>\n",
       "      <td>30.0</td>\n",
       "      <td>0.0</td>\n",
       "      <td>0</td>\n",
       "      <td>0</td>\n",
       "      <td>0</td>\n",
       "      <td>240.0</td>\n",
       "      <td>141.0</td>\n",
       "      <td>89.0</td>\n",
       "      <td>25.01</td>\n",
       "      <td>95.0</td>\n",
       "      <td>76.0</td>\n",
       "      <td>0</td>\n",
       "    </tr>\n",
       "    <tr>\n",
       "      <td>3188</td>\n",
       "      <td>1</td>\n",
       "      <td>63</td>\n",
       "      <td>1.0</td>\n",
       "      <td>0</td>\n",
       "      <td>0.0</td>\n",
       "      <td>0.0</td>\n",
       "      <td>0</td>\n",
       "      <td>1</td>\n",
       "      <td>0</td>\n",
       "      <td>190.0</td>\n",
       "      <td>148.0</td>\n",
       "      <td>90.0</td>\n",
       "      <td>27.13</td>\n",
       "      <td>72.0</td>\n",
       "      <td>86.0</td>\n",
       "      <td>0</td>\n",
       "    </tr>\n",
       "  </tbody>\n",
       "</table>\n",
       "</div>"
      ],
      "text/plain": [
       "      male  age  education  currentSmoker  cigsPerDay  BPMeds  \\\n",
       "3546     0   54        1.0              0         0.0     0.0   \n",
       "1127     0   42        3.0              1        10.0     0.0   \n",
       "3088     0   58        1.0              0         0.0     1.0   \n",
       "437      1   45        1.0              1        30.0     0.0   \n",
       "3188     1   63        1.0              0         0.0     0.0   \n",
       "\n",
       "      prevalentStroke  prevalentHyp  diabetes  totChol  sysBP  diaBP    BMI  \\\n",
       "3546                0             0         0    241.0  106.0   77.0  27.64   \n",
       "1127                0             0         0    253.0  109.0   74.0  24.38   \n",
       "3088                1             1         0    274.0  159.0   90.0  28.40   \n",
       "437                 0             0         0    240.0  141.0   89.0  25.01   \n",
       "3188                0             1         0    190.0  148.0   90.0  27.13   \n",
       "\n",
       "      heartRate  glucose  TenYearCHD  \n",
       "3546       78.0     74.0           0  \n",
       "1127       88.0     60.0           0  \n",
       "3088       72.0     81.0           0  \n",
       "437        95.0     76.0           0  \n",
       "3188       72.0     86.0           0  "
      ]
     },
     "execution_count": 8,
     "metadata": {
      "tags": []
     },
     "output_type": "execute_result"
    }
   ],
   "source": [
    "df=pd.read_csv('C:\\\\Users\\\\maghw\\\\Downloads\\\\US_Heart_Patients.csv')\n",
    "df=df.sample(frac=1, random_state=3)    # to remove sorting of values in columns\n",
    "\n",
    "df.head()"
   ]
  },
  {
   "cell_type": "code",
   "execution_count": null,
   "metadata": {
    "id": "e3PvAAkZbxeD",
    "outputId": "0a0251af-8af0-429d-ec47-b03360fcc384",
    "scrolled": true
   },
   "outputs": [
    {
     "data": {
      "text/plain": [
       "0    3596\n",
       "1     644\n",
       "Name: TenYearCHD, dtype: int64"
      ]
     },
     "execution_count": 9,
     "metadata": {
      "tags": []
     },
     "output_type": "execute_result"
    }
   ],
   "source": [
    "df['TenYearCHD'].value_counts()"
   ]
  },
  {
   "cell_type": "code",
   "execution_count": null,
   "metadata": {
    "id": "cO0FY4kRbxeI",
    "outputId": "11f97f31-f7a4-47fd-b335-98f1754ec147",
    "scrolled": true
   },
   "outputs": [
    {
     "data": {
      "image/png": "[encoded data removed]",
      "text/plain": [
       "<Figure size 432x288 with 1 Axes>"
      ]
     },
     "metadata": {
      "needs_background": "light",
      "tags": []
     },
     "output_type": "display_data"
    }
   ],
   "source": [
    "df['TenYearCHD'].value_counts().plot.bar()\n",
    "plt.show()"
   ]
  },
  {
   "cell_type": "code",
   "execution_count": null,
   "metadata": {
    "id": "6SnUosCLbxeV",
    "outputId": "9e62d569-781e-4f8d-bc49-1606b420237c",
    "scrolled": true
   },
   "outputs": [
    {
     "data": {
      "image/png": "[encoded data removed]",
      "text/plain": [
       "<Figure size 432x288 with 1 Axes>"
      ]
     },
     "metadata": {
      "needs_background": "light",
      "tags": []
     },
     "output_type": "display_data"
    }
   ],
   "source": [
    "df['TenYearCHD'].value_counts(normalize=True).plot.bar()\n",
    "plt.show()"
   ]
  },
  {
   "cell_type": "code",
   "execution_count": null,
   "metadata": {
    "id": "gA-yzkTAbxea",
    "outputId": "42a83034-be7b-4b79-b22c-77a435c490db"
   },
   "outputs": [
    {
     "data": {
      "text/plain": [
       "male                 0\n",
       "age                  0\n",
       "education          105\n",
       "currentSmoker        0\n",
       "cigsPerDay          29\n",
       "BPMeds              53\n",
       "prevalentStroke      0\n",
       "prevalentHyp         0\n",
       "diabetes             0\n",
       "totChol             50\n",
       "sysBP                0\n",
       "diaBP                0\n",
       "BMI                 19\n",
       "heartRate            1\n",
       "glucose            388\n",
       "TenYearCHD           0\n",
       "dtype: int64"
      ]
     },
     "execution_count": 12,
     "metadata": {
      "tags": []
     },
     "output_type": "execute_result"
    }
   ],
   "source": [
    "df.isnull().sum()"
   ]
  },
  {
   "cell_type": "code",
   "execution_count": null,
   "metadata": {
    "id": "M_Zy3-iSbxee",
    "outputId": "79ae1c74-2ac5-4575-dbec-135167292436",
    "scrolled": true
   },
   "outputs": [
    {
     "data": {
      "text/plain": [
       "education     105\n",
       "cigsPerDay     29\n",
       "BPMeds         53\n",
       "totChol        50\n",
       "BMI            19\n",
       "heartRate       1\n",
       "glucose       388\n",
       "dtype: int64"
      ]
     },
     "execution_count": 13,
     "metadata": {
      "tags": []
     },
     "output_type": "execute_result"
    }
   ],
   "source": [
    "ms=df.isnull().sum()\n",
    "ms[ms>0]"
   ]
  },
  {
   "cell_type": "code",
   "execution_count": null,
   "metadata": {
    "id": "qTSMTd-6bxeh"
   },
   "outputs": [],
   "source": [
    "#sns.distplot(df['glucose'])      "
   ]
  },
  {
   "cell_type": "code",
   "execution_count": null,
   "metadata": {
    "id": "6DD2BFYEbxel",
    "outputId": "f8e1f258-1a33-403e-e246-0247e8efcbef",
    "scrolled": true
   },
   "outputs": [
    {
     "data": {
      "text/plain": [
       "<matplotlib.axes._subplots.AxesSubplot at 0x236f502f508>"
      ]
     },
     "execution_count": 15,
     "metadata": {
      "tags": []
     },
     "output_type": "execute_result"
    },
    {
     "data": {
      "image/png": "[encoded data removed]",
      "text/plain": [
       "<Figure size 432x288 with 1 Axes>"
      ]
     },
     "metadata": {
      "needs_background": "light",
      "tags": []
     },
     "output_type": "display_data"
    }
   ],
   "source": [
    "sns.distplot(df['glucose'].dropna())"
   ]
  },
  {
   "cell_type": "code",
   "execution_count": null,
   "metadata": {
    "id": "IdwTqxirbxeo",
    "outputId": "bc08fc9e-c3f8-44ea-8b7f-064e7fc3c6b8"
   },
   "outputs": [
    {
     "data": {
      "text/plain": [
       "count    3852.000000\n",
       "mean       81.963655\n",
       "std        23.954335\n",
       "min        40.000000\n",
       "25%        71.000000\n",
       "50%        78.000000\n",
       "75%        87.000000\n",
       "max       394.000000\n",
       "Name: glucose, dtype: float64"
      ]
     },
     "execution_count": 16,
     "metadata": {
      "tags": []
     },
     "output_type": "execute_result"
    }
   ],
   "source": [
    "df['glucose'].describe()"
   ]
  },
  {
   "cell_type": "code",
   "execution_count": null,
   "metadata": {
    "id": "_uWMAvHYbxes"
   },
   "outputs": [],
   "source": [
    "#df['glucose']=df['glucose'].fillna(df['glucose'].median())"
   ]
  },
  {
   "cell_type": "code",
   "execution_count": null,
   "metadata": {
    "id": "mG3_Vkyjbxex"
   },
   "outputs": [],
   "source": [
    "#sns.distplot(df['glucose'])"
   ]
  },
  {
   "cell_type": "code",
   "execution_count": null,
   "metadata": {
    "id": "-n2pED2jbxe1",
    "outputId": "0db67fe9-ad38-43c5-ab79-338ce0c62985"
   },
   "outputs": [
    {
     "data": {
      "text/plain": [
       "count    3852.000000\n",
       "mean       81.963655\n",
       "std        23.954335\n",
       "min        40.000000\n",
       "25%        71.000000\n",
       "50%        78.000000\n",
       "75%        87.000000\n",
       "max       394.000000\n",
       "Name: glucose, dtype: float64"
      ]
     },
     "execution_count": 19,
     "metadata": {
      "tags": []
     },
     "output_type": "execute_result"
    }
   ],
   "source": [
    "df['glucose'].describe()"
   ]
  },
  {
   "cell_type": "code",
   "execution_count": null,
   "metadata": {
    "id": "moPeKIzbbxe7"
   },
   "outputs": [],
   "source": [
    "# forrward and backward fill will not change distribution , so we are using it\n",
    "\n",
    "df=df.fillna(method='ffill')"
   ]
  },
  {
   "cell_type": "code",
   "execution_count": null,
   "metadata": {
    "id": "ooEc1v25bxfJ",
    "outputId": "f71649d8-7653-486e-d26d-6346b3f94614"
   },
   "outputs": [
    {
     "name": "stdout",
     "output_type": "stream",
     "text": [
      "<class 'pandas.core.frame.DataFrame'>\n",
      "Int64Index: 4240 entries, 3546 to 1688\n",
      "Data columns (total 16 columns):\n",
      "male               4240 non-null int64\n",
      "age                4240 non-null int64\n",
      "education          4240 non-null float64\n",
      "currentSmoker      4240 non-null int64\n",
      "cigsPerDay         4240 non-null float64\n",
      "BPMeds             4240 non-null float64\n",
      "prevalentStroke    4240 non-null int64\n",
      "prevalentHyp       4240 non-null int64\n",
      "diabetes           4240 non-null int64\n",
      "totChol            4240 non-null float64\n",
      "sysBP              4240 non-null float64\n",
      "diaBP              4240 non-null float64\n",
      "BMI                4240 non-null float64\n",
      "heartRate          4240 non-null float64\n",
      "glucose            4240 non-null float64\n",
      "TenYearCHD         4240 non-null int64\n",
      "dtypes: float64(9), int64(7)\n",
      "memory usage: 563.1 KB\n"
     ]
    }
   ],
   "source": [
    "df.info()"
   ]
  },
  {
   "cell_type": "code",
   "execution_count": null,
   "metadata": {
    "id": "0RcS7v9BbxfN"
   },
   "outputs": [],
   "source": [
    "#sns.pairplot(df, hue='TenYearCHD')"
   ]
  },
  {
   "cell_type": "code",
   "execution_count": null,
   "metadata": {
    "id": "IDPTq07QbxfQ",
    "outputId": "d1744a32-0f17-4f3f-99b4-6110a6fa3c8b"
   },
   "outputs": [
    {
     "data": {
      "text/plain": [
       "<matplotlib.axes._subplots.AxesSubplot at 0x236f5014148>"
      ]
     },
     "execution_count": 23,
     "metadata": {
      "tags": []
     },
     "output_type": "execute_result"
    },
    {
     "data": {
      "image/png": "[encoded data removed]",
      "text/plain": [
       "<Figure size 1080x1080 with 2 Axes>"
      ]
     },
     "metadata": {
      "needs_background": "light",
      "tags": []
     },
     "output_type": "display_data"
    }
   ],
   "source": [
    "plt.figure(figsize=(15,15))\n",
    "sns.heatmap(df.corr(), annot =True)"
   ]
  },
  {
   "cell_type": "code",
   "execution_count": null,
   "metadata": {
    "id": "W4tqtS3ObxfU"
   },
   "outputs": [],
   "source": []
  },
  {
   "cell_type": "code",
   "execution_count": null,
   "metadata": {
    "id": "NeqNd9eobxfX",
    "outputId": "9deb7b1e-5126-44fc-ce0c-1b3c26a06ff9"
   },
   "outputs": [
    {
     "data": {
      "image/png": "[encoded data removed]",
      "text/plain": [
       "<Figure size 792x648 with 2 Axes>"
      ]
     },
     "metadata": {
      "needs_background": "light",
      "tags": []
     },
     "output_type": "display_data"
    }
   ],
   "source": [
    "import plusmodules as pm\n",
    "pm.corr_matrix(df)"
   ]
  },
  {
   "cell_type": "code",
   "execution_count": null,
   "metadata": {
    "id": "5t17C8IHbxfa",
    "outputId": "fb9d2c12-f581-454b-d047-99046b516ea2"
   },
   "outputs": [
    {
     "data": {
      "text/plain": [
       "['male',\n",
       " 'age',\n",
       " 'education',\n",
       " 'currentSmoker',\n",
       " 'cigsPerDay',\n",
       " 'BPMeds',\n",
       " 'prevalentStroke',\n",
       " 'prevalentHyp',\n",
       " 'diabetes',\n",
       " 'totChol',\n",
       " 'sysBP',\n",
       " 'diaBP',\n",
       " 'BMI',\n",
       " 'heartRate',\n",
       " 'glucose',\n",
       " 'TenYearCHD']"
      ]
     },
     "execution_count": 26,
     "metadata": {
      "tags": []
     },
     "output_type": "execute_result"
    }
   ],
   "source": [
    "cols= list(df.columns)\n",
    "cols"
   ]
  },
  {
   "cell_type": "code",
   "execution_count": null,
   "metadata": {
    "id": "zBrSHfpZbxfd",
    "outputId": "d3ff1dc7-5c0d-447a-9185-a49caa33ee74"
   },
   "outputs": [
    {
     "data": {
      "image/png": "[encoded data removed]",
      "text/plain": [
       "<Figure size 432x288 with 1 Axes>"
      ]
     },
     "metadata": {
      "needs_background": "light",
      "tags": []
     },
     "output_type": "display_data"
    },
    {
     "data": {
      "image/png": "[encoded data removed]",
      "text/plain": [
       "<Figure size 432x288 with 1 Axes>"
      ]
     },
     "metadata": {
      "needs_background": "light",
      "tags": []
     },
     "output_type": "display_data"
    },
    {
     "data": {
      "image/png": "[encoded data removed]",
      "text/plain": [
       "<Figure size 432x288 with 1 Axes>"
      ]
     },
     "metadata": {
      "needs_background": "light",
      "tags": []
     },
     "output_type": "display_data"
    },
    {
     "data": {
      "image/png": "[encoded data removed]",
      "text/plain": [
       "<Figure size 432x288 with 1 Axes>"
      ]
     },
     "metadata": {
      "needs_background": "light",
      "tags": []
     },
     "output_type": "display_data"
    },
    {
     "data": {
      "image/png": "[encoded data removed]",
      "text/plain": [
       "<Figure size 432x288 with 1 Axes>"
      ]
     },
     "metadata": {
      "needs_background": "light",
      "tags": []
     },
     "output_type": "display_data"
    },
    {
     "data": {
      "image/png": "[encoded data removed]",
      "text/plain": [
       "<Figure size 432x288 with 1 Axes>"
      ]
     },
     "metadata": {
      "needs_background": "light",
      "tags": []
     },
     "output_type": "display_data"
    },
    {
     "data": {
      "image/png": "[encoded data removed]",
      "text/plain": [
       "<Figure size 432x288 with 1 Axes>"
      ]
     },
     "metadata": {
      "needs_background": "light",
      "tags": []
     },
     "output_type": "display_data"
    },
    {
     "data": {
      "image/png": "[encoded data removed]",
      "text/plain": [
       "<Figure size 432x288 with 1 Axes>"
      ]
     },
     "metadata": {
      "needs_background": "light",
      "tags": []
     },
     "output_type": "display_data"
    },
    {
     "data": {
      "image/png": "[encoded data removed]",
      "text/plain": [
       "<Figure size 432x288 with 1 Axes>"
      ]
     },
     "metadata": {
      "needs_background": "light",
      "tags": []
     },
     "output_type": "display_data"
    },
    {
     "data": {
      "image/png": "[encoded data removed]",
      "text/plain": [
       "<Figure size 432x288 with 1 Axes>"
      ]
     },
     "metadata": {
      "needs_background": "light",
      "tags": []
     },
     "output_type": "display_data"
    },
    {
     "data": {
      "image/png": "[encoded data removed]",
      "text/plain": [
       "<Figure size 432x288 with 1 Axes>"
      ]
     },
     "metadata": {
      "needs_background": "light",
      "tags": []
     },
     "output_type": "display_data"
    },
    {
     "data": {
      "image/png": "[encoded data removed]",
      "text/plain": [
       "<Figure size 432x288 with 1 Axes>"
      ]
     },
     "metadata": {
      "needs_background": "light",
      "tags": []
     },
     "output_type": "display_data"
    },
    {
     "data": {
      "image/png": "[encoded data removed]",
      "text/plain": [
       "<Figure size 432x288 with 1 Axes>"
      ]
     },
     "metadata": {
      "needs_background": "light",
      "tags": []
     },
     "output_type": "display_data"
    },
    {
     "data": {
      "image/png": "[encoded data removed]",
      "text/plain": [
       "<Figure size 432x288 with 1 Axes>"
      ]
     },
     "metadata": {
      "needs_background": "light",
      "tags": []
     },
     "output_type": "display_data"
    },
    {
     "data": {
      "image/png": "[encoded data removed]",
      "text/plain": [
       "<Figure size 432x288 with 1 Axes>"
      ]
     },
     "metadata": {
      "needs_background": "light",
      "tags": []
     },
     "output_type": "display_data"
    },
    {
     "data": {
      "image/png": "[encoded data removed]",
      "text/plain": [
       "<Figure size 432x288 with 1 Axes>"
      ]
     },
     "metadata": {
      "needs_background": "light",
      "tags": []
     },
     "output_type": "display_data"
    }
   ],
   "source": [
    "for col in cols:\n",
    "    sns.boxplot(y=df[col], x=df['TenYearCHD'])\n",
    "    plt.show()"
   ]
  },
  {
   "cell_type": "code",
   "execution_count": null,
   "metadata": {
    "id": "9Q5EnM0Lbxff",
    "outputId": "e143147b-34f0-415a-b6de-ec6b91cd0ec2"
   },
   "outputs": [
    {
     "data": {
      "image/png": "[encoded data removed]",
      "text/plain": [
       "<Figure size 432x288 with 1 Axes>"
      ]
     },
     "metadata": {
      "needs_background": "light",
      "tags": []
     },
     "output_type": "display_data"
    }
   ],
   "source": [
    "df0=df[df['TenYearCHD']==0]\n",
    "df1=df[df['TenYearCHD']==1]\n",
    "\n",
    "sns.distplot(df0['BMI'])\n",
    "sns.distplot(df1['BMI'])\n",
    "plt.show()"
   ]
  },
  {
   "cell_type": "code",
   "execution_count": null,
   "metadata": {
    "id": "7Zgkj8HSbxfh",
    "outputId": "5b463758-d940-4d51-e886-40aa3a64d491",
    "scrolled": true
   },
   "outputs": [
    {
     "data": {
      "image/png": "[encoded data removed]",
      "text/plain": [
       "<Figure size 432x288 with 1 Axes>"
      ]
     },
     "metadata": {
      "needs_background": "light",
      "tags": []
     },
     "output_type": "display_data"
    }
   ],
   "source": [
    "df0=df[df['TenYearCHD']==0]\n",
    "df1=df[df['TenYearCHD']==1]\n",
    "\n",
    "sns.distplot(df0['age'])\n",
    "sns.distplot(df1['age'])\n",
    "plt.show()"
   ]
  },
  {
   "cell_type": "markdown",
   "metadata": {
    "id": "Pe5KE6-_bxfk"
   },
   "source": [
    "##### if age more, more chances of getting chd"
   ]
  },
  {
   "cell_type": "code",
   "execution_count": null,
   "metadata": {
    "collapsed": true,
    "id": "OhVLlwt_bxfk",
    "outputId": "7cc941b8-ab45-431b-b487-97fb94838e89"
   },
   "outputs": [
    {
     "data": {
      "text/html": [
       "<div>\n",
       "<style scoped>\n",
       "    .dataframe tbody tr th:only-of-type {\n",
       "        vertical-align: middle;\n",
       "    }\n",
       "\n",
       "    .dataframe tbody tr th {\n",
       "        vertical-align: top;\n",
       "    }\n",
       "\n",
       "    .dataframe thead th {\n",
       "        text-align: right;\n",
       "    }\n",
       "</style>\n",
       "<table border=\"1\" class=\"dataframe\">\n",
       "  <thead>\n",
       "    <tr style=\"text-align: right;\">\n",
       "      <th></th>\n",
       "      <th>male</th>\n",
       "      <th>age</th>\n",
       "      <th>education</th>\n",
       "      <th>currentSmoker</th>\n",
       "      <th>cigsPerDay</th>\n",
       "      <th>BPMeds</th>\n",
       "      <th>prevalentStroke</th>\n",
       "      <th>prevalentHyp</th>\n",
       "      <th>diabetes</th>\n",
       "      <th>totChol</th>\n",
       "      <th>sysBP</th>\n",
       "      <th>diaBP</th>\n",
       "      <th>BMI</th>\n",
       "      <th>heartRate</th>\n",
       "      <th>glucose</th>\n",
       "      <th>TenYearCHD</th>\n",
       "    </tr>\n",
       "  </thead>\n",
       "  <tbody>\n",
       "    <tr>\n",
       "      <td>3546</td>\n",
       "      <td>0</td>\n",
       "      <td>54</td>\n",
       "      <td>1.0</td>\n",
       "      <td>0</td>\n",
       "      <td>0.0</td>\n",
       "      <td>0.0</td>\n",
       "      <td>0</td>\n",
       "      <td>0</td>\n",
       "      <td>0</td>\n",
       "      <td>241.0</td>\n",
       "      <td>106.0</td>\n",
       "      <td>77.0</td>\n",
       "      <td>27.64</td>\n",
       "      <td>78.0</td>\n",
       "      <td>74.0</td>\n",
       "      <td>0</td>\n",
       "    </tr>\n",
       "    <tr>\n",
       "      <td>1127</td>\n",
       "      <td>0</td>\n",
       "      <td>42</td>\n",
       "      <td>3.0</td>\n",
       "      <td>1</td>\n",
       "      <td>10.0</td>\n",
       "      <td>0.0</td>\n",
       "      <td>0</td>\n",
       "      <td>0</td>\n",
       "      <td>0</td>\n",
       "      <td>253.0</td>\n",
       "      <td>109.0</td>\n",
       "      <td>74.0</td>\n",
       "      <td>24.38</td>\n",
       "      <td>88.0</td>\n",
       "      <td>60.0</td>\n",
       "      <td>0</td>\n",
       "    </tr>\n",
       "    <tr>\n",
       "      <td>3088</td>\n",
       "      <td>0</td>\n",
       "      <td>58</td>\n",
       "      <td>1.0</td>\n",
       "      <td>0</td>\n",
       "      <td>0.0</td>\n",
       "      <td>1.0</td>\n",
       "      <td>1</td>\n",
       "      <td>1</td>\n",
       "      <td>0</td>\n",
       "      <td>274.0</td>\n",
       "      <td>159.0</td>\n",
       "      <td>90.0</td>\n",
       "      <td>28.40</td>\n",
       "      <td>72.0</td>\n",
       "      <td>81.0</td>\n",
       "      <td>0</td>\n",
       "    </tr>\n",
       "    <tr>\n",
       "      <td>437</td>\n",
       "      <td>1</td>\n",
       "      <td>45</td>\n",
       "      <td>1.0</td>\n",
       "      <td>1</td>\n",
       "      <td>30.0</td>\n",
       "      <td>0.0</td>\n",
       "      <td>0</td>\n",
       "      <td>0</td>\n",
       "      <td>0</td>\n",
       "      <td>240.0</td>\n",
       "      <td>141.0</td>\n",
       "      <td>89.0</td>\n",
       "      <td>25.01</td>\n",
       "      <td>95.0</td>\n",
       "      <td>76.0</td>\n",
       "      <td>0</td>\n",
       "    </tr>\n",
       "    <tr>\n",
       "      <td>3188</td>\n",
       "      <td>1</td>\n",
       "      <td>63</td>\n",
       "      <td>1.0</td>\n",
       "      <td>0</td>\n",
       "      <td>0.0</td>\n",
       "      <td>0.0</td>\n",
       "      <td>0</td>\n",
       "      <td>1</td>\n",
       "      <td>0</td>\n",
       "      <td>190.0</td>\n",
       "      <td>148.0</td>\n",
       "      <td>90.0</td>\n",
       "      <td>27.13</td>\n",
       "      <td>72.0</td>\n",
       "      <td>86.0</td>\n",
       "      <td>0</td>\n",
       "    </tr>\n",
       "    <tr>\n",
       "      <td>...</td>\n",
       "      <td>...</td>\n",
       "      <td>...</td>\n",
       "      <td>...</td>\n",
       "      <td>...</td>\n",
       "      <td>...</td>\n",
       "      <td>...</td>\n",
       "      <td>...</td>\n",
       "      <td>...</td>\n",
       "      <td>...</td>\n",
       "      <td>...</td>\n",
       "      <td>...</td>\n",
       "      <td>...</td>\n",
       "      <td>...</td>\n",
       "      <td>...</td>\n",
       "      <td>...</td>\n",
       "      <td>...</td>\n",
       "    </tr>\n",
       "    <tr>\n",
       "      <td>789</td>\n",
       "      <td>1</td>\n",
       "      <td>63</td>\n",
       "      <td>1.0</td>\n",
       "      <td>0</td>\n",
       "      <td>0.0</td>\n",
       "      <td>0.0</td>\n",
       "      <td>0</td>\n",
       "      <td>1</td>\n",
       "      <td>0</td>\n",
       "      <td>260.0</td>\n",
       "      <td>159.5</td>\n",
       "      <td>91.0</td>\n",
       "      <td>27.01</td>\n",
       "      <td>68.0</td>\n",
       "      <td>66.0</td>\n",
       "      <td>0</td>\n",
       "    </tr>\n",
       "    <tr>\n",
       "      <td>968</td>\n",
       "      <td>0</td>\n",
       "      <td>54</td>\n",
       "      <td>1.0</td>\n",
       "      <td>0</td>\n",
       "      <td>0.0</td>\n",
       "      <td>0.0</td>\n",
       "      <td>0</td>\n",
       "      <td>1</td>\n",
       "      <td>0</td>\n",
       "      <td>266.0</td>\n",
       "      <td>137.0</td>\n",
       "      <td>88.0</td>\n",
       "      <td>29.76</td>\n",
       "      <td>80.0</td>\n",
       "      <td>80.0</td>\n",
       "      <td>0</td>\n",
       "    </tr>\n",
       "    <tr>\n",
       "      <td>1667</td>\n",
       "      <td>0</td>\n",
       "      <td>56</td>\n",
       "      <td>1.0</td>\n",
       "      <td>1</td>\n",
       "      <td>3.0</td>\n",
       "      <td>0.0</td>\n",
       "      <td>0</td>\n",
       "      <td>1</td>\n",
       "      <td>0</td>\n",
       "      <td>285.0</td>\n",
       "      <td>145.0</td>\n",
       "      <td>100.0</td>\n",
       "      <td>30.14</td>\n",
       "      <td>80.0</td>\n",
       "      <td>86.0</td>\n",
       "      <td>0</td>\n",
       "    </tr>\n",
       "    <tr>\n",
       "      <td>3321</td>\n",
       "      <td>0</td>\n",
       "      <td>58</td>\n",
       "      <td>2.0</td>\n",
       "      <td>0</td>\n",
       "      <td>0.0</td>\n",
       "      <td>0.0</td>\n",
       "      <td>0</td>\n",
       "      <td>1</td>\n",
       "      <td>1</td>\n",
       "      <td>265.0</td>\n",
       "      <td>143.5</td>\n",
       "      <td>85.0</td>\n",
       "      <td>21.68</td>\n",
       "      <td>91.0</td>\n",
       "      <td>107.0</td>\n",
       "      <td>0</td>\n",
       "    </tr>\n",
       "    <tr>\n",
       "      <td>1688</td>\n",
       "      <td>0</td>\n",
       "      <td>40</td>\n",
       "      <td>4.0</td>\n",
       "      <td>1</td>\n",
       "      <td>15.0</td>\n",
       "      <td>0.0</td>\n",
       "      <td>0</td>\n",
       "      <td>0</td>\n",
       "      <td>0</td>\n",
       "      <td>155.0</td>\n",
       "      <td>121.0</td>\n",
       "      <td>86.0</td>\n",
       "      <td>23.16</td>\n",
       "      <td>70.0</td>\n",
       "      <td>59.0</td>\n",
       "      <td>0</td>\n",
       "    </tr>\n",
       "  </tbody>\n",
       "</table>\n",
       "<p>4240 rows × 16 columns</p>\n",
       "</div>"
      ],
      "text/plain": [
       "      male  age  education  currentSmoker  cigsPerDay  BPMeds  \\\n",
       "3546     0   54        1.0              0         0.0     0.0   \n",
       "1127     0   42        3.0              1        10.0     0.0   \n",
       "3088     0   58        1.0              0         0.0     1.0   \n",
       "437      1   45        1.0              1        30.0     0.0   \n",
       "3188     1   63        1.0              0         0.0     0.0   \n",
       "...    ...  ...        ...            ...         ...     ...   \n",
       "789      1   63        1.0              0         0.0     0.0   \n",
       "968      0   54        1.0              0         0.0     0.0   \n",
       "1667     0   56        1.0              1         3.0     0.0   \n",
       "3321     0   58        2.0              0         0.0     0.0   \n",
       "1688     0   40        4.0              1        15.0     0.0   \n",
       "\n",
       "      prevalentStroke  prevalentHyp  diabetes  totChol  sysBP  diaBP    BMI  \\\n",
       "3546                0             0         0    241.0  106.0   77.0  27.64   \n",
       "1127                0             0         0    253.0  109.0   74.0  24.38   \n",
       "3088                1             1         0    274.0  159.0   90.0  28.40   \n",
       "437                 0             0         0    240.0  141.0   89.0  25.01   \n",
       "3188                0             1         0    190.0  148.0   90.0  27.13   \n",
       "...               ...           ...       ...      ...    ...    ...    ...   \n",
       "789                 0             1         0    260.0  159.5   91.0  27.01   \n",
       "968                 0             1         0    266.0  137.0   88.0  29.76   \n",
       "1667                0             1         0    285.0  145.0  100.0  30.14   \n",
       "3321                0             1         1    265.0  143.5   85.0  21.68   \n",
       "1688                0             0         0    155.0  121.0   86.0  23.16   \n",
       "\n",
       "      heartRate  glucose  TenYearCHD  \n",
       "3546       78.0     74.0           0  \n",
       "1127       88.0     60.0           0  \n",
       "3088       72.0     81.0           0  \n",
       "437        95.0     76.0           0  \n",
       "3188       72.0     86.0           0  \n",
       "...         ...      ...         ...  \n",
       "789        68.0     66.0           0  \n",
       "968        80.0     80.0           0  \n",
       "1667       80.0     86.0           0  \n",
       "3321       91.0    107.0           0  \n",
       "1688       70.0     59.0           0  \n",
       "\n",
       "[4240 rows x 16 columns]"
      ]
     },
     "execution_count": 31,
     "metadata": {
      "tags": []
     },
     "output_type": "execute_result"
    }
   ],
   "source": [
    "df"
   ]
  },
  {
   "cell_type": "code",
   "execution_count": null,
   "metadata": {
    "id": "CtqTgYkabxfm",
    "outputId": "8ebebcd8-18fc-4bbe-887f-3aa3e9aa29e8",
    "scrolled": true
   },
   "outputs": [
    {
     "name": "stderr",
     "output_type": "stream",
     "text": [
      "C:\\Users\\maghw\\Anaconda3\\lib\\site-packages\\numpy\\core\\fromnumeric.py:2389: FutureWarning: Method .ptp is deprecated and will be removed in a future version. Use numpy.ptp instead.\n",
      "  return ptp(axis=axis, out=out, **kwargs)\n"
     ]
    }
   ],
   "source": [
    "import statsmodels.api as sm\n",
    "\n",
    "y= df['TenYearCHD']\n",
    "x= df.drop('TenYearCHD', axis=1)\n",
    "\n",
    "xc= sm.add_constant(x)"
   ]
  },
  {
   "cell_type": "code",
   "execution_count": null,
   "metadata": {
    "collapsed": true,
    "id": "yTWuVn5sbxfq",
    "outputId": "a8307c5a-3629-4cd8-b4df-486de2b270a7"
   },
   "outputs": [
    {
     "data": {
      "text/html": [
       "<div>\n",
       "<style scoped>\n",
       "    .dataframe tbody tr th:only-of-type {\n",
       "        vertical-align: middle;\n",
       "    }\n",
       "\n",
       "    .dataframe tbody tr th {\n",
       "        vertical-align: top;\n",
       "    }\n",
       "\n",
       "    .dataframe thead th {\n",
       "        text-align: right;\n",
       "    }\n",
       "</style>\n",
       "<table border=\"1\" class=\"dataframe\">\n",
       "  <thead>\n",
       "    <tr style=\"text-align: right;\">\n",
       "      <th></th>\n",
       "      <th>const</th>\n",
       "      <th>male</th>\n",
       "      <th>age</th>\n",
       "      <th>education</th>\n",
       "      <th>currentSmoker</th>\n",
       "      <th>cigsPerDay</th>\n",
       "      <th>BPMeds</th>\n",
       "      <th>prevalentStroke</th>\n",
       "      <th>prevalentHyp</th>\n",
       "      <th>diabetes</th>\n",
       "      <th>totChol</th>\n",
       "      <th>sysBP</th>\n",
       "      <th>diaBP</th>\n",
       "      <th>BMI</th>\n",
       "      <th>heartRate</th>\n",
       "      <th>glucose</th>\n",
       "    </tr>\n",
       "  </thead>\n",
       "  <tbody>\n",
       "    <tr>\n",
       "      <td>3546</td>\n",
       "      <td>1.0</td>\n",
       "      <td>0</td>\n",
       "      <td>54</td>\n",
       "      <td>1.0</td>\n",
       "      <td>0</td>\n",
       "      <td>0.0</td>\n",
       "      <td>0.0</td>\n",
       "      <td>0</td>\n",
       "      <td>0</td>\n",
       "      <td>0</td>\n",
       "      <td>241.0</td>\n",
       "      <td>106.0</td>\n",
       "      <td>77.0</td>\n",
       "      <td>27.64</td>\n",
       "      <td>78.0</td>\n",
       "      <td>74.0</td>\n",
       "    </tr>\n",
       "    <tr>\n",
       "      <td>1127</td>\n",
       "      <td>1.0</td>\n",
       "      <td>0</td>\n",
       "      <td>42</td>\n",
       "      <td>3.0</td>\n",
       "      <td>1</td>\n",
       "      <td>10.0</td>\n",
       "      <td>0.0</td>\n",
       "      <td>0</td>\n",
       "      <td>0</td>\n",
       "      <td>0</td>\n",
       "      <td>253.0</td>\n",
       "      <td>109.0</td>\n",
       "      <td>74.0</td>\n",
       "      <td>24.38</td>\n",
       "      <td>88.0</td>\n",
       "      <td>60.0</td>\n",
       "    </tr>\n",
       "    <tr>\n",
       "      <td>3088</td>\n",
       "      <td>1.0</td>\n",
       "      <td>0</td>\n",
       "      <td>58</td>\n",
       "      <td>1.0</td>\n",
       "      <td>0</td>\n",
       "      <td>0.0</td>\n",
       "      <td>1.0</td>\n",
       "      <td>1</td>\n",
       "      <td>1</td>\n",
       "      <td>0</td>\n",
       "      <td>274.0</td>\n",
       "      <td>159.0</td>\n",
       "      <td>90.0</td>\n",
       "      <td>28.40</td>\n",
       "      <td>72.0</td>\n",
       "      <td>81.0</td>\n",
       "    </tr>\n",
       "    <tr>\n",
       "      <td>437</td>\n",
       "      <td>1.0</td>\n",
       "      <td>1</td>\n",
       "      <td>45</td>\n",
       "      <td>1.0</td>\n",
       "      <td>1</td>\n",
       "      <td>30.0</td>\n",
       "      <td>0.0</td>\n",
       "      <td>0</td>\n",
       "      <td>0</td>\n",
       "      <td>0</td>\n",
       "      <td>240.0</td>\n",
       "      <td>141.0</td>\n",
       "      <td>89.0</td>\n",
       "      <td>25.01</td>\n",
       "      <td>95.0</td>\n",
       "      <td>76.0</td>\n",
       "    </tr>\n",
       "    <tr>\n",
       "      <td>3188</td>\n",
       "      <td>1.0</td>\n",
       "      <td>1</td>\n",
       "      <td>63</td>\n",
       "      <td>1.0</td>\n",
       "      <td>0</td>\n",
       "      <td>0.0</td>\n",
       "      <td>0.0</td>\n",
       "      <td>0</td>\n",
       "      <td>1</td>\n",
       "      <td>0</td>\n",
       "      <td>190.0</td>\n",
       "      <td>148.0</td>\n",
       "      <td>90.0</td>\n",
       "      <td>27.13</td>\n",
       "      <td>72.0</td>\n",
       "      <td>86.0</td>\n",
       "    </tr>\n",
       "    <tr>\n",
       "      <td>...</td>\n",
       "      <td>...</td>\n",
       "      <td>...</td>\n",
       "      <td>...</td>\n",
       "      <td>...</td>\n",
       "      <td>...</td>\n",
       "      <td>...</td>\n",
       "      <td>...</td>\n",
       "      <td>...</td>\n",
       "      <td>...</td>\n",
       "      <td>...</td>\n",
       "      <td>...</td>\n",
       "      <td>...</td>\n",
       "      <td>...</td>\n",
       "      <td>...</td>\n",
       "      <td>...</td>\n",
       "      <td>...</td>\n",
       "    </tr>\n",
       "    <tr>\n",
       "      <td>789</td>\n",
       "      <td>1.0</td>\n",
       "      <td>1</td>\n",
       "      <td>63</td>\n",
       "      <td>1.0</td>\n",
       "      <td>0</td>\n",
       "      <td>0.0</td>\n",
       "      <td>0.0</td>\n",
       "      <td>0</td>\n",
       "      <td>1</td>\n",
       "      <td>0</td>\n",
       "      <td>260.0</td>\n",
       "      <td>159.5</td>\n",
       "      <td>91.0</td>\n",
       "      <td>27.01</td>\n",
       "      <td>68.0</td>\n",
       "      <td>66.0</td>\n",
       "    </tr>\n",
       "    <tr>\n",
       "      <td>968</td>\n",
       "      <td>1.0</td>\n",
       "      <td>0</td>\n",
       "      <td>54</td>\n",
       "      <td>1.0</td>\n",
       "      <td>0</td>\n",
       "      <td>0.0</td>\n",
       "      <td>0.0</td>\n",
       "      <td>0</td>\n",
       "      <td>1</td>\n",
       "      <td>0</td>\n",
       "      <td>266.0</td>\n",
       "      <td>137.0</td>\n",
       "      <td>88.0</td>\n",
       "      <td>29.76</td>\n",
       "      <td>80.0</td>\n",
       "      <td>80.0</td>\n",
       "    </tr>\n",
       "    <tr>\n",
       "      <td>1667</td>\n",
       "      <td>1.0</td>\n",
       "      <td>0</td>\n",
       "      <td>56</td>\n",
       "      <td>1.0</td>\n",
       "      <td>1</td>\n",
       "      <td>3.0</td>\n",
       "      <td>0.0</td>\n",
       "      <td>0</td>\n",
       "      <td>1</td>\n",
       "      <td>0</td>\n",
       "      <td>285.0</td>\n",
       "      <td>145.0</td>\n",
       "      <td>100.0</td>\n",
       "      <td>30.14</td>\n",
       "      <td>80.0</td>\n",
       "      <td>86.0</td>\n",
       "    </tr>\n",
       "    <tr>\n",
       "      <td>3321</td>\n",
       "      <td>1.0</td>\n",
       "      <td>0</td>\n",
       "      <td>58</td>\n",
       "      <td>2.0</td>\n",
       "      <td>0</td>\n",
       "      <td>0.0</td>\n",
       "      <td>0.0</td>\n",
       "      <td>0</td>\n",
       "      <td>1</td>\n",
       "      <td>1</td>\n",
       "      <td>265.0</td>\n",
       "      <td>143.5</td>\n",
       "      <td>85.0</td>\n",
       "      <td>21.68</td>\n",
       "      <td>91.0</td>\n",
       "      <td>107.0</td>\n",
       "    </tr>\n",
       "    <tr>\n",
       "      <td>1688</td>\n",
       "      <td>1.0</td>\n",
       "      <td>0</td>\n",
       "      <td>40</td>\n",
       "      <td>4.0</td>\n",
       "      <td>1</td>\n",
       "      <td>15.0</td>\n",
       "      <td>0.0</td>\n",
       "      <td>0</td>\n",
       "      <td>0</td>\n",
       "      <td>0</td>\n",
       "      <td>155.0</td>\n",
       "      <td>121.0</td>\n",
       "      <td>86.0</td>\n",
       "      <td>23.16</td>\n",
       "      <td>70.0</td>\n",
       "      <td>59.0</td>\n",
       "    </tr>\n",
       "  </tbody>\n",
       "</table>\n",
       "<p>4240 rows × 16 columns</p>\n",
       "</div>"
      ],
      "text/plain": [
       "      const  male  age  education  currentSmoker  cigsPerDay  BPMeds  \\\n",
       "3546    1.0     0   54        1.0              0         0.0     0.0   \n",
       "1127    1.0     0   42        3.0              1        10.0     0.0   \n",
       "3088    1.0     0   58        1.0              0         0.0     1.0   \n",
       "437     1.0     1   45        1.0              1        30.0     0.0   \n",
       "3188    1.0     1   63        1.0              0         0.0     0.0   \n",
       "...     ...   ...  ...        ...            ...         ...     ...   \n",
       "789     1.0     1   63        1.0              0         0.0     0.0   \n",
       "968     1.0     0   54        1.0              0         0.0     0.0   \n",
       "1667    1.0     0   56        1.0              1         3.0     0.0   \n",
       "3321    1.0     0   58        2.0              0         0.0     0.0   \n",
       "1688    1.0     0   40        4.0              1        15.0     0.0   \n",
       "\n",
       "      prevalentStroke  prevalentHyp  diabetes  totChol  sysBP  diaBP    BMI  \\\n",
       "3546                0             0         0    241.0  106.0   77.0  27.64   \n",
       "1127                0             0         0    253.0  109.0   74.0  24.38   \n",
       "3088                1             1         0    274.0  159.0   90.0  28.40   \n",
       "437                 0             0         0    240.0  141.0   89.0  25.01   \n",
       "3188                0             1         0    190.0  148.0   90.0  27.13   \n",
       "...               ...           ...       ...      ...    ...    ...    ...   \n",
       "789                 0             1         0    260.0  159.5   91.0  27.01   \n",
       "968                 0             1         0    266.0  137.0   88.0  29.76   \n",
       "1667                0             1         0    285.0  145.0  100.0  30.14   \n",
       "3321                0             1         1    265.0  143.5   85.0  21.68   \n",
       "1688                0             0         0    155.0  121.0   86.0  23.16   \n",
       "\n",
       "      heartRate  glucose  \n",
       "3546       78.0     74.0  \n",
       "1127       88.0     60.0  \n",
       "3088       72.0     81.0  \n",
       "437        95.0     76.0  \n",
       "3188       72.0     86.0  \n",
       "...         ...      ...  \n",
       "789        68.0     66.0  \n",
       "968        80.0     80.0  \n",
       "1667       80.0     86.0  \n",
       "3321       91.0    107.0  \n",
       "1688       70.0     59.0  \n",
       "\n",
       "[4240 rows x 16 columns]"
      ]
     },
     "execution_count": 33,
     "metadata": {
      "tags": []
     },
     "output_type": "execute_result"
    }
   ],
   "source": [
    "xc"
   ]
  },
  {
   "cell_type": "code",
   "execution_count": null,
   "metadata": {
    "collapsed": true,
    "id": "AxIJEum0bxfs",
    "outputId": "10cdb11f-444a-4e8f-9102-39b5775c37fa"
   },
   "outputs": [
    {
     "data": {
      "text/plain": [
       "array([[  1.  ,   0.  ,  54.  , ...,  27.64,  78.  ,  74.  ],\n",
       "       [  1.  ,   0.  ,  42.  , ...,  24.38,  88.  ,  60.  ],\n",
       "       [  1.  ,   0.  ,  58.  , ...,  28.4 ,  72.  ,  81.  ],\n",
       "       ...,\n",
       "       [  1.  ,   0.  ,  56.  , ...,  30.14,  80.  ,  86.  ],\n",
       "       [  1.  ,   0.  ,  58.  , ...,  21.68,  91.  , 107.  ],\n",
       "       [  1.  ,   0.  ,  40.  , ...,  23.16,  70.  ,  59.  ]])"
      ]
     },
     "execution_count": 34,
     "metadata": {
      "tags": []
     },
     "output_type": "execute_result"
    }
   ],
   "source": [
    "xc.values"
   ]
  },
  {
   "cell_type": "code",
   "execution_count": null,
   "metadata": {
    "id": "6JPa_PT_bxfu",
    "outputId": "fac0d83d-c8d8-4c3f-eef5-1cc1af53cf91"
   },
   "outputs": [
    {
     "data": {
      "text/html": [
       "<div>\n",
       "<style scoped>\n",
       "    .dataframe tbody tr th:only-of-type {\n",
       "        vertical-align: middle;\n",
       "    }\n",
       "\n",
       "    .dataframe tbody tr th {\n",
       "        vertical-align: top;\n",
       "    }\n",
       "\n",
       "    .dataframe thead th {\n",
       "        text-align: right;\n",
       "    }\n",
       "</style>\n",
       "<table border=\"1\" class=\"dataframe\">\n",
       "  <thead>\n",
       "    <tr style=\"text-align: right;\">\n",
       "      <th></th>\n",
       "      <th>vif</th>\n",
       "    </tr>\n",
       "  </thead>\n",
       "  <tbody>\n",
       "    <tr>\n",
       "      <td>const</td>\n",
       "      <td>197.703826</td>\n",
       "    </tr>\n",
       "    <tr>\n",
       "      <td>male</td>\n",
       "      <td>1.197415</td>\n",
       "    </tr>\n",
       "    <tr>\n",
       "      <td>age</td>\n",
       "      <td>1.368623</td>\n",
       "    </tr>\n",
       "    <tr>\n",
       "      <td>education</td>\n",
       "      <td>1.052772</td>\n",
       "    </tr>\n",
       "    <tr>\n",
       "      <td>currentSmoker</td>\n",
       "      <td>2.490359</td>\n",
       "    </tr>\n",
       "    <tr>\n",
       "      <td>cigsPerDay</td>\n",
       "      <td>2.618425</td>\n",
       "    </tr>\n",
       "    <tr>\n",
       "      <td>BPMeds</td>\n",
       "      <td>1.097285</td>\n",
       "    </tr>\n",
       "    <tr>\n",
       "      <td>prevalentStroke</td>\n",
       "      <td>1.018798</td>\n",
       "    </tr>\n",
       "    <tr>\n",
       "      <td>prevalentHyp</td>\n",
       "      <td>2.050602</td>\n",
       "    </tr>\n",
       "    <tr>\n",
       "      <td>diabetes</td>\n",
       "      <td>1.551588</td>\n",
       "    </tr>\n",
       "    <tr>\n",
       "      <td>totChol</td>\n",
       "      <td>1.104573</td>\n",
       "    </tr>\n",
       "    <tr>\n",
       "      <td>sysBP</td>\n",
       "      <td>3.733003</td>\n",
       "    </tr>\n",
       "    <tr>\n",
       "      <td>diaBP</td>\n",
       "      <td>2.961913</td>\n",
       "    </tr>\n",
       "    <tr>\n",
       "      <td>BMI</td>\n",
       "      <td>1.234955</td>\n",
       "    </tr>\n",
       "    <tr>\n",
       "      <td>heartRate</td>\n",
       "      <td>1.095442</td>\n",
       "    </tr>\n",
       "    <tr>\n",
       "      <td>glucose</td>\n",
       "      <td>1.569448</td>\n",
       "    </tr>\n",
       "  </tbody>\n",
       "</table>\n",
       "</div>"
      ],
      "text/plain": [
       "                        vif\n",
       "const            197.703826\n",
       "male               1.197415\n",
       "age                1.368623\n",
       "education          1.052772\n",
       "currentSmoker      2.490359\n",
       "cigsPerDay         2.618425\n",
       "BPMeds             1.097285\n",
       "prevalentStroke    1.018798\n",
       "prevalentHyp       2.050602\n",
       "diabetes           1.551588\n",
       "totChol            1.104573\n",
       "sysBP              3.733003\n",
       "diaBP              2.961913\n",
       "BMI                1.234955\n",
       "heartRate          1.095442\n",
       "glucose            1.569448"
      ]
     },
     "execution_count": 35,
     "metadata": {
      "tags": []
     },
     "output_type": "execute_result"
    }
   ],
   "source": [
    "from statsmodels.stats.outliers_influence \\ \n",
    "import variance_inflation_factor as vif\n",
    "\n",
    "pd.DataFrame(  [vif(xc.values, i) for i in range(xc.shape[1])]   ,\\\n",
    "             index=xc.columns, columns=['vif']  )"
   ]
  },
  {
   "cell_type": "markdown",
   "metadata": {
    "id": "ikJ8K9rmbxfx"
   },
   "source": [
    "### building logistic regression model"
   ]
  },
  {
   "cell_type": "code",
   "execution_count": null,
   "metadata": {
    "id": "gNdRhGdGbxfx",
    "outputId": "75dd5bee-013b-4c1b-cc58-2598a7f75319",
    "scrolled": false
   },
   "outputs": [
    {
     "name": "stdout",
     "output_type": "stream",
     "text": [
      "Optimization terminated successfully.\n",
      "         Current function value: 0.378369\n",
      "         Iterations 7\n"
     ]
    },
    {
     "data": {
      "text/html": [
       "<table class=\"simpletable\">\n",
       "<caption>Logit Regression Results</caption>\n",
       "<tr>\n",
       "  <th>Dep. Variable:</th>      <td>TenYearCHD</td>    <th>  No. Observations:  </th>  <td>  4240</td>  \n",
       "</tr>\n",
       "<tr>\n",
       "  <th>Model:</th>                 <td>Logit</td>      <th>  Df Residuals:      </th>  <td>  4224</td>  \n",
       "</tr>\n",
       "<tr>\n",
       "  <th>Method:</th>                 <td>MLE</td>       <th>  Df Model:          </th>  <td>    15</td>  \n",
       "</tr>\n",
       "<tr>\n",
       "  <th>Date:</th>            <td>Tue, 03 Mar 2020</td> <th>  Pseudo R-squ.:     </th>  <td>0.1117</td>  \n",
       "</tr>\n",
       "<tr>\n",
       "  <th>Time:</th>                <td>10:24:37</td>     <th>  Log-Likelihood:    </th> <td> -1604.3</td> \n",
       "</tr>\n",
       "<tr>\n",
       "  <th>converged:</th>             <td>True</td>       <th>  LL-Null:           </th> <td> -1806.1</td> \n",
       "</tr>\n",
       "<tr>\n",
       "  <th>Covariance Type:</th>     <td>nonrobust</td>    <th>  LLR p-value:       </th> <td>1.189e-76</td>\n",
       "</tr>\n",
       "</table>\n",
       "<table class=\"simpletable\">\n",
       "<tr>\n",
       "         <td></td>            <th>coef</th>     <th>std err</th>      <th>z</th>      <th>P>|z|</th>  <th>[0.025</th>    <th>0.975]</th>  \n",
       "</tr>\n",
       "<tr>\n",
       "  <th>const</th>           <td>   -8.1133</td> <td>    0.664</td> <td>  -12.224</td> <td> 0.000</td> <td>   -9.414</td> <td>   -6.812</td>\n",
       "</tr>\n",
       "<tr>\n",
       "  <th>male</th>            <td>    0.5068</td> <td>    0.101</td> <td>    5.043</td> <td> 0.000</td> <td>    0.310</td> <td>    0.704</td>\n",
       "</tr>\n",
       "<tr>\n",
       "  <th>age</th>             <td>    0.0619</td> <td>    0.006</td> <td>    9.960</td> <td> 0.000</td> <td>    0.050</td> <td>    0.074</td>\n",
       "</tr>\n",
       "<tr>\n",
       "  <th>education</th>       <td>   -0.0168</td> <td>    0.046</td> <td>   -0.368</td> <td> 0.713</td> <td>   -0.106</td> <td>    0.072</td>\n",
       "</tr>\n",
       "<tr>\n",
       "  <th>currentSmoker</th>   <td>    0.0136</td> <td>    0.144</td> <td>    0.094</td> <td> 0.925</td> <td>   -0.268</td> <td>    0.295</td>\n",
       "</tr>\n",
       "<tr>\n",
       "  <th>cigsPerDay</th>      <td>    0.0212</td> <td>    0.006</td> <td>    3.736</td> <td> 0.000</td> <td>    0.010</td> <td>    0.032</td>\n",
       "</tr>\n",
       "<tr>\n",
       "  <th>BPMeds</th>          <td>    0.2668</td> <td>    0.217</td> <td>    1.227</td> <td> 0.220</td> <td>   -0.160</td> <td>    0.693</td>\n",
       "</tr>\n",
       "<tr>\n",
       "  <th>prevalentStroke</th> <td>    0.9610</td> <td>    0.442</td> <td>    2.175</td> <td> 0.030</td> <td>    0.095</td> <td>    1.827</td>\n",
       "</tr>\n",
       "<tr>\n",
       "  <th>prevalentHyp</th>    <td>    0.2298</td> <td>    0.128</td> <td>    1.789</td> <td> 0.074</td> <td>   -0.022</td> <td>    0.482</td>\n",
       "</tr>\n",
       "<tr>\n",
       "  <th>diabetes</th>        <td>    0.2171</td> <td>    0.290</td> <td>    0.748</td> <td> 0.454</td> <td>   -0.352</td> <td>    0.786</td>\n",
       "</tr>\n",
       "<tr>\n",
       "  <th>totChol</th>         <td>    0.0021</td> <td>    0.001</td> <td>    2.030</td> <td> 0.042</td> <td> 7.15e-05</td> <td>    0.004</td>\n",
       "</tr>\n",
       "<tr>\n",
       "  <th>sysBP</th>           <td>    0.0141</td> <td>    0.004</td> <td>    3.984</td> <td> 0.000</td> <td>    0.007</td> <td>    0.021</td>\n",
       "</tr>\n",
       "<tr>\n",
       "  <th>diaBP</th>           <td>   -0.0029</td> <td>    0.006</td> <td>   -0.492</td> <td> 0.623</td> <td>   -0.015</td> <td>    0.009</td>\n",
       "</tr>\n",
       "<tr>\n",
       "  <th>BMI</th>             <td>    0.0028</td> <td>    0.012</td> <td>    0.239</td> <td> 0.811</td> <td>   -0.020</td> <td>    0.026</td>\n",
       "</tr>\n",
       "<tr>\n",
       "  <th>heartRate</th>       <td>   -0.0015</td> <td>    0.004</td> <td>   -0.397</td> <td> 0.691</td> <td>   -0.009</td> <td>    0.006</td>\n",
       "</tr>\n",
       "<tr>\n",
       "  <th>glucose</th>         <td>    0.0064</td> <td>    0.002</td> <td>    3.077</td> <td> 0.002</td> <td>    0.002</td> <td>    0.011</td>\n",
       "</tr>\n",
       "</table>"
      ],
      "text/plain": [
       "<class 'statsmodels.iolib.summary.Summary'>\n",
       "\"\"\"\n",
       "                           Logit Regression Results                           \n",
       "==============================================================================\n",
       "Dep. Variable:             TenYearCHD   No. Observations:                 4240\n",
       "Model:                          Logit   Df Residuals:                     4224\n",
       "Method:                           MLE   Df Model:                           15\n",
       "Date:                Tue, 03 Mar 2020   Pseudo R-squ.:                  0.1117\n",
       "Time:                        10:24:37   Log-Likelihood:                -1604.3\n",
       "converged:                       True   LL-Null:                       -1806.1\n",
       "Covariance Type:            nonrobust   LLR p-value:                 1.189e-76\n",
       "===================================================================================\n",
       "                      coef    std err          z      P>|z|      [0.025      0.975]\n",
       "-----------------------------------------------------------------------------------\n",
       "const              -8.1133      0.664    -12.224      0.000      -9.414      -6.812\n",
       "male                0.5068      0.101      5.043      0.000       0.310       0.704\n",
       "age                 0.0619      0.006      9.960      0.000       0.050       0.074\n",
       "education          -0.0168      0.046     -0.368      0.713      -0.106       0.072\n",
       "currentSmoker       0.0136      0.144      0.094      0.925      -0.268       0.295\n",
       "cigsPerDay          0.0212      0.006      3.736      0.000       0.010       0.032\n",
       "BPMeds              0.2668      0.217      1.227      0.220      -0.160       0.693\n",
       "prevalentStroke     0.9610      0.442      2.175      0.030       0.095       1.827\n",
       "prevalentHyp        0.2298      0.128      1.789      0.074      -0.022       0.482\n",
       "diabetes            0.2171      0.290      0.748      0.454      -0.352       0.786\n",
       "totChol             0.0021      0.001      2.030      0.042    7.15e-05       0.004\n",
       "sysBP               0.0141      0.004      3.984      0.000       0.007       0.021\n",
       "diaBP              -0.0029      0.006     -0.492      0.623      -0.015       0.009\n",
       "BMI                 0.0028      0.012      0.239      0.811      -0.020       0.026\n",
       "heartRate          -0.0015      0.004     -0.397      0.691      -0.009       0.006\n",
       "glucose             0.0064      0.002      3.077      0.002       0.002       0.011\n",
       "===================================================================================\n",
       "\"\"\""
      ]
     },
     "execution_count": 36,
     "metadata": {
      "tags": []
     },
     "output_type": "execute_result"
    }
   ],
   "source": [
    "model= sm.Logit(y,xc, random_state=3).fit()\n",
    "model.summary()"
   ]
  },
  {
   "cell_type": "markdown",
   "metadata": {
    "id": "XPZg3Vn2bxfz"
   },
   "source": [
    "###\n",
    "pvalue for age=0.000:  \n",
    "0.000 is the prob of setting |b_age|>=0.0624 when h0 is true"
   ]
  },
  {
   "cell_type": "markdown",
   "metadata": {
    "id": "tFCu9lNnbxfz"
   },
   "source": [
    "### backward elimination to remove insignificant features iteratively"
   ]
  },
  {
   "cell_type": "code",
   "execution_count": null,
   "metadata": {
    "id": "QXN3Qlq5bxf0",
    "outputId": "414a4375-f96d-4696-fcdf-8041413e9ffd"
   },
   "outputs": [
    {
     "data": {
      "text/plain": [
       "const              2.309987e-34\n",
       "male               4.583750e-07\n",
       "age                2.275052e-23\n",
       "education          7.125524e-01\n",
       "currentSmoker      9.248067e-01\n",
       "cigsPerDay         1.870401e-04\n",
       "BPMeds             2.199894e-01\n",
       "prevalentStroke    2.963039e-02\n",
       "prevalentHyp       7.364671e-02\n",
       "diabetes           4.543832e-01\n",
       "totChol            4.233827e-02\n",
       "sysBP              6.785667e-05\n",
       "diaBP              6.229991e-01\n",
       "BMI                8.107605e-01\n",
       "heartRate          6.911357e-01\n",
       "glucose            2.093535e-03\n",
       "dtype: float64"
      ]
     },
     "execution_count": 37,
     "metadata": {
      "tags": []
     },
     "output_type": "execute_result"
    }
   ],
   "source": [
    "p=model.pvalues\n",
    "p"
   ]
  },
  {
   "cell_type": "code",
   "execution_count": null,
   "metadata": {
    "id": "L8Hufnnbbxf2",
    "outputId": "a0786e48-eaa5-43e6-ee5c-5c64d66db56b"
   },
   "outputs": [
    {
     "name": "stdout",
     "output_type": "stream",
     "text": [
      "Optimization terminated successfully.\n",
      "         Current function value: 0.378369\n",
      "         Iterations 7\n",
      "\n",
      "\n",
      "column removed:  currentSmoker prob:  0.9248067145320604\n",
      "Optimization terminated successfully.\n",
      "         Current function value: 0.378370\n",
      "         Iterations 7\n",
      "\n",
      "\n",
      "column removed:  BMI prob:  0.8183474351558162\n",
      "Optimization terminated successfully.\n",
      "         Current function value: 0.378376\n",
      "         Iterations 7\n",
      "\n",
      "\n",
      "column removed:  heartRate prob:  0.6936547572101264\n",
      "Optimization terminated successfully.\n",
      "         Current function value: 0.378395\n",
      "         Iterations 7\n",
      "\n",
      "\n",
      "column removed:  education prob:  0.7021584464005117\n",
      "Optimization terminated successfully.\n",
      "         Current function value: 0.378412\n",
      "         Iterations 7\n",
      "\n",
      "\n",
      "column removed:  diaBP prob:  0.6177168524266301\n",
      "Optimization terminated successfully.\n",
      "         Current function value: 0.378441\n",
      "         Iterations 7\n",
      "\n",
      "\n",
      "column removed:  diabetes prob:  0.430019871794435\n",
      "Optimization terminated successfully.\n",
      "         Current function value: 0.378513\n",
      "         Iterations 7\n",
      "\n",
      "\n",
      "column removed:  BPMeds prob:  0.207121449066072\n",
      "Optimization terminated successfully.\n",
      "         Current function value: 0.378697\n",
      "         Iterations 7\n",
      "\n",
      "\n",
      "column removed:  prevalentHyp prob:  0.06386738963096576\n",
      "Optimization terminated successfully.\n",
      "         Current function value: 0.379099\n",
      "         Iterations 7\n"
     ]
    },
    {
     "data": {
      "text/plain": [
       "['const',\n",
       " 'male',\n",
       " 'age',\n",
       " 'cigsPerDay',\n",
       " 'prevalentStroke',\n",
       " 'totChol',\n",
       " 'sysBP',\n",
       " 'glucose']"
      ]
     },
     "execution_count": 38,
     "metadata": {
      "tags": []
     },
     "output_type": "execute_result"
    }
   ],
   "source": [
    "\n",
    "cols=list(xc.columns)\n",
    "while len(cols)>1:\n",
    "    x_1= xc[cols]\n",
    "    model=sm.Logit(y,x_1, random_state=3).fit()\n",
    "    p=model.pvalues\n",
    "    max_p= max(p)\n",
    "    feature_maxp= p.idxmax()\n",
    "    \n",
    "    if max_p>0.05:\n",
    "        print('\\n')\n",
    "        print('column removed: ', feature_maxp, 'prob: ', max_p)\n",
    "        cols.remove(feature_maxp)\n",
    "    else:\n",
    "        break\n",
    "        \n",
    "cols"
   ]
  },
  {
   "cell_type": "code",
   "execution_count": null,
   "metadata": {
    "id": "TueHVqIYbxf4",
    "outputId": "56234a46-4ea2-4cfc-a88d-7d100e1b97b5"
   },
   "outputs": [
    {
     "name": "stdout",
     "output_type": "stream",
     "text": [
      "Optimization terminated successfully.\n",
      "         Current function value: 0.379099\n",
      "         Iterations 7\n"
     ]
    },
    {
     "data": {
      "text/html": [
       "<table class=\"simpletable\">\n",
       "<caption>Logit Regression Results</caption>\n",
       "<tr>\n",
       "  <th>Dep. Variable:</th>      <td>TenYearCHD</td>    <th>  No. Observations:  </th>  <td>  4240</td>  \n",
       "</tr>\n",
       "<tr>\n",
       "  <th>Model:</th>                 <td>Logit</td>      <th>  Df Residuals:      </th>  <td>  4232</td>  \n",
       "</tr>\n",
       "<tr>\n",
       "  <th>Method:</th>                 <td>MLE</td>       <th>  Df Model:          </th>  <td>     7</td>  \n",
       "</tr>\n",
       "<tr>\n",
       "  <th>Date:</th>            <td>Tue, 03 Mar 2020</td> <th>  Pseudo R-squ.:     </th>  <td>0.1100</td>  \n",
       "</tr>\n",
       "<tr>\n",
       "  <th>Time:</th>                <td>10:24:38</td>     <th>  Log-Likelihood:    </th> <td> -1607.4</td> \n",
       "</tr>\n",
       "<tr>\n",
       "  <th>converged:</th>             <td>True</td>       <th>  LL-Null:           </th> <td> -1806.1</td> \n",
       "</tr>\n",
       "<tr>\n",
       "  <th>Covariance Type:</th>     <td>nonrobust</td>    <th>  LLR p-value:       </th> <td>8.410e-82</td>\n",
       "</tr>\n",
       "</table>\n",
       "<table class=\"simpletable\">\n",
       "<tr>\n",
       "         <td></td>            <th>coef</th>     <th>std err</th>      <th>z</th>      <th>P>|z|</th>  <th>[0.025</th>    <th>0.975]</th>  \n",
       "</tr>\n",
       "<tr>\n",
       "  <th>const</th>           <td>   -8.8484</td> <td>    0.438</td> <td>  -20.220</td> <td> 0.000</td> <td>   -9.706</td> <td>   -7.991</td>\n",
       "</tr>\n",
       "<tr>\n",
       "  <th>male</th>            <td>    0.5096</td> <td>    0.098</td> <td>    5.184</td> <td> 0.000</td> <td>    0.317</td> <td>    0.702</td>\n",
       "</tr>\n",
       "<tr>\n",
       "  <th>age</th>             <td>    0.0635</td> <td>    0.006</td> <td>   10.632</td> <td> 0.000</td> <td>    0.052</td> <td>    0.075</td>\n",
       "</tr>\n",
       "<tr>\n",
       "  <th>cigsPerDay</th>      <td>    0.0212</td> <td>    0.004</td> <td>    5.510</td> <td> 0.000</td> <td>    0.014</td> <td>    0.029</td>\n",
       "</tr>\n",
       "<tr>\n",
       "  <th>prevalentStroke</th> <td>    1.0675</td> <td>    0.437</td> <td>    2.443</td> <td> 0.015</td> <td>    0.211</td> <td>    1.924</td>\n",
       "</tr>\n",
       "<tr>\n",
       "  <th>totChol</th>         <td>    0.0021</td> <td>    0.001</td> <td>    2.081</td> <td> 0.037</td> <td>    0.000</td> <td>    0.004</td>\n",
       "</tr>\n",
       "<tr>\n",
       "  <th>sysBP</th>           <td>    0.0167</td> <td>    0.002</td> <td>    8.299</td> <td> 0.000</td> <td>    0.013</td> <td>    0.021</td>\n",
       "</tr>\n",
       "<tr>\n",
       "  <th>glucose</th>         <td>    0.0074</td> <td>    0.002</td> <td>    4.579</td> <td> 0.000</td> <td>    0.004</td> <td>    0.011</td>\n",
       "</tr>\n",
       "</table>"
      ],
      "text/plain": [
       "<class 'statsmodels.iolib.summary.Summary'>\n",
       "\"\"\"\n",
       "                           Logit Regression Results                           \n",
       "==============================================================================\n",
       "Dep. Variable:             TenYearCHD   No. Observations:                 4240\n",
       "Model:                          Logit   Df Residuals:                     4232\n",
       "Method:                           MLE   Df Model:                            7\n",
       "Date:                Tue, 03 Mar 2020   Pseudo R-squ.:                  0.1100\n",
       "Time:                        10:24:38   Log-Likelihood:                -1607.4\n",
       "converged:                       True   LL-Null:                       -1806.1\n",
       "Covariance Type:            nonrobust   LLR p-value:                 8.410e-82\n",
       "===================================================================================\n",
       "                      coef    std err          z      P>|z|      [0.025      0.975]\n",
       "-----------------------------------------------------------------------------------\n",
       "const              -8.8484      0.438    -20.220      0.000      -9.706      -7.991\n",
       "male                0.5096      0.098      5.184      0.000       0.317       0.702\n",
       "age                 0.0635      0.006     10.632      0.000       0.052       0.075\n",
       "cigsPerDay          0.0212      0.004      5.510      0.000       0.014       0.029\n",
       "prevalentStroke     1.0675      0.437      2.443      0.015       0.211       1.924\n",
       "totChol             0.0021      0.001      2.081      0.037       0.000       0.004\n",
       "sysBP               0.0167      0.002      8.299      0.000       0.013       0.021\n",
       "glucose             0.0074      0.002      4.579      0.000       0.004       0.011\n",
       "===================================================================================\n",
       "\"\"\""
      ]
     },
     "execution_count": 39,
     "metadata": {
      "tags": []
     },
     "output_type": "execute_result"
    }
   ],
   "source": [
    "model=sm.Logit(y, xc[cols]).fit()\n",
    "model.summary()"
   ]
  },
  {
   "cell_type": "code",
   "execution_count": null,
   "metadata": {
    "id": "PbJRCV8Ubxf6",
    "outputId": "900a3b04-62ba-4227-8d85-2dbf45a669d0"
   },
   "outputs": [
    {
     "data": {
      "text/html": [
       "<div>\n",
       "<style scoped>\n",
       "    .dataframe tbody tr th:only-of-type {\n",
       "        vertical-align: middle;\n",
       "    }\n",
       "\n",
       "    .dataframe tbody tr th {\n",
       "        vertical-align: top;\n",
       "    }\n",
       "\n",
       "    .dataframe thead th {\n",
       "        text-align: right;\n",
       "    }\n",
       "</style>\n",
       "<table border=\"1\" class=\"dataframe\">\n",
       "  <thead>\n",
       "    <tr style=\"text-align: right;\">\n",
       "      <th></th>\n",
       "      <th>coefficients</th>\n",
       "      <th>exp_coefficients</th>\n",
       "    </tr>\n",
       "  </thead>\n",
       "  <tbody>\n",
       "    <tr>\n",
       "      <td>const</td>\n",
       "      <td>-8.848368</td>\n",
       "      <td>0.000144</td>\n",
       "    </tr>\n",
       "    <tr>\n",
       "      <td>male</td>\n",
       "      <td>0.509623</td>\n",
       "      <td>1.664664</td>\n",
       "    </tr>\n",
       "    <tr>\n",
       "      <td>age</td>\n",
       "      <td>0.063459</td>\n",
       "      <td>1.065516</td>\n",
       "    </tr>\n",
       "    <tr>\n",
       "      <td>cigsPerDay</td>\n",
       "      <td>0.021153</td>\n",
       "      <td>1.021378</td>\n",
       "    </tr>\n",
       "    <tr>\n",
       "      <td>prevalentStroke</td>\n",
       "      <td>1.067451</td>\n",
       "      <td>2.907957</td>\n",
       "    </tr>\n",
       "    <tr>\n",
       "      <td>totChol</td>\n",
       "      <td>0.002113</td>\n",
       "      <td>1.002115</td>\n",
       "    </tr>\n",
       "    <tr>\n",
       "      <td>sysBP</td>\n",
       "      <td>0.016687</td>\n",
       "      <td>1.016827</td>\n",
       "    </tr>\n",
       "    <tr>\n",
       "      <td>glucose</td>\n",
       "      <td>0.007373</td>\n",
       "      <td>1.007400</td>\n",
       "    </tr>\n",
       "  </tbody>\n",
       "</table>\n",
       "</div>"
      ],
      "text/plain": [
       "                 coefficients  exp_coefficients\n",
       "const               -8.848368          0.000144\n",
       "male                 0.509623          1.664664\n",
       "age                  0.063459          1.065516\n",
       "cigsPerDay           0.021153          1.021378\n",
       "prevalentStroke      1.067451          2.907957\n",
       "totChol              0.002113          1.002115\n",
       "sysBP                0.016687          1.016827\n",
       "glucose              0.007373          1.007400"
      ]
     },
     "execution_count": 40,
     "metadata": {
      "tags": []
     },
     "output_type": "execute_result"
    }
   ],
   "source": [
    "exp_b= pd.DataFrame({'coefficients': model.params,'exp_coefficients': np.exp(model.params)})\n",
    "exp_b"
   ]
  },
  {
   "cell_type": "markdown",
   "metadata": {
    "id": "y0l3uv91bxf8"
   },
   "source": [
    "### age"
   ]
  },
  {
   "cell_type": "markdown",
   "metadata": {
    "id": "vG0D9G3Mbxf9"
   },
   "source": [
    "1. positive sign of age indicate that prob of CHd increases with age\n",
    "2. log(odds) of CHD will increase by 0.0635 by unit change in age( 1 year change)   \n",
    "   log(odds)= a+bx : x:age, b=0.0635\n",
    "            \n",
    "3. exp_coeff   = 1.065516\n",
    "\n",
    "   exp_coeff-1 = 0.065516\n",
    "   \n",
    "   as age increses by 1 year, odds(CHd) increses by 6.55%"
   ]
  },
  {
   "cell_type": "markdown",
   "metadata": {
    "id": "MnQqpGv8Fion"
   },
   "source": []
  },
  {
   "cell_type": "markdown",
   "metadata": {
    "id": "74rmW2s1bxf9"
   },
   "source": [
    "### male"
   ]
  },
  {
   "cell_type": "markdown",
   "metadata": {
    "id": "lzyJZ-7Abxf9"
   },
   "source": [
    "since male is feature, female is base variable here, as this is dummy column\n",
    "\n",
    "1. positive sign of male coeff indicate that male gender is more prone to CHD compared to female\n",
    "2. log(odds) of CHD for male is higher by 0.509 compared to female\n",
    "3. odds of CHD of male is 66.466% more than female"
   ]
  },
  {
   "cell_type": "code",
   "execution_count": null,
   "metadata": {
    "id": "X2WO3w5rbxf-",
    "outputId": "7e3b284c-4a82-4d7c-f468-84396e03df7f",
    "scrolled": true
   },
   "outputs": [
    {
     "data": {
      "text/html": [
       "<div>\n",
       "<style scoped>\n",
       "    .dataframe tbody tr th:only-of-type {\n",
       "        vertical-align: middle;\n",
       "    }\n",
       "\n",
       "    .dataframe tbody tr th {\n",
       "        vertical-align: top;\n",
       "    }\n",
       "\n",
       "    .dataframe thead th {\n",
       "        text-align: right;\n",
       "    }\n",
       "</style>\n",
       "<table border=\"1\" class=\"dataframe\">\n",
       "  <thead>\n",
       "    <tr style=\"text-align: right;\">\n",
       "      <th></th>\n",
       "      <th>const</th>\n",
       "      <th>male</th>\n",
       "      <th>age</th>\n",
       "      <th>education</th>\n",
       "      <th>currentSmoker</th>\n",
       "      <th>cigsPerDay</th>\n",
       "      <th>BPMeds</th>\n",
       "      <th>prevalentStroke</th>\n",
       "      <th>prevalentHyp</th>\n",
       "      <th>diabetes</th>\n",
       "      <th>totChol</th>\n",
       "      <th>sysBP</th>\n",
       "      <th>diaBP</th>\n",
       "      <th>BMI</th>\n",
       "      <th>heartRate</th>\n",
       "      <th>glucose</th>\n",
       "    </tr>\n",
       "  </thead>\n",
       "  <tbody>\n",
       "    <tr>\n",
       "      <td>3546</td>\n",
       "      <td>1.0</td>\n",
       "      <td>0</td>\n",
       "      <td>54</td>\n",
       "      <td>1.0</td>\n",
       "      <td>0</td>\n",
       "      <td>0.0</td>\n",
       "      <td>0.0</td>\n",
       "      <td>0</td>\n",
       "      <td>0</td>\n",
       "      <td>0</td>\n",
       "      <td>241.0</td>\n",
       "      <td>106.0</td>\n",
       "      <td>77.0</td>\n",
       "      <td>27.64</td>\n",
       "      <td>78.0</td>\n",
       "      <td>74.0</td>\n",
       "    </tr>\n",
       "    <tr>\n",
       "      <td>1127</td>\n",
       "      <td>1.0</td>\n",
       "      <td>0</td>\n",
       "      <td>42</td>\n",
       "      <td>3.0</td>\n",
       "      <td>1</td>\n",
       "      <td>10.0</td>\n",
       "      <td>0.0</td>\n",
       "      <td>0</td>\n",
       "      <td>0</td>\n",
       "      <td>0</td>\n",
       "      <td>253.0</td>\n",
       "      <td>109.0</td>\n",
       "      <td>74.0</td>\n",
       "      <td>24.38</td>\n",
       "      <td>88.0</td>\n",
       "      <td>60.0</td>\n",
       "    </tr>\n",
       "    <tr>\n",
       "      <td>3088</td>\n",
       "      <td>1.0</td>\n",
       "      <td>0</td>\n",
       "      <td>58</td>\n",
       "      <td>1.0</td>\n",
       "      <td>0</td>\n",
       "      <td>0.0</td>\n",
       "      <td>1.0</td>\n",
       "      <td>1</td>\n",
       "      <td>1</td>\n",
       "      <td>0</td>\n",
       "      <td>274.0</td>\n",
       "      <td>159.0</td>\n",
       "      <td>90.0</td>\n",
       "      <td>28.40</td>\n",
       "      <td>72.0</td>\n",
       "      <td>81.0</td>\n",
       "    </tr>\n",
       "    <tr>\n",
       "      <td>437</td>\n",
       "      <td>1.0</td>\n",
       "      <td>1</td>\n",
       "      <td>45</td>\n",
       "      <td>1.0</td>\n",
       "      <td>1</td>\n",
       "      <td>30.0</td>\n",
       "      <td>0.0</td>\n",
       "      <td>0</td>\n",
       "      <td>0</td>\n",
       "      <td>0</td>\n",
       "      <td>240.0</td>\n",
       "      <td>141.0</td>\n",
       "      <td>89.0</td>\n",
       "      <td>25.01</td>\n",
       "      <td>95.0</td>\n",
       "      <td>76.0</td>\n",
       "    </tr>\n",
       "    <tr>\n",
       "      <td>3188</td>\n",
       "      <td>1.0</td>\n",
       "      <td>1</td>\n",
       "      <td>63</td>\n",
       "      <td>1.0</td>\n",
       "      <td>0</td>\n",
       "      <td>0.0</td>\n",
       "      <td>0.0</td>\n",
       "      <td>0</td>\n",
       "      <td>1</td>\n",
       "      <td>0</td>\n",
       "      <td>190.0</td>\n",
       "      <td>148.0</td>\n",
       "      <td>90.0</td>\n",
       "      <td>27.13</td>\n",
       "      <td>72.0</td>\n",
       "      <td>86.0</td>\n",
       "    </tr>\n",
       "    <tr>\n",
       "      <td>...</td>\n",
       "      <td>...</td>\n",
       "      <td>...</td>\n",
       "      <td>...</td>\n",
       "      <td>...</td>\n",
       "      <td>...</td>\n",
       "      <td>...</td>\n",
       "      <td>...</td>\n",
       "      <td>...</td>\n",
       "      <td>...</td>\n",
       "      <td>...</td>\n",
       "      <td>...</td>\n",
       "      <td>...</td>\n",
       "      <td>...</td>\n",
       "      <td>...</td>\n",
       "      <td>...</td>\n",
       "      <td>...</td>\n",
       "    </tr>\n",
       "    <tr>\n",
       "      <td>789</td>\n",
       "      <td>1.0</td>\n",
       "      <td>1</td>\n",
       "      <td>63</td>\n",
       "      <td>1.0</td>\n",
       "      <td>0</td>\n",
       "      <td>0.0</td>\n",
       "      <td>0.0</td>\n",
       "      <td>0</td>\n",
       "      <td>1</td>\n",
       "      <td>0</td>\n",
       "      <td>260.0</td>\n",
       "      <td>159.5</td>\n",
       "      <td>91.0</td>\n",
       "      <td>27.01</td>\n",
       "      <td>68.0</td>\n",
       "      <td>66.0</td>\n",
       "    </tr>\n",
       "    <tr>\n",
       "      <td>968</td>\n",
       "      <td>1.0</td>\n",
       "      <td>0</td>\n",
       "      <td>54</td>\n",
       "      <td>1.0</td>\n",
       "      <td>0</td>\n",
       "      <td>0.0</td>\n",
       "      <td>0.0</td>\n",
       "      <td>0</td>\n",
       "      <td>1</td>\n",
       "      <td>0</td>\n",
       "      <td>266.0</td>\n",
       "      <td>137.0</td>\n",
       "      <td>88.0</td>\n",
       "      <td>29.76</td>\n",
       "      <td>80.0</td>\n",
       "      <td>80.0</td>\n",
       "    </tr>\n",
       "    <tr>\n",
       "      <td>1667</td>\n",
       "      <td>1.0</td>\n",
       "      <td>0</td>\n",
       "      <td>56</td>\n",
       "      <td>1.0</td>\n",
       "      <td>1</td>\n",
       "      <td>3.0</td>\n",
       "      <td>0.0</td>\n",
       "      <td>0</td>\n",
       "      <td>1</td>\n",
       "      <td>0</td>\n",
       "      <td>285.0</td>\n",
       "      <td>145.0</td>\n",
       "      <td>100.0</td>\n",
       "      <td>30.14</td>\n",
       "      <td>80.0</td>\n",
       "      <td>86.0</td>\n",
       "    </tr>\n",
       "    <tr>\n",
       "      <td>3321</td>\n",
       "      <td>1.0</td>\n",
       "      <td>0</td>\n",
       "      <td>58</td>\n",
       "      <td>2.0</td>\n",
       "      <td>0</td>\n",
       "      <td>0.0</td>\n",
       "      <td>0.0</td>\n",
       "      <td>0</td>\n",
       "      <td>1</td>\n",
       "      <td>1</td>\n",
       "      <td>265.0</td>\n",
       "      <td>143.5</td>\n",
       "      <td>85.0</td>\n",
       "      <td>21.68</td>\n",
       "      <td>91.0</td>\n",
       "      <td>107.0</td>\n",
       "    </tr>\n",
       "    <tr>\n",
       "      <td>1688</td>\n",
       "      <td>1.0</td>\n",
       "      <td>0</td>\n",
       "      <td>40</td>\n",
       "      <td>4.0</td>\n",
       "      <td>1</td>\n",
       "      <td>15.0</td>\n",
       "      <td>0.0</td>\n",
       "      <td>0</td>\n",
       "      <td>0</td>\n",
       "      <td>0</td>\n",
       "      <td>155.0</td>\n",
       "      <td>121.0</td>\n",
       "      <td>86.0</td>\n",
       "      <td>23.16</td>\n",
       "      <td>70.0</td>\n",
       "      <td>59.0</td>\n",
       "    </tr>\n",
       "  </tbody>\n",
       "</table>\n",
       "<p>4240 rows × 16 columns</p>\n",
       "</div>"
      ],
      "text/plain": [
       "      const  male  age  education  currentSmoker  cigsPerDay  BPMeds  \\\n",
       "3546    1.0     0   54        1.0              0         0.0     0.0   \n",
       "1127    1.0     0   42        3.0              1        10.0     0.0   \n",
       "3088    1.0     0   58        1.0              0         0.0     1.0   \n",
       "437     1.0     1   45        1.0              1        30.0     0.0   \n",
       "3188    1.0     1   63        1.0              0         0.0     0.0   \n",
       "...     ...   ...  ...        ...            ...         ...     ...   \n",
       "789     1.0     1   63        1.0              0         0.0     0.0   \n",
       "968     1.0     0   54        1.0              0         0.0     0.0   \n",
       "1667    1.0     0   56        1.0              1         3.0     0.0   \n",
       "3321    1.0     0   58        2.0              0         0.0     0.0   \n",
       "1688    1.0     0   40        4.0              1        15.0     0.0   \n",
       "\n",
       "      prevalentStroke  prevalentHyp  diabetes  totChol  sysBP  diaBP    BMI  \\\n",
       "3546                0             0         0    241.0  106.0   77.0  27.64   \n",
       "1127                0             0         0    253.0  109.0   74.0  24.38   \n",
       "3088                1             1         0    274.0  159.0   90.0  28.40   \n",
       "437                 0             0         0    240.0  141.0   89.0  25.01   \n",
       "3188                0             1         0    190.0  148.0   90.0  27.13   \n",
       "...               ...           ...       ...      ...    ...    ...    ...   \n",
       "789                 0             1         0    260.0  159.5   91.0  27.01   \n",
       "968                 0             1         0    266.0  137.0   88.0  29.76   \n",
       "1667                0             1         0    285.0  145.0  100.0  30.14   \n",
       "3321                0             1         1    265.0  143.5   85.0  21.68   \n",
       "1688                0             0         0    155.0  121.0   86.0  23.16   \n",
       "\n",
       "      heartRate  glucose  \n",
       "3546       78.0     74.0  \n",
       "1127       88.0     60.0  \n",
       "3088       72.0     81.0  \n",
       "437        95.0     76.0  \n",
       "3188       72.0     86.0  \n",
       "...         ...      ...  \n",
       "789        68.0     66.0  \n",
       "968        80.0     80.0  \n",
       "1667       80.0     86.0  \n",
       "3321       91.0    107.0  \n",
       "1688       70.0     59.0  \n",
       "\n",
       "[4240 rows x 16 columns]"
      ]
     },
     "execution_count": 41,
     "metadata": {
      "tags": []
     },
     "output_type": "execute_result"
    }
   ],
   "source": [
    "xc"
   ]
  },
  {
   "cell_type": "code",
   "execution_count": null,
   "metadata": {
    "id": "CCLoZfS8bxgB",
    "outputId": "584c87e2-0d24-416f-e031-704af0b5d418"
   },
   "outputs": [
    {
     "data": {
      "text/plain": [
       "['const',\n",
       " 'male',\n",
       " 'age',\n",
       " 'cigsPerDay',\n",
       " 'prevalentStroke',\n",
       " 'totChol',\n",
       " 'sysBP',\n",
       " 'glucose']"
      ]
     },
     "execution_count": 42,
     "metadata": {
      "tags": []
     },
     "output_type": "execute_result"
    }
   ],
   "source": [
    "cols"
   ]
  },
  {
   "cell_type": "code",
   "execution_count": null,
   "metadata": {
    "id": "dNv-IXGzbxgG",
    "outputId": "2a03f9a3-bb76-43ba-b885-61041cf53637",
    "scrolled": true
   },
   "outputs": [
    {
     "data": {
      "text/plain": [
       "array([0, 0, 0, ..., 0, 0, 0], dtype=int64)"
      ]
     },
     "execution_count": 43,
     "metadata": {
      "tags": []
     },
     "output_type": "execute_result"
    }
   ],
   "source": [
    "y.values"
   ]
  },
  {
   "cell_type": "code",
   "execution_count": null,
   "metadata": {
    "id": "1B5aoZjXbxgM",
    "outputId": "6d66bae5-d87e-416a-9f14-813fec830fcb",
    "scrolled": true
   },
   "outputs": [
    {
     "name": "stderr",
     "output_type": "stream",
     "text": [
      "C:\\Users\\maghw\\Anaconda3\\lib\\site-packages\\ipykernel_launcher.py:2: SettingWithCopyWarning: \n",
      "A value is trying to be set on a copy of a slice from a DataFrame.\n",
      "Try using .loc[row_indexer,col_indexer] = value instead\n",
      "\n",
      "See the caveats in the documentation: http://pandas.pydata.org/pandas-docs/stable/user_guide/indexing.html#returning-a-view-versus-a-copy\n",
      "  \n"
     ]
    }
   ],
   "source": [
    "x_prob= xc[cols]\n",
    "x_prob['y']= y.values"
   ]
  },
  {
   "cell_type": "code",
   "execution_count": null,
   "metadata": {
    "id": "I9mbTJ94bxgP",
    "outputId": "d2c97a44-9f06-4f5e-b0b7-acf5ae493260",
    "scrolled": true
   },
   "outputs": [
    {
     "data": {
      "text/html": [
       "<div>\n",
       "<style scoped>\n",
       "    .dataframe tbody tr th:only-of-type {\n",
       "        vertical-align: middle;\n",
       "    }\n",
       "\n",
       "    .dataframe tbody tr th {\n",
       "        vertical-align: top;\n",
       "    }\n",
       "\n",
       "    .dataframe thead th {\n",
       "        text-align: right;\n",
       "    }\n",
       "</style>\n",
       "<table border=\"1\" class=\"dataframe\">\n",
       "  <thead>\n",
       "    <tr style=\"text-align: right;\">\n",
       "      <th></th>\n",
       "      <th>const</th>\n",
       "      <th>male</th>\n",
       "      <th>age</th>\n",
       "      <th>cigsPerDay</th>\n",
       "      <th>prevalentStroke</th>\n",
       "      <th>totChol</th>\n",
       "      <th>sysBP</th>\n",
       "      <th>glucose</th>\n",
       "      <th>y</th>\n",
       "    </tr>\n",
       "  </thead>\n",
       "  <tbody>\n",
       "    <tr>\n",
       "      <td>3546</td>\n",
       "      <td>1.0</td>\n",
       "      <td>0</td>\n",
       "      <td>54</td>\n",
       "      <td>0.0</td>\n",
       "      <td>0</td>\n",
       "      <td>241.0</td>\n",
       "      <td>106.0</td>\n",
       "      <td>74.0</td>\n",
       "      <td>0</td>\n",
       "    </tr>\n",
       "    <tr>\n",
       "      <td>1127</td>\n",
       "      <td>1.0</td>\n",
       "      <td>0</td>\n",
       "      <td>42</td>\n",
       "      <td>10.0</td>\n",
       "      <td>0</td>\n",
       "      <td>253.0</td>\n",
       "      <td>109.0</td>\n",
       "      <td>60.0</td>\n",
       "      <td>0</td>\n",
       "    </tr>\n",
       "    <tr>\n",
       "      <td>3088</td>\n",
       "      <td>1.0</td>\n",
       "      <td>0</td>\n",
       "      <td>58</td>\n",
       "      <td>0.0</td>\n",
       "      <td>1</td>\n",
       "      <td>274.0</td>\n",
       "      <td>159.0</td>\n",
       "      <td>81.0</td>\n",
       "      <td>0</td>\n",
       "    </tr>\n",
       "    <tr>\n",
       "      <td>437</td>\n",
       "      <td>1.0</td>\n",
       "      <td>1</td>\n",
       "      <td>45</td>\n",
       "      <td>30.0</td>\n",
       "      <td>0</td>\n",
       "      <td>240.0</td>\n",
       "      <td>141.0</td>\n",
       "      <td>76.0</td>\n",
       "      <td>0</td>\n",
       "    </tr>\n",
       "    <tr>\n",
       "      <td>3188</td>\n",
       "      <td>1.0</td>\n",
       "      <td>1</td>\n",
       "      <td>63</td>\n",
       "      <td>0.0</td>\n",
       "      <td>0</td>\n",
       "      <td>190.0</td>\n",
       "      <td>148.0</td>\n",
       "      <td>86.0</td>\n",
       "      <td>0</td>\n",
       "    </tr>\n",
       "  </tbody>\n",
       "</table>\n",
       "</div>"
      ],
      "text/plain": [
       "      const  male  age  cigsPerDay  prevalentStroke  totChol  sysBP  glucose  \\\n",
       "3546    1.0     0   54         0.0                0    241.0  106.0     74.0   \n",
       "1127    1.0     0   42        10.0                0    253.0  109.0     60.0   \n",
       "3088    1.0     0   58         0.0                1    274.0  159.0     81.0   \n",
       "437     1.0     1   45        30.0                0    240.0  141.0     76.0   \n",
       "3188    1.0     1   63         0.0                0    190.0  148.0     86.0   \n",
       "\n",
       "      y  \n",
       "3546  0  \n",
       "1127  0  \n",
       "3088  0  \n",
       "437   0  \n",
       "3188  0  "
      ]
     },
     "execution_count": 46,
     "metadata": {
      "tags": []
     },
     "output_type": "execute_result"
    }
   ],
   "source": [
    "x_prob.head()"
   ]
  },
  {
   "cell_type": "code",
   "execution_count": null,
   "metadata": {
    "id": "8p1KtIPFbxgS"
   },
   "outputs": [],
   "source": [
    "x_prob.to_csv('x_prob.csv')"
   ]
  },
  {
   "cell_type": "code",
   "execution_count": null,
   "metadata": {
    "id": "QlmVNLQHbxgU",
    "outputId": "1b67e924-840a-47b0-911b-589d9ae8f916"
   },
   "outputs": [
    {
     "data": {
      "text/plain": [
       "3546    0.069264\n",
       "1127    0.040086\n",
       "3088    0.432654\n",
       "437     0.193365\n",
       "3188    0.302438\n",
       "dtype: float64"
      ]
     },
     "execution_count": 48,
     "metadata": {
      "tags": []
     },
     "output_type": "execute_result"
    }
   ],
   "source": [
    "prob= model.predict(xc[cols])\n",
    "prob.head()"
   ]
  },
  {
   "cell_type": "code",
   "execution_count": null,
   "metadata": {
    "id": "7U832BiYbxgX",
    "outputId": "c23ba36d-1304-4897-8388-ad13684c9298"
   },
   "outputs": [
    {
     "data": {
      "text/plain": [
       "pandas.core.series.Series"
      ]
     },
     "execution_count": 49,
     "metadata": {
      "tags": []
     },
     "output_type": "execute_result"
    }
   ],
   "source": [
    "type(prob)"
   ]
  },
  {
   "cell_type": "code",
   "execution_count": null,
   "metadata": {
    "id": "HYlgi9a3bxgZ",
    "outputId": "6a004c1e-2c34-4cdf-8ba7-6778fce95b5b"
   },
   "outputs": [
    {
     "data": {
      "text/plain": [
       "3546    0.069264\n",
       "1127    0.040086\n",
       "3088    0.432654\n",
       "437     0.193365\n",
       "3188    0.302438\n",
       "          ...   \n",
       "789     0.344482\n",
       "968     0.120925\n",
       "1667    0.171440\n",
       "3321    0.193964\n",
       "1688    0.038748\n",
       "Length: 4240, dtype: float64"
      ]
     },
     "execution_count": 50,
     "metadata": {
      "tags": []
     },
     "output_type": "execute_result"
    }
   ],
   "source": [
    "prob"
   ]
  },
  {
   "cell_type": "code",
   "execution_count": null,
   "metadata": {
    "id": "WgGA7RSpbxgb",
    "outputId": "e97c45ed-c39e-4779-e8ab-a302126ef60d"
   },
   "outputs": [
    {
     "data": {
      "text/html": [
       "<div>\n",
       "<style scoped>\n",
       "    .dataframe tbody tr th:only-of-type {\n",
       "        vertical-align: middle;\n",
       "    }\n",
       "\n",
       "    .dataframe tbody tr th {\n",
       "        vertical-align: top;\n",
       "    }\n",
       "\n",
       "    .dataframe thead th {\n",
       "        text-align: right;\n",
       "    }\n",
       "</style>\n",
       "<table border=\"1\" class=\"dataframe\">\n",
       "  <thead>\n",
       "    <tr style=\"text-align: right;\">\n",
       "      <th></th>\n",
       "      <th>prob</th>\n",
       "    </tr>\n",
       "  </thead>\n",
       "  <tbody>\n",
       "    <tr>\n",
       "      <td>3546</td>\n",
       "      <td>0.069264</td>\n",
       "    </tr>\n",
       "    <tr>\n",
       "      <td>1127</td>\n",
       "      <td>0.040086</td>\n",
       "    </tr>\n",
       "    <tr>\n",
       "      <td>3088</td>\n",
       "      <td>0.432654</td>\n",
       "    </tr>\n",
       "    <tr>\n",
       "      <td>437</td>\n",
       "      <td>0.193365</td>\n",
       "    </tr>\n",
       "    <tr>\n",
       "      <td>3188</td>\n",
       "      <td>0.302438</td>\n",
       "    </tr>\n",
       "  </tbody>\n",
       "</table>\n",
       "</div>"
      ],
      "text/plain": [
       "          prob\n",
       "3546  0.069264\n",
       "1127  0.040086\n",
       "3088  0.432654\n",
       "437   0.193365\n",
       "3188  0.302438"
      ]
     },
     "execution_count": 51,
     "metadata": {
      "tags": []
     },
     "output_type": "execute_result"
    }
   ],
   "source": [
    "prob= pd.DataFrame(prob, columns=['prob'])\n",
    "prob.head()"
   ]
  },
  {
   "cell_type": "code",
   "execution_count": null,
   "metadata": {
    "id": "pzC2_QzXbxgd",
    "outputId": "1a374325-aa70-4350-b44b-9531b604d0a7"
   },
   "outputs": [
    {
     "data": {
      "text/plain": [
       "3546    0\n",
       "1127    0\n",
       "3088    0\n",
       "437     0\n",
       "3188    0\n",
       "Name: y_est, dtype: int64"
      ]
     },
     "execution_count": 52,
     "metadata": {
      "tags": []
     },
     "output_type": "execute_result"
    }
   ],
   "source": [
    "prob['y_est']=prob['prob'].apply(lambda x: 1 if x>=0.5 else 0)\n",
    "prob['y_est'].head()"
   ]
  },
  {
   "cell_type": "code",
   "execution_count": null,
   "metadata": {
    "id": "TipHgTqobxgg",
    "outputId": "bfef5d42-b0df-4730-ffa4-efcd84384fb9"
   },
   "outputs": [
    {
     "data": {
      "text/plain": [
       "array([[3573,   23],\n",
       "       [ 595,   49]], dtype=int64)"
      ]
     },
     "execution_count": 63,
     "metadata": {
      "tags": []
     },
     "output_type": "execute_result"
    }
   ],
   "source": [
    "from sklearn.metrics import confusion_matrix\n",
    "confusion_matrix(y, prob['y_est'])"
   ]
  },
  {
   "cell_type": "code",
   "execution_count": null,
   "metadata": {
    "id": "mt5yWdFSbxgk",
    "outputId": "3e0b2fea-019a-404a-cc13-1290144ef723"
   },
   "outputs": [
    {
     "data": {
      "text/html": [
       "<div>\n",
       "<style scoped>\n",
       "    .dataframe tbody tr th:only-of-type {\n",
       "        vertical-align: middle;\n",
       "    }\n",
       "\n",
       "    .dataframe tbody tr th {\n",
       "        vertical-align: top;\n",
       "    }\n",
       "\n",
       "    .dataframe thead th {\n",
       "        text-align: right;\n",
       "    }\n",
       "</style>\n",
       "<table border=\"1\" class=\"dataframe\">\n",
       "  <thead>\n",
       "    <tr style=\"text-align: right;\">\n",
       "      <th></th>\n",
       "      <th>prob</th>\n",
       "      <th>y_est</th>\n",
       "    </tr>\n",
       "  </thead>\n",
       "  <tbody>\n",
       "    <tr>\n",
       "      <td>3546</td>\n",
       "      <td>0.069264</td>\n",
       "      <td>0</td>\n",
       "    </tr>\n",
       "    <tr>\n",
       "      <td>1127</td>\n",
       "      <td>0.040086</td>\n",
       "      <td>0</td>\n",
       "    </tr>\n",
       "    <tr>\n",
       "      <td>3088</td>\n",
       "      <td>0.432654</td>\n",
       "      <td>0</td>\n",
       "    </tr>\n",
       "    <tr>\n",
       "      <td>437</td>\n",
       "      <td>0.193365</td>\n",
       "      <td>0</td>\n",
       "    </tr>\n",
       "    <tr>\n",
       "      <td>3188</td>\n",
       "      <td>0.302438</td>\n",
       "      <td>0</td>\n",
       "    </tr>\n",
       "  </tbody>\n",
       "</table>\n",
       "</div>"
      ],
      "text/plain": [
       "          prob  y_est\n",
       "3546  0.069264      0\n",
       "1127  0.040086      0\n",
       "3088  0.432654      0\n",
       "437   0.193365      0\n",
       "3188  0.302438      0"
      ]
     },
     "execution_count": 54,
     "metadata": {
      "tags": []
     },
     "output_type": "execute_result"
    }
   ],
   "source": [
    "prob.head()"
   ]
  },
  {
   "cell_type": "code",
   "execution_count": null,
   "metadata": {
    "id": "xt1kFAiWbxgn",
    "outputId": "bdfa0038-e6df-4aae-b74b-a8a94666ba4f"
   },
   "outputs": [
    {
     "data": {
      "text/plain": [
       "3546    0\n",
       "1127    0\n",
       "3088    0\n",
       "437     0\n",
       "3188    0\n",
       "       ..\n",
       "789     0\n",
       "968     0\n",
       "1667    0\n",
       "3321    0\n",
       "1688    0\n",
       "Name: y, Length: 4240, dtype: int64"
      ]
     },
     "execution_count": 57,
     "metadata": {
      "tags": []
     },
     "output_type": "execute_result"
    }
   ],
   "source": [
    "prob['y']=y.values\n",
    "prob['y']"
   ]
  },
  {
   "cell_type": "code",
   "execution_count": null,
   "metadata": {
    "id": "Z6DPr5JWbxgp",
    "outputId": "b7e99ef7-f4fe-4180-a25e-c170702fa50c"
   },
   "outputs": [
    {
     "data": {
      "image/png": "[encoded data removed]",
      "text/plain": [
       "<Figure size 432x288 with 1 Axes>"
      ]
     },
     "metadata": {
      "needs_background": "light",
      "tags": []
     },
     "output_type": "display_data"
    }
   ],
   "source": [
    "df0=prob[prob['y']==0]\n",
    "df1=prob[prob['y']==1]\n",
    "\n",
    "sns.distplot(df0['prob'], color='r')\n",
    "sns.distplot(df1['prob'], color='g')\n",
    "plt.show()"
   ]
  },
  {
   "cell_type": "markdown",
   "metadata": {
    "id": "pAP1w2NDbxgr"
   },
   "source": [
    "## classification  report "
   ]
  },
  {
   "cell_type": "code",
   "execution_count": null,
   "metadata": {
    "id": "Y6nHJflKbxgs"
   },
   "outputs": [],
   "source": [
    "from sklearn.metrics import classification_report, accuracy_score"
   ]
  },
  {
   "cell_type": "code",
   "execution_count": null,
   "metadata": {
    "id": "Z8F9Q5fMbxgt",
    "outputId": "d86866a3-b4ae-4eac-a984-9d1ce11f22f6"
   },
   "outputs": [
    {
     "data": {
      "text/plain": [
       "array([[3573,   23],\n",
       "       [ 595,   49]], dtype=int64)"
      ]
     },
     "execution_count": 65,
     "metadata": {
      "tags": []
     },
     "output_type": "execute_result"
    }
   ],
   "source": [
    "confusion_matrix(y,prob['y_est'])"
   ]
  },
  {
   "cell_type": "code",
   "execution_count": null,
   "metadata": {
    "id": "mWd3zFSgbxgv",
    "outputId": "2912a8be-95cc-4e9d-9767-90e7685a6071"
   },
   "outputs": [
    {
     "data": {
      "text/plain": [
       "0.8542452830188679"
      ]
     },
     "execution_count": 61,
     "metadata": {
      "tags": []
     },
     "output_type": "execute_result"
    }
   ],
   "source": [
    "accuracy_score(y, prob['y_est'])"
   ]
  },
  {
   "cell_type": "markdown",
   "metadata": {
    "id": "fbqPZg0nbxgw"
   },
   "source": [
    "## roc analysis"
   ]
  },
  {
   "cell_type": "code",
   "execution_count": null,
   "metadata": {
    "id": "CCDiLYyFbxgx"
   },
   "outputs": [],
   "source": [
    "from sklearn.metrics import roc_auc_score, roc_curve"
   ]
  },
  {
   "cell_type": "code",
   "execution_count": null,
   "metadata": {
    "id": "NghmbC_pbxg1",
    "outputId": "7eba066d-fb99-48b8-c6a4-a887fd612c7e"
   },
   "outputs": [
    {
     "data": {
      "text/plain": [
       "0.7304199282847056"
      ]
     },
     "execution_count": 68,
     "metadata": {
      "tags": []
     },
     "output_type": "execute_result"
    }
   ],
   "source": [
    "roc_auc_score(y, prob['prob'])"
   ]
  },
  {
   "cell_type": "code",
   "execution_count": null,
   "metadata": {
    "id": "SPiogejTbxg3",
    "outputId": "270f8563-a5d0-4618-d497-6bfae226f48a"
   },
   "outputs": [
    {
     "name": "stdout",
     "output_type": "stream",
     "text": [
      "auc value of model:  0.7304199282847056\n"
     ]
    }
   ],
   "source": [
    "print('auc value of model: ',roc_auc_score(y, prob['prob']))"
   ]
  },
  {
   "cell_type": "code",
   "execution_count": null,
   "metadata": {
    "id": "wCCTvHo7bxg7"
   },
   "outputs": [],
   "source": [
    "fpr, tpr, thesholds= roc_curve(y, prob['prob'])"
   ]
  },
  {
   "cell_type": "code",
   "execution_count": null,
   "metadata": {
    "id": "D14qJNuhbxg9",
    "outputId": "7cd7370c-0b5d-4c66-ccc6-4dae014986c1"
   },
   "outputs": [
    {
     "data": {
      "text/plain": [
       "array([0.00000000e+00, 0.00000000e+00, 0.00000000e+00, 2.78086763e-04,\n",
       "       2.78086763e-04, 5.56173526e-04, 5.56173526e-04, 8.34260289e-04,\n",
       "       8.34260289e-04, 1.39043382e-03, 1.39043382e-03, 2.22469410e-03,\n",
       "       2.22469410e-03, 2.50278087e-03, 2.50278087e-03, 2.78086763e-03,\n",
       "       2.78086763e-03, 3.33704116e-03, 3.33704116e-03, 3.61512792e-03,\n",
       "       3.61512792e-03, 3.89321468e-03, 3.89321468e-03, 4.44938821e-03,\n",
       "       4.44938821e-03, 4.72747497e-03, 4.72747497e-03, 5.00556174e-03,\n",
       "       5.00556174e-03, 5.28364850e-03, 5.28364850e-03, 6.67408231e-03,\n",
       "       6.67408231e-03, 7.23025584e-03, 7.23025584e-03, 8.89877642e-03,\n",
       "       8.89877642e-03, 9.73303671e-03, 9.73303671e-03, 1.02892102e-02,\n",
       "       1.02892102e-02, 1.16796440e-02, 1.16796440e-02, 1.25139043e-02,\n",
       "       1.25139043e-02, 1.27919911e-02, 1.27919911e-02, 1.36262514e-02,\n",
       "       1.36262514e-02, 1.44605117e-02, 1.44605117e-02, 1.47385984e-02,\n",
       "       1.47385984e-02, 1.50166852e-02, 1.50166852e-02, 1.52947720e-02,\n",
       "       1.52947720e-02, 1.55728587e-02, 1.55728587e-02, 1.58509455e-02,\n",
       "       1.58509455e-02, 1.66852058e-02, 1.66852058e-02, 1.72413793e-02,\n",
       "       1.72413793e-02, 1.75194661e-02, 1.75194661e-02, 1.80756396e-02,\n",
       "       1.80756396e-02, 1.83537264e-02, 1.83537264e-02, 1.89098999e-02,\n",
       "       1.89098999e-02, 1.97441602e-02, 1.97441602e-02, 2.19688543e-02,\n",
       "       2.19688543e-02, 2.25250278e-02, 2.25250278e-02, 2.36373749e-02,\n",
       "       2.36373749e-02, 2.41935484e-02, 2.41935484e-02, 2.47497219e-02,\n",
       "       2.47497219e-02, 2.50278087e-02, 2.50278087e-02, 2.58620690e-02,\n",
       "       2.58620690e-02, 2.69744160e-02, 2.69744160e-02, 2.80867631e-02,\n",
       "       2.80867631e-02, 2.83648498e-02, 2.83648498e-02, 2.86429366e-02,\n",
       "       2.86429366e-02, 2.89210234e-02, 2.89210234e-02, 3.11457175e-02,\n",
       "       3.11457175e-02, 3.19799778e-02, 3.19799778e-02, 3.22580645e-02,\n",
       "       3.22580645e-02, 3.25361513e-02, 3.25361513e-02, 3.28142380e-02,\n",
       "       3.28142380e-02, 3.39265851e-02, 3.39265851e-02, 3.42046719e-02,\n",
       "       3.42046719e-02, 3.44827586e-02, 3.44827586e-02, 3.55951057e-02,\n",
       "       3.55951057e-02, 3.64293660e-02, 3.64293660e-02, 3.72636263e-02,\n",
       "       3.72636263e-02, 3.80978865e-02, 3.80978865e-02, 3.83759733e-02,\n",
       "       3.83759733e-02, 3.94883204e-02, 3.94883204e-02, 3.97664071e-02,\n",
       "       3.97664071e-02, 4.00444939e-02, 4.00444939e-02, 4.03225806e-02,\n",
       "       4.03225806e-02, 4.14349277e-02, 4.14349277e-02, 4.47719689e-02,\n",
       "       4.47719689e-02, 4.53281424e-02, 4.53281424e-02, 4.72747497e-02,\n",
       "       4.72747497e-02, 4.89432703e-02, 4.89432703e-02, 4.97775306e-02,\n",
       "       4.97775306e-02, 5.14460512e-02, 5.14460512e-02, 5.17241379e-02,\n",
       "       5.17241379e-02, 5.28364850e-02, 5.28364850e-02, 5.42269188e-02,\n",
       "       5.42269188e-02, 5.56173526e-02, 5.56173526e-02, 5.61735261e-02,\n",
       "       5.61735261e-02, 5.72858732e-02, 5.72858732e-02, 5.75639600e-02,\n",
       "       5.75639600e-02, 6.11790879e-02, 6.11790879e-02, 6.28476085e-02,\n",
       "       6.28476085e-02, 6.39599555e-02, 6.39599555e-02, 6.45161290e-02,\n",
       "       6.45161290e-02, 6.53503893e-02, 6.53503893e-02, 6.59065628e-02,\n",
       "       6.59065628e-02, 6.61846496e-02, 6.61846496e-02, 6.67408231e-02,\n",
       "       6.67408231e-02, 6.89655172e-02, 6.89655172e-02, 6.95216908e-02,\n",
       "       6.95216908e-02, 7.23025584e-02, 7.23025584e-02, 7.50834260e-02,\n",
       "       7.50834260e-02, 7.67519466e-02, 7.67519466e-02, 7.73081201e-02,\n",
       "       7.73081201e-02, 7.89766407e-02, 7.89766407e-02, 7.95328142e-02,\n",
       "       7.95328142e-02, 7.98109010e-02, 7.98109010e-02, 8.14794216e-02,\n",
       "       8.14794216e-02, 8.23136819e-02, 8.23136819e-02, 8.39822024e-02,\n",
       "       8.39822024e-02, 8.42602892e-02, 8.42602892e-02, 8.45383760e-02,\n",
       "       8.45383760e-02, 8.48164627e-02, 8.48164627e-02, 8.53726363e-02,\n",
       "       8.53726363e-02, 8.56507230e-02, 8.56507230e-02, 8.59288098e-02,\n",
       "       8.59288098e-02, 8.62068966e-02, 8.62068966e-02, 8.67630701e-02,\n",
       "       8.67630701e-02, 8.89877642e-02, 8.89877642e-02, 8.92658509e-02,\n",
       "       8.92658509e-02, 8.98220245e-02, 8.98220245e-02, 9.03781980e-02,\n",
       "       9.03781980e-02, 9.09343715e-02, 9.09343715e-02, 9.31590656e-02,\n",
       "       9.31590656e-02, 9.39933259e-02, 9.39933259e-02, 9.48275862e-02,\n",
       "       9.48275862e-02, 9.51056730e-02, 9.51056730e-02, 9.78865406e-02,\n",
       "       9.78865406e-02, 1.00945495e-01, 1.00945495e-01, 1.02335929e-01,\n",
       "       1.02335929e-01, 1.02614016e-01, 1.02614016e-01, 1.05116796e-01,\n",
       "       1.05116796e-01, 1.05394883e-01, 1.05394883e-01, 1.05951057e-01,\n",
       "       1.05951057e-01, 1.06229143e-01, 1.06229143e-01, 1.06785317e-01,\n",
       "       1.06785317e-01, 1.08175751e-01, 1.08175751e-01, 1.10122358e-01,\n",
       "       1.10122358e-01, 1.11512792e-01, 1.11512792e-01, 1.13181313e-01,\n",
       "       1.13181313e-01, 1.14015573e-01, 1.14015573e-01, 1.14293660e-01,\n",
       "       1.14293660e-01, 1.14571746e-01, 1.14571746e-01, 1.14849833e-01,\n",
       "       1.14849833e-01, 1.15406007e-01, 1.15406007e-01, 1.16518354e-01,\n",
       "       1.16518354e-01, 1.18186874e-01, 1.18186874e-01, 1.18464961e-01,\n",
       "       1.18464961e-01, 1.20133482e-01, 1.20133482e-01, 1.21802002e-01,\n",
       "       1.21802002e-01, 1.22358176e-01, 1.22358176e-01, 1.24026696e-01,\n",
       "       1.24026696e-01, 1.24304783e-01, 1.24304783e-01, 1.24582870e-01,\n",
       "       1.24582870e-01, 1.25695217e-01, 1.25695217e-01, 1.25973304e-01,\n",
       "       1.25973304e-01, 1.27919911e-01, 1.27919911e-01, 1.28754171e-01,\n",
       "       1.28754171e-01, 1.29866518e-01, 1.29866518e-01, 1.30144605e-01,\n",
       "       1.30144605e-01, 1.30422692e-01, 1.30422692e-01, 1.31813126e-01,\n",
       "       1.31813126e-01, 1.32091212e-01, 1.32091212e-01, 1.32369299e-01,\n",
       "       1.32369299e-01, 1.34037820e-01, 1.34037820e-01, 1.35706340e-01,\n",
       "       1.35706340e-01, 1.36540601e-01, 1.36540601e-01, 1.37931034e-01,\n",
       "       1.37931034e-01, 1.38487208e-01, 1.38487208e-01, 1.39321468e-01,\n",
       "       1.39321468e-01, 1.40711902e-01, 1.40711902e-01, 1.41546162e-01,\n",
       "       1.41546162e-01, 1.42380423e-01, 1.42380423e-01, 1.42658509e-01,\n",
       "       1.42658509e-01, 1.43492770e-01, 1.43492770e-01, 1.44327030e-01,\n",
       "       1.44327030e-01, 1.45439377e-01, 1.45439377e-01, 1.45995551e-01,\n",
       "       1.45995551e-01, 1.47107898e-01, 1.47107898e-01, 1.48498331e-01,\n",
       "       1.48498331e-01, 1.50444939e-01, 1.50444939e-01, 1.51279199e-01,\n",
       "       1.51279199e-01, 1.53225806e-01, 1.53225806e-01, 1.53503893e-01,\n",
       "       1.53503893e-01, 1.54338154e-01, 1.54338154e-01, 1.55172414e-01,\n",
       "       1.55172414e-01, 1.57675195e-01, 1.57675195e-01, 1.57953281e-01,\n",
       "       1.57953281e-01, 1.58509455e-01, 1.58509455e-01, 1.59621802e-01,\n",
       "       1.59621802e-01, 1.60177976e-01, 1.60177976e-01, 1.60734149e-01,\n",
       "       1.60734149e-01, 1.61846496e-01, 1.61846496e-01, 1.62958843e-01,\n",
       "       1.62958843e-01, 1.63793103e-01, 1.63793103e-01, 1.64349277e-01,\n",
       "       1.64349277e-01, 1.64627364e-01, 1.64627364e-01, 1.64905451e-01,\n",
       "       1.64905451e-01, 1.65183537e-01, 1.65183537e-01, 1.65461624e-01,\n",
       "       1.65461624e-01, 1.68520578e-01, 1.68520578e-01, 1.70467186e-01,\n",
       "       1.70467186e-01, 1.71023359e-01, 1.71023359e-01, 1.71579533e-01,\n",
       "       1.71579533e-01, 1.73526140e-01, 1.73526140e-01, 1.75472747e-01,\n",
       "       1.75472747e-01, 1.76307008e-01, 1.76307008e-01, 1.77141268e-01,\n",
       "       1.77141268e-01, 1.80200222e-01, 1.80200222e-01, 1.82146830e-01,\n",
       "       1.82146830e-01, 1.82981090e-01, 1.82981090e-01, 1.83259177e-01,\n",
       "       1.83259177e-01, 1.84093437e-01, 1.84093437e-01, 1.88820912e-01,\n",
       "       1.88820912e-01, 1.89377086e-01, 1.89377086e-01, 1.90767519e-01,\n",
       "       1.90767519e-01, 1.91601780e-01, 1.91601780e-01, 1.92436040e-01,\n",
       "       1.92436040e-01, 1.92992214e-01, 1.92992214e-01, 1.95216908e-01,\n",
       "       1.95216908e-01, 1.95494994e-01, 1.95494994e-01, 1.95773081e-01,\n",
       "       1.95773081e-01, 1.96607341e-01, 1.96607341e-01, 1.97163515e-01,\n",
       "       1.97163515e-01, 1.97997775e-01, 1.97997775e-01, 1.98275862e-01,\n",
       "       1.98275862e-01, 1.98553949e-01, 1.98553949e-01, 1.99110122e-01,\n",
       "       1.99110122e-01, 2.00778643e-01, 2.00778643e-01, 2.01056730e-01,\n",
       "       2.01056730e-01, 2.04393771e-01, 2.04393771e-01, 2.08008899e-01,\n",
       "       2.08008899e-01, 2.09399333e-01, 2.09399333e-01, 2.10789766e-01,\n",
       "       2.10789766e-01, 2.11902113e-01, 2.11902113e-01, 2.12180200e-01,\n",
       "       2.12180200e-01, 2.13014461e-01, 2.13014461e-01, 2.14682981e-01,\n",
       "       2.14682981e-01, 2.16629588e-01, 2.16629588e-01, 2.18576196e-01,\n",
       "       2.18576196e-01, 2.19966630e-01, 2.19966630e-01, 2.21078977e-01,\n",
       "       2.21078977e-01, 2.21357063e-01, 2.21357063e-01, 2.25528365e-01,\n",
       "       2.25528365e-01, 2.26918799e-01, 2.26918799e-01, 2.27196885e-01,\n",
       "       2.27196885e-01, 2.28309232e-01, 2.28309232e-01, 2.31924360e-01,\n",
       "       2.31924360e-01, 2.35261402e-01, 2.35261402e-01, 2.36095662e-01,\n",
       "       2.36095662e-01, 2.39710790e-01, 2.39710790e-01, 2.41657397e-01,\n",
       "       2.41657397e-01, 2.43047831e-01, 2.43047831e-01, 2.43604004e-01,\n",
       "       2.43604004e-01, 2.44716352e-01, 2.44716352e-01, 2.45550612e-01,\n",
       "       2.45550612e-01, 2.47497219e-01, 2.47497219e-01, 2.48053393e-01,\n",
       "       2.48053393e-01, 2.50278087e-01, 2.50278087e-01, 2.52224694e-01,\n",
       "       2.52224694e-01, 2.52780868e-01, 2.52780868e-01, 2.53615128e-01,\n",
       "       2.53615128e-01, 2.54171301e-01, 2.54171301e-01, 2.54727475e-01,\n",
       "       2.54727475e-01, 2.55283648e-01, 2.55283648e-01, 2.58064516e-01,\n",
       "       2.58064516e-01, 2.59733037e-01, 2.59733037e-01, 2.62513904e-01,\n",
       "       2.62513904e-01, 2.64182425e-01, 2.64182425e-01, 2.65016685e-01,\n",
       "       2.65016685e-01, 2.66129032e-01, 2.66129032e-01, 2.66685206e-01,\n",
       "       2.66685206e-01, 2.67241379e-01, 2.67241379e-01, 2.68075640e-01,\n",
       "       2.68075640e-01, 2.69187987e-01, 2.69187987e-01, 2.71134594e-01,\n",
       "       2.71134594e-01, 2.71968854e-01, 2.71968854e-01, 2.73915462e-01,\n",
       "       2.73915462e-01, 2.75305895e-01, 2.75305895e-01, 2.75862069e-01,\n",
       "       2.75862069e-01, 2.76418242e-01, 2.76418242e-01, 2.76696329e-01,\n",
       "       2.76696329e-01, 2.78921023e-01, 2.78921023e-01, 2.79199110e-01,\n",
       "       2.79199110e-01, 2.79755284e-01, 2.79755284e-01, 2.80033370e-01,\n",
       "       2.80033370e-01, 2.81701891e-01, 2.81701891e-01, 2.81979978e-01,\n",
       "       2.81979978e-01, 2.83648498e-01, 2.83648498e-01, 2.84204672e-01,\n",
       "       2.84204672e-01, 2.88375973e-01, 2.88375973e-01, 2.90322581e-01,\n",
       "       2.90322581e-01, 2.92269188e-01, 2.92269188e-01, 2.93103448e-01,\n",
       "       2.93103448e-01, 2.93381535e-01, 2.93381535e-01, 2.93937709e-01,\n",
       "       2.93937709e-01, 2.96440489e-01, 2.96440489e-01, 2.98387097e-01,\n",
       "       2.98387097e-01, 2.98943270e-01, 2.98943270e-01, 3.00889878e-01,\n",
       "       3.00889878e-01, 3.02558398e-01, 3.02558398e-01, 3.02836485e-01,\n",
       "       3.02836485e-01, 3.04505006e-01, 3.04505006e-01, 3.07007786e-01,\n",
       "       3.07007786e-01, 3.09232481e-01, 3.09232481e-01, 3.13125695e-01,\n",
       "       3.13125695e-01, 3.13403782e-01, 3.13403782e-01, 3.15350389e-01,\n",
       "       3.15350389e-01, 3.15906563e-01, 3.15906563e-01, 3.18965517e-01,\n",
       "       3.18965517e-01, 3.24249166e-01, 3.24249166e-01, 3.25639600e-01,\n",
       "       3.25639600e-01, 3.28698554e-01, 3.28698554e-01, 3.30645161e-01,\n",
       "       3.30645161e-01, 3.34816463e-01, 3.34816463e-01, 3.35094549e-01,\n",
       "       3.35094549e-01, 3.38987764e-01, 3.38987764e-01, 3.40656285e-01,\n",
       "       3.40656285e-01, 3.41212458e-01, 3.41212458e-01, 3.41768632e-01,\n",
       "       3.41768632e-01, 3.43993326e-01, 3.43993326e-01, 3.45105673e-01,\n",
       "       3.45105673e-01, 3.46218020e-01, 3.46218020e-01, 3.53726363e-01,\n",
       "       3.53726363e-01, 3.54004449e-01, 3.54004449e-01, 3.59010011e-01,\n",
       "       3.59010011e-01, 3.59844271e-01, 3.59844271e-01, 3.63459399e-01,\n",
       "       3.63459399e-01, 3.69577308e-01, 3.69577308e-01, 3.76251390e-01,\n",
       "       3.76251390e-01, 3.77641824e-01, 3.77641824e-01, 3.80422692e-01,\n",
       "       3.80422692e-01, 3.85428254e-01, 3.85428254e-01, 3.87652948e-01,\n",
       "       3.87652948e-01, 3.88209121e-01, 3.88209121e-01, 3.91268076e-01,\n",
       "       3.91268076e-01, 3.91546162e-01, 3.91546162e-01, 3.94605117e-01,\n",
       "       3.94605117e-01, 3.96551724e-01, 3.96551724e-01, 3.99332592e-01,\n",
       "       3.99332592e-01, 4.03503893e-01, 4.03503893e-01, 4.08231368e-01,\n",
       "       4.08231368e-01, 4.08509455e-01, 4.08509455e-01, 4.09343715e-01,\n",
       "       4.09343715e-01, 4.09899889e-01, 4.09899889e-01, 4.11012236e-01,\n",
       "       4.11012236e-01, 4.12958843e-01, 4.12958843e-01, 4.15461624e-01,\n",
       "       4.15461624e-01, 4.18242492e-01, 4.18242492e-01, 4.22691880e-01,\n",
       "       4.22691880e-01, 4.27975528e-01, 4.27975528e-01, 4.33815350e-01,\n",
       "       4.33815350e-01, 4.34649611e-01, 4.34649611e-01, 4.37708565e-01,\n",
       "       4.37708565e-01, 4.37986652e-01, 4.37986652e-01, 4.38820912e-01,\n",
       "       4.38820912e-01, 4.41045606e-01, 4.41045606e-01, 4.43826474e-01,\n",
       "       4.43826474e-01, 4.45773081e-01, 4.45773081e-01, 4.46051168e-01,\n",
       "       4.46051168e-01, 4.46885428e-01, 4.46885428e-01, 4.52169077e-01,\n",
       "       4.52169077e-01, 4.53837597e-01, 4.53837597e-01, 4.56062291e-01,\n",
       "       4.56062291e-01, 4.57452725e-01, 4.57452725e-01, 4.59677419e-01,\n",
       "       4.59677419e-01, 4.60233593e-01, 4.60233593e-01, 4.63014461e-01,\n",
       "       4.63014461e-01, 4.66351502e-01, 4.66351502e-01, 4.70800890e-01,\n",
       "       4.70800890e-01, 4.78587319e-01, 4.78587319e-01, 4.80812013e-01,\n",
       "       4.80812013e-01, 4.82480534e-01, 4.82480534e-01, 4.84705228e-01,\n",
       "       4.84705228e-01, 4.86095662e-01, 4.86095662e-01, 4.86929922e-01,\n",
       "       4.86929922e-01, 4.88598443e-01, 4.88598443e-01, 4.91379310e-01,\n",
       "       4.91379310e-01, 4.94160178e-01, 4.94160178e-01, 4.96662959e-01,\n",
       "       4.96662959e-01, 4.97497219e-01, 4.97497219e-01, 4.98331479e-01,\n",
       "       4.98331479e-01, 4.98609566e-01, 4.98609566e-01, 4.99165740e-01,\n",
       "       4.99165740e-01, 5.02780868e-01, 5.02780868e-01, 5.03058954e-01,\n",
       "       5.03058954e-01, 5.03615128e-01, 5.03615128e-01, 5.06952169e-01,\n",
       "       5.06952169e-01, 5.11123471e-01, 5.11123471e-01, 5.16685206e-01,\n",
       "       5.16685206e-01, 5.18909900e-01, 5.18909900e-01, 5.20300334e-01,\n",
       "       5.20300334e-01, 5.20578420e-01, 5.20578420e-01, 5.21134594e-01,\n",
       "       5.21134594e-01, 5.24471635e-01, 5.24471635e-01, 5.26140156e-01,\n",
       "       5.26140156e-01, 5.26974416e-01, 5.26974416e-01, 5.28364850e-01,\n",
       "       5.28364850e-01, 5.33926585e-01, 5.33926585e-01, 5.34204672e-01,\n",
       "       5.34204672e-01, 5.36985539e-01, 5.36985539e-01, 5.37541713e-01,\n",
       "       5.37541713e-01, 5.40878754e-01, 5.40878754e-01, 5.42547275e-01,\n",
       "       5.42547275e-01, 5.43659622e-01, 5.43659622e-01, 5.49221357e-01,\n",
       "       5.49221357e-01, 5.55339266e-01, 5.55339266e-01, 5.58120133e-01,\n",
       "       5.58120133e-01, 5.58398220e-01, 5.58398220e-01, 5.73971079e-01,\n",
       "       5.73971079e-01, 5.74805339e-01, 5.74805339e-01, 5.79532814e-01,\n",
       "       5.79532814e-01, 5.80367075e-01, 5.80367075e-01, 5.83426029e-01,\n",
       "       5.83426029e-01, 5.90656285e-01, 5.90656285e-01, 5.90934372e-01,\n",
       "       5.90934372e-01, 6.03170189e-01, 6.03170189e-01, 6.12347052e-01,\n",
       "       6.12347052e-01, 6.14015573e-01, 6.14015573e-01, 6.15127920e-01,\n",
       "       6.15127920e-01, 6.16518354e-01, 6.16518354e-01, 6.16796440e-01,\n",
       "       6.16796440e-01, 6.17908788e-01, 6.17908788e-01, 6.18186874e-01,\n",
       "       6.18186874e-01, 6.18464961e-01, 6.18464961e-01, 6.19855395e-01,\n",
       "       6.19855395e-01, 6.22080089e-01, 6.22080089e-01, 6.23192436e-01,\n",
       "       6.23192436e-01, 6.27641824e-01, 6.27641824e-01, 6.30700779e-01,\n",
       "       6.30700779e-01, 6.38209121e-01, 6.38209121e-01, 6.39043382e-01,\n",
       "       6.39043382e-01, 6.41268076e-01, 6.41268076e-01, 6.41824249e-01,\n",
       "       6.41824249e-01, 6.43770857e-01, 6.43770857e-01, 6.44605117e-01,\n",
       "       6.44605117e-01, 6.46273637e-01, 6.46273637e-01, 6.49054505e-01,\n",
       "       6.49054505e-01, 6.51835373e-01, 6.51835373e-01, 6.58231368e-01,\n",
       "       6.58231368e-01, 6.58509455e-01, 6.58509455e-01, 6.71579533e-01,\n",
       "       6.71579533e-01, 6.76028921e-01, 6.76028921e-01, 6.79644049e-01,\n",
       "       6.79644049e-01, 6.80756396e-01, 6.80756396e-01, 6.81868743e-01,\n",
       "       6.81868743e-01, 6.84371524e-01, 6.84371524e-01, 6.87152392e-01,\n",
       "       6.87152392e-01, 6.91879867e-01, 6.91879867e-01, 6.95216908e-01,\n",
       "       6.95216908e-01, 6.96885428e-01, 6.96885428e-01, 6.97997775e-01,\n",
       "       6.97997775e-01, 7.10789766e-01, 7.10789766e-01, 7.20244716e-01,\n",
       "       7.20244716e-01, 7.25528365e-01, 7.25528365e-01, 7.33592881e-01,\n",
       "       7.33592881e-01, 7.43604004e-01, 7.43604004e-01, 7.46384872e-01,\n",
       "       7.46384872e-01, 7.58620690e-01, 7.58620690e-01, 7.60289210e-01,\n",
       "       7.60289210e-01, 7.68909900e-01, 7.68909900e-01, 7.69466073e-01,\n",
       "       7.69466073e-01, 7.70856507e-01, 7.70856507e-01, 7.72246941e-01,\n",
       "       7.72246941e-01, 7.75305895e-01, 7.75305895e-01, 7.80311457e-01,\n",
       "       7.80311457e-01, 7.81423804e-01, 7.81423804e-01, 7.83648498e-01,\n",
       "       7.83648498e-01, 7.86707453e-01, 7.86707453e-01, 7.91991101e-01,\n",
       "       7.91991101e-01, 7.93103448e-01, 7.93103448e-01, 7.97830923e-01,\n",
       "       7.97830923e-01, 8.08120133e-01, 8.08120133e-01, 8.17575083e-01,\n",
       "       8.17575083e-01, 8.17853170e-01, 8.17853170e-01, 8.19243604e-01,\n",
       "       8.19243604e-01, 8.20355951e-01, 8.20355951e-01, 8.21190211e-01,\n",
       "       8.21190211e-01, 8.23692992e-01, 8.23692992e-01, 8.31757508e-01,\n",
       "       8.31757508e-01, 8.36763070e-01, 8.36763070e-01, 8.43437152e-01,\n",
       "       8.43437152e-01, 8.52614016e-01, 8.52614016e-01, 8.65962180e-01,\n",
       "       8.65962180e-01, 8.66240267e-01, 8.66240267e-01, 8.66518354e-01,\n",
       "       8.66518354e-01, 8.74860957e-01, 8.74860957e-01, 8.77363737e-01,\n",
       "       8.77363737e-01, 8.78754171e-01, 8.78754171e-01, 8.88765295e-01,\n",
       "       8.88765295e-01, 8.96551724e-01, 8.96551724e-01, 8.98220245e-01,\n",
       "       8.98220245e-01, 8.99888765e-01, 8.99888765e-01, 9.39098999e-01,\n",
       "       9.39098999e-01, 9.53003337e-01, 9.53003337e-01, 9.57730812e-01,\n",
       "       9.57730812e-01, 9.80812013e-01, 9.80812013e-01, 9.98887653e-01,\n",
       "       9.98887653e-01, 9.99165740e-01, 9.99165740e-01, 1.00000000e+00])"
      ]
     },
     "execution_count": 72,
     "metadata": {
      "tags": []
     },
     "output_type": "execute_result"
    }
   ],
   "source": [
    "fpr"
   ]
  },
  {
   "cell_type": "code",
   "execution_count": null,
   "metadata": {
    "id": "OxuTYUEwbxg-",
    "outputId": "cd5e5320-c2f7-479b-b52a-c3c92e8dff73"
   },
   "outputs": [
    {
     "data": {
      "text/plain": [
       "array([1.92865961, 0.92865961, 0.91312889, 0.85807079, 0.64451403,\n",
       "       0.64416086, 0.64309831, 0.63692876, 0.62076474, 0.61888853,\n",
       "       0.60102884, 0.59273286, 0.5770012 , 0.57610607, 0.56445639,\n",
       "       0.56020808, 0.55728264, 0.55126303, 0.54849605, 0.54828537,\n",
       "       0.54341342, 0.53974452, 0.5349244 , 0.53000139, 0.52883151,\n",
       "       0.52733388, 0.52427393, 0.52388946, 0.51400158, 0.51330848,\n",
       "       0.51019049, 0.49846189, 0.49116721, 0.48931525, 0.4872395 ,\n",
       "       0.47831579, 0.47723031, 0.47321536, 0.46956079, 0.46852073,\n",
       "       0.46553847, 0.4592962 , 0.458117  , 0.4555332 , 0.45126052,\n",
       "       0.44956977, 0.44915032, 0.44740178, 0.44606112, 0.4384331 ,\n",
       "       0.43737703, 0.43691176, 0.43508574, 0.43408986, 0.4330541 ,\n",
       "       0.43265376, 0.43102807, 0.43008087, 0.43000903, 0.42957085,\n",
       "       0.42936337, 0.42630178, 0.42528352, 0.42355043, 0.42345092,\n",
       "       0.4234059 , 0.42331062, 0.42172468, 0.42110502, 0.42061139,\n",
       "       0.42032199, 0.41772335, 0.41750821, 0.41465187, 0.41385254,\n",
       "       0.40576651, 0.4029689 , 0.40195735, 0.40136434, 0.39853548,\n",
       "       0.39584684, 0.39514619, 0.39483351, 0.39428731, 0.39346769,\n",
       "       0.3929519 , 0.39235909, 0.38972444, 0.3892277 , 0.38669205,\n",
       "       0.38628958, 0.38403039, 0.38234922, 0.38225198, 0.38082617,\n",
       "       0.38078663, 0.38015343, 0.38004899, 0.37936257, 0.37692393,\n",
       "       0.37685872, 0.37610958, 0.37609513, 0.37459313, 0.37447038,\n",
       "       0.3733836 , 0.37168459, 0.37029713, 0.36966553, 0.36828297,\n",
       "       0.36779387, 0.36760438, 0.36724039, 0.36716669, 0.36562435,\n",
       "       0.36483676, 0.36483373, 0.36433355, 0.36222789, 0.36143299,\n",
       "       0.36137587, 0.35896203, 0.35742823, 0.3572915 , 0.35728136,\n",
       "       0.35543663, 0.35467239, 0.35323471, 0.35319749, 0.35052527,\n",
       "       0.34970768, 0.34962419, 0.34876417, 0.34649624, 0.34617561,\n",
       "       0.34269334, 0.34252339, 0.34183778, 0.34154528, 0.33967697,\n",
       "       0.33955122, 0.33844998, 0.33837291, 0.33801881, 0.33691981,\n",
       "       0.33507753, 0.33476029, 0.33460297, 0.33447968, 0.33343906,\n",
       "       0.33314767, 0.33172122, 0.33156745, 0.32945259, 0.32945011,\n",
       "       0.32911431, 0.3290035 , 0.32714076, 0.32698674, 0.32482758,\n",
       "       0.32417389, 0.32103059, 0.3209272 , 0.31965252, 0.31928761,\n",
       "       0.31793924, 0.31779948, 0.31758022, 0.31718795, 0.3161549 ,\n",
       "       0.31612397, 0.31477564, 0.3141388 , 0.31411096, 0.3140424 ,\n",
       "       0.31379587, 0.31344034, 0.3104198 , 0.30958537, 0.30947877,\n",
       "       0.30915224, 0.30815709, 0.30769416, 0.30518836, 0.30472316,\n",
       "       0.30276593, 0.30272534, 0.30243764, 0.30053361, 0.2983907 ,\n",
       "       0.29836775, 0.29740877, 0.29684029, 0.29672261, 0.29646286,\n",
       "       0.29583082, 0.29577584, 0.29536068, 0.29533362, 0.29406129,\n",
       "       0.29403525, 0.29388283, 0.29384107, 0.29364328, 0.29341469,\n",
       "       0.2932092 , 0.29296167, 0.29218926, 0.2920774 , 0.29187858,\n",
       "       0.29183322, 0.29166508, 0.29128987, 0.29127814, 0.29113198,\n",
       "       0.29048496, 0.29037034, 0.2890065 , 0.289001  , 0.2888116 ,\n",
       "       0.28863135, 0.28800427, 0.28774457, 0.28728023, 0.28723849,\n",
       "       0.28693373, 0.28679581, 0.28484528, 0.28476776, 0.28449563,\n",
       "       0.28339427, 0.28313307, 0.28302221, 0.28289819, 0.28287845,\n",
       "       0.28041608, 0.28036254, 0.27855781, 0.27837761, 0.27767391,\n",
       "       0.27675417, 0.27596671, 0.27591271, 0.27411878, 0.27400641,\n",
       "       0.27376361, 0.27351236, 0.27318901, 0.27262819, 0.27251534,\n",
       "       0.27217525, 0.2720517 , 0.2716222 , 0.26988873, 0.26931064,\n",
       "       0.26829461, 0.26795803, 0.2668869 , 0.26679382, 0.26601899,\n",
       "       0.26566957, 0.26505914, 0.26451568, 0.26421945, 0.26413663,\n",
       "       0.26384421, 0.26350025, 0.26343422, 0.26315574, 0.26284415,\n",
       "       0.26218022, 0.26195089, 0.26188803, 0.26117356, 0.26065091,\n",
       "       0.2606367 , 0.26055402, 0.25999151, 0.25986766, 0.2586563 ,\n",
       "       0.25805507, 0.2578462 , 0.25768443, 0.25661597, 0.25641174,\n",
       "       0.25612301, 0.25609652, 0.25597756, 0.25594714, 0.2553851 ,\n",
       "       0.25501461, 0.25463949, 0.25430829, 0.25283804, 0.25259686,\n",
       "       0.25252163, 0.25248391, 0.25222323, 0.25175806, 0.25175565,\n",
       "       0.25145549, 0.25111035, 0.25088005, 0.249933  , 0.24876944,\n",
       "       0.2485891 , 0.24851747, 0.24846368, 0.24812066, 0.24733587,\n",
       "       0.24681688, 0.2456441 , 0.24542786, 0.24519275, 0.2448061 ,\n",
       "       0.24414541, 0.24365647, 0.2435497 , 0.24354032, 0.24286686,\n",
       "       0.24242752, 0.24119988, 0.24090414, 0.24064468, 0.24056294,\n",
       "       0.2402415 , 0.24012239, 0.23986201, 0.23981887, 0.23952523,\n",
       "       0.23944861, 0.23887904, 0.2388368 , 0.23810159, 0.23763404,\n",
       "       0.23747248, 0.23741455, 0.23624283, 0.23620844, 0.23495012,\n",
       "       0.23487205, 0.23429372, 0.2341946 , 0.23384556, 0.23363797,\n",
       "       0.23229268, 0.23197999, 0.23181875, 0.23171335, 0.23124091,\n",
       "       0.23089352, 0.23055247, 0.23030155, 0.22966386, 0.22962143,\n",
       "       0.22961907, 0.22958382, 0.22930299, 0.22925942, 0.22901934,\n",
       "       0.22890904, 0.22888304, 0.2288277 , 0.22858492, 0.2285254 ,\n",
       "       0.22812763, 0.22805016, 0.22653364, 0.22648416, 0.22584289,\n",
       "       0.22568348, 0.22567221, 0.22549265, 0.22548401, 0.2251746 ,\n",
       "       0.22494211, 0.22476945, 0.2247351 , 0.22463773, 0.22457759,\n",
       "       0.22389602, 0.22194166, 0.22169496, 0.22057644, 0.22035719,\n",
       "       0.21980181, 0.21977696, 0.21958009, 0.21955979, 0.21789608,\n",
       "       0.2178112 , 0.21716562, 0.21713765, 0.2169344 , 0.2168094 ,\n",
       "       0.21655311, 0.21613361, 0.21534287, 0.2153087 , 0.21471205,\n",
       "       0.21457894, 0.21407068, 0.21405475, 0.21393814, 0.21393519,\n",
       "       0.21367796, 0.21342377, 0.21107733, 0.21100256, 0.2107229 ,\n",
       "       0.21069544, 0.20965521, 0.2093742 , 0.20924391, 0.2088922 ,\n",
       "       0.20824456, 0.20816463, 0.20804356, 0.20783607, 0.20667067,\n",
       "       0.20654085, 0.20650455, 0.20584378, 0.20583348, 0.20569998,\n",
       "       0.20534459, 0.20514782, 0.20492418, 0.2049054 , 0.20469415,\n",
       "       0.20451699, 0.20446675, 0.20442175, 0.20438586, 0.20404096,\n",
       "       0.20318184, 0.20303274, 0.20223474, 0.2021211 , 0.20204802,\n",
       "       0.20202746, 0.19979026, 0.19977055, 0.19791372, 0.19788277,\n",
       "       0.19738082, 0.19738038, 0.19636812, 0.19623227, 0.1957743 ,\n",
       "       0.19563714, 0.19559013, 0.19525575, 0.19517766, 0.19496757,\n",
       "       0.19455445, 0.19451189, 0.19396448, 0.19376671, 0.19321231,\n",
       "       0.1931035 , 0.19257114, 0.19247807, 0.19221103, 0.19183865,\n",
       "       0.19183541, 0.19151575, 0.19022018, 0.19009016, 0.18993392,\n",
       "       0.18986362, 0.18984605, 0.1898434 , 0.18959467, 0.18959322,\n",
       "       0.18809535, 0.18798779, 0.18675502, 0.18664434, 0.18657277,\n",
       "       0.18655357, 0.18521825, 0.18519639, 0.18457626, 0.18457598,\n",
       "       0.18425655, 0.18423861, 0.18414145, 0.18411601, 0.18398421,\n",
       "       0.18388963, 0.18356281, 0.18350053, 0.18264317, 0.18253659,\n",
       "       0.18226702, 0.18225504, 0.18177734, 0.18172609, 0.18104715,\n",
       "       0.18095994, 0.18089041, 0.18073929, 0.18037455, 0.1803251 ,\n",
       "       0.18015449, 0.18012046, 0.17972107, 0.1797101 , 0.17966453,\n",
       "       0.17956201, 0.17879334, 0.17845307, 0.17729233, 0.17727144,\n",
       "       0.17644501, 0.17639041, 0.17606378, 0.17578906, 0.17539393,\n",
       "       0.17524977, 0.17514954, 0.1750058 , 0.17464486, 0.17446851,\n",
       "       0.17428966, 0.17422882, 0.17369073, 0.17366908, 0.17354411,\n",
       "       0.17349648, 0.17207435, 0.17198328, 0.17166765, 0.17162688,\n",
       "       0.17117819, 0.17097479, 0.17009237, 0.16999686, 0.169573  ,\n",
       "       0.16942428, 0.16930989, 0.16926022, 0.16914878, 0.169072  ,\n",
       "       0.16823663, 0.16822307, 0.16778579, 0.16768332, 0.16741343,\n",
       "       0.16739998, 0.16714202, 0.16707665, 0.16677264, 0.16675908,\n",
       "       0.16661585, 0.16648852, 0.1657838 , 0.16576943, 0.16562511,\n",
       "       0.16544651, 0.1644722 , 0.16423586, 0.16353372, 0.16352132,\n",
       "       0.16270947, 0.16257315, 0.16248814, 0.16246642, 0.16244032,\n",
       "       0.16232762, 0.16226176, 0.16225112, 0.16156298, 0.16135127,\n",
       "       0.16081026, 0.16079857, 0.16027505, 0.16018918, 0.15995263,\n",
       "       0.15993445, 0.1594537 , 0.15938744, 0.15934377, 0.15932885,\n",
       "       0.15911481, 0.1588453 , 0.15805522, 0.15803036, 0.15762911,\n",
       "       0.15733274, 0.15621762, 0.15580321, 0.15568873, 0.15565762,\n",
       "       0.15500351, 0.15496338, 0.15475112, 0.15457933, 0.15393928,\n",
       "       0.15381912, 0.15249509, 0.15244137, 0.15216158, 0.15213229,\n",
       "       0.15090918, 0.15078059, 0.15004612, 0.15000232, 0.14896379,\n",
       "       0.14891676, 0.14874891, 0.14854973, 0.14741628, 0.14741533,\n",
       "       0.14700581, 0.14689312, 0.14687052, 0.14683346, 0.14679341,\n",
       "       0.14674343, 0.14638452, 0.14626977, 0.14606738, 0.14602976,\n",
       "       0.14585066, 0.14571806, 0.14341774, 0.1433701 , 0.14311739,\n",
       "       0.14311113, 0.14216979, 0.14194954, 0.14164217, 0.14143121,\n",
       "       0.14079211, 0.14078758, 0.1396099 , 0.13943539, 0.13800038,\n",
       "       0.137843  , 0.1374488 , 0.13727677, 0.13655195, 0.13655098,\n",
       "       0.13532333, 0.13521463, 0.1345864 , 0.13454533, 0.1343841 ,\n",
       "       0.1343532 , 0.1336116 , 0.13348396, 0.1334586 , 0.13338983,\n",
       "       0.13246124, 0.13243433, 0.13202873, 0.13201342, 0.13111783,\n",
       "       0.13109958, 0.13014289, 0.13004644, 0.12912798, 0.12904027,\n",
       "       0.12897428, 0.12889448, 0.12875498, 0.12866416, 0.1284696 ,\n",
       "       0.12843366, 0.12837492, 0.12836881, 0.12818053, 0.12796755,\n",
       "       0.12711803, 0.12711305, 0.12603337, 0.12603322, 0.12528494,\n",
       "       0.12521837, 0.12400717, 0.12399876, 0.12282423, 0.12281238,\n",
       "       0.12276369, 0.12269624, 0.12194626, 0.1218845 , 0.12182603,\n",
       "       0.12176863, 0.12152588, 0.12151435, 0.12126677, 0.12119174,\n",
       "       0.12072316, 0.12055888, 0.12016458, 0.12016134, 0.12014142,\n",
       "       0.11990214, 0.11986295, 0.11983272, 0.11879197, 0.11874245,\n",
       "       0.11835944, 0.11823335, 0.11790769, 0.11790695, 0.11722783,\n",
       "       0.11717918, 0.11685647, 0.11676852, 0.11664818, 0.11663572,\n",
       "       0.11627795, 0.11618794, 0.11554535, 0.11552573, 0.1144051 ,\n",
       "       0.11429646, 0.1126436 , 0.11250931, 0.11207879, 0.11203023,\n",
       "       0.11185202, 0.11184314, 0.11148559, 0.11146698, 0.11120297,\n",
       "       0.11115628, 0.11109994, 0.11101685, 0.11073656, 0.11065017,\n",
       "       0.11019857, 0.11018548, 0.10960938, 0.1095962 , 0.10925837,\n",
       "       0.10910322, 0.10900257, 0.10899743, 0.10863833, 0.10858328,\n",
       "       0.10839953, 0.10831012, 0.10828435, 0.10828088, 0.10771175,\n",
       "       0.10763282, 0.10759787, 0.10752556, 0.10749735, 0.10746794,\n",
       "       0.10688978, 0.10684995, 0.1063058 , 0.10629321, 0.10522435,\n",
       "       0.10521509, 0.10515005, 0.10514782, 0.10484634, 0.10480108,\n",
       "       0.10475697, 0.10466224, 0.10460825, 0.10459095, 0.1037969 ,\n",
       "       0.10368566, 0.1034845 , 0.1034752 , 0.10342125, 0.10332735,\n",
       "       0.10324275, 0.10319683, 0.10209366, 0.10207314, 0.1019966 ,\n",
       "       0.10193442, 0.10116171, 0.10114575, 0.10105733, 0.10094436,\n",
       "       0.10042395, 0.10037017, 0.09990133, 0.0997378 , 0.09957168,\n",
       "       0.09946114, 0.09839695, 0.09834413, 0.0973887 , 0.0973846 ,\n",
       "       0.096948  , 0.09693104, 0.09689615, 0.09682582, 0.09387525,\n",
       "       0.09377728, 0.09363914, 0.09361491, 0.09259582, 0.09245396,\n",
       "       0.09241018, 0.09229646, 0.09167095, 0.09160461, 0.09060281,\n",
       "       0.0905052 , 0.09047322, 0.09041022, 0.08801017, 0.08799856,\n",
       "       0.08610805, 0.08601478, 0.08578725, 0.08577788, 0.08562191,\n",
       "       0.08556472, 0.08536292, 0.08534797, 0.08531295, 0.08531138,\n",
       "       0.08504026, 0.08501637, 0.08496262, 0.08464103, 0.08462276,\n",
       "       0.08433641, 0.08427495, 0.08427174, 0.08385706, 0.08383907,\n",
       "       0.08362683, 0.08350795, 0.08298388, 0.08291183, 0.08230025,\n",
       "       0.08226383, 0.08100847, 0.08090965, 0.08072979, 0.08071016,\n",
       "       0.08045552, 0.08041438, 0.08026502, 0.08019655, 0.0799844 ,\n",
       "       0.07998133, 0.07995473, 0.07995433, 0.0797089 , 0.0797061 ,\n",
       "       0.07945378, 0.07943751, 0.07888998, 0.07885991, 0.07770182,\n",
       "       0.07769342, 0.07759494, 0.0774411 , 0.07519614, 0.07489458,\n",
       "       0.07418652, 0.07417896, 0.07354856, 0.07354527, 0.07337354,\n",
       "       0.07336796, 0.07322231, 0.07319695, 0.07307742, 0.07299536,\n",
       "       0.07283037, 0.07280322, 0.07217041, 0.07216143, 0.07187547,\n",
       "       0.07186352, 0.0714693 , 0.07142604, 0.07119708, 0.07113929,\n",
       "       0.06905402, 0.06895556, 0.06747331, 0.06746046, 0.06685283,\n",
       "       0.06684286, 0.06524281, 0.06522665, 0.06402206, 0.06398712,\n",
       "       0.06334123, 0.06327201, 0.06159922, 0.06158461, 0.06125926,\n",
       "       0.06115098, 0.05975845, 0.05975037, 0.05964408, 0.05964223,\n",
       "       0.05948584, 0.05948231, 0.05911416, 0.05908679, 0.05868924,\n",
       "       0.05862304, 0.0577153 , 0.05759739, 0.05747826, 0.05742848,\n",
       "       0.05668755, 0.05666189, 0.05593665, 0.05590074, 0.05521105,\n",
       "       0.05508452, 0.0549536 , 0.05493949, 0.05430349, 0.05429474,\n",
       "       0.05316018, 0.05315129, 0.05163659, 0.0515894 , 0.05148726,\n",
       "       0.05146957, 0.05137055, 0.05126952, 0.05095405, 0.05095118,\n",
       "       0.05071836, 0.05067791, 0.05034513, 0.05031417, 0.04949195,\n",
       "       0.04949127, 0.04869796, 0.04866308, 0.0480071 , 0.04785995,\n",
       "       0.04661886, 0.04656894, 0.04505122, 0.04501014, 0.04500188,\n",
       "       0.04500046, 0.04498397, 0.04495405, 0.04376022, 0.04373156,\n",
       "       0.0434092 , 0.04340905, 0.04322769, 0.04320108, 0.04175277,\n",
       "       0.04172554, 0.04089151, 0.04080126, 0.04071272, 0.04069495,\n",
       "       0.04036055, 0.04023161, 0.03407794, 0.03401422, 0.03132938,\n",
       "       0.03122749, 0.03051799, 0.03049861, 0.02486645, 0.024665  ,\n",
       "       0.01832377, 0.01813727, 0.01746985, 0.01744419, 0.01615037])"
      ]
     },
     "execution_count": 73,
     "metadata": {
      "tags": []
     },
     "output_type": "execute_result"
    }
   ],
   "source": [
    "thesholds"
   ]
  },
  {
   "cell_type": "code",
   "execution_count": null,
   "metadata": {
    "id": "jHrA7XRTbxhA"
   },
   "outputs": [],
   "source": [
    "thesholds[0]=thesholds[0]-1"
   ]
  },
  {
   "cell_type": "code",
   "execution_count": null,
   "metadata": {
    "collapsed": true,
    "id": "Uoe9A90QbxhC",
    "outputId": "b9be437b-5390-46c0-e3cd-188ff06eb1bd"
   },
   "outputs": [
    {
     "data": {
      "text/plain": [
       "array([0.92865961, 0.92865961, 0.91312889, 0.85807079, 0.64451403,\n",
       "       0.64416086, 0.64309831, 0.63692876, 0.62076474, 0.61888853,\n",
       "       0.60102884, 0.59273286, 0.5770012 , 0.57610607, 0.56445639,\n",
       "       0.56020808, 0.55728264, 0.55126303, 0.54849605, 0.54828537,\n",
       "       0.54341342, 0.53974452, 0.5349244 , 0.53000139, 0.52883151,\n",
       "       0.52733388, 0.52427393, 0.52388946, 0.51400158, 0.51330848,\n",
       "       0.51019049, 0.49846189, 0.49116721, 0.48931525, 0.4872395 ,\n",
       "       0.47831579, 0.47723031, 0.47321536, 0.46956079, 0.46852073,\n",
       "       0.46553847, 0.4592962 , 0.458117  , 0.4555332 , 0.45126052,\n",
       "       0.44956977, 0.44915032, 0.44740178, 0.44606112, 0.4384331 ,\n",
       "       0.43737703, 0.43691176, 0.43508574, 0.43408986, 0.4330541 ,\n",
       "       0.43265376, 0.43102807, 0.43008087, 0.43000903, 0.42957085,\n",
       "       0.42936337, 0.42630178, 0.42528352, 0.42355043, 0.42345092,\n",
       "       0.4234059 , 0.42331062, 0.42172468, 0.42110502, 0.42061139,\n",
       "       0.42032199, 0.41772335, 0.41750821, 0.41465187, 0.41385254,\n",
       "       0.40576651, 0.4029689 , 0.40195735, 0.40136434, 0.39853548,\n",
       "       0.39584684, 0.39514619, 0.39483351, 0.39428731, 0.39346769,\n",
       "       0.3929519 , 0.39235909, 0.38972444, 0.3892277 , 0.38669205,\n",
       "       0.38628958, 0.38403039, 0.38234922, 0.38225198, 0.38082617,\n",
       "       0.38078663, 0.38015343, 0.38004899, 0.37936257, 0.37692393,\n",
       "       0.37685872, 0.37610958, 0.37609513, 0.37459313, 0.37447038,\n",
       "       0.3733836 , 0.37168459, 0.37029713, 0.36966553, 0.36828297,\n",
       "       0.36779387, 0.36760438, 0.36724039, 0.36716669, 0.36562435,\n",
       "       0.36483676, 0.36483373, 0.36433355, 0.36222789, 0.36143299,\n",
       "       0.36137587, 0.35896203, 0.35742823, 0.3572915 , 0.35728136,\n",
       "       0.35543663, 0.35467239, 0.35323471, 0.35319749, 0.35052527,\n",
       "       0.34970768, 0.34962419, 0.34876417, 0.34649624, 0.34617561,\n",
       "       0.34269334, 0.34252339, 0.34183778, 0.34154528, 0.33967697,\n",
       "       0.33955122, 0.33844998, 0.33837291, 0.33801881, 0.33691981,\n",
       "       0.33507753, 0.33476029, 0.33460297, 0.33447968, 0.33343906,\n",
       "       0.33314767, 0.33172122, 0.33156745, 0.32945259, 0.32945011,\n",
       "       0.32911431, 0.3290035 , 0.32714076, 0.32698674, 0.32482758,\n",
       "       0.32417389, 0.32103059, 0.3209272 , 0.31965252, 0.31928761,\n",
       "       0.31793924, 0.31779948, 0.31758022, 0.31718795, 0.3161549 ,\n",
       "       0.31612397, 0.31477564, 0.3141388 , 0.31411096, 0.3140424 ,\n",
       "       0.31379587, 0.31344034, 0.3104198 , 0.30958537, 0.30947877,\n",
       "       0.30915224, 0.30815709, 0.30769416, 0.30518836, 0.30472316,\n",
       "       0.30276593, 0.30272534, 0.30243764, 0.30053361, 0.2983907 ,\n",
       "       0.29836775, 0.29740877, 0.29684029, 0.29672261, 0.29646286,\n",
       "       0.29583082, 0.29577584, 0.29536068, 0.29533362, 0.29406129,\n",
       "       0.29403525, 0.29388283, 0.29384107, 0.29364328, 0.29341469,\n",
       "       0.2932092 , 0.29296167, 0.29218926, 0.2920774 , 0.29187858,\n",
       "       0.29183322, 0.29166508, 0.29128987, 0.29127814, 0.29113198,\n",
       "       0.29048496, 0.29037034, 0.2890065 , 0.289001  , 0.2888116 ,\n",
       "       0.28863135, 0.28800427, 0.28774457, 0.28728023, 0.28723849,\n",
       "       0.28693373, 0.28679581, 0.28484528, 0.28476776, 0.28449563,\n",
       "       0.28339427, 0.28313307, 0.28302221, 0.28289819, 0.28287845,\n",
       "       0.28041608, 0.28036254, 0.27855781, 0.27837761, 0.27767391,\n",
       "       0.27675417, 0.27596671, 0.27591271, 0.27411878, 0.27400641,\n",
       "       0.27376361, 0.27351236, 0.27318901, 0.27262819, 0.27251534,\n",
       "       0.27217525, 0.2720517 , 0.2716222 , 0.26988873, 0.26931064,\n",
       "       0.26829461, 0.26795803, 0.2668869 , 0.26679382, 0.26601899,\n",
       "       0.26566957, 0.26505914, 0.26451568, 0.26421945, 0.26413663,\n",
       "       0.26384421, 0.26350025, 0.26343422, 0.26315574, 0.26284415,\n",
       "       0.26218022, 0.26195089, 0.26188803, 0.26117356, 0.26065091,\n",
       "       0.2606367 , 0.26055402, 0.25999151, 0.25986766, 0.2586563 ,\n",
       "       0.25805507, 0.2578462 , 0.25768443, 0.25661597, 0.25641174,\n",
       "       0.25612301, 0.25609652, 0.25597756, 0.25594714, 0.2553851 ,\n",
       "       0.25501461, 0.25463949, 0.25430829, 0.25283804, 0.25259686,\n",
       "       0.25252163, 0.25248391, 0.25222323, 0.25175806, 0.25175565,\n",
       "       0.25145549, 0.25111035, 0.25088005, 0.249933  , 0.24876944,\n",
       "       0.2485891 , 0.24851747, 0.24846368, 0.24812066, 0.24733587,\n",
       "       0.24681688, 0.2456441 , 0.24542786, 0.24519275, 0.2448061 ,\n",
       "       0.24414541, 0.24365647, 0.2435497 , 0.24354032, 0.24286686,\n",
       "       0.24242752, 0.24119988, 0.24090414, 0.24064468, 0.24056294,\n",
       "       0.2402415 , 0.24012239, 0.23986201, 0.23981887, 0.23952523,\n",
       "       0.23944861, 0.23887904, 0.2388368 , 0.23810159, 0.23763404,\n",
       "       0.23747248, 0.23741455, 0.23624283, 0.23620844, 0.23495012,\n",
       "       0.23487205, 0.23429372, 0.2341946 , 0.23384556, 0.23363797,\n",
       "       0.23229268, 0.23197999, 0.23181875, 0.23171335, 0.23124091,\n",
       "       0.23089352, 0.23055247, 0.23030155, 0.22966386, 0.22962143,\n",
       "       0.22961907, 0.22958382, 0.22930299, 0.22925942, 0.22901934,\n",
       "       0.22890904, 0.22888304, 0.2288277 , 0.22858492, 0.2285254 ,\n",
       "       0.22812763, 0.22805016, 0.22653364, 0.22648416, 0.22584289,\n",
       "       0.22568348, 0.22567221, 0.22549265, 0.22548401, 0.2251746 ,\n",
       "       0.22494211, 0.22476945, 0.2247351 , 0.22463773, 0.22457759,\n",
       "       0.22389602, 0.22194166, 0.22169496, 0.22057644, 0.22035719,\n",
       "       0.21980181, 0.21977696, 0.21958009, 0.21955979, 0.21789608,\n",
       "       0.2178112 , 0.21716562, 0.21713765, 0.2169344 , 0.2168094 ,\n",
       "       0.21655311, 0.21613361, 0.21534287, 0.2153087 , 0.21471205,\n",
       "       0.21457894, 0.21407068, 0.21405475, 0.21393814, 0.21393519,\n",
       "       0.21367796, 0.21342377, 0.21107733, 0.21100256, 0.2107229 ,\n",
       "       0.21069544, 0.20965521, 0.2093742 , 0.20924391, 0.2088922 ,\n",
       "       0.20824456, 0.20816463, 0.20804356, 0.20783607, 0.20667067,\n",
       "       0.20654085, 0.20650455, 0.20584378, 0.20583348, 0.20569998,\n",
       "       0.20534459, 0.20514782, 0.20492418, 0.2049054 , 0.20469415,\n",
       "       0.20451699, 0.20446675, 0.20442175, 0.20438586, 0.20404096,\n",
       "       0.20318184, 0.20303274, 0.20223474, 0.2021211 , 0.20204802,\n",
       "       0.20202746, 0.19979026, 0.19977055, 0.19791372, 0.19788277,\n",
       "       0.19738082, 0.19738038, 0.19636812, 0.19623227, 0.1957743 ,\n",
       "       0.19563714, 0.19559013, 0.19525575, 0.19517766, 0.19496757,\n",
       "       0.19455445, 0.19451189, 0.19396448, 0.19376671, 0.19321231,\n",
       "       0.1931035 , 0.19257114, 0.19247807, 0.19221103, 0.19183865,\n",
       "       0.19183541, 0.19151575, 0.19022018, 0.19009016, 0.18993392,\n",
       "       0.18986362, 0.18984605, 0.1898434 , 0.18959467, 0.18959322,\n",
       "       0.18809535, 0.18798779, 0.18675502, 0.18664434, 0.18657277,\n",
       "       0.18655357, 0.18521825, 0.18519639, 0.18457626, 0.18457598,\n",
       "       0.18425655, 0.18423861, 0.18414145, 0.18411601, 0.18398421,\n",
       "       0.18388963, 0.18356281, 0.18350053, 0.18264317, 0.18253659,\n",
       "       0.18226702, 0.18225504, 0.18177734, 0.18172609, 0.18104715,\n",
       "       0.18095994, 0.18089041, 0.18073929, 0.18037455, 0.1803251 ,\n",
       "       0.18015449, 0.18012046, 0.17972107, 0.1797101 , 0.17966453,\n",
       "       0.17956201, 0.17879334, 0.17845307, 0.17729233, 0.17727144,\n",
       "       0.17644501, 0.17639041, 0.17606378, 0.17578906, 0.17539393,\n",
       "       0.17524977, 0.17514954, 0.1750058 , 0.17464486, 0.17446851,\n",
       "       0.17428966, 0.17422882, 0.17369073, 0.17366908, 0.17354411,\n",
       "       0.17349648, 0.17207435, 0.17198328, 0.17166765, 0.17162688,\n",
       "       0.17117819, 0.17097479, 0.17009237, 0.16999686, 0.169573  ,\n",
       "       0.16942428, 0.16930989, 0.16926022, 0.16914878, 0.169072  ,\n",
       "       0.16823663, 0.16822307, 0.16778579, 0.16768332, 0.16741343,\n",
       "       0.16739998, 0.16714202, 0.16707665, 0.16677264, 0.16675908,\n",
       "       0.16661585, 0.16648852, 0.1657838 , 0.16576943, 0.16562511,\n",
       "       0.16544651, 0.1644722 , 0.16423586, 0.16353372, 0.16352132,\n",
       "       0.16270947, 0.16257315, 0.16248814, 0.16246642, 0.16244032,\n",
       "       0.16232762, 0.16226176, 0.16225112, 0.16156298, 0.16135127,\n",
       "       0.16081026, 0.16079857, 0.16027505, 0.16018918, 0.15995263,\n",
       "       0.15993445, 0.1594537 , 0.15938744, 0.15934377, 0.15932885,\n",
       "       0.15911481, 0.1588453 , 0.15805522, 0.15803036, 0.15762911,\n",
       "       0.15733274, 0.15621762, 0.15580321, 0.15568873, 0.15565762,\n",
       "       0.15500351, 0.15496338, 0.15475112, 0.15457933, 0.15393928,\n",
       "       0.15381912, 0.15249509, 0.15244137, 0.15216158, 0.15213229,\n",
       "       0.15090918, 0.15078059, 0.15004612, 0.15000232, 0.14896379,\n",
       "       0.14891676, 0.14874891, 0.14854973, 0.14741628, 0.14741533,\n",
       "       0.14700581, 0.14689312, 0.14687052, 0.14683346, 0.14679341,\n",
       "       0.14674343, 0.14638452, 0.14626977, 0.14606738, 0.14602976,\n",
       "       0.14585066, 0.14571806, 0.14341774, 0.1433701 , 0.14311739,\n",
       "       0.14311113, 0.14216979, 0.14194954, 0.14164217, 0.14143121,\n",
       "       0.14079211, 0.14078758, 0.1396099 , 0.13943539, 0.13800038,\n",
       "       0.137843  , 0.1374488 , 0.13727677, 0.13655195, 0.13655098,\n",
       "       0.13532333, 0.13521463, 0.1345864 , 0.13454533, 0.1343841 ,\n",
       "       0.1343532 , 0.1336116 , 0.13348396, 0.1334586 , 0.13338983,\n",
       "       0.13246124, 0.13243433, 0.13202873, 0.13201342, 0.13111783,\n",
       "       0.13109958, 0.13014289, 0.13004644, 0.12912798, 0.12904027,\n",
       "       0.12897428, 0.12889448, 0.12875498, 0.12866416, 0.1284696 ,\n",
       "       0.12843366, 0.12837492, 0.12836881, 0.12818053, 0.12796755,\n",
       "       0.12711803, 0.12711305, 0.12603337, 0.12603322, 0.12528494,\n",
       "       0.12521837, 0.12400717, 0.12399876, 0.12282423, 0.12281238,\n",
       "       0.12276369, 0.12269624, 0.12194626, 0.1218845 , 0.12182603,\n",
       "       0.12176863, 0.12152588, 0.12151435, 0.12126677, 0.12119174,\n",
       "       0.12072316, 0.12055888, 0.12016458, 0.12016134, 0.12014142,\n",
       "       0.11990214, 0.11986295, 0.11983272, 0.11879197, 0.11874245,\n",
       "       0.11835944, 0.11823335, 0.11790769, 0.11790695, 0.11722783,\n",
       "       0.11717918, 0.11685647, 0.11676852, 0.11664818, 0.11663572,\n",
       "       0.11627795, 0.11618794, 0.11554535, 0.11552573, 0.1144051 ,\n",
       "       0.11429646, 0.1126436 , 0.11250931, 0.11207879, 0.11203023,\n",
       "       0.11185202, 0.11184314, 0.11148559, 0.11146698, 0.11120297,\n",
       "       0.11115628, 0.11109994, 0.11101685, 0.11073656, 0.11065017,\n",
       "       0.11019857, 0.11018548, 0.10960938, 0.1095962 , 0.10925837,\n",
       "       0.10910322, 0.10900257, 0.10899743, 0.10863833, 0.10858328,\n",
       "       0.10839953, 0.10831012, 0.10828435, 0.10828088, 0.10771175,\n",
       "       0.10763282, 0.10759787, 0.10752556, 0.10749735, 0.10746794,\n",
       "       0.10688978, 0.10684995, 0.1063058 , 0.10629321, 0.10522435,\n",
       "       0.10521509, 0.10515005, 0.10514782, 0.10484634, 0.10480108,\n",
       "       0.10475697, 0.10466224, 0.10460825, 0.10459095, 0.1037969 ,\n",
       "       0.10368566, 0.1034845 , 0.1034752 , 0.10342125, 0.10332735,\n",
       "       0.10324275, 0.10319683, 0.10209366, 0.10207314, 0.1019966 ,\n",
       "       0.10193442, 0.10116171, 0.10114575, 0.10105733, 0.10094436,\n",
       "       0.10042395, 0.10037017, 0.09990133, 0.0997378 , 0.09957168,\n",
       "       0.09946114, 0.09839695, 0.09834413, 0.0973887 , 0.0973846 ,\n",
       "       0.096948  , 0.09693104, 0.09689615, 0.09682582, 0.09387525,\n",
       "       0.09377728, 0.09363914, 0.09361491, 0.09259582, 0.09245396,\n",
       "       0.09241018, 0.09229646, 0.09167095, 0.09160461, 0.09060281,\n",
       "       0.0905052 , 0.09047322, 0.09041022, 0.08801017, 0.08799856,\n",
       "       0.08610805, 0.08601478, 0.08578725, 0.08577788, 0.08562191,\n",
       "       0.08556472, 0.08536292, 0.08534797, 0.08531295, 0.08531138,\n",
       "       0.08504026, 0.08501637, 0.08496262, 0.08464103, 0.08462276,\n",
       "       0.08433641, 0.08427495, 0.08427174, 0.08385706, 0.08383907,\n",
       "       0.08362683, 0.08350795, 0.08298388, 0.08291183, 0.08230025,\n",
       "       0.08226383, 0.08100847, 0.08090965, 0.08072979, 0.08071016,\n",
       "       0.08045552, 0.08041438, 0.08026502, 0.08019655, 0.0799844 ,\n",
       "       0.07998133, 0.07995473, 0.07995433, 0.0797089 , 0.0797061 ,\n",
       "       0.07945378, 0.07943751, 0.07888998, 0.07885991, 0.07770182,\n",
       "       0.07769342, 0.07759494, 0.0774411 , 0.07519614, 0.07489458,\n",
       "       0.07418652, 0.07417896, 0.07354856, 0.07354527, 0.07337354,\n",
       "       0.07336796, 0.07322231, 0.07319695, 0.07307742, 0.07299536,\n",
       "       0.07283037, 0.07280322, 0.07217041, 0.07216143, 0.07187547,\n",
       "       0.07186352, 0.0714693 , 0.07142604, 0.07119708, 0.07113929,\n",
       "       0.06905402, 0.06895556, 0.06747331, 0.06746046, 0.06685283,\n",
       "       0.06684286, 0.06524281, 0.06522665, 0.06402206, 0.06398712,\n",
       "       0.06334123, 0.06327201, 0.06159922, 0.06158461, 0.06125926,\n",
       "       0.06115098, 0.05975845, 0.05975037, 0.05964408, 0.05964223,\n",
       "       0.05948584, 0.05948231, 0.05911416, 0.05908679, 0.05868924,\n",
       "       0.05862304, 0.0577153 , 0.05759739, 0.05747826, 0.05742848,\n",
       "       0.05668755, 0.05666189, 0.05593665, 0.05590074, 0.05521105,\n",
       "       0.05508452, 0.0549536 , 0.05493949, 0.05430349, 0.05429474,\n",
       "       0.05316018, 0.05315129, 0.05163659, 0.0515894 , 0.05148726,\n",
       "       0.05146957, 0.05137055, 0.05126952, 0.05095405, 0.05095118,\n",
       "       0.05071836, 0.05067791, 0.05034513, 0.05031417, 0.04949195,\n",
       "       0.04949127, 0.04869796, 0.04866308, 0.0480071 , 0.04785995,\n",
       "       0.04661886, 0.04656894, 0.04505122, 0.04501014, 0.04500188,\n",
       "       0.04500046, 0.04498397, 0.04495405, 0.04376022, 0.04373156,\n",
       "       0.0434092 , 0.04340905, 0.04322769, 0.04320108, 0.04175277,\n",
       "       0.04172554, 0.04089151, 0.04080126, 0.04071272, 0.04069495,\n",
       "       0.04036055, 0.04023161, 0.03407794, 0.03401422, 0.03132938,\n",
       "       0.03122749, 0.03051799, 0.03049861, 0.02486645, 0.024665  ,\n",
       "       0.01832377, 0.01813727, 0.01746985, 0.01744419, 0.01615037])"
      ]
     },
     "execution_count": 75,
     "metadata": {
      "tags": []
     },
     "output_type": "execute_result"
    }
   ],
   "source": [
    "thesholds"
   ]
  },
  {
   "cell_type": "code",
   "execution_count": null,
   "metadata": {
    "id": "kIZVsKYebxhE",
    "outputId": "635d9f6c-392c-4424-c28c-19ab80ec1c1c"
   },
   "outputs": [
    {
     "data": {
      "text/html": [
       "<div>\n",
       "<style scoped>\n",
       "    .dataframe tbody tr th:only-of-type {\n",
       "        vertical-align: middle;\n",
       "    }\n",
       "\n",
       "    .dataframe tbody tr th {\n",
       "        vertical-align: top;\n",
       "    }\n",
       "\n",
       "    .dataframe thead th {\n",
       "        text-align: right;\n",
       "    }\n",
       "</style>\n",
       "<table border=\"1\" class=\"dataframe\">\n",
       "  <thead>\n",
       "    <tr style=\"text-align: right;\">\n",
       "      <th></th>\n",
       "      <th>fpr</th>\n",
       "      <th>tpr</th>\n",
       "      <th>thesholds</th>\n",
       "    </tr>\n",
       "  </thead>\n",
       "  <tbody>\n",
       "    <tr>\n",
       "      <td>0</td>\n",
       "      <td>0.000000</td>\n",
       "      <td>0.000000</td>\n",
       "      <td>0.928660</td>\n",
       "    </tr>\n",
       "    <tr>\n",
       "      <td>1</td>\n",
       "      <td>0.000000</td>\n",
       "      <td>0.001553</td>\n",
       "      <td>0.928660</td>\n",
       "    </tr>\n",
       "    <tr>\n",
       "      <td>2</td>\n",
       "      <td>0.000000</td>\n",
       "      <td>0.004658</td>\n",
       "      <td>0.913129</td>\n",
       "    </tr>\n",
       "    <tr>\n",
       "      <td>3</td>\n",
       "      <td>0.000278</td>\n",
       "      <td>0.004658</td>\n",
       "      <td>0.858071</td>\n",
       "    </tr>\n",
       "    <tr>\n",
       "      <td>4</td>\n",
       "      <td>0.000278</td>\n",
       "      <td>0.021739</td>\n",
       "      <td>0.644514</td>\n",
       "    </tr>\n",
       "    <tr>\n",
       "      <td>...</td>\n",
       "      <td>...</td>\n",
       "      <td>...</td>\n",
       "      <td>...</td>\n",
       "    </tr>\n",
       "    <tr>\n",
       "      <td>975</td>\n",
       "      <td>0.998888</td>\n",
       "      <td>0.996894</td>\n",
       "      <td>0.018324</td>\n",
       "    </tr>\n",
       "    <tr>\n",
       "      <td>976</td>\n",
       "      <td>0.998888</td>\n",
       "      <td>0.998447</td>\n",
       "      <td>0.018137</td>\n",
       "    </tr>\n",
       "    <tr>\n",
       "      <td>977</td>\n",
       "      <td>0.999166</td>\n",
       "      <td>0.998447</td>\n",
       "      <td>0.017470</td>\n",
       "    </tr>\n",
       "    <tr>\n",
       "      <td>978</td>\n",
       "      <td>0.999166</td>\n",
       "      <td>1.000000</td>\n",
       "      <td>0.017444</td>\n",
       "    </tr>\n",
       "    <tr>\n",
       "      <td>979</td>\n",
       "      <td>1.000000</td>\n",
       "      <td>1.000000</td>\n",
       "      <td>0.016150</td>\n",
       "    </tr>\n",
       "  </tbody>\n",
       "</table>\n",
       "<p>980 rows × 3 columns</p>\n",
       "</div>"
      ],
      "text/plain": [
       "          fpr       tpr  thesholds\n",
       "0    0.000000  0.000000   0.928660\n",
       "1    0.000000  0.001553   0.928660\n",
       "2    0.000000  0.004658   0.913129\n",
       "3    0.000278  0.004658   0.858071\n",
       "4    0.000278  0.021739   0.644514\n",
       "..        ...       ...        ...\n",
       "975  0.998888  0.996894   0.018324\n",
       "976  0.998888  0.998447   0.018137\n",
       "977  0.999166  0.998447   0.017470\n",
       "978  0.999166  1.000000   0.017444\n",
       "979  1.000000  1.000000   0.016150\n",
       "\n",
       "[980 rows x 3 columns]"
      ]
     },
     "execution_count": 78,
     "metadata": {
      "tags": []
     },
     "output_type": "execute_result"
    }
   ],
   "source": [
    "roc=pd.DataFrame({'fpr':fpr, 'tpr':tpr, 'thesholds': thesholds})\n",
    "roc"
   ]
  },
  {
   "cell_type": "code",
   "execution_count": null,
   "metadata": {
    "id": "dwSgeHJNbxhG",
    "outputId": "c134d8df-ba8a-49fe-b867-52331dbefa44"
   },
   "outputs": [
    {
     "data": {
      "image/png": "[encoded data removed]",
      "text/plain": [
       "<Figure size 432x288 with 1 Axes>"
      ]
     },
     "metadata": {
      "needs_background": "light",
      "tags": []
     },
     "output_type": "display_data"
    }
   ],
   "source": [
    "plt.plot(fpr,tpr)\n",
    "plt.plot(fpr,fpr, 'r')\n",
    "plt.xlabel('fpr')\n",
    "plt.ylabel('tpr')\n",
    "plt.show()"
   ]
  },
  {
   "cell_type": "code",
   "execution_count": null,
   "metadata": {
    "id": "FDYgDI8ibxhH",
    "outputId": "4744ecec-c6b4-43cb-dc15-f15de914af04"
   },
   "outputs": [
    {
     "data": {
      "image/png": "[encoded data removed]",
      "text/plain": [
       "<Figure size 432x288 with 2 Axes>"
      ]
     },
     "metadata": {
      "needs_background": "light",
      "tags": []
     },
     "output_type": "display_data"
    }
   ],
   "source": [
    "fig,ax= plt.subplots()\n",
    "ax.plot(fpr,tpr)\n",
    "ax.plot(fpr,fpr, 'r')\n",
    "ax.set_xlabel('fpr')\n",
    "ax.set_ylabel('tpr')\n",
    "ax1=ax.twinx()\n",
    "ax1.set_ylabel('thesholds')\n",
    "ax1.plot(fpr, thesholds)\n",
    "plt.show()"
   ]
  },
  {
   "cell_type": "code",
   "execution_count": null,
   "metadata": {
    "id": "9I2F5DKjbxhK",
    "outputId": "284096c9-febc-40a7-d479-fd23390270f9"
   },
   "outputs": [
    {
     "data": {
      "text/html": [
       "<div>\n",
       "<style scoped>\n",
       "    .dataframe tbody tr th:only-of-type {\n",
       "        vertical-align: middle;\n",
       "    }\n",
       "\n",
       "    .dataframe tbody tr th {\n",
       "        vertical-align: top;\n",
       "    }\n",
       "\n",
       "    .dataframe thead th {\n",
       "        text-align: right;\n",
       "    }\n",
       "</style>\n",
       "<table border=\"1\" class=\"dataframe\">\n",
       "  <thead>\n",
       "    <tr style=\"text-align: right;\">\n",
       "      <th></th>\n",
       "      <th>fpr</th>\n",
       "      <th>tpr</th>\n",
       "      <th>thesholds</th>\n",
       "    </tr>\n",
       "  </thead>\n",
       "  <tbody>\n",
       "    <tr>\n",
       "      <td>738</td>\n",
       "      <td>0.494160</td>\n",
       "      <td>0.801242</td>\n",
       "      <td>0.109596</td>\n",
       "    </tr>\n",
       "    <tr>\n",
       "      <td>739</td>\n",
       "      <td>0.496663</td>\n",
       "      <td>0.801242</td>\n",
       "      <td>0.109258</td>\n",
       "    </tr>\n",
       "    <tr>\n",
       "      <td>740</td>\n",
       "      <td>0.496663</td>\n",
       "      <td>0.802795</td>\n",
       "      <td>0.109103</td>\n",
       "    </tr>\n",
       "    <tr>\n",
       "      <td>741</td>\n",
       "      <td>0.497497</td>\n",
       "      <td>0.802795</td>\n",
       "      <td>0.109003</td>\n",
       "    </tr>\n",
       "    <tr>\n",
       "      <td>742</td>\n",
       "      <td>0.497497</td>\n",
       "      <td>0.804348</td>\n",
       "      <td>0.108997</td>\n",
       "    </tr>\n",
       "    <tr>\n",
       "      <td>743</td>\n",
       "      <td>0.498331</td>\n",
       "      <td>0.804348</td>\n",
       "      <td>0.108638</td>\n",
       "    </tr>\n",
       "    <tr>\n",
       "      <td>744</td>\n",
       "      <td>0.498331</td>\n",
       "      <td>0.805901</td>\n",
       "      <td>0.108583</td>\n",
       "    </tr>\n",
       "    <tr>\n",
       "      <td>745</td>\n",
       "      <td>0.498610</td>\n",
       "      <td>0.805901</td>\n",
       "      <td>0.108400</td>\n",
       "    </tr>\n",
       "    <tr>\n",
       "      <td>746</td>\n",
       "      <td>0.498610</td>\n",
       "      <td>0.809006</td>\n",
       "      <td>0.108310</td>\n",
       "    </tr>\n",
       "    <tr>\n",
       "      <td>747</td>\n",
       "      <td>0.499166</td>\n",
       "      <td>0.809006</td>\n",
       "      <td>0.108284</td>\n",
       "    </tr>\n",
       "  </tbody>\n",
       "</table>\n",
       "</div>"
      ],
      "text/plain": [
       "          fpr       tpr  thesholds\n",
       "738  0.494160  0.801242   0.109596\n",
       "739  0.496663  0.801242   0.109258\n",
       "740  0.496663  0.802795   0.109103\n",
       "741  0.497497  0.802795   0.109003\n",
       "742  0.497497  0.804348   0.108997\n",
       "743  0.498331  0.804348   0.108638\n",
       "744  0.498331  0.805901   0.108583\n",
       "745  0.498610  0.805901   0.108400\n",
       "746  0.498610  0.809006   0.108310\n",
       "747  0.499166  0.809006   0.108284"
      ]
     },
     "execution_count": 82,
     "metadata": {
      "tags": []
     },
     "output_type": "execute_result"
    }
   ],
   "source": [
    "roc[(roc['tpr']>=0.80) & (roc['tpr']<=0.81)]"
   ]
  },
  {
   "cell_type": "code",
   "execution_count": null,
   "metadata": {
    "id": "EhaHGcQ-bxhM"
   },
   "outputs": [],
   "source": []
  }
 ],
 "metadata": {
  "colab": {
   "name": "slc_stats_logistic regression_predicting CHD.ipynb",
   "provenance": []
  },
  "kernelspec": {
   "display_name": "Python 3",
   "language": "python",
   "name": "python3"
  },
  "language_info": {
   "codemirror_mode": {
    "name": "ipython",
    "version": 3
   },
   "file_extension": ".py",
   "mimetype": "text/x-python",
   "name": "python",
   "nbconvert_exporter": "python",
   "pygments_lexer": "ipython3",
   "version": "3.8.5"
  }
 },
 "nbformat": 4,
 "nbformat_minor": 1
}
