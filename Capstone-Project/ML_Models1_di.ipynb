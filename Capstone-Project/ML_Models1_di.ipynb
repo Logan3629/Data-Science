{
 "cells": [
  {
   "cell_type": "code",
   "execution_count": 1,
   "metadata": {
    "id": "HjVrujrZsIqc"
   },
   "outputs": [],
   "source": [
    "#warnings\n",
    "import warnings\n",
    "warnings.filterwarnings('ignore')"
   ]
  },
  {
   "cell_type": "code",
   "execution_count": 2,
   "metadata": {
    "id": "qekgUz4Nsot4"
   },
   "outputs": [],
   "source": [
    "import numpy as np\n",
    "import pandas as pd\n",
    "\n",
    "# data visuzlization\n",
    "import matplotlib.pyplot as plt\n",
    "import seaborn as sns\n",
    "import scipy.stats as st"
   ]
  },
  {
   "cell_type": "code",
   "execution_count": 3,
   "metadata": {
    "id": "N38D5_-9sreU"
   },
   "outputs": [],
   "source": [
    "# max columns\n",
    "pd.set_option('display.max_columns', None)\n",
    "# max rows\n",
    "pd.set_option('display.max_rows', None)"
   ]
  },
  {
   "cell_type": "code",
   "execution_count": 4,
   "metadata": {
    "id": "s9ABSUDNstrX"
   },
   "outputs": [],
   "source": [
    "x = pd.read_csv('x1_di.csv')\n",
    "y = pd.read_csv('y1_di.csv')"
   ]
  },
  {
   "cell_type": "code",
   "execution_count": 5,
   "metadata": {
    "colab": {
     "base_uri": "https://localhost:8080/"
    },
    "id": "HJm-N2Hcs20x",
    "outputId": "726f9fed-5f19-4a3e-e71d-fd5c7daa4722"
   },
   "outputs": [
    {
     "data": {
      "text/plain": [
       "(98052, 29)"
      ]
     },
     "execution_count": 5,
     "metadata": {},
     "output_type": "execute_result"
    }
   ],
   "source": [
    "x.shape"
   ]
  },
  {
   "cell_type": "code",
   "execution_count": 6,
   "metadata": {
    "colab": {
     "base_uri": "https://localhost:8080/",
     "height": 239
    },
    "id": "abKoo9ctz-uH",
    "outputId": "a76f53c1-6290-43ce-b9a0-235f3cbef651"
   },
   "outputs": [
    {
     "data": {
      "text/html": [
       "<div>\n",
       "<style scoped>\n",
       "    .dataframe tbody tr th:only-of-type {\n",
       "        vertical-align: middle;\n",
       "    }\n",
       "\n",
       "    .dataframe tbody tr th {\n",
       "        vertical-align: top;\n",
       "    }\n",
       "\n",
       "    .dataframe thead th {\n",
       "        text-align: right;\n",
       "    }\n",
       "</style>\n",
       "<table border=\"1\" class=\"dataframe\">\n",
       "  <thead>\n",
       "    <tr style=\"text-align: right;\">\n",
       "      <th></th>\n",
       "      <th>Unnamed: 0</th>\n",
       "      <th>num_lab_procedures</th>\n",
       "      <th>glimepiride_Yes</th>\n",
       "      <th>max_glu_serum_&gt;300</th>\n",
       "      <th>glyburide_Yes</th>\n",
       "      <th>insulin_Yes</th>\n",
       "      <th>rosiglitazone_Yes</th>\n",
       "      <th>number_emergency</th>\n",
       "      <th>age_adult</th>\n",
       "      <th>number_diagnoses</th>\n",
       "      <th>A1Cresult_Norm</th>\n",
       "      <th>race_Hispanic</th>\n",
       "      <th>num_medications</th>\n",
       "      <th>max_glu_serum_None</th>\n",
       "      <th>metformin_Yes</th>\n",
       "      <th>A1Cresult_Not Normal</th>\n",
       "      <th>race_Asian</th>\n",
       "      <th>age_child</th>\n",
       "      <th>race_Other</th>\n",
       "      <th>readmitted_Yes</th>\n",
       "      <th>num_procedures</th>\n",
       "      <th>number_outpatient</th>\n",
       "      <th>time_in_hospital</th>\n",
       "      <th>number_inpatient</th>\n",
       "      <th>race_Caucasian</th>\n",
       "      <th>glipizide_Yes</th>\n",
       "      <th>gender_Male</th>\n",
       "      <th>pioglitazone_Yes</th>\n",
       "      <th>change_No</th>\n",
       "    </tr>\n",
       "  </thead>\n",
       "  <tbody>\n",
       "    <tr>\n",
       "      <td>0</td>\n",
       "      <td>1</td>\n",
       "      <td>59</td>\n",
       "      <td>0</td>\n",
       "      <td>0</td>\n",
       "      <td>0</td>\n",
       "      <td>1</td>\n",
       "      <td>0</td>\n",
       "      <td>0</td>\n",
       "      <td>0</td>\n",
       "      <td>9</td>\n",
       "      <td>0</td>\n",
       "      <td>0</td>\n",
       "      <td>18</td>\n",
       "      <td>1</td>\n",
       "      <td>0</td>\n",
       "      <td>0</td>\n",
       "      <td>0</td>\n",
       "      <td>1</td>\n",
       "      <td>0</td>\n",
       "      <td>1</td>\n",
       "      <td>0</td>\n",
       "      <td>0</td>\n",
       "      <td>3</td>\n",
       "      <td>0</td>\n",
       "      <td>1</td>\n",
       "      <td>0</td>\n",
       "      <td>0</td>\n",
       "      <td>0</td>\n",
       "      <td>0</td>\n",
       "    </tr>\n",
       "    <tr>\n",
       "      <td>1</td>\n",
       "      <td>2</td>\n",
       "      <td>11</td>\n",
       "      <td>0</td>\n",
       "      <td>0</td>\n",
       "      <td>0</td>\n",
       "      <td>0</td>\n",
       "      <td>0</td>\n",
       "      <td>0</td>\n",
       "      <td>1</td>\n",
       "      <td>6</td>\n",
       "      <td>0</td>\n",
       "      <td>0</td>\n",
       "      <td>13</td>\n",
       "      <td>1</td>\n",
       "      <td>0</td>\n",
       "      <td>0</td>\n",
       "      <td>0</td>\n",
       "      <td>0</td>\n",
       "      <td>0</td>\n",
       "      <td>0</td>\n",
       "      <td>5</td>\n",
       "      <td>2</td>\n",
       "      <td>2</td>\n",
       "      <td>1</td>\n",
       "      <td>0</td>\n",
       "      <td>1</td>\n",
       "      <td>0</td>\n",
       "      <td>0</td>\n",
       "      <td>1</td>\n",
       "    </tr>\n",
       "    <tr>\n",
       "      <td>2</td>\n",
       "      <td>3</td>\n",
       "      <td>44</td>\n",
       "      <td>0</td>\n",
       "      <td>0</td>\n",
       "      <td>0</td>\n",
       "      <td>1</td>\n",
       "      <td>0</td>\n",
       "      <td>0</td>\n",
       "      <td>1</td>\n",
       "      <td>7</td>\n",
       "      <td>0</td>\n",
       "      <td>0</td>\n",
       "      <td>16</td>\n",
       "      <td>1</td>\n",
       "      <td>0</td>\n",
       "      <td>0</td>\n",
       "      <td>0</td>\n",
       "      <td>0</td>\n",
       "      <td>0</td>\n",
       "      <td>0</td>\n",
       "      <td>1</td>\n",
       "      <td>0</td>\n",
       "      <td>2</td>\n",
       "      <td>0</td>\n",
       "      <td>1</td>\n",
       "      <td>0</td>\n",
       "      <td>1</td>\n",
       "      <td>0</td>\n",
       "      <td>0</td>\n",
       "    </tr>\n",
       "    <tr>\n",
       "      <td>3</td>\n",
       "      <td>4</td>\n",
       "      <td>51</td>\n",
       "      <td>0</td>\n",
       "      <td>0</td>\n",
       "      <td>0</td>\n",
       "      <td>1</td>\n",
       "      <td>0</td>\n",
       "      <td>0</td>\n",
       "      <td>1</td>\n",
       "      <td>5</td>\n",
       "      <td>0</td>\n",
       "      <td>0</td>\n",
       "      <td>8</td>\n",
       "      <td>1</td>\n",
       "      <td>0</td>\n",
       "      <td>0</td>\n",
       "      <td>0</td>\n",
       "      <td>0</td>\n",
       "      <td>0</td>\n",
       "      <td>0</td>\n",
       "      <td>0</td>\n",
       "      <td>0</td>\n",
       "      <td>1</td>\n",
       "      <td>0</td>\n",
       "      <td>1</td>\n",
       "      <td>1</td>\n",
       "      <td>1</td>\n",
       "      <td>0</td>\n",
       "      <td>0</td>\n",
       "    </tr>\n",
       "    <tr>\n",
       "      <td>4</td>\n",
       "      <td>5</td>\n",
       "      <td>31</td>\n",
       "      <td>0</td>\n",
       "      <td>0</td>\n",
       "      <td>0</td>\n",
       "      <td>1</td>\n",
       "      <td>0</td>\n",
       "      <td>0</td>\n",
       "      <td>1</td>\n",
       "      <td>9</td>\n",
       "      <td>0</td>\n",
       "      <td>0</td>\n",
       "      <td>16</td>\n",
       "      <td>1</td>\n",
       "      <td>0</td>\n",
       "      <td>0</td>\n",
       "      <td>0</td>\n",
       "      <td>0</td>\n",
       "      <td>0</td>\n",
       "      <td>1</td>\n",
       "      <td>6</td>\n",
       "      <td>0</td>\n",
       "      <td>3</td>\n",
       "      <td>0</td>\n",
       "      <td>1</td>\n",
       "      <td>0</td>\n",
       "      <td>1</td>\n",
       "      <td>0</td>\n",
       "      <td>1</td>\n",
       "    </tr>\n",
       "  </tbody>\n",
       "</table>\n",
       "</div>"
      ],
      "text/plain": [
       "   Unnamed: 0  num_lab_procedures  glimepiride_Yes  max_glu_serum_>300  \\\n",
       "0           1                  59                0                   0   \n",
       "1           2                  11                0                   0   \n",
       "2           3                  44                0                   0   \n",
       "3           4                  51                0                   0   \n",
       "4           5                  31                0                   0   \n",
       "\n",
       "   glyburide_Yes  insulin_Yes  rosiglitazone_Yes  number_emergency  age_adult  \\\n",
       "0              0            1                  0                 0          0   \n",
       "1              0            0                  0                 0          1   \n",
       "2              0            1                  0                 0          1   \n",
       "3              0            1                  0                 0          1   \n",
       "4              0            1                  0                 0          1   \n",
       "\n",
       "   number_diagnoses  A1Cresult_Norm  race_Hispanic  num_medications  \\\n",
       "0                 9               0              0               18   \n",
       "1                 6               0              0               13   \n",
       "2                 7               0              0               16   \n",
       "3                 5               0              0                8   \n",
       "4                 9               0              0               16   \n",
       "\n",
       "   max_glu_serum_None  metformin_Yes  A1Cresult_Not Normal  race_Asian  \\\n",
       "0                   1              0                     0           0   \n",
       "1                   1              0                     0           0   \n",
       "2                   1              0                     0           0   \n",
       "3                   1              0                     0           0   \n",
       "4                   1              0                     0           0   \n",
       "\n",
       "   age_child  race_Other  readmitted_Yes  num_procedures  number_outpatient  \\\n",
       "0          1           0               1               0                  0   \n",
       "1          0           0               0               5                  2   \n",
       "2          0           0               0               1                  0   \n",
       "3          0           0               0               0                  0   \n",
       "4          0           0               1               6                  0   \n",
       "\n",
       "   time_in_hospital  number_inpatient  race_Caucasian  glipizide_Yes  \\\n",
       "0                 3                 0               1              0   \n",
       "1                 2                 1               0              1   \n",
       "2                 2                 0               1              0   \n",
       "3                 1                 0               1              1   \n",
       "4                 3                 0               1              0   \n",
       "\n",
       "   gender_Male  pioglitazone_Yes  change_No  \n",
       "0            0                 0          0  \n",
       "1            0                 0          1  \n",
       "2            1                 0          0  \n",
       "3            1                 0          0  \n",
       "4            1                 0          1  "
      ]
     },
     "execution_count": 6,
     "metadata": {},
     "output_type": "execute_result"
    }
   ],
   "source": [
    "x.head()"
   ]
  },
  {
   "cell_type": "code",
   "execution_count": 7,
   "metadata": {
    "id": "SW5I1yIy0CdG"
   },
   "outputs": [],
   "source": [
    "x = x.drop('Unnamed: 0',axis=1)"
   ]
  },
  {
   "cell_type": "code",
   "execution_count": 8,
   "metadata": {
    "colab": {
     "base_uri": "https://localhost:8080/",
     "height": 239
    },
    "id": "v_P-2pQ40Kpv",
    "outputId": "a5ccf3f2-8e25-4bce-d0f3-c4a1045a44e2"
   },
   "outputs": [
    {
     "data": {
      "text/html": [
       "<div>\n",
       "<style scoped>\n",
       "    .dataframe tbody tr th:only-of-type {\n",
       "        vertical-align: middle;\n",
       "    }\n",
       "\n",
       "    .dataframe tbody tr th {\n",
       "        vertical-align: top;\n",
       "    }\n",
       "\n",
       "    .dataframe thead th {\n",
       "        text-align: right;\n",
       "    }\n",
       "</style>\n",
       "<table border=\"1\" class=\"dataframe\">\n",
       "  <thead>\n",
       "    <tr style=\"text-align: right;\">\n",
       "      <th></th>\n",
       "      <th>num_lab_procedures</th>\n",
       "      <th>glimepiride_Yes</th>\n",
       "      <th>max_glu_serum_&gt;300</th>\n",
       "      <th>glyburide_Yes</th>\n",
       "      <th>insulin_Yes</th>\n",
       "      <th>rosiglitazone_Yes</th>\n",
       "      <th>number_emergency</th>\n",
       "      <th>age_adult</th>\n",
       "      <th>number_diagnoses</th>\n",
       "      <th>A1Cresult_Norm</th>\n",
       "      <th>race_Hispanic</th>\n",
       "      <th>num_medications</th>\n",
       "      <th>max_glu_serum_None</th>\n",
       "      <th>metformin_Yes</th>\n",
       "      <th>A1Cresult_Not Normal</th>\n",
       "      <th>race_Asian</th>\n",
       "      <th>age_child</th>\n",
       "      <th>race_Other</th>\n",
       "      <th>readmitted_Yes</th>\n",
       "      <th>num_procedures</th>\n",
       "      <th>number_outpatient</th>\n",
       "      <th>time_in_hospital</th>\n",
       "      <th>number_inpatient</th>\n",
       "      <th>race_Caucasian</th>\n",
       "      <th>glipizide_Yes</th>\n",
       "      <th>gender_Male</th>\n",
       "      <th>pioglitazone_Yes</th>\n",
       "      <th>change_No</th>\n",
       "    </tr>\n",
       "  </thead>\n",
       "  <tbody>\n",
       "    <tr>\n",
       "      <td>0</td>\n",
       "      <td>59</td>\n",
       "      <td>0</td>\n",
       "      <td>0</td>\n",
       "      <td>0</td>\n",
       "      <td>1</td>\n",
       "      <td>0</td>\n",
       "      <td>0</td>\n",
       "      <td>0</td>\n",
       "      <td>9</td>\n",
       "      <td>0</td>\n",
       "      <td>0</td>\n",
       "      <td>18</td>\n",
       "      <td>1</td>\n",
       "      <td>0</td>\n",
       "      <td>0</td>\n",
       "      <td>0</td>\n",
       "      <td>1</td>\n",
       "      <td>0</td>\n",
       "      <td>1</td>\n",
       "      <td>0</td>\n",
       "      <td>0</td>\n",
       "      <td>3</td>\n",
       "      <td>0</td>\n",
       "      <td>1</td>\n",
       "      <td>0</td>\n",
       "      <td>0</td>\n",
       "      <td>0</td>\n",
       "      <td>0</td>\n",
       "    </tr>\n",
       "    <tr>\n",
       "      <td>1</td>\n",
       "      <td>11</td>\n",
       "      <td>0</td>\n",
       "      <td>0</td>\n",
       "      <td>0</td>\n",
       "      <td>0</td>\n",
       "      <td>0</td>\n",
       "      <td>0</td>\n",
       "      <td>1</td>\n",
       "      <td>6</td>\n",
       "      <td>0</td>\n",
       "      <td>0</td>\n",
       "      <td>13</td>\n",
       "      <td>1</td>\n",
       "      <td>0</td>\n",
       "      <td>0</td>\n",
       "      <td>0</td>\n",
       "      <td>0</td>\n",
       "      <td>0</td>\n",
       "      <td>0</td>\n",
       "      <td>5</td>\n",
       "      <td>2</td>\n",
       "      <td>2</td>\n",
       "      <td>1</td>\n",
       "      <td>0</td>\n",
       "      <td>1</td>\n",
       "      <td>0</td>\n",
       "      <td>0</td>\n",
       "      <td>1</td>\n",
       "    </tr>\n",
       "    <tr>\n",
       "      <td>2</td>\n",
       "      <td>44</td>\n",
       "      <td>0</td>\n",
       "      <td>0</td>\n",
       "      <td>0</td>\n",
       "      <td>1</td>\n",
       "      <td>0</td>\n",
       "      <td>0</td>\n",
       "      <td>1</td>\n",
       "      <td>7</td>\n",
       "      <td>0</td>\n",
       "      <td>0</td>\n",
       "      <td>16</td>\n",
       "      <td>1</td>\n",
       "      <td>0</td>\n",
       "      <td>0</td>\n",
       "      <td>0</td>\n",
       "      <td>0</td>\n",
       "      <td>0</td>\n",
       "      <td>0</td>\n",
       "      <td>1</td>\n",
       "      <td>0</td>\n",
       "      <td>2</td>\n",
       "      <td>0</td>\n",
       "      <td>1</td>\n",
       "      <td>0</td>\n",
       "      <td>1</td>\n",
       "      <td>0</td>\n",
       "      <td>0</td>\n",
       "    </tr>\n",
       "    <tr>\n",
       "      <td>3</td>\n",
       "      <td>51</td>\n",
       "      <td>0</td>\n",
       "      <td>0</td>\n",
       "      <td>0</td>\n",
       "      <td>1</td>\n",
       "      <td>0</td>\n",
       "      <td>0</td>\n",
       "      <td>1</td>\n",
       "      <td>5</td>\n",
       "      <td>0</td>\n",
       "      <td>0</td>\n",
       "      <td>8</td>\n",
       "      <td>1</td>\n",
       "      <td>0</td>\n",
       "      <td>0</td>\n",
       "      <td>0</td>\n",
       "      <td>0</td>\n",
       "      <td>0</td>\n",
       "      <td>0</td>\n",
       "      <td>0</td>\n",
       "      <td>0</td>\n",
       "      <td>1</td>\n",
       "      <td>0</td>\n",
       "      <td>1</td>\n",
       "      <td>1</td>\n",
       "      <td>1</td>\n",
       "      <td>0</td>\n",
       "      <td>0</td>\n",
       "    </tr>\n",
       "    <tr>\n",
       "      <td>4</td>\n",
       "      <td>31</td>\n",
       "      <td>0</td>\n",
       "      <td>0</td>\n",
       "      <td>0</td>\n",
       "      <td>1</td>\n",
       "      <td>0</td>\n",
       "      <td>0</td>\n",
       "      <td>1</td>\n",
       "      <td>9</td>\n",
       "      <td>0</td>\n",
       "      <td>0</td>\n",
       "      <td>16</td>\n",
       "      <td>1</td>\n",
       "      <td>0</td>\n",
       "      <td>0</td>\n",
       "      <td>0</td>\n",
       "      <td>0</td>\n",
       "      <td>0</td>\n",
       "      <td>1</td>\n",
       "      <td>6</td>\n",
       "      <td>0</td>\n",
       "      <td>3</td>\n",
       "      <td>0</td>\n",
       "      <td>1</td>\n",
       "      <td>0</td>\n",
       "      <td>1</td>\n",
       "      <td>0</td>\n",
       "      <td>1</td>\n",
       "    </tr>\n",
       "  </tbody>\n",
       "</table>\n",
       "</div>"
      ],
      "text/plain": [
       "   num_lab_procedures  glimepiride_Yes  max_glu_serum_>300  glyburide_Yes  \\\n",
       "0                  59                0                   0              0   \n",
       "1                  11                0                   0              0   \n",
       "2                  44                0                   0              0   \n",
       "3                  51                0                   0              0   \n",
       "4                  31                0                   0              0   \n",
       "\n",
       "   insulin_Yes  rosiglitazone_Yes  number_emergency  age_adult  \\\n",
       "0            1                  0                 0          0   \n",
       "1            0                  0                 0          1   \n",
       "2            1                  0                 0          1   \n",
       "3            1                  0                 0          1   \n",
       "4            1                  0                 0          1   \n",
       "\n",
       "   number_diagnoses  A1Cresult_Norm  race_Hispanic  num_medications  \\\n",
       "0                 9               0              0               18   \n",
       "1                 6               0              0               13   \n",
       "2                 7               0              0               16   \n",
       "3                 5               0              0                8   \n",
       "4                 9               0              0               16   \n",
       "\n",
       "   max_glu_serum_None  metformin_Yes  A1Cresult_Not Normal  race_Asian  \\\n",
       "0                   1              0                     0           0   \n",
       "1                   1              0                     0           0   \n",
       "2                   1              0                     0           0   \n",
       "3                   1              0                     0           0   \n",
       "4                   1              0                     0           0   \n",
       "\n",
       "   age_child  race_Other  readmitted_Yes  num_procedures  number_outpatient  \\\n",
       "0          1           0               1               0                  0   \n",
       "1          0           0               0               5                  2   \n",
       "2          0           0               0               1                  0   \n",
       "3          0           0               0               0                  0   \n",
       "4          0           0               1               6                  0   \n",
       "\n",
       "   time_in_hospital  number_inpatient  race_Caucasian  glipizide_Yes  \\\n",
       "0                 3                 0               1              0   \n",
       "1                 2                 1               0              1   \n",
       "2                 2                 0               1              0   \n",
       "3                 1                 0               1              1   \n",
       "4                 3                 0               1              0   \n",
       "\n",
       "   gender_Male  pioglitazone_Yes  change_No  \n",
       "0            0                 0          0  \n",
       "1            0                 0          1  \n",
       "2            1                 0          0  \n",
       "3            1                 0          0  \n",
       "4            1                 0          1  "
      ]
     },
     "execution_count": 8,
     "metadata": {},
     "output_type": "execute_result"
    }
   ],
   "source": [
    "x.head()"
   ]
  },
  {
   "cell_type": "code",
   "execution_count": 9,
   "metadata": {
    "colab": {
     "base_uri": "https://localhost:8080/"
    },
    "id": "cnYVVXUqtTXC",
    "outputId": "2e10c6a2-53c3-4944-d5a1-44e564e5e03b"
   },
   "outputs": [
    {
     "data": {
      "text/plain": [
       "Index(['Unnamed: 0', 'Diabetes'], dtype='object')"
      ]
     },
     "execution_count": 9,
     "metadata": {},
     "output_type": "execute_result"
    }
   ],
   "source": [
    "y.columns"
   ]
  },
  {
   "cell_type": "code",
   "execution_count": 10,
   "metadata": {
    "colab": {
     "base_uri": "https://localhost:8080/",
     "height": 141
    },
    "id": "0JWkA__os6pR",
    "outputId": "fbb93c91-85de-4e80-e7ba-6b91648bd675"
   },
   "outputs": [
    {
     "data": {
      "text/html": [
       "<div>\n",
       "<style scoped>\n",
       "    .dataframe tbody tr th:only-of-type {\n",
       "        vertical-align: middle;\n",
       "    }\n",
       "\n",
       "    .dataframe tbody tr th {\n",
       "        vertical-align: top;\n",
       "    }\n",
       "\n",
       "    .dataframe thead th {\n",
       "        text-align: right;\n",
       "    }\n",
       "</style>\n",
       "<table border=\"1\" class=\"dataframe\">\n",
       "  <thead>\n",
       "    <tr style=\"text-align: right;\">\n",
       "      <th></th>\n",
       "      <th>Diabetes</th>\n",
       "    </tr>\n",
       "  </thead>\n",
       "  <tbody>\n",
       "    <tr>\n",
       "      <td>0</td>\n",
       "      <td>1</td>\n",
       "    </tr>\n",
       "    <tr>\n",
       "      <td>1</td>\n",
       "      <td>1</td>\n",
       "    </tr>\n",
       "    <tr>\n",
       "      <td>2</td>\n",
       "      <td>1</td>\n",
       "    </tr>\n",
       "  </tbody>\n",
       "</table>\n",
       "</div>"
      ],
      "text/plain": [
       "   Diabetes\n",
       "0         1\n",
       "1         1\n",
       "2         1"
      ]
     },
     "execution_count": 10,
     "metadata": {},
     "output_type": "execute_result"
    }
   ],
   "source": [
    "y = y.drop('Unnamed: 0',axis=1)\n",
    "y[:3]"
   ]
  },
  {
   "cell_type": "code",
   "execution_count": 11,
   "metadata": {
    "id": "SA_Kn8xQAAfU"
   },
   "outputs": [],
   "source": [
    "y = y['Diabetes']"
   ]
  },
  {
   "cell_type": "code",
   "execution_count": 12,
   "metadata": {
    "id": "5MZyTG8VMAQ0"
   },
   "outputs": [],
   "source": [
    "from sklearn.metrics import classification_report,accuracy_score,roc_auc_score,roc_curve"
   ]
  },
  {
   "cell_type": "markdown",
   "metadata": {
    "id": "UKyUs3HC5LWs"
   },
   "source": [
    "# Logistic Regression"
   ]
  },
  {
   "cell_type": "code",
   "execution_count": 13,
   "metadata": {
    "id": "YFmBaEEBs9B6"
   },
   "outputs": [],
   "source": [
    "from sklearn.model_selection import  train_test_split\n",
    "\n",
    "Xtrain,Xtest,ytrain,ytest=train_test_split(x,y,test_size=0.3,random_state=48,stratify=y)"
   ]
  },
  {
   "cell_type": "code",
   "execution_count": 14,
   "metadata": {
    "colab": {
     "base_uri": "https://localhost:8080/"
    },
    "id": "zby6GFOl80AU",
    "outputId": "bcf38824-e2d3-4f50-c9d3-6750b980817e"
   },
   "outputs": [
    {
     "data": {
      "text/plain": [
       "((68636, 28), (29416, 28), (68636,), (29416,))"
      ]
     },
     "execution_count": 14,
     "metadata": {},
     "output_type": "execute_result"
    }
   ],
   "source": [
    "Xtrain.shape,Xtest.shape,ytrain.shape,ytest.shape"
   ]
  },
  {
   "cell_type": "code",
   "execution_count": 15,
   "metadata": {
    "colab": {
     "base_uri": "https://localhost:8080/",
     "height": 239
    },
    "id": "ufHoh79e5mPW",
    "outputId": "9ce0e4e9-4362-4304-dffe-c7a7b06c50d2"
   },
   "outputs": [
    {
     "data": {
      "text/html": [
       "<div>\n",
       "<style scoped>\n",
       "    .dataframe tbody tr th:only-of-type {\n",
       "        vertical-align: middle;\n",
       "    }\n",
       "\n",
       "    .dataframe tbody tr th {\n",
       "        vertical-align: top;\n",
       "    }\n",
       "\n",
       "    .dataframe thead th {\n",
       "        text-align: right;\n",
       "    }\n",
       "</style>\n",
       "<table border=\"1\" class=\"dataframe\">\n",
       "  <thead>\n",
       "    <tr style=\"text-align: right;\">\n",
       "      <th></th>\n",
       "      <th>num_lab_procedures</th>\n",
       "      <th>glimepiride_Yes</th>\n",
       "      <th>max_glu_serum_&gt;300</th>\n",
       "      <th>glyburide_Yes</th>\n",
       "      <th>insulin_Yes</th>\n",
       "      <th>rosiglitazone_Yes</th>\n",
       "      <th>number_emergency</th>\n",
       "      <th>age_adult</th>\n",
       "      <th>number_diagnoses</th>\n",
       "      <th>A1Cresult_Norm</th>\n",
       "      <th>race_Hispanic</th>\n",
       "      <th>num_medications</th>\n",
       "      <th>max_glu_serum_None</th>\n",
       "      <th>metformin_Yes</th>\n",
       "      <th>A1Cresult_Not Normal</th>\n",
       "      <th>race_Asian</th>\n",
       "      <th>age_child</th>\n",
       "      <th>race_Other</th>\n",
       "      <th>readmitted_Yes</th>\n",
       "      <th>num_procedures</th>\n",
       "      <th>number_outpatient</th>\n",
       "      <th>time_in_hospital</th>\n",
       "      <th>number_inpatient</th>\n",
       "      <th>race_Caucasian</th>\n",
       "      <th>glipizide_Yes</th>\n",
       "      <th>gender_Male</th>\n",
       "      <th>pioglitazone_Yes</th>\n",
       "      <th>change_No</th>\n",
       "    </tr>\n",
       "  </thead>\n",
       "  <tbody>\n",
       "    <tr>\n",
       "      <td>0</td>\n",
       "      <td>1.314587</td>\n",
       "      <td>-0.231316</td>\n",
       "      <td>-0.11218</td>\n",
       "      <td>-0.342417</td>\n",
       "      <td>0.940735</td>\n",
       "      <td>-0.26051</td>\n",
       "      <td>0.866474</td>\n",
       "      <td>-0.678507</td>\n",
       "      <td>0.813301</td>\n",
       "      <td>-0.226630</td>\n",
       "      <td>-0.14218</td>\n",
       "      <td>2.332501</td>\n",
       "      <td>0.237815</td>\n",
       "      <td>-0.491763</td>\n",
       "      <td>-0.362483</td>\n",
       "      <td>-0.079586</td>\n",
       "      <td>-0.073119</td>\n",
       "      <td>-0.122455</td>\n",
       "      <td>1.072717</td>\n",
       "      <td>1.553356</td>\n",
       "      <td>-0.293034</td>\n",
       "      <td>1.527613</td>\n",
       "      <td>-0.508778</td>\n",
       "      <td>0.551002</td>\n",
       "      <td>-0.377347</td>\n",
       "      <td>1.082252</td>\n",
       "      <td>-0.279187</td>\n",
       "      <td>-1.082538</td>\n",
       "    </tr>\n",
       "    <tr>\n",
       "      <td>1</td>\n",
       "      <td>-2.136965</td>\n",
       "      <td>-0.231316</td>\n",
       "      <td>-0.11218</td>\n",
       "      <td>-0.342417</td>\n",
       "      <td>0.940735</td>\n",
       "      <td>-0.26051</td>\n",
       "      <td>1.948421</td>\n",
       "      <td>-0.678507</td>\n",
       "      <td>0.813301</td>\n",
       "      <td>-0.226630</td>\n",
       "      <td>-0.14218</td>\n",
       "      <td>-0.013138</td>\n",
       "      <td>0.237815</td>\n",
       "      <td>2.033499</td>\n",
       "      <td>-0.362483</td>\n",
       "      <td>-0.079586</td>\n",
       "      <td>-0.073119</td>\n",
       "      <td>-0.122455</td>\n",
       "      <td>1.072717</td>\n",
       "      <td>-0.789611</td>\n",
       "      <td>-0.293034</td>\n",
       "      <td>1.193721</td>\n",
       "      <td>1.854920</td>\n",
       "      <td>0.551002</td>\n",
       "      <td>-0.377347</td>\n",
       "      <td>-0.923999</td>\n",
       "      <td>3.581835</td>\n",
       "      <td>-1.082538</td>\n",
       "    </tr>\n",
       "    <tr>\n",
       "      <td>2</td>\n",
       "      <td>1.060796</td>\n",
       "      <td>-0.231316</td>\n",
       "      <td>-0.11218</td>\n",
       "      <td>-0.342417</td>\n",
       "      <td>0.940735</td>\n",
       "      <td>-0.26051</td>\n",
       "      <td>-0.215472</td>\n",
       "      <td>1.473825</td>\n",
       "      <td>0.266694</td>\n",
       "      <td>4.412485</td>\n",
       "      <td>-0.14218</td>\n",
       "      <td>-0.013138</td>\n",
       "      <td>0.237815</td>\n",
       "      <td>-0.491763</td>\n",
       "      <td>-0.362483</td>\n",
       "      <td>-0.079586</td>\n",
       "      <td>-0.073119</td>\n",
       "      <td>-0.122455</td>\n",
       "      <td>1.072717</td>\n",
       "      <td>-0.789611</td>\n",
       "      <td>-0.293034</td>\n",
       "      <td>-0.475735</td>\n",
       "      <td>-0.508778</td>\n",
       "      <td>0.551002</td>\n",
       "      <td>-0.377347</td>\n",
       "      <td>1.082252</td>\n",
       "      <td>-0.279187</td>\n",
       "      <td>-1.082538</td>\n",
       "    </tr>\n",
       "    <tr>\n",
       "      <td>3</td>\n",
       "      <td>1.771410</td>\n",
       "      <td>-0.231316</td>\n",
       "      <td>-0.11218</td>\n",
       "      <td>2.920412</td>\n",
       "      <td>0.940735</td>\n",
       "      <td>-0.26051</td>\n",
       "      <td>-0.215472</td>\n",
       "      <td>-0.678507</td>\n",
       "      <td>0.813301</td>\n",
       "      <td>-0.226630</td>\n",
       "      <td>-0.14218</td>\n",
       "      <td>1.097954</td>\n",
       "      <td>0.237815</td>\n",
       "      <td>-0.491763</td>\n",
       "      <td>-0.362483</td>\n",
       "      <td>-0.079586</td>\n",
       "      <td>-0.073119</td>\n",
       "      <td>-0.122455</td>\n",
       "      <td>1.072717</td>\n",
       "      <td>-0.789611</td>\n",
       "      <td>-0.293034</td>\n",
       "      <td>0.859830</td>\n",
       "      <td>-0.508778</td>\n",
       "      <td>0.551002</td>\n",
       "      <td>2.650077</td>\n",
       "      <td>-0.923999</td>\n",
       "      <td>3.581835</td>\n",
       "      <td>-1.082538</td>\n",
       "    </tr>\n",
       "    <tr>\n",
       "      <td>4</td>\n",
       "      <td>1.974442</td>\n",
       "      <td>-0.231316</td>\n",
       "      <td>-0.11218</td>\n",
       "      <td>-0.342417</td>\n",
       "      <td>0.940735</td>\n",
       "      <td>-0.26051</td>\n",
       "      <td>-0.215472</td>\n",
       "      <td>-0.678507</td>\n",
       "      <td>0.813301</td>\n",
       "      <td>-0.226630</td>\n",
       "      <td>-0.14218</td>\n",
       "      <td>0.727590</td>\n",
       "      <td>0.237815</td>\n",
       "      <td>-0.491763</td>\n",
       "      <td>-0.362483</td>\n",
       "      <td>-0.079586</td>\n",
       "      <td>-0.073119</td>\n",
       "      <td>-0.122455</td>\n",
       "      <td>-0.932212</td>\n",
       "      <td>-0.789611</td>\n",
       "      <td>-0.293034</td>\n",
       "      <td>1.193721</td>\n",
       "      <td>-0.508778</td>\n",
       "      <td>0.551002</td>\n",
       "      <td>-0.377347</td>\n",
       "      <td>1.082252</td>\n",
       "      <td>-0.279187</td>\n",
       "      <td>-1.082538</td>\n",
       "    </tr>\n",
       "  </tbody>\n",
       "</table>\n",
       "</div>"
      ],
      "text/plain": [
       "   num_lab_procedures  glimepiride_Yes  max_glu_serum_>300  glyburide_Yes  \\\n",
       "0            1.314587        -0.231316            -0.11218      -0.342417   \n",
       "1           -2.136965        -0.231316            -0.11218      -0.342417   \n",
       "2            1.060796        -0.231316            -0.11218      -0.342417   \n",
       "3            1.771410        -0.231316            -0.11218       2.920412   \n",
       "4            1.974442        -0.231316            -0.11218      -0.342417   \n",
       "\n",
       "   insulin_Yes  rosiglitazone_Yes  number_emergency  age_adult  \\\n",
       "0     0.940735           -0.26051          0.866474  -0.678507   \n",
       "1     0.940735           -0.26051          1.948421  -0.678507   \n",
       "2     0.940735           -0.26051         -0.215472   1.473825   \n",
       "3     0.940735           -0.26051         -0.215472  -0.678507   \n",
       "4     0.940735           -0.26051         -0.215472  -0.678507   \n",
       "\n",
       "   number_diagnoses  A1Cresult_Norm  race_Hispanic  num_medications  \\\n",
       "0          0.813301       -0.226630       -0.14218         2.332501   \n",
       "1          0.813301       -0.226630       -0.14218        -0.013138   \n",
       "2          0.266694        4.412485       -0.14218        -0.013138   \n",
       "3          0.813301       -0.226630       -0.14218         1.097954   \n",
       "4          0.813301       -0.226630       -0.14218         0.727590   \n",
       "\n",
       "   max_glu_serum_None  metformin_Yes  A1Cresult_Not Normal  race_Asian  \\\n",
       "0            0.237815      -0.491763             -0.362483   -0.079586   \n",
       "1            0.237815       2.033499             -0.362483   -0.079586   \n",
       "2            0.237815      -0.491763             -0.362483   -0.079586   \n",
       "3            0.237815      -0.491763             -0.362483   -0.079586   \n",
       "4            0.237815      -0.491763             -0.362483   -0.079586   \n",
       "\n",
       "   age_child  race_Other  readmitted_Yes  num_procedures  number_outpatient  \\\n",
       "0  -0.073119   -0.122455        1.072717        1.553356          -0.293034   \n",
       "1  -0.073119   -0.122455        1.072717       -0.789611          -0.293034   \n",
       "2  -0.073119   -0.122455        1.072717       -0.789611          -0.293034   \n",
       "3  -0.073119   -0.122455        1.072717       -0.789611          -0.293034   \n",
       "4  -0.073119   -0.122455       -0.932212       -0.789611          -0.293034   \n",
       "\n",
       "   time_in_hospital  number_inpatient  race_Caucasian  glipizide_Yes  \\\n",
       "0          1.527613         -0.508778        0.551002      -0.377347   \n",
       "1          1.193721          1.854920        0.551002      -0.377347   \n",
       "2         -0.475735         -0.508778        0.551002      -0.377347   \n",
       "3          0.859830         -0.508778        0.551002       2.650077   \n",
       "4          1.193721         -0.508778        0.551002      -0.377347   \n",
       "\n",
       "   gender_Male  pioglitazone_Yes  change_No  \n",
       "0     1.082252         -0.279187  -1.082538  \n",
       "1    -0.923999          3.581835  -1.082538  \n",
       "2     1.082252         -0.279187  -1.082538  \n",
       "3    -0.923999          3.581835  -1.082538  \n",
       "4     1.082252         -0.279187  -1.082538  "
      ]
     },
     "execution_count": 15,
     "metadata": {},
     "output_type": "execute_result"
    }
   ],
   "source": [
    "from sklearn.preprocessing import  StandardScaler\n",
    "st = StandardScaler()\n",
    "Xtrain_t = st.fit_transform(Xtrain)\n",
    "Xtrain_t=pd.DataFrame(Xtrain_t,columns=x.columns)\n",
    "Xtrain_t.head()"
   ]
  },
  {
   "cell_type": "code",
   "execution_count": 16,
   "metadata": {
    "colab": {
     "base_uri": "https://localhost:8080/",
     "height": 239
    },
    "id": "orKDLlrz6d-9",
    "outputId": "af1e8f69-e3bb-469e-a388-f745d34c6b52"
   },
   "outputs": [
    {
     "data": {
      "text/html": [
       "<div>\n",
       "<style scoped>\n",
       "    .dataframe tbody tr th:only-of-type {\n",
       "        vertical-align: middle;\n",
       "    }\n",
       "\n",
       "    .dataframe tbody tr th {\n",
       "        vertical-align: top;\n",
       "    }\n",
       "\n",
       "    .dataframe thead th {\n",
       "        text-align: right;\n",
       "    }\n",
       "</style>\n",
       "<table border=\"1\" class=\"dataframe\">\n",
       "  <thead>\n",
       "    <tr style=\"text-align: right;\">\n",
       "      <th></th>\n",
       "      <th>num_lab_procedures</th>\n",
       "      <th>glimepiride_Yes</th>\n",
       "      <th>max_glu_serum_&gt;300</th>\n",
       "      <th>glyburide_Yes</th>\n",
       "      <th>insulin_Yes</th>\n",
       "      <th>rosiglitazone_Yes</th>\n",
       "      <th>number_emergency</th>\n",
       "      <th>age_adult</th>\n",
       "      <th>number_diagnoses</th>\n",
       "      <th>A1Cresult_Norm</th>\n",
       "      <th>race_Hispanic</th>\n",
       "      <th>num_medications</th>\n",
       "      <th>max_glu_serum_None</th>\n",
       "      <th>metformin_Yes</th>\n",
       "      <th>A1Cresult_Not Normal</th>\n",
       "      <th>race_Asian</th>\n",
       "      <th>age_child</th>\n",
       "      <th>race_Other</th>\n",
       "      <th>readmitted_Yes</th>\n",
       "      <th>num_procedures</th>\n",
       "      <th>number_outpatient</th>\n",
       "      <th>time_in_hospital</th>\n",
       "      <th>number_inpatient</th>\n",
       "      <th>race_Caucasian</th>\n",
       "      <th>glipizide_Yes</th>\n",
       "      <th>gender_Male</th>\n",
       "      <th>pioglitazone_Yes</th>\n",
       "      <th>change_No</th>\n",
       "    </tr>\n",
       "  </thead>\n",
       "  <tbody>\n",
       "    <tr>\n",
       "      <td>0</td>\n",
       "      <td>0.350183</td>\n",
       "      <td>4.323082</td>\n",
       "      <td>-0.11218</td>\n",
       "      <td>-0.342417</td>\n",
       "      <td>0.940735</td>\n",
       "      <td>-0.260510</td>\n",
       "      <td>-0.215472</td>\n",
       "      <td>-0.678507</td>\n",
       "      <td>0.813301</td>\n",
       "      <td>-0.22663</td>\n",
       "      <td>-0.14218</td>\n",
       "      <td>1.715228</td>\n",
       "      <td>0.237815</td>\n",
       "      <td>-0.491763</td>\n",
       "      <td>-0.362483</td>\n",
       "      <td>-0.079586</td>\n",
       "      <td>-0.073119</td>\n",
       "      <td>-0.122455</td>\n",
       "      <td>1.072717</td>\n",
       "      <td>-0.789611</td>\n",
       "      <td>-0.293034</td>\n",
       "      <td>2.863178</td>\n",
       "      <td>-0.508778</td>\n",
       "      <td>0.551002</td>\n",
       "      <td>-0.377347</td>\n",
       "      <td>1.082252</td>\n",
       "      <td>3.581835</td>\n",
       "      <td>-1.082538</td>\n",
       "    </tr>\n",
       "    <tr>\n",
       "      <td>1</td>\n",
       "      <td>0.603973</td>\n",
       "      <td>-0.231316</td>\n",
       "      <td>-0.11218</td>\n",
       "      <td>-0.342417</td>\n",
       "      <td>0.940735</td>\n",
       "      <td>3.838617</td>\n",
       "      <td>-0.215472</td>\n",
       "      <td>-0.678507</td>\n",
       "      <td>0.813301</td>\n",
       "      <td>-0.22663</td>\n",
       "      <td>-0.14218</td>\n",
       "      <td>2.579410</td>\n",
       "      <td>0.237815</td>\n",
       "      <td>-0.491763</td>\n",
       "      <td>-0.362483</td>\n",
       "      <td>-0.079586</td>\n",
       "      <td>-0.073119</td>\n",
       "      <td>-0.122455</td>\n",
       "      <td>-0.932212</td>\n",
       "      <td>2.139098</td>\n",
       "      <td>-0.293034</td>\n",
       "      <td>1.861504</td>\n",
       "      <td>-0.508778</td>\n",
       "      <td>0.551002</td>\n",
       "      <td>-0.377347</td>\n",
       "      <td>1.082252</td>\n",
       "      <td>-0.279187</td>\n",
       "      <td>-1.082538</td>\n",
       "    </tr>\n",
       "    <tr>\n",
       "      <td>2</td>\n",
       "      <td>0.603973</td>\n",
       "      <td>-0.231316</td>\n",
       "      <td>-0.11218</td>\n",
       "      <td>-0.342417</td>\n",
       "      <td>-1.062998</td>\n",
       "      <td>-0.260510</td>\n",
       "      <td>-0.215472</td>\n",
       "      <td>-0.678507</td>\n",
       "      <td>-0.826521</td>\n",
       "      <td>-0.22663</td>\n",
       "      <td>-0.14218</td>\n",
       "      <td>0.357226</td>\n",
       "      <td>0.237815</td>\n",
       "      <td>2.033499</td>\n",
       "      <td>-0.362483</td>\n",
       "      <td>-0.079586</td>\n",
       "      <td>-0.073119</td>\n",
       "      <td>-0.122455</td>\n",
       "      <td>1.072717</td>\n",
       "      <td>0.967614</td>\n",
       "      <td>-0.293034</td>\n",
       "      <td>-0.141844</td>\n",
       "      <td>-0.508778</td>\n",
       "      <td>0.551002</td>\n",
       "      <td>-0.377347</td>\n",
       "      <td>1.082252</td>\n",
       "      <td>-0.279187</td>\n",
       "      <td>0.923755</td>\n",
       "    </tr>\n",
       "    <tr>\n",
       "      <td>3</td>\n",
       "      <td>1.111554</td>\n",
       "      <td>-0.231316</td>\n",
       "      <td>-0.11218</td>\n",
       "      <td>-0.342417</td>\n",
       "      <td>0.940735</td>\n",
       "      <td>-0.260510</td>\n",
       "      <td>-0.215472</td>\n",
       "      <td>-0.678507</td>\n",
       "      <td>0.813301</td>\n",
       "      <td>-0.22663</td>\n",
       "      <td>-0.14218</td>\n",
       "      <td>0.480681</td>\n",
       "      <td>0.237815</td>\n",
       "      <td>-0.491763</td>\n",
       "      <td>-0.362483</td>\n",
       "      <td>-0.079586</td>\n",
       "      <td>-0.073119</td>\n",
       "      <td>-0.122455</td>\n",
       "      <td>1.072717</td>\n",
       "      <td>-0.789611</td>\n",
       "      <td>-0.293034</td>\n",
       "      <td>1.193721</td>\n",
       "      <td>-0.508778</td>\n",
       "      <td>0.551002</td>\n",
       "      <td>-0.377347</td>\n",
       "      <td>-0.923999</td>\n",
       "      <td>-0.279187</td>\n",
       "      <td>0.923755</td>\n",
       "    </tr>\n",
       "    <tr>\n",
       "      <td>4</td>\n",
       "      <td>1.822168</td>\n",
       "      <td>-0.231316</td>\n",
       "      <td>-0.11218</td>\n",
       "      <td>2.920412</td>\n",
       "      <td>0.940735</td>\n",
       "      <td>-0.260510</td>\n",
       "      <td>-0.215472</td>\n",
       "      <td>-0.678507</td>\n",
       "      <td>0.813301</td>\n",
       "      <td>-0.22663</td>\n",
       "      <td>-0.14218</td>\n",
       "      <td>1.962137</td>\n",
       "      <td>0.237815</td>\n",
       "      <td>-0.491763</td>\n",
       "      <td>-0.362483</td>\n",
       "      <td>-0.079586</td>\n",
       "      <td>-0.073119</td>\n",
       "      <td>-0.122455</td>\n",
       "      <td>-0.932212</td>\n",
       "      <td>0.967614</td>\n",
       "      <td>-0.293034</td>\n",
       "      <td>3.197069</td>\n",
       "      <td>-0.508778</td>\n",
       "      <td>0.551002</td>\n",
       "      <td>-0.377347</td>\n",
       "      <td>-0.923999</td>\n",
       "      <td>3.581835</td>\n",
       "      <td>-1.082538</td>\n",
       "    </tr>\n",
       "  </tbody>\n",
       "</table>\n",
       "</div>"
      ],
      "text/plain": [
       "   num_lab_procedures  glimepiride_Yes  max_glu_serum_>300  glyburide_Yes  \\\n",
       "0            0.350183         4.323082            -0.11218      -0.342417   \n",
       "1            0.603973        -0.231316            -0.11218      -0.342417   \n",
       "2            0.603973        -0.231316            -0.11218      -0.342417   \n",
       "3            1.111554        -0.231316            -0.11218      -0.342417   \n",
       "4            1.822168        -0.231316            -0.11218       2.920412   \n",
       "\n",
       "   insulin_Yes  rosiglitazone_Yes  number_emergency  age_adult  \\\n",
       "0     0.940735          -0.260510         -0.215472  -0.678507   \n",
       "1     0.940735           3.838617         -0.215472  -0.678507   \n",
       "2    -1.062998          -0.260510         -0.215472  -0.678507   \n",
       "3     0.940735          -0.260510         -0.215472  -0.678507   \n",
       "4     0.940735          -0.260510         -0.215472  -0.678507   \n",
       "\n",
       "   number_diagnoses  A1Cresult_Norm  race_Hispanic  num_medications  \\\n",
       "0          0.813301        -0.22663       -0.14218         1.715228   \n",
       "1          0.813301        -0.22663       -0.14218         2.579410   \n",
       "2         -0.826521        -0.22663       -0.14218         0.357226   \n",
       "3          0.813301        -0.22663       -0.14218         0.480681   \n",
       "4          0.813301        -0.22663       -0.14218         1.962137   \n",
       "\n",
       "   max_glu_serum_None  metformin_Yes  A1Cresult_Not Normal  race_Asian  \\\n",
       "0            0.237815      -0.491763             -0.362483   -0.079586   \n",
       "1            0.237815      -0.491763             -0.362483   -0.079586   \n",
       "2            0.237815       2.033499             -0.362483   -0.079586   \n",
       "3            0.237815      -0.491763             -0.362483   -0.079586   \n",
       "4            0.237815      -0.491763             -0.362483   -0.079586   \n",
       "\n",
       "   age_child  race_Other  readmitted_Yes  num_procedures  number_outpatient  \\\n",
       "0  -0.073119   -0.122455        1.072717       -0.789611          -0.293034   \n",
       "1  -0.073119   -0.122455       -0.932212        2.139098          -0.293034   \n",
       "2  -0.073119   -0.122455        1.072717        0.967614          -0.293034   \n",
       "3  -0.073119   -0.122455        1.072717       -0.789611          -0.293034   \n",
       "4  -0.073119   -0.122455       -0.932212        0.967614          -0.293034   \n",
       "\n",
       "   time_in_hospital  number_inpatient  race_Caucasian  glipizide_Yes  \\\n",
       "0          2.863178         -0.508778        0.551002      -0.377347   \n",
       "1          1.861504         -0.508778        0.551002      -0.377347   \n",
       "2         -0.141844         -0.508778        0.551002      -0.377347   \n",
       "3          1.193721         -0.508778        0.551002      -0.377347   \n",
       "4          3.197069         -0.508778        0.551002      -0.377347   \n",
       "\n",
       "   gender_Male  pioglitazone_Yes  change_No  \n",
       "0     1.082252          3.581835  -1.082538  \n",
       "1     1.082252         -0.279187  -1.082538  \n",
       "2     1.082252         -0.279187   0.923755  \n",
       "3    -0.923999         -0.279187   0.923755  \n",
       "4    -0.923999          3.581835  -1.082538  "
      ]
     },
     "execution_count": 16,
     "metadata": {},
     "output_type": "execute_result"
    }
   ],
   "source": [
    "Xtest_t = st.transform(Xtest)\n",
    "Xtest_t=pd.DataFrame(Xtest_t,columns=x.columns)\n",
    "Xtest_t.head()"
   ]
  },
  {
   "cell_type": "code",
   "execution_count": 17,
   "metadata": {
    "id": "H-GlmrSy5H1q"
   },
   "outputs": [],
   "source": [
    "from sklearn.linear_model import LogisticRegression\n",
    "\n",
    "model = LogisticRegression()\n",
    "model.fit(Xtrain_t,ytrain)\n",
    "ypred = model.predict(Xtest_t)\n",
    "ypred1 = model.predict(Xtrain_t)\n",
    "yprob = model.predict_proba(Xtest_t)\n",
    "y_prob1=yprob[:,1]\n",
    "fpr,tpr,thresholds=roc_curve(ytest,y_prob1)"
   ]
  },
  {
   "cell_type": "code",
   "execution_count": 18,
   "metadata": {
    "colab": {
     "base_uri": "https://localhost:8080/",
     "height": 202
    },
    "id": "531I_bZ1tciW",
    "outputId": "e4007c78-f272-4612-dc04-76d6a295a293"
   },
   "outputs": [
    {
     "data": {
      "text/html": [
       "<div>\n",
       "<style scoped>\n",
       "    .dataframe tbody tr th:only-of-type {\n",
       "        vertical-align: middle;\n",
       "    }\n",
       "\n",
       "    .dataframe tbody tr th {\n",
       "        vertical-align: top;\n",
       "    }\n",
       "\n",
       "    .dataframe thead th {\n",
       "        text-align: right;\n",
       "    }\n",
       "</style>\n",
       "<table border=\"1\" class=\"dataframe\">\n",
       "  <thead>\n",
       "    <tr style=\"text-align: right;\">\n",
       "      <th></th>\n",
       "      <th>y_prob0</th>\n",
       "      <th>y_prob1</th>\n",
       "      <th>y_actual</th>\n",
       "    </tr>\n",
       "  </thead>\n",
       "  <tbody>\n",
       "    <tr>\n",
       "      <td>0</td>\n",
       "      <td>0.913812</td>\n",
       "      <td>0.086188</td>\n",
       "      <td>0</td>\n",
       "    </tr>\n",
       "    <tr>\n",
       "      <td>1</td>\n",
       "      <td>0.933839</td>\n",
       "      <td>0.066161</td>\n",
       "      <td>0</td>\n",
       "    </tr>\n",
       "    <tr>\n",
       "      <td>2</td>\n",
       "      <td>0.881335</td>\n",
       "      <td>0.118665</td>\n",
       "      <td>0</td>\n",
       "    </tr>\n",
       "    <tr>\n",
       "      <td>3</td>\n",
       "      <td>0.895870</td>\n",
       "      <td>0.104130</td>\n",
       "      <td>0</td>\n",
       "    </tr>\n",
       "    <tr>\n",
       "      <td>4</td>\n",
       "      <td>0.939037</td>\n",
       "      <td>0.060963</td>\n",
       "      <td>0</td>\n",
       "    </tr>\n",
       "  </tbody>\n",
       "</table>\n",
       "</div>"
      ],
      "text/plain": [
       "    y_prob0   y_prob1  y_actual\n",
       "0  0.913812  0.086188         0\n",
       "1  0.933839  0.066161         0\n",
       "2  0.881335  0.118665         0\n",
       "3  0.895870  0.104130         0\n",
       "4  0.939037  0.060963         0"
      ]
     },
     "execution_count": 18,
     "metadata": {},
     "output_type": "execute_result"
    }
   ],
   "source": [
    "pdf=pd.DataFrame(yprob,columns=['y_prob0','y_prob1'])\n",
    "pdf['y_actual']=list(ytest)\n",
    "pdf.head()"
   ]
  },
  {
   "cell_type": "code",
   "execution_count": 19,
   "metadata": {
    "id": "zxWD6bJxtc8a"
   },
   "outputs": [],
   "source": [
    "p0=pdf[pdf['y_actual']==0]['y_prob1']\n",
    "p1=pdf[pdf['y_actual']==1]['y_prob1']\n"
   ]
  },
  {
   "cell_type": "code",
   "execution_count": 20,
   "metadata": {
    "colab": {
     "base_uri": "https://localhost:8080/",
     "height": 846
    },
    "id": "gUE2oAQctc5F",
    "outputId": "405a0377-62bf-4b7b-9272-78288a55d3a7"
   },
   "outputs": [
    {
     "data": {
      "image/png": "[encoded data removed]",
      "text/plain": [
       "<Figure size 720x432 with 1 Axes>"
      ]
     },
     "metadata": {
      "needs_background": "light"
     },
     "output_type": "display_data"
    },
    {
     "data": {
      "image/png": "[encoded data removed]",
      "text/plain": [
       "<Figure size 720x504 with 1 Axes>"
      ]
     },
     "metadata": {
      "needs_background": "light"
     },
     "output_type": "display_data"
    }
   ],
   "source": [
    "plt.figure(figsize=(10,6))\n",
    "x=[i/10 for i in range(11)]\n",
    "plt.plot(fpr,tpr,color='g')\n",
    "plt.plot(x,x,color='r')\n",
    "plt.title(f'ROC curve with auc score {roc_auc_score(ytest,y_prob1)}')\n",
    "plt.ylabel('True positive rate (tpr)')\n",
    "plt.xlabel('False Positive rate(fpr)')\n",
    "plt.show()\n",
    "\n",
    "plt.figure(figsize=(10,7))\n",
    "sns.distplot(p0,color='b',label='Probabality of class: 0')\n",
    "sns.distplot(p1,color='r',label='Probabality of class: 1')\n",
    "plt.title(f'auc score {roc_auc_score(ytest,y_prob1)}')\n",
    "plt.legend()\n",
    "plt.show()"
   ]
  },
  {
   "cell_type": "code",
   "execution_count": 21,
   "metadata": {
    "colab": {
     "base_uri": "https://localhost:8080/"
    },
    "id": "VtfRqj4rMRA7",
    "outputId": "19ca77b0-2cb7-4900-c4cc-df43fa186fe9"
   },
   "outputs": [
    {
     "name": "stdout",
     "output_type": "stream",
     "text": [
      "              precision    recall  f1-score   support\n",
      "\n",
      "           0       0.82      0.98      0.89     23497\n",
      "           1       0.64      0.16      0.26      5919\n",
      "\n",
      "    accuracy                           0.81     29416\n",
      "   macro avg       0.73      0.57      0.58     29416\n",
      "weighted avg       0.79      0.81      0.77     29416\n",
      "\n"
     ]
    }
   ],
   "source": [
    "print(classification_report(ytest,ypred))"
   ]
  },
  {
   "cell_type": "code",
   "execution_count": 22,
   "metadata": {
    "id": "6m0DbLkeauvq"
   },
   "outputs": [
    {
     "name": "stdout",
     "output_type": "stream",
     "text": [
      "              precision    recall  f1-score   support\n",
      "\n",
      "           0       0.82      0.98      0.89     54825\n",
      "           1       0.64      0.16      0.25     13811\n",
      "\n",
      "    accuracy                           0.81     68636\n",
      "   macro avg       0.73      0.57      0.57     68636\n",
      "weighted avg       0.78      0.81      0.76     68636\n",
      "\n"
     ]
    }
   ],
   "source": [
    "print(classification_report(ytrain,ypred1))"
   ]
  },
  {
   "cell_type": "markdown",
   "metadata": {
    "id": "ydh35W0oKsDe"
   },
   "source": [
    "# RandomForest"
   ]
  },
  {
   "cell_type": "code",
   "execution_count": 23,
   "metadata": {
    "colab": {
     "base_uri": "https://localhost:8080/"
    },
    "id": "uoPVwYtzKQvD",
    "outputId": "8385c9dd-641e-4400-b2d5-007f15e7eee6"
   },
   "outputs": [
    {
     "data": {
      "application/javascript": [
       "\n",
       "        if (window._pyforest_update_imports_cell) { window._pyforest_update_imports_cell('from sklearn.ensemble import RandomForestClassifier'); }\n",
       "    "
      ],
      "text/plain": [
       "<IPython.core.display.Javascript object>"
      ]
     },
     "metadata": {},
     "output_type": "display_data"
    },
    {
     "data": {
      "text/plain": [
       "RandomizedSearchCV(cv=3, error_score='raise-deprecating',\n",
       "                   estimator=RandomForestClassifier(bootstrap=True,\n",
       "                                                    class_weight=None,\n",
       "                                                    criterion='gini',\n",
       "                                                    max_depth=None,\n",
       "                                                    max_features='auto',\n",
       "                                                    max_leaf_nodes=None,\n",
       "                                                    min_impurity_decrease=0.0,\n",
       "                                                    min_impurity_split=None,\n",
       "                                                    min_samples_leaf=1,\n",
       "                                                    min_samples_split=2,\n",
       "                                                    min_weight_fraction_leaf=0.0,\n",
       "                                                    n_estimators='warn',\n",
       "                                                    n_jobs=None,\n",
       "                                                    oob_sc...\n",
       "                                        'min_samples_leaf': <scipy.stats._distn_infrastructure.rv_frozen object at 0x000002D8AB969748>,\n",
       "                                        'min_samples_split': <scipy.stats._distn_infrastructure.rv_frozen object at 0x000002D8AB9693C8>,\n",
       "                                        'n_estimators': <scipy.stats._distn_infrastructure.rv_frozen object at 0x000002D8AB5DE088>},\n",
       "                   pre_dispatch='2*n_jobs', random_state=3, refit=True,\n",
       "                   return_train_score=True, scoring='roc_auc', verbose=0)"
      ]
     },
     "execution_count": 23,
     "metadata": {},
     "output_type": "execute_result"
    }
   ],
   "source": [
    "from sklearn.model_selection import RandomizedSearchCV\n",
    "from scipy.stats import randint as sp_randint\n",
    "\n",
    "rfc=RandomForestClassifier(random_state=3)\n",
    "\n",
    "params={ 'n_estimators': sp_randint(50,200),\n",
    "        'max_features': sp_randint(1,24),\n",
    "        'max_depth': sp_randint(2,10),\n",
    "        'min_samples_split': sp_randint(2,20),\n",
    "        'min_samples_leaf': sp_randint(1,20),\n",
    "        'criterion':['gini', 'entropy']    }\n",
    "\n",
    "rsearch_rfc=RandomizedSearchCV(rfc, param_distributions=params, n_iter=50, cv=3,\\\n",
    "                           scoring='roc_auc', random_state=3, return_train_score=True)\n",
    "\n",
    "rsearch_rfc.fit(Xtrain_t,ytrain)"
   ]
  },
  {
   "cell_type": "code",
   "execution_count": 24,
   "metadata": {
    "colab": {
     "base_uri": "https://localhost:8080/"
    },
    "id": "6zsRKqzlKQ3V",
    "outputId": "525c935f-2bb1-422b-d0bc-372c4eb7d411"
   },
   "outputs": [
    {
     "data": {
      "text/plain": [
       "{'criterion': 'entropy',\n",
       " 'max_depth': 9,\n",
       " 'max_features': 7,\n",
       " 'min_samples_leaf': 1,\n",
       " 'min_samples_split': 14,\n",
       " 'n_estimators': 143}"
      ]
     },
     "execution_count": 24,
     "metadata": {},
     "output_type": "execute_result"
    }
   ],
   "source": [
    "rsearch_rfc.best_params_"
   ]
  },
  {
   "cell_type": "code",
   "execution_count": 25,
   "metadata": {
    "id": "QAnO7IFFKRBN"
   },
   "outputs": [
    {
     "data": {
      "application/javascript": [
       "\n",
       "        if (window._pyforest_update_imports_cell) { window._pyforest_update_imports_cell('from sklearn.ensemble import RandomForestClassifier'); }\n",
       "    "
      ],
      "text/plain": [
       "<IPython.core.display.Javascript object>"
      ]
     },
     "metadata": {},
     "output_type": "display_data"
    }
   ],
   "source": [
    "rfc=RandomForestClassifier(**rsearch_rfc.best_params_)"
   ]
  },
  {
   "cell_type": "code",
   "execution_count": 26,
   "metadata": {
    "id": "ScQ_SfKgKQ_V"
   },
   "outputs": [],
   "source": [
    "rfc.fit(Xtrain_t,ytrain)\n",
    "ypred = rfc.predict(Xtest_t)\n",
    "ypred1 = rfc.predict(Xtrain_t)\n",
    "yprob = rfc.predict_proba(Xtest_t)\n",
    "y_prob1=yprob[:,1]\n",
    "fpr,tpr,thresholds=roc_curve(ytest,y_prob1)"
   ]
  },
  {
   "cell_type": "code",
   "execution_count": 27,
   "metadata": {
    "colab": {
     "base_uri": "https://localhost:8080/",
     "height": 202
    },
    "id": "870nmJL4KQz2",
    "outputId": "b2f5a093-9910-4baa-99c3-f5d14daa06a6"
   },
   "outputs": [
    {
     "data": {
      "text/html": [
       "<div>\n",
       "<style scoped>\n",
       "    .dataframe tbody tr th:only-of-type {\n",
       "        vertical-align: middle;\n",
       "    }\n",
       "\n",
       "    .dataframe tbody tr th {\n",
       "        vertical-align: top;\n",
       "    }\n",
       "\n",
       "    .dataframe thead th {\n",
       "        text-align: right;\n",
       "    }\n",
       "</style>\n",
       "<table border=\"1\" class=\"dataframe\">\n",
       "  <thead>\n",
       "    <tr style=\"text-align: right;\">\n",
       "      <th></th>\n",
       "      <th>y_prob0</th>\n",
       "      <th>y_prob1</th>\n",
       "      <th>y_actual</th>\n",
       "    </tr>\n",
       "  </thead>\n",
       "  <tbody>\n",
       "    <tr>\n",
       "      <td>0</td>\n",
       "      <td>0.891699</td>\n",
       "      <td>0.108301</td>\n",
       "      <td>0</td>\n",
       "    </tr>\n",
       "    <tr>\n",
       "      <td>1</td>\n",
       "      <td>0.912551</td>\n",
       "      <td>0.087449</td>\n",
       "      <td>0</td>\n",
       "    </tr>\n",
       "    <tr>\n",
       "      <td>2</td>\n",
       "      <td>0.862452</td>\n",
       "      <td>0.137548</td>\n",
       "      <td>0</td>\n",
       "    </tr>\n",
       "    <tr>\n",
       "      <td>3</td>\n",
       "      <td>0.896099</td>\n",
       "      <td>0.103901</td>\n",
       "      <td>0</td>\n",
       "    </tr>\n",
       "    <tr>\n",
       "      <td>4</td>\n",
       "      <td>0.913740</td>\n",
       "      <td>0.086260</td>\n",
       "      <td>0</td>\n",
       "    </tr>\n",
       "  </tbody>\n",
       "</table>\n",
       "</div>"
      ],
      "text/plain": [
       "    y_prob0   y_prob1  y_actual\n",
       "0  0.891699  0.108301         0\n",
       "1  0.912551  0.087449         0\n",
       "2  0.862452  0.137548         0\n",
       "3  0.896099  0.103901         0\n",
       "4  0.913740  0.086260         0"
      ]
     },
     "execution_count": 27,
     "metadata": {},
     "output_type": "execute_result"
    }
   ],
   "source": [
    "pdf=pd.DataFrame(yprob,columns=['y_prob0','y_prob1'])\n",
    "pdf['y_actual']=list(ytest)\n",
    "pdf.head()"
   ]
  },
  {
   "cell_type": "code",
   "execution_count": 28,
   "metadata": {
    "id": "q64Nm9vpS2Qs"
   },
   "outputs": [],
   "source": [
    "p0=pdf[pdf['y_actual']==0]['y_prob1']\n",
    "p1=pdf[pdf['y_actual']==1]['y_prob1']"
   ]
  },
  {
   "cell_type": "code",
   "execution_count": 29,
   "metadata": {
    "colab": {
     "base_uri": "https://localhost:8080/",
     "height": 846
    },
    "id": "CZUJPuzLKQs1",
    "outputId": "106a459a-9f48-4891-fde6-3bf569cae4c1"
   },
   "outputs": [
    {
     "data": {
      "image/png": "[encoded data removed]",
      "text/plain": [
       "<Figure size 720x432 with 1 Axes>"
      ]
     },
     "metadata": {
      "needs_background": "light"
     },
     "output_type": "display_data"
    },
    {
     "data": {
      "image/png": "[encoded data removed]",
      "text/plain": [
       "<Figure size 720x504 with 1 Axes>"
      ]
     },
     "metadata": {
      "needs_background": "light"
     },
     "output_type": "display_data"
    }
   ],
   "source": [
    "plt.figure(figsize=(10,6))\n",
    "x=[i/10 for i in range(11)]\n",
    "plt.plot(fpr,tpr,color='g')\n",
    "plt.plot(x,x,color='r')\n",
    "plt.title(f'ROC curve with auc score {roc_auc_score(ytest,y_prob1)}')\n",
    "plt.ylabel('True positive rate (tpr)')\n",
    "plt.xlabel('False Positive rate(fpr)')\n",
    "plt.show()\n",
    "\n",
    "plt.figure(figsize=(10,7))\n",
    "sns.distplot(p0,color='b',label='Probabality of class: 0')\n",
    "sns.distplot(p1,color='r',label='Probabality of class: 1')\n",
    "plt.title(f'auc score {roc_auc_score(ytest,y_prob1)}')\n",
    "plt.legend()\n",
    "plt.show()"
   ]
  },
  {
   "cell_type": "code",
   "execution_count": 30,
   "metadata": {
    "colab": {
     "base_uri": "https://localhost:8080/"
    },
    "id": "9kCS7cSpMlYk",
    "outputId": "6d440a22-22d9-403a-f3eb-8cb49fa4a968"
   },
   "outputs": [
    {
     "name": "stdout",
     "output_type": "stream",
     "text": [
      "              precision    recall  f1-score   support\n",
      "\n",
      "           0       0.82      0.99      0.89     23497\n",
      "           1       0.71      0.13      0.22      5919\n",
      "\n",
      "    accuracy                           0.81     29416\n",
      "   macro avg       0.76      0.56      0.56     29416\n",
      "weighted avg       0.80      0.81      0.76     29416\n",
      "\n"
     ]
    }
   ],
   "source": [
    "print(classification_report(ytest,ypred))"
   ]
  },
  {
   "cell_type": "code",
   "execution_count": 31,
   "metadata": {
    "id": "YfghfJ7obRpt"
   },
   "outputs": [
    {
     "name": "stdout",
     "output_type": "stream",
     "text": [
      "              precision    recall  f1-score   support\n",
      "\n",
      "           0       0.82      0.99      0.90     54825\n",
      "           1       0.78      0.14      0.24     13811\n",
      "\n",
      "    accuracy                           0.82     68636\n",
      "   macro avg       0.80      0.57      0.57     68636\n",
      "weighted avg       0.81      0.82      0.77     68636\n",
      "\n"
     ]
    }
   ],
   "source": [
    "print(classification_report(ytrain,ypred1))"
   ]
  },
  {
   "cell_type": "markdown",
   "metadata": {
    "id": "-2hsVesuT3sn"
   },
   "source": [
    "# AdaBoostClassifier"
   ]
  },
  {
   "cell_type": "markdown",
   "metadata": {
    "id": "cwXM1u4nwgmg"
   },
   "source": [
    "## DT"
   ]
  },
  {
   "cell_type": "code",
   "execution_count": 32,
   "metadata": {
    "id": "MSmtVxEUT90o"
   },
   "outputs": [],
   "source": [
    "from sklearn.ensemble import AdaBoostClassifier\n",
    "from sklearn.tree import DecisionTreeClassifier\n",
    "wldt=DecisionTreeClassifier(max_depth=1,random_state=0)\n",
    "AdaDt = AdaBoostClassifier(base_estimator=wldt, n_estimators=10,random_state=0)"
   ]
  },
  {
   "cell_type": "code",
   "execution_count": 33,
   "metadata": {
    "id": "jRIO3v6oT9R4"
   },
   "outputs": [],
   "source": [
    "AdaDt.fit(Xtrain_t,ytrain)\n",
    "ypred = AdaDt.predict(Xtest_t)\n",
    "ypred1 = AdaDt.predict(Xtrain_t)\n",
    "yprob = AdaDt.predict_proba(Xtest_t)\n",
    "y_prob1=yprob[:,1]\n",
    "fpr,tpr,thresholds=roc_curve(ytest,y_prob1)"
   ]
  },
  {
   "cell_type": "code",
   "execution_count": 34,
   "metadata": {
    "colab": {
     "base_uri": "https://localhost:8080/",
     "height": 202
    },
    "id": "S0QCtFLeT9HB",
    "outputId": "6147e064-462b-4619-d126-283db80fa76d"
   },
   "outputs": [
    {
     "data": {
      "text/html": [
       "<div>\n",
       "<style scoped>\n",
       "    .dataframe tbody tr th:only-of-type {\n",
       "        vertical-align: middle;\n",
       "    }\n",
       "\n",
       "    .dataframe tbody tr th {\n",
       "        vertical-align: top;\n",
       "    }\n",
       "\n",
       "    .dataframe thead th {\n",
       "        text-align: right;\n",
       "    }\n",
       "</style>\n",
       "<table border=\"1\" class=\"dataframe\">\n",
       "  <thead>\n",
       "    <tr style=\"text-align: right;\">\n",
       "      <th></th>\n",
       "      <th>y_prob0</th>\n",
       "      <th>y_prob1</th>\n",
       "      <th>y_actual</th>\n",
       "    </tr>\n",
       "  </thead>\n",
       "  <tbody>\n",
       "    <tr>\n",
       "      <td>0</td>\n",
       "      <td>0.548509</td>\n",
       "      <td>0.451491</td>\n",
       "      <td>0</td>\n",
       "    </tr>\n",
       "    <tr>\n",
       "      <td>1</td>\n",
       "      <td>0.560941</td>\n",
       "      <td>0.439059</td>\n",
       "      <td>0</td>\n",
       "    </tr>\n",
       "    <tr>\n",
       "      <td>2</td>\n",
       "      <td>0.567067</td>\n",
       "      <td>0.432933</td>\n",
       "      <td>0</td>\n",
       "    </tr>\n",
       "    <tr>\n",
       "      <td>3</td>\n",
       "      <td>0.548509</td>\n",
       "      <td>0.451491</td>\n",
       "      <td>0</td>\n",
       "    </tr>\n",
       "    <tr>\n",
       "      <td>4</td>\n",
       "      <td>0.560941</td>\n",
       "      <td>0.439059</td>\n",
       "      <td>0</td>\n",
       "    </tr>\n",
       "  </tbody>\n",
       "</table>\n",
       "</div>"
      ],
      "text/plain": [
       "    y_prob0   y_prob1  y_actual\n",
       "0  0.548509  0.451491         0\n",
       "1  0.560941  0.439059         0\n",
       "2  0.567067  0.432933         0\n",
       "3  0.548509  0.451491         0\n",
       "4  0.560941  0.439059         0"
      ]
     },
     "execution_count": 34,
     "metadata": {},
     "output_type": "execute_result"
    }
   ],
   "source": [
    "pdf=pd.DataFrame(yprob,columns=['y_prob0','y_prob1'])\n",
    "pdf['y_actual']=list(ytest)\n",
    "pdf.head()"
   ]
  },
  {
   "cell_type": "code",
   "execution_count": 35,
   "metadata": {
    "id": "PeIukriRwzQx"
   },
   "outputs": [],
   "source": [
    "p0=pdf[pdf['y_actual']==0]['y_prob1']\n",
    "p1=pdf[pdf['y_actual']==1]['y_prob1']"
   ]
  },
  {
   "cell_type": "code",
   "execution_count": 36,
   "metadata": {
    "colab": {
     "base_uri": "https://localhost:8080/",
     "height": 846
    },
    "id": "CwTHbaOWwzNe",
    "outputId": "f9346adf-2f15-40c4-b554-7fc05b66031f"
   },
   "outputs": [
    {
     "data": {
      "image/png": "[encoded data removed]",
      "text/plain": [
       "<Figure size 720x432 with 1 Axes>"
      ]
     },
     "metadata": {
      "needs_background": "light"
     },
     "output_type": "display_data"
    },
    {
     "data": {
      "image/png": "[encoded data removed]",
      "text/plain": [
       "<Figure size 720x504 with 1 Axes>"
      ]
     },
     "metadata": {
      "needs_background": "light"
     },
     "output_type": "display_data"
    }
   ],
   "source": [
    "plt.figure(figsize=(10,6))\n",
    "x=[i/10 for i in range(11)]\n",
    "plt.plot(fpr,tpr,color='g')\n",
    "plt.plot(x,x,color='r')\n",
    "plt.title(f'ROC curve with auc score {roc_auc_score(ytest,y_prob1)}')\n",
    "plt.ylabel('True positive rate (tpr)')\n",
    "plt.xlabel('False Positive rate(fpr)')\n",
    "plt.show()\n",
    "\n",
    "plt.figure(figsize=(10,7))\n",
    "sns.distplot(p0,color='b',label='Probabality of class: 0')\n",
    "sns.distplot(p1,color='r',label='Probabality of class: 1')\n",
    "plt.title(f'auc score {roc_auc_score(ytest,y_prob1)}')\n",
    "plt.legend()\n",
    "plt.show()"
   ]
  },
  {
   "cell_type": "code",
   "execution_count": 37,
   "metadata": {
    "colab": {
     "base_uri": "https://localhost:8080/"
    },
    "id": "IKmUGrveMoHb",
    "outputId": "4d5cf317-07c2-4b22-e302-738d58e420ec"
   },
   "outputs": [
    {
     "name": "stdout",
     "output_type": "stream",
     "text": [
      "              precision    recall  f1-score   support\n",
      "\n",
      "           0       0.83      0.97      0.89     23497\n",
      "           1       0.60      0.19      0.28      5919\n",
      "\n",
      "    accuracy                           0.81     29416\n",
      "   macro avg       0.71      0.58      0.59     29416\n",
      "weighted avg       0.78      0.81      0.77     29416\n",
      "\n"
     ]
    }
   ],
   "source": [
    "print(classification_report(ytest,ypred))"
   ]
  },
  {
   "cell_type": "code",
   "execution_count": 38,
   "metadata": {
    "id": "Uh5sDqFXbhO6"
   },
   "outputs": [
    {
     "name": "stdout",
     "output_type": "stream",
     "text": [
      "              precision    recall  f1-score   support\n",
      "\n",
      "           0       0.82      0.97      0.89     54825\n",
      "           1       0.59      0.18      0.28     13811\n",
      "\n",
      "    accuracy                           0.81     68636\n",
      "   macro avg       0.71      0.57      0.58     68636\n",
      "weighted avg       0.78      0.81      0.77     68636\n",
      "\n"
     ]
    }
   ],
   "source": [
    "print(classification_report(ytrain,ypred1))"
   ]
  },
  {
   "cell_type": "markdown",
   "metadata": {
    "id": "M28lkONDxSgP"
   },
   "source": [
    "## LR"
   ]
  },
  {
   "cell_type": "code",
   "execution_count": 39,
   "metadata": {
    "id": "SErJd2ljwzL7"
   },
   "outputs": [],
   "source": [
    "from sklearn.ensemble import AdaBoostClassifier\n",
    "wllr=LogisticRegression()\n",
    "Adalr= AdaBoostClassifier(base_estimator=wllr, n_estimators=10,random_state=0)"
   ]
  },
  {
   "cell_type": "code",
   "execution_count": 40,
   "metadata": {
    "id": "LExGhs-JxUhd"
   },
   "outputs": [],
   "source": [
    "Adalr.fit(Xtrain_t,ytrain)\n",
    "ypred = Adalr.predict(Xtest_t)\n",
    "ypred1 = Adalr.predict(Xtrain_t)\n",
    "yprob = Adalr.predict_proba(Xtest_t)\n",
    "y_prob1=yprob[:,1]\n",
    "fpr,tpr,thresholds=roc_curve(ytest,y_prob1)"
   ]
  },
  {
   "cell_type": "code",
   "execution_count": 41,
   "metadata": {
    "colab": {
     "base_uri": "https://localhost:8080/",
     "height": 202
    },
    "id": "BDiL-AmuxUfD",
    "outputId": "6daeb4f2-7bae-4c49-c5c0-895de17c5c43"
   },
   "outputs": [
    {
     "data": {
      "text/html": [
       "<div>\n",
       "<style scoped>\n",
       "    .dataframe tbody tr th:only-of-type {\n",
       "        vertical-align: middle;\n",
       "    }\n",
       "\n",
       "    .dataframe tbody tr th {\n",
       "        vertical-align: top;\n",
       "    }\n",
       "\n",
       "    .dataframe thead th {\n",
       "        text-align: right;\n",
       "    }\n",
       "</style>\n",
       "<table border=\"1\" class=\"dataframe\">\n",
       "  <thead>\n",
       "    <tr style=\"text-align: right;\">\n",
       "      <th></th>\n",
       "      <th>y_prob0</th>\n",
       "      <th>y_prob1</th>\n",
       "      <th>y_actual</th>\n",
       "    </tr>\n",
       "  </thead>\n",
       "  <tbody>\n",
       "    <tr>\n",
       "      <td>0</td>\n",
       "      <td>0.551048</td>\n",
       "      <td>0.448952</td>\n",
       "      <td>0</td>\n",
       "    </tr>\n",
       "    <tr>\n",
       "      <td>1</td>\n",
       "      <td>0.556318</td>\n",
       "      <td>0.443682</td>\n",
       "      <td>0</td>\n",
       "    </tr>\n",
       "    <tr>\n",
       "      <td>2</td>\n",
       "      <td>0.541835</td>\n",
       "      <td>0.458165</td>\n",
       "      <td>0</td>\n",
       "    </tr>\n",
       "    <tr>\n",
       "      <td>3</td>\n",
       "      <td>0.546440</td>\n",
       "      <td>0.453560</td>\n",
       "      <td>0</td>\n",
       "    </tr>\n",
       "    <tr>\n",
       "      <td>4</td>\n",
       "      <td>0.558556</td>\n",
       "      <td>0.441444</td>\n",
       "      <td>0</td>\n",
       "    </tr>\n",
       "  </tbody>\n",
       "</table>\n",
       "</div>"
      ],
      "text/plain": [
       "    y_prob0   y_prob1  y_actual\n",
       "0  0.551048  0.448952         0\n",
       "1  0.556318  0.443682         0\n",
       "2  0.541835  0.458165         0\n",
       "3  0.546440  0.453560         0\n",
       "4  0.558556  0.441444         0"
      ]
     },
     "execution_count": 41,
     "metadata": {},
     "output_type": "execute_result"
    }
   ],
   "source": [
    "pdf=pd.DataFrame(yprob,columns=['y_prob0','y_prob1'])\n",
    "pdf['y_actual']=list(ytest)\n",
    "pdf.head()"
   ]
  },
  {
   "cell_type": "code",
   "execution_count": 42,
   "metadata": {
    "id": "-fyqZlfRyCxn"
   },
   "outputs": [],
   "source": [
    "p0=pdf[pdf['y_actual']==0]['y_prob1']\n",
    "p1=pdf[pdf['y_actual']==1]['y_prob1']"
   ]
  },
  {
   "cell_type": "code",
   "execution_count": 43,
   "metadata": {
    "colab": {
     "base_uri": "https://localhost:8080/",
     "height": 846
    },
    "id": "kEpB2Rl6yCvI",
    "outputId": "0bab732a-4371-4c88-8004-cb2be43251a4"
   },
   "outputs": [
    {
     "data": {
      "image/png": "[encoded data removed]",
      "text/plain": [
       "<Figure size 720x432 with 1 Axes>"
      ]
     },
     "metadata": {
      "needs_background": "light"
     },
     "output_type": "display_data"
    },
    {
     "data": {
      "image/png": "[encoded data removed]",
      "text/plain": [
       "<Figure size 720x504 with 1 Axes>"
      ]
     },
     "metadata": {
      "needs_background": "light"
     },
     "output_type": "display_data"
    }
   ],
   "source": [
    "plt.figure(figsize=(10,6))\n",
    "x=[i/10 for i in range(11)]\n",
    "plt.plot(fpr,tpr,color='g')\n",
    "plt.plot(x,x,color='r')\n",
    "plt.title(f'ROC curve with auc score {roc_auc_score(ytest,y_prob1)}')\n",
    "plt.ylabel('True positive rate (tpr)')\n",
    "plt.xlabel('False Positive rate(fpr)')\n",
    "plt.show()\n",
    "\n",
    "plt.figure(figsize=(10,7))\n",
    "sns.distplot(p0,color='b',label='Probabality of class: 0')\n",
    "sns.distplot(p1,color='r',label='Probabality of class: 1')\n",
    "plt.title(f'auc score {roc_auc_score(ytest,y_prob1)}')\n",
    "plt.legend()\n",
    "plt.show()"
   ]
  },
  {
   "cell_type": "code",
   "execution_count": 44,
   "metadata": {
    "colab": {
     "base_uri": "https://localhost:8080/"
    },
    "id": "fuo0G1AeMp-t",
    "outputId": "fe1d336c-1255-4239-d08b-a8f9cb3b9db3"
   },
   "outputs": [
    {
     "name": "stdout",
     "output_type": "stream",
     "text": [
      "              precision    recall  f1-score   support\n",
      "\n",
      "           0       0.82      0.98      0.89     23497\n",
      "           1       0.64      0.16      0.25      5919\n",
      "\n",
      "    accuracy                           0.81     29416\n",
      "   macro avg       0.73      0.57      0.57     29416\n",
      "weighted avg       0.79      0.81      0.76     29416\n",
      "\n"
     ]
    }
   ],
   "source": [
    "print(classification_report(ytest,ypred))"
   ]
  },
  {
   "cell_type": "code",
   "execution_count": 45,
   "metadata": {
    "id": "mcifASQxbj-X"
   },
   "outputs": [
    {
     "name": "stdout",
     "output_type": "stream",
     "text": [
      "              precision    recall  f1-score   support\n",
      "\n",
      "           0       0.82      0.98      0.89     54825\n",
      "           1       0.65      0.15      0.24     13811\n",
      "\n",
      "    accuracy                           0.81     68636\n",
      "   macro avg       0.73      0.56      0.57     68636\n",
      "weighted avg       0.79      0.81      0.76     68636\n",
      "\n"
     ]
    }
   ],
   "source": [
    "print(classification_report(ytrain,ypred1))"
   ]
  },
  {
   "cell_type": "markdown",
   "metadata": {
    "id": "yrE9Zr5Lz4bm"
   },
   "source": [
    "# RF"
   ]
  },
  {
   "cell_type": "code",
   "execution_count": 46,
   "metadata": {
    "id": "6aTDgFyizzxz"
   },
   "outputs": [
    {
     "data": {
      "application/javascript": [
       "\n",
       "        if (window._pyforest_update_imports_cell) { window._pyforest_update_imports_cell('from sklearn.ensemble import RandomForestClassifier'); }\n",
       "    "
      ],
      "text/plain": [
       "<IPython.core.display.Javascript object>"
      ]
     },
     "metadata": {},
     "output_type": "display_data"
    }
   ],
   "source": [
    "wlrfc=RandomForestClassifier(**rsearch_rfc.best_params_)\n",
    "Adarf= AdaBoostClassifier(base_estimator=wlrfc, n_estimators=10,random_state=0)"
   ]
  },
  {
   "cell_type": "code",
   "execution_count": 47,
   "metadata": {
    "id": "Hog8C70nzzkq"
   },
   "outputs": [],
   "source": [
    "Adarf.fit(Xtrain_t,ytrain)\n",
    "ypred = Adarf.predict(Xtest_t)\n",
    "ypred1 = Adarf.predict(Xtrain_t)\n",
    "yprob = Adarf.predict_proba(Xtest_t)\n",
    "y_prob1=yprob[:,1]\n",
    "fpr,tpr,thresholds=roc_curve(ytest,y_prob1)"
   ]
  },
  {
   "cell_type": "code",
   "execution_count": 48,
   "metadata": {
    "colab": {
     "base_uri": "https://localhost:8080/",
     "height": 202
    },
    "id": "VboQpihi0f6Q",
    "outputId": "95989cdb-c8c8-4efd-e6c3-f96230b06997"
   },
   "outputs": [
    {
     "data": {
      "text/html": [
       "<div>\n",
       "<style scoped>\n",
       "    .dataframe tbody tr th:only-of-type {\n",
       "        vertical-align: middle;\n",
       "    }\n",
       "\n",
       "    .dataframe tbody tr th {\n",
       "        vertical-align: top;\n",
       "    }\n",
       "\n",
       "    .dataframe thead th {\n",
       "        text-align: right;\n",
       "    }\n",
       "</style>\n",
       "<table border=\"1\" class=\"dataframe\">\n",
       "  <thead>\n",
       "    <tr style=\"text-align: right;\">\n",
       "      <th></th>\n",
       "      <th>y_prob0</th>\n",
       "      <th>y_prob1</th>\n",
       "      <th>y_actual</th>\n",
       "    </tr>\n",
       "  </thead>\n",
       "  <tbody>\n",
       "    <tr>\n",
       "      <td>0</td>\n",
       "      <td>0.581199</td>\n",
       "      <td>0.418801</td>\n",
       "      <td>0</td>\n",
       "    </tr>\n",
       "    <tr>\n",
       "      <td>1</td>\n",
       "      <td>0.568766</td>\n",
       "      <td>0.431234</td>\n",
       "      <td>0</td>\n",
       "    </tr>\n",
       "    <tr>\n",
       "      <td>2</td>\n",
       "      <td>0.548922</td>\n",
       "      <td>0.451078</td>\n",
       "      <td>0</td>\n",
       "    </tr>\n",
       "    <tr>\n",
       "      <td>3</td>\n",
       "      <td>0.562151</td>\n",
       "      <td>0.437849</td>\n",
       "      <td>0</td>\n",
       "    </tr>\n",
       "    <tr>\n",
       "      <td>4</td>\n",
       "      <td>0.578692</td>\n",
       "      <td>0.421308</td>\n",
       "      <td>0</td>\n",
       "    </tr>\n",
       "  </tbody>\n",
       "</table>\n",
       "</div>"
      ],
      "text/plain": [
       "    y_prob0   y_prob1  y_actual\n",
       "0  0.581199  0.418801         0\n",
       "1  0.568766  0.431234         0\n",
       "2  0.548922  0.451078         0\n",
       "3  0.562151  0.437849         0\n",
       "4  0.578692  0.421308         0"
      ]
     },
     "execution_count": 48,
     "metadata": {},
     "output_type": "execute_result"
    }
   ],
   "source": [
    "pdf=pd.DataFrame(yprob,columns=['y_prob0','y_prob1'])\n",
    "pdf['y_actual']=list(ytest)\n",
    "pdf.head()"
   ]
  },
  {
   "cell_type": "code",
   "execution_count": 49,
   "metadata": {
    "id": "Si7KiIVa0f20"
   },
   "outputs": [],
   "source": [
    "p0=pdf[pdf['y_actual']==0]['y_prob1']\n",
    "p1=pdf[pdf['y_actual']==1]['y_prob1']"
   ]
  },
  {
   "cell_type": "code",
   "execution_count": 50,
   "metadata": {
    "colab": {
     "base_uri": "https://localhost:8080/",
     "height": 846
    },
    "id": "wJ0k5hMy0f05",
    "outputId": "9a5588f1-935a-47d1-cf25-3cf9f408bdde"
   },
   "outputs": [
    {
     "data": {
      "image/png": "[encoded data removed]",
      "text/plain": [
       "<Figure size 720x432 with 1 Axes>"
      ]
     },
     "metadata": {
      "needs_background": "light"
     },
     "output_type": "display_data"
    },
    {
     "data": {
      "image/png": "[encoded data removed]",
      "text/plain": [
       "<Figure size 720x504 with 1 Axes>"
      ]
     },
     "metadata": {
      "needs_background": "light"
     },
     "output_type": "display_data"
    }
   ],
   "source": [
    "plt.figure(figsize=(10,6))\n",
    "x=[i/10 for i in range(11)]\n",
    "plt.plot(fpr,tpr,color='g')\n",
    "plt.plot(x,x,color='r')\n",
    "plt.title(f'ROC curve with auc score {roc_auc_score(ytest,y_prob1)}')\n",
    "plt.ylabel('True positive rate (tpr)')\n",
    "plt.xlabel('False Positive rate(fpr)')\n",
    "plt.show()\n",
    "\n",
    "plt.figure(figsize=(10,7))\n",
    "sns.distplot(p0,color='b',label='Probabality of class: 0')\n",
    "sns.distplot(p1,color='r',label='Probabality of class: 1')\n",
    "plt.title(f'auc score {roc_auc_score(ytest,y_prob1)}')\n",
    "plt.legend()\n",
    "plt.show()"
   ]
  },
  {
   "cell_type": "code",
   "execution_count": 51,
   "metadata": {
    "colab": {
     "base_uri": "https://localhost:8080/"
    },
    "id": "r0wFxeyYMsTC",
    "outputId": "ec4bb9d4-66b3-41e0-e0ce-1d5eff43a451"
   },
   "outputs": [
    {
     "name": "stdout",
     "output_type": "stream",
     "text": [
      "              precision    recall  f1-score   support\n",
      "\n",
      "           0       0.83      0.97      0.90     23497\n",
      "           1       0.66      0.19      0.30      5919\n",
      "\n",
      "    accuracy                           0.82     29416\n",
      "   macro avg       0.74      0.58      0.60     29416\n",
      "weighted avg       0.79      0.82      0.78     29416\n",
      "\n"
     ]
    }
   ],
   "source": [
    "print(classification_report(ytest,ypred))"
   ]
  },
  {
   "cell_type": "code",
   "execution_count": 52,
   "metadata": {
    "id": "S6uS1iImK9AG"
   },
   "outputs": [
    {
     "name": "stdout",
     "output_type": "stream",
     "text": [
      "              precision    recall  f1-score   support\n",
      "\n",
      "           0       0.84      0.98      0.91     54825\n",
      "           1       0.79      0.25      0.38     13811\n",
      "\n",
      "    accuracy                           0.84     68636\n",
      "   macro avg       0.81      0.62      0.64     68636\n",
      "weighted avg       0.83      0.84      0.80     68636\n",
      "\n"
     ]
    }
   ],
   "source": [
    "print(classification_report(ytrain,ypred1))"
   ]
  },
  {
   "cell_type": "code",
   "execution_count": null,
   "metadata": {
    "id": "o7GgHh5mtcbN"
   },
   "outputs": [],
   "source": []
  },
  {
   "cell_type": "code",
   "execution_count": null,
   "metadata": {
    "id": "nsrBwpUJI1kW"
   },
   "outputs": [],
   "source": []
  },
  {
   "cell_type": "code",
   "execution_count": null,
   "metadata": {
    "id": "Oa_V58yXI1rr"
   },
   "outputs": [],
   "source": []
  },
  {
   "cell_type": "code",
   "execution_count": null,
   "metadata": {
    "id": "31bjQUO5I1_q"
   },
   "outputs": [],
   "source": []
  },
  {
   "cell_type": "code",
   "execution_count": null,
   "metadata": {
    "id": "baF1g9BwI1n_"
   },
   "outputs": [],
   "source": []
  },
  {
   "cell_type": "code",
   "execution_count": null,
   "metadata": {
    "id": "ecFhsGL7I1gy"
   },
   "outputs": [],
   "source": []
  }
 ],
 "metadata": {
  "colab": {
   "collapsed_sections": [],
   "name": "ML_Models1_t.ipynb",
   "provenance": []
  },
  "kernelspec": {
   "display_name": "Python 3",
   "language": "python",
   "name": "python3"
  },
  "language_info": {
   "codemirror_mode": {
    "name": "ipython",
    "version": 3
   },
   "file_extension": ".py",
   "mimetype": "text/x-python",
   "name": "python",
   "nbconvert_exporter": "python",
   "pygments_lexer": "ipython3",
   "version": "3.7.4"
  }
 },
 "nbformat": 4,
 "nbformat_minor": 1
}
