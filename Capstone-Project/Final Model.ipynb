{
 "cells": [
  {
   "cell_type": "code",
   "execution_count": 1,
   "metadata": {
    "id": "LJBufxAZLGp1"
   },
   "outputs": [],
   "source": [
    "#warnings\n",
    "import warnings\n",
    "warnings.filterwarnings('ignore')"
   ]
  },
  {
   "cell_type": "code",
   "execution_count": 2,
   "metadata": {
    "id": "li_AiCK3LLO5"
   },
   "outputs": [],
   "source": [
    "import numpy as np\n",
    "import pandas as pd\n",
    "\n",
    "# data visuzlization\n",
    "import matplotlib.pyplot as plt\n",
    "import seaborn as sns\n",
    "import scipy.stats as st"
   ]
  },
  {
   "cell_type": "code",
   "execution_count": 3,
   "metadata": {
    "id": "c9Cdjj3ZLLLo"
   },
   "outputs": [],
   "source": [
    "# max columns\n",
    "pd.set_option('display.max_columns', None)\n",
    "# max rows\n",
    "pd.set_option('display.max_rows', None)"
   ]
  },
  {
   "cell_type": "code",
   "execution_count": 5,
   "metadata": {
    "id": "yHnuQZOvLLKC"
   },
   "outputs": [],
   "source": [
    "x = pd.read_csv('/content/drive/My Drive/Project/Project 5/dataset_diabetes/x1.csv')\n",
    "y = pd.read_csv('/content/drive/My Drive/Project/Project 5/dataset_diabetes/y1.csv')"
   ]
  },
  {
   "cell_type": "code",
   "execution_count": 6,
   "metadata": {
    "colab": {
     "base_uri": "https://localhost:8080/"
    },
    "id": "gihHQR0hLLF7",
    "outputId": "52b40c4a-3c95-487e-f475-f11d11161140"
   },
   "outputs": [
    {
     "data": {
      "text/plain": [
       "(52110, 38)"
      ]
     },
     "execution_count": 6,
     "metadata": {
      "tags": []
     },
     "output_type": "execute_result"
    }
   ],
   "source": [
    "x.shape"
   ]
  },
  {
   "cell_type": "code",
   "execution_count": 7,
   "metadata": {
    "id": "7Ay2lumrLLD7"
   },
   "outputs": [],
   "source": [
    "x = x.drop('Unnamed: 0',axis=1)"
   ]
  },
  {
   "cell_type": "code",
   "execution_count": 8,
   "metadata": {
    "id": "slFEYrXzLLAf"
   },
   "outputs": [],
   "source": [
    "y = y.drop('Unnamed: 0',axis=1)"
   ]
  },
  {
   "cell_type": "code",
   "execution_count": 10,
   "metadata": {
    "id": "ZOLut4AVL_Bj"
   },
   "outputs": [],
   "source": [
    "from sklearn.model_selection import  train_test_split\n",
    "\n",
    "Xtrain,Xtest,ytrain,ytest=train_test_split(x,y,test_size=0.3,random_state=48,stratify=y)"
   ]
  },
  {
   "cell_type": "code",
   "execution_count": 11,
   "metadata": {
    "colab": {
     "base_uri": "https://localhost:8080/"
    },
    "id": "czebC1hXMFN_",
    "outputId": "6eb05726-861b-4a98-8c47-a5b692bb42ba"
   },
   "outputs": [
    {
     "data": {
      "text/plain": [
       "((36477, 37), (15633, 37), (36477, 1), (15633, 1))"
      ]
     },
     "execution_count": 11,
     "metadata": {
      "tags": []
     },
     "output_type": "execute_result"
    }
   ],
   "source": [
    "Xtrain.shape,Xtest.shape,ytrain.shape,ytest.shape"
   ]
  },
  {
   "cell_type": "code",
   "execution_count": 12,
   "metadata": {
    "colab": {
     "base_uri": "https://localhost:8080/",
     "height": 239
    },
    "id": "VqSXOhDRMMCy",
    "outputId": "ed3d5bba-fb76-41b9-d3f5-ca3662f577c4"
   },
   "outputs": [
    {
     "data": {
      "text/html": [
       "<div>\n",
       "<style scoped>\n",
       "    .dataframe tbody tr th:only-of-type {\n",
       "        vertical-align: middle;\n",
       "    }\n",
       "\n",
       "    .dataframe tbody tr th {\n",
       "        vertical-align: top;\n",
       "    }\n",
       "\n",
       "    .dataframe thead th {\n",
       "        text-align: right;\n",
       "    }\n",
       "</style>\n",
       "<table border=\"1\" class=\"dataframe\">\n",
       "  <thead>\n",
       "    <tr style=\"text-align: right;\">\n",
       "      <th></th>\n",
       "      <th>age_adult</th>\n",
       "      <th>diag_3_Diabetes</th>\n",
       "      <th>num_lab_procedures</th>\n",
       "      <th>number_emergency</th>\n",
       "      <th>diag_2_Respiratory</th>\n",
       "      <th>diag_3_Others</th>\n",
       "      <th>num_procedures</th>\n",
       "      <th>readmitted_Yes</th>\n",
       "      <th>diag_3_Digestive</th>\n",
       "      <th>diag_3_Respiratory</th>\n",
       "      <th>change_No</th>\n",
       "      <th>diag_1_Injury</th>\n",
       "      <th>diag_2_Diabetes</th>\n",
       "      <th>diag_1_Others</th>\n",
       "      <th>diag_2_Digestive</th>\n",
       "      <th>gender_Male</th>\n",
       "      <th>race_Caucasian</th>\n",
       "      <th>diag_3_Genitourinary</th>\n",
       "      <th>diag_1_Respiratory</th>\n",
       "      <th>diag_1_Diabetes</th>\n",
       "      <th>A1Cresult_Norm</th>\n",
       "      <th>number_inpatient</th>\n",
       "      <th>time_in_hospital</th>\n",
       "      <th>diag_1_Genitourinary</th>\n",
       "      <th>num_medications</th>\n",
       "      <th>A1Cresult_Not Normal</th>\n",
       "      <th>diag_2_Others</th>\n",
       "      <th>number_diagnoses</th>\n",
       "      <th>diag_2_Genitourinary</th>\n",
       "      <th>number_outpatient</th>\n",
       "      <th>diag_3_Muscoloskeletal</th>\n",
       "      <th>diag_1_Muscoloskeletal</th>\n",
       "      <th>age_child</th>\n",
       "      <th>race_Other</th>\n",
       "      <th>race_Hispanic</th>\n",
       "      <th>max_glu_serum_None</th>\n",
       "      <th>diag_1_Digestive</th>\n",
       "    </tr>\n",
       "  </thead>\n",
       "  <tbody>\n",
       "    <tr>\n",
       "      <th>0</th>\n",
       "      <td>-0.715235</td>\n",
       "      <td>-0.444187</td>\n",
       "      <td>0.959997</td>\n",
       "      <td>-0.211824</td>\n",
       "      <td>-0.357808</td>\n",
       "      <td>-0.662350</td>\n",
       "      <td>0.352128</td>\n",
       "      <td>1.022823</td>\n",
       "      <td>-0.200447</td>\n",
       "      <td>-0.288958</td>\n",
       "      <td>-0.652215</td>\n",
       "      <td>-0.275483</td>\n",
       "      <td>-0.38435</td>\n",
       "      <td>-0.459758</td>\n",
       "      <td>-0.205136</td>\n",
       "      <td>-0.923090</td>\n",
       "      <td>0.585191</td>\n",
       "      <td>3.596270</td>\n",
       "      <td>-0.412762</td>\n",
       "      <td>-0.354681</td>\n",
       "      <td>-0.231076</td>\n",
       "      <td>-0.529738</td>\n",
       "      <td>0.094948</td>\n",
       "      <td>4.285028</td>\n",
       "      <td>0.146905</td>\n",
       "      <td>-0.414898</td>\n",
       "      <td>1.643356</td>\n",
       "      <td>0.746706</td>\n",
       "      <td>-0.312908</td>\n",
       "      <td>-0.282292</td>\n",
       "      <td>-0.139469</td>\n",
       "      <td>-0.200373</td>\n",
       "      <td>-0.088739</td>\n",
       "      <td>-0.131063</td>\n",
       "      <td>-0.14538</td>\n",
       "      <td>0.23193</td>\n",
       "      <td>-0.312009</td>\n",
       "    </tr>\n",
       "    <tr>\n",
       "      <th>1</th>\n",
       "      <td>-0.715235</td>\n",
       "      <td>-0.444187</td>\n",
       "      <td>0.909752</td>\n",
       "      <td>-0.211824</td>\n",
       "      <td>-0.357808</td>\n",
       "      <td>-0.662350</td>\n",
       "      <td>-0.792715</td>\n",
       "      <td>1.022823</td>\n",
       "      <td>-0.200447</td>\n",
       "      <td>-0.288958</td>\n",
       "      <td>-0.652215</td>\n",
       "      <td>3.629991</td>\n",
       "      <td>-0.38435</td>\n",
       "      <td>-0.459758</td>\n",
       "      <td>-0.205136</td>\n",
       "      <td>-0.923090</td>\n",
       "      <td>0.585191</td>\n",
       "      <td>-0.278066</td>\n",
       "      <td>-0.412762</td>\n",
       "      <td>-0.354681</td>\n",
       "      <td>-0.231076</td>\n",
       "      <td>-0.529738</td>\n",
       "      <td>0.094948</td>\n",
       "      <td>-0.233371</td>\n",
       "      <td>0.030159</td>\n",
       "      <td>-0.414898</td>\n",
       "      <td>-0.608511</td>\n",
       "      <td>0.746706</td>\n",
       "      <td>-0.312908</td>\n",
       "      <td>-0.282292</td>\n",
       "      <td>-0.139469</td>\n",
       "      <td>-0.200373</td>\n",
       "      <td>-0.088739</td>\n",
       "      <td>-0.131063</td>\n",
       "      <td>-0.14538</td>\n",
       "      <td>0.23193</td>\n",
       "      <td>-0.312009</td>\n",
       "    </tr>\n",
       "    <tr>\n",
       "      <th>2</th>\n",
       "      <td>-0.715235</td>\n",
       "      <td>-0.444187</td>\n",
       "      <td>1.562941</td>\n",
       "      <td>-0.211824</td>\n",
       "      <td>-0.357808</td>\n",
       "      <td>1.509775</td>\n",
       "      <td>0.924550</td>\n",
       "      <td>1.022823</td>\n",
       "      <td>-0.200447</td>\n",
       "      <td>-0.288958</td>\n",
       "      <td>-0.652215</td>\n",
       "      <td>-0.275483</td>\n",
       "      <td>-0.38435</td>\n",
       "      <td>-0.459758</td>\n",
       "      <td>-0.205136</td>\n",
       "      <td>1.083318</td>\n",
       "      <td>0.585191</td>\n",
       "      <td>-0.278066</td>\n",
       "      <td>-0.412762</td>\n",
       "      <td>-0.354681</td>\n",
       "      <td>-0.231076</td>\n",
       "      <td>-0.529738</td>\n",
       "      <td>1.400045</td>\n",
       "      <td>4.285028</td>\n",
       "      <td>0.730636</td>\n",
       "      <td>-0.414898</td>\n",
       "      <td>-0.608511</td>\n",
       "      <td>0.746706</td>\n",
       "      <td>-0.312908</td>\n",
       "      <td>0.463284</td>\n",
       "      <td>-0.139469</td>\n",
       "      <td>-0.200373</td>\n",
       "      <td>-0.088739</td>\n",
       "      <td>-0.131063</td>\n",
       "      <td>-0.14538</td>\n",
       "      <td>0.23193</td>\n",
       "      <td>-0.312009</td>\n",
       "    </tr>\n",
       "    <tr>\n",
       "      <th>3</th>\n",
       "      <td>1.398141</td>\n",
       "      <td>-0.444187</td>\n",
       "      <td>-0.999570</td>\n",
       "      <td>0.673554</td>\n",
       "      <td>-0.357808</td>\n",
       "      <td>-0.662350</td>\n",
       "      <td>-0.792715</td>\n",
       "      <td>1.022823</td>\n",
       "      <td>-0.200447</td>\n",
       "      <td>-0.288958</td>\n",
       "      <td>-0.652215</td>\n",
       "      <td>-0.275483</td>\n",
       "      <td>-0.38435</td>\n",
       "      <td>2.175057</td>\n",
       "      <td>-0.205136</td>\n",
       "      <td>-0.923090</td>\n",
       "      <td>0.585191</td>\n",
       "      <td>-0.278066</td>\n",
       "      <td>-0.412762</td>\n",
       "      <td>-0.354681</td>\n",
       "      <td>-0.231076</td>\n",
       "      <td>0.923412</td>\n",
       "      <td>-0.557601</td>\n",
       "      <td>-0.233371</td>\n",
       "      <td>-0.787065</td>\n",
       "      <td>-0.414898</td>\n",
       "      <td>-0.608511</td>\n",
       "      <td>0.746706</td>\n",
       "      <td>-0.312908</td>\n",
       "      <td>0.463284</td>\n",
       "      <td>-0.139469</td>\n",
       "      <td>-0.200373</td>\n",
       "      <td>-0.088739</td>\n",
       "      <td>-0.131063</td>\n",
       "      <td>-0.14538</td>\n",
       "      <td>0.23193</td>\n",
       "      <td>-0.312009</td>\n",
       "    </tr>\n",
       "    <tr>\n",
       "      <th>4</th>\n",
       "      <td>-0.715235</td>\n",
       "      <td>-0.444187</td>\n",
       "      <td>1.914659</td>\n",
       "      <td>-0.211824</td>\n",
       "      <td>-0.357808</td>\n",
       "      <td>-0.662350</td>\n",
       "      <td>-0.792715</td>\n",
       "      <td>1.022823</td>\n",
       "      <td>-0.200447</td>\n",
       "      <td>-0.288958</td>\n",
       "      <td>-0.652215</td>\n",
       "      <td>-0.275483</td>\n",
       "      <td>-0.38435</td>\n",
       "      <td>-0.459758</td>\n",
       "      <td>-0.205136</td>\n",
       "      <td>1.083318</td>\n",
       "      <td>0.585191</td>\n",
       "      <td>-0.278066</td>\n",
       "      <td>-0.412762</td>\n",
       "      <td>-0.354681</td>\n",
       "      <td>-0.231076</td>\n",
       "      <td>-0.529738</td>\n",
       "      <td>1.073771</td>\n",
       "      <td>-0.233371</td>\n",
       "      <td>0.497144</td>\n",
       "      <td>2.410233</td>\n",
       "      <td>-0.608511</td>\n",
       "      <td>0.746706</td>\n",
       "      <td>-0.312908</td>\n",
       "      <td>1.954437</td>\n",
       "      <td>-0.139469</td>\n",
       "      <td>4.990687</td>\n",
       "      <td>-0.088739</td>\n",
       "      <td>-0.131063</td>\n",
       "      <td>-0.14538</td>\n",
       "      <td>0.23193</td>\n",
       "      <td>-0.312009</td>\n",
       "    </tr>\n",
       "  </tbody>\n",
       "</table>\n",
       "</div>"
      ],
      "text/plain": [
       "   age_adult  diag_3_Diabetes  num_lab_procedures  number_emergency  \\\n",
       "0  -0.715235        -0.444187            0.959997         -0.211824   \n",
       "1  -0.715235        -0.444187            0.909752         -0.211824   \n",
       "2  -0.715235        -0.444187            1.562941         -0.211824   \n",
       "3   1.398141        -0.444187           -0.999570          0.673554   \n",
       "4  -0.715235        -0.444187            1.914659         -0.211824   \n",
       "\n",
       "   diag_2_Respiratory  diag_3_Others  num_procedures  readmitted_Yes  \\\n",
       "0           -0.357808      -0.662350        0.352128        1.022823   \n",
       "1           -0.357808      -0.662350       -0.792715        1.022823   \n",
       "2           -0.357808       1.509775        0.924550        1.022823   \n",
       "3           -0.357808      -0.662350       -0.792715        1.022823   \n",
       "4           -0.357808      -0.662350       -0.792715        1.022823   \n",
       "\n",
       "   diag_3_Digestive  diag_3_Respiratory  change_No  diag_1_Injury  \\\n",
       "0         -0.200447           -0.288958  -0.652215      -0.275483   \n",
       "1         -0.200447           -0.288958  -0.652215       3.629991   \n",
       "2         -0.200447           -0.288958  -0.652215      -0.275483   \n",
       "3         -0.200447           -0.288958  -0.652215      -0.275483   \n",
       "4         -0.200447           -0.288958  -0.652215      -0.275483   \n",
       "\n",
       "   diag_2_Diabetes  diag_1_Others  diag_2_Digestive  gender_Male  \\\n",
       "0         -0.38435      -0.459758         -0.205136    -0.923090   \n",
       "1         -0.38435      -0.459758         -0.205136    -0.923090   \n",
       "2         -0.38435      -0.459758         -0.205136     1.083318   \n",
       "3         -0.38435       2.175057         -0.205136    -0.923090   \n",
       "4         -0.38435      -0.459758         -0.205136     1.083318   \n",
       "\n",
       "   race_Caucasian  diag_3_Genitourinary  diag_1_Respiratory  diag_1_Diabetes  \\\n",
       "0        0.585191              3.596270           -0.412762        -0.354681   \n",
       "1        0.585191             -0.278066           -0.412762        -0.354681   \n",
       "2        0.585191             -0.278066           -0.412762        -0.354681   \n",
       "3        0.585191             -0.278066           -0.412762        -0.354681   \n",
       "4        0.585191             -0.278066           -0.412762        -0.354681   \n",
       "\n",
       "   A1Cresult_Norm  number_inpatient  time_in_hospital  diag_1_Genitourinary  \\\n",
       "0       -0.231076         -0.529738          0.094948              4.285028   \n",
       "1       -0.231076         -0.529738          0.094948             -0.233371   \n",
       "2       -0.231076         -0.529738          1.400045              4.285028   \n",
       "3       -0.231076          0.923412         -0.557601             -0.233371   \n",
       "4       -0.231076         -0.529738          1.073771             -0.233371   \n",
       "\n",
       "   num_medications  A1Cresult_Not Normal  diag_2_Others  number_diagnoses  \\\n",
       "0         0.146905             -0.414898       1.643356          0.746706   \n",
       "1         0.030159             -0.414898      -0.608511          0.746706   \n",
       "2         0.730636             -0.414898      -0.608511          0.746706   \n",
       "3        -0.787065             -0.414898      -0.608511          0.746706   \n",
       "4         0.497144              2.410233      -0.608511          0.746706   \n",
       "\n",
       "   diag_2_Genitourinary  number_outpatient  diag_3_Muscoloskeletal  \\\n",
       "0             -0.312908          -0.282292               -0.139469   \n",
       "1             -0.312908          -0.282292               -0.139469   \n",
       "2             -0.312908           0.463284               -0.139469   \n",
       "3             -0.312908           0.463284               -0.139469   \n",
       "4             -0.312908           1.954437               -0.139469   \n",
       "\n",
       "   diag_1_Muscoloskeletal  age_child  race_Other  race_Hispanic  \\\n",
       "0               -0.200373  -0.088739   -0.131063       -0.14538   \n",
       "1               -0.200373  -0.088739   -0.131063       -0.14538   \n",
       "2               -0.200373  -0.088739   -0.131063       -0.14538   \n",
       "3               -0.200373  -0.088739   -0.131063       -0.14538   \n",
       "4                4.990687  -0.088739   -0.131063       -0.14538   \n",
       "\n",
       "   max_glu_serum_None  diag_1_Digestive  \n",
       "0             0.23193         -0.312009  \n",
       "1             0.23193         -0.312009  \n",
       "2             0.23193         -0.312009  \n",
       "3             0.23193         -0.312009  \n",
       "4             0.23193         -0.312009  "
      ]
     },
     "execution_count": 12,
     "metadata": {
      "tags": []
     },
     "output_type": "execute_result"
    }
   ],
   "source": [
    "from sklearn.preprocessing import  StandardScaler\n",
    "st = StandardScaler()\n",
    "Xtrain_t = st.fit_transform(Xtrain)\n",
    "Xtrain_t=pd.DataFrame(Xtrain_t,columns=x.columns)\n",
    "Xtrain_t.head()"
   ]
  },
  {
   "cell_type": "code",
   "execution_count": 13,
   "metadata": {
    "colab": {
     "base_uri": "https://localhost:8080/",
     "height": 239
    },
    "id": "8cHfB-wAMQU1",
    "outputId": "8c286b77-83c4-4075-b1ea-5b5d9780e218"
   },
   "outputs": [
    {
     "data": {
      "text/html": [
       "<div>\n",
       "<style scoped>\n",
       "    .dataframe tbody tr th:only-of-type {\n",
       "        vertical-align: middle;\n",
       "    }\n",
       "\n",
       "    .dataframe tbody tr th {\n",
       "        vertical-align: top;\n",
       "    }\n",
       "\n",
       "    .dataframe thead th {\n",
       "        text-align: right;\n",
       "    }\n",
       "</style>\n",
       "<table border=\"1\" class=\"dataframe\">\n",
       "  <thead>\n",
       "    <tr style=\"text-align: right;\">\n",
       "      <th></th>\n",
       "      <th>age_adult</th>\n",
       "      <th>diag_3_Diabetes</th>\n",
       "      <th>num_lab_procedures</th>\n",
       "      <th>number_emergency</th>\n",
       "      <th>diag_2_Respiratory</th>\n",
       "      <th>diag_3_Others</th>\n",
       "      <th>num_procedures</th>\n",
       "      <th>readmitted_Yes</th>\n",
       "      <th>diag_3_Digestive</th>\n",
       "      <th>diag_3_Respiratory</th>\n",
       "      <th>change_No</th>\n",
       "      <th>diag_1_Injury</th>\n",
       "      <th>diag_2_Diabetes</th>\n",
       "      <th>diag_1_Others</th>\n",
       "      <th>diag_2_Digestive</th>\n",
       "      <th>gender_Male</th>\n",
       "      <th>race_Caucasian</th>\n",
       "      <th>diag_3_Genitourinary</th>\n",
       "      <th>diag_1_Respiratory</th>\n",
       "      <th>diag_1_Diabetes</th>\n",
       "      <th>A1Cresult_Norm</th>\n",
       "      <th>number_inpatient</th>\n",
       "      <th>time_in_hospital</th>\n",
       "      <th>diag_1_Genitourinary</th>\n",
       "      <th>num_medications</th>\n",
       "      <th>A1Cresult_Not Normal</th>\n",
       "      <th>diag_2_Others</th>\n",
       "      <th>number_diagnoses</th>\n",
       "      <th>diag_2_Genitourinary</th>\n",
       "      <th>number_outpatient</th>\n",
       "      <th>diag_3_Muscoloskeletal</th>\n",
       "      <th>diag_1_Muscoloskeletal</th>\n",
       "      <th>age_child</th>\n",
       "      <th>race_Other</th>\n",
       "      <th>race_Hispanic</th>\n",
       "      <th>max_glu_serum_None</th>\n",
       "      <th>diag_1_Digestive</th>\n",
       "    </tr>\n",
       "  </thead>\n",
       "  <tbody>\n",
       "    <tr>\n",
       "      <th>0</th>\n",
       "      <td>-0.715235</td>\n",
       "      <td>-0.444187</td>\n",
       "      <td>0.708771</td>\n",
       "      <td>-0.211824</td>\n",
       "      <td>-0.357808</td>\n",
       "      <td>-0.662350</td>\n",
       "      <td>2.069393</td>\n",
       "      <td>-0.977687</td>\n",
       "      <td>-0.200447</td>\n",
       "      <td>-0.288958</td>\n",
       "      <td>-0.652215</td>\n",
       "      <td>-0.275483</td>\n",
       "      <td>2.601793</td>\n",
       "      <td>-0.459758</td>\n",
       "      <td>-0.205136</td>\n",
       "      <td>1.083318</td>\n",
       "      <td>0.585191</td>\n",
       "      <td>3.596270</td>\n",
       "      <td>-0.412762</td>\n",
       "      <td>-0.354681</td>\n",
       "      <td>-0.231076</td>\n",
       "      <td>-0.529738</td>\n",
       "      <td>0.094948</td>\n",
       "      <td>-0.233371</td>\n",
       "      <td>-0.203334</td>\n",
       "      <td>-0.414898</td>\n",
       "      <td>-0.608511</td>\n",
       "      <td>0.746706</td>\n",
       "      <td>-0.312908</td>\n",
       "      <td>-0.282292</td>\n",
       "      <td>-0.139469</td>\n",
       "      <td>-0.200373</td>\n",
       "      <td>-0.088739</td>\n",
       "      <td>-0.131063</td>\n",
       "      <td>-0.14538</td>\n",
       "      <td>0.23193</td>\n",
       "      <td>-0.312009</td>\n",
       "    </tr>\n",
       "    <tr>\n",
       "      <th>1</th>\n",
       "      <td>1.398141</td>\n",
       "      <td>-0.444187</td>\n",
       "      <td>-2.205458</td>\n",
       "      <td>-0.211824</td>\n",
       "      <td>-0.357808</td>\n",
       "      <td>1.509775</td>\n",
       "      <td>0.924550</td>\n",
       "      <td>-0.977687</td>\n",
       "      <td>-0.200447</td>\n",
       "      <td>-0.288958</td>\n",
       "      <td>-0.652215</td>\n",
       "      <td>-0.275483</td>\n",
       "      <td>2.601793</td>\n",
       "      <td>2.175057</td>\n",
       "      <td>-0.205136</td>\n",
       "      <td>-0.923090</td>\n",
       "      <td>0.585191</td>\n",
       "      <td>-0.278066</td>\n",
       "      <td>-0.412762</td>\n",
       "      <td>-0.354681</td>\n",
       "      <td>-0.231076</td>\n",
       "      <td>-0.529738</td>\n",
       "      <td>-0.557601</td>\n",
       "      <td>-0.233371</td>\n",
       "      <td>-0.320080</td>\n",
       "      <td>-0.414898</td>\n",
       "      <td>-0.608511</td>\n",
       "      <td>-2.059557</td>\n",
       "      <td>-0.312908</td>\n",
       "      <td>1.954437</td>\n",
       "      <td>-0.139469</td>\n",
       "      <td>-0.200373</td>\n",
       "      <td>-0.088739</td>\n",
       "      <td>-0.131063</td>\n",
       "      <td>-0.14538</td>\n",
       "      <td>0.23193</td>\n",
       "      <td>-0.312009</td>\n",
       "    </tr>\n",
       "    <tr>\n",
       "      <th>2</th>\n",
       "      <td>-0.715235</td>\n",
       "      <td>-0.444187</td>\n",
       "      <td>0.105827</td>\n",
       "      <td>-0.211824</td>\n",
       "      <td>-0.357808</td>\n",
       "      <td>-0.662350</td>\n",
       "      <td>2.069393</td>\n",
       "      <td>-0.977687</td>\n",
       "      <td>-0.200447</td>\n",
       "      <td>-0.288958</td>\n",
       "      <td>1.533238</td>\n",
       "      <td>3.629991</td>\n",
       "      <td>-0.384350</td>\n",
       "      <td>-0.459758</td>\n",
       "      <td>4.874807</td>\n",
       "      <td>1.083318</td>\n",
       "      <td>0.585191</td>\n",
       "      <td>-0.278066</td>\n",
       "      <td>-0.412762</td>\n",
       "      <td>-0.354681</td>\n",
       "      <td>-0.231076</td>\n",
       "      <td>0.923412</td>\n",
       "      <td>0.747496</td>\n",
       "      <td>-0.233371</td>\n",
       "      <td>1.431113</td>\n",
       "      <td>-0.414898</td>\n",
       "      <td>-0.608511</td>\n",
       "      <td>0.185453</td>\n",
       "      <td>-0.312908</td>\n",
       "      <td>0.463284</td>\n",
       "      <td>-0.139469</td>\n",
       "      <td>-0.200373</td>\n",
       "      <td>-0.088739</td>\n",
       "      <td>-0.131063</td>\n",
       "      <td>-0.14538</td>\n",
       "      <td>0.23193</td>\n",
       "      <td>-0.312009</td>\n",
       "    </tr>\n",
       "    <tr>\n",
       "      <th>3</th>\n",
       "      <td>1.398141</td>\n",
       "      <td>2.251305</td>\n",
       "      <td>0.055582</td>\n",
       "      <td>-0.211824</td>\n",
       "      <td>-0.357808</td>\n",
       "      <td>-0.662350</td>\n",
       "      <td>-0.220294</td>\n",
       "      <td>1.022823</td>\n",
       "      <td>-0.200447</td>\n",
       "      <td>-0.288958</td>\n",
       "      <td>1.533238</td>\n",
       "      <td>-0.275483</td>\n",
       "      <td>-0.384350</td>\n",
       "      <td>-0.459758</td>\n",
       "      <td>-0.205136</td>\n",
       "      <td>1.083318</td>\n",
       "      <td>-1.708845</td>\n",
       "      <td>-0.278066</td>\n",
       "      <td>-0.412762</td>\n",
       "      <td>-0.354681</td>\n",
       "      <td>-0.231076</td>\n",
       "      <td>-0.529738</td>\n",
       "      <td>-0.883875</td>\n",
       "      <td>-0.233371</td>\n",
       "      <td>0.263651</td>\n",
       "      <td>-0.414898</td>\n",
       "      <td>1.643356</td>\n",
       "      <td>-1.498305</td>\n",
       "      <td>-0.312908</td>\n",
       "      <td>-0.282292</td>\n",
       "      <td>-0.139469</td>\n",
       "      <td>-0.200373</td>\n",
       "      <td>-0.088739</td>\n",
       "      <td>-0.131063</td>\n",
       "      <td>-0.14538</td>\n",
       "      <td>0.23193</td>\n",
       "      <td>-0.312009</td>\n",
       "    </tr>\n",
       "    <tr>\n",
       "      <th>4</th>\n",
       "      <td>1.398141</td>\n",
       "      <td>-0.444187</td>\n",
       "      <td>0.206318</td>\n",
       "      <td>-0.211824</td>\n",
       "      <td>-0.357808</td>\n",
       "      <td>-0.662350</td>\n",
       "      <td>-0.220294</td>\n",
       "      <td>1.022823</td>\n",
       "      <td>-0.200447</td>\n",
       "      <td>-0.288958</td>\n",
       "      <td>-0.652215</td>\n",
       "      <td>-0.275483</td>\n",
       "      <td>2.601793</td>\n",
       "      <td>-0.459758</td>\n",
       "      <td>-0.205136</td>\n",
       "      <td>1.083318</td>\n",
       "      <td>0.585191</td>\n",
       "      <td>-0.278066</td>\n",
       "      <td>-0.412762</td>\n",
       "      <td>-0.354681</td>\n",
       "      <td>-0.231076</td>\n",
       "      <td>-0.529738</td>\n",
       "      <td>-0.557601</td>\n",
       "      <td>-0.233371</td>\n",
       "      <td>2.014844</td>\n",
       "      <td>-0.414898</td>\n",
       "      <td>-0.608511</td>\n",
       "      <td>-2.059557</td>\n",
       "      <td>-0.312908</td>\n",
       "      <td>-0.282292</td>\n",
       "      <td>-0.139469</td>\n",
       "      <td>4.990687</td>\n",
       "      <td>-0.088739</td>\n",
       "      <td>-0.131063</td>\n",
       "      <td>-0.14538</td>\n",
       "      <td>0.23193</td>\n",
       "      <td>-0.312009</td>\n",
       "    </tr>\n",
       "  </tbody>\n",
       "</table>\n",
       "</div>"
      ],
      "text/plain": [
       "   age_adult  diag_3_Diabetes  num_lab_procedures  number_emergency  \\\n",
       "0  -0.715235        -0.444187            0.708771         -0.211824   \n",
       "1   1.398141        -0.444187           -2.205458         -0.211824   \n",
       "2  -0.715235        -0.444187            0.105827         -0.211824   \n",
       "3   1.398141         2.251305            0.055582         -0.211824   \n",
       "4   1.398141        -0.444187            0.206318         -0.211824   \n",
       "\n",
       "   diag_2_Respiratory  diag_3_Others  num_procedures  readmitted_Yes  \\\n",
       "0           -0.357808      -0.662350        2.069393       -0.977687   \n",
       "1           -0.357808       1.509775        0.924550       -0.977687   \n",
       "2           -0.357808      -0.662350        2.069393       -0.977687   \n",
       "3           -0.357808      -0.662350       -0.220294        1.022823   \n",
       "4           -0.357808      -0.662350       -0.220294        1.022823   \n",
       "\n",
       "   diag_3_Digestive  diag_3_Respiratory  change_No  diag_1_Injury  \\\n",
       "0         -0.200447           -0.288958  -0.652215      -0.275483   \n",
       "1         -0.200447           -0.288958  -0.652215      -0.275483   \n",
       "2         -0.200447           -0.288958   1.533238       3.629991   \n",
       "3         -0.200447           -0.288958   1.533238      -0.275483   \n",
       "4         -0.200447           -0.288958  -0.652215      -0.275483   \n",
       "\n",
       "   diag_2_Diabetes  diag_1_Others  diag_2_Digestive  gender_Male  \\\n",
       "0         2.601793      -0.459758         -0.205136     1.083318   \n",
       "1         2.601793       2.175057         -0.205136    -0.923090   \n",
       "2        -0.384350      -0.459758          4.874807     1.083318   \n",
       "3        -0.384350      -0.459758         -0.205136     1.083318   \n",
       "4         2.601793      -0.459758         -0.205136     1.083318   \n",
       "\n",
       "   race_Caucasian  diag_3_Genitourinary  diag_1_Respiratory  diag_1_Diabetes  \\\n",
       "0        0.585191              3.596270           -0.412762        -0.354681   \n",
       "1        0.585191             -0.278066           -0.412762        -0.354681   \n",
       "2        0.585191             -0.278066           -0.412762        -0.354681   \n",
       "3       -1.708845             -0.278066           -0.412762        -0.354681   \n",
       "4        0.585191             -0.278066           -0.412762        -0.354681   \n",
       "\n",
       "   A1Cresult_Norm  number_inpatient  time_in_hospital  diag_1_Genitourinary  \\\n",
       "0       -0.231076         -0.529738          0.094948             -0.233371   \n",
       "1       -0.231076         -0.529738         -0.557601             -0.233371   \n",
       "2       -0.231076          0.923412          0.747496             -0.233371   \n",
       "3       -0.231076         -0.529738         -0.883875             -0.233371   \n",
       "4       -0.231076         -0.529738         -0.557601             -0.233371   \n",
       "\n",
       "   num_medications  A1Cresult_Not Normal  diag_2_Others  number_diagnoses  \\\n",
       "0        -0.203334             -0.414898      -0.608511          0.746706   \n",
       "1        -0.320080             -0.414898      -0.608511         -2.059557   \n",
       "2         1.431113             -0.414898      -0.608511          0.185453   \n",
       "3         0.263651             -0.414898       1.643356         -1.498305   \n",
       "4         2.014844             -0.414898      -0.608511         -2.059557   \n",
       "\n",
       "   diag_2_Genitourinary  number_outpatient  diag_3_Muscoloskeletal  \\\n",
       "0             -0.312908          -0.282292               -0.139469   \n",
       "1             -0.312908           1.954437               -0.139469   \n",
       "2             -0.312908           0.463284               -0.139469   \n",
       "3             -0.312908          -0.282292               -0.139469   \n",
       "4             -0.312908          -0.282292               -0.139469   \n",
       "\n",
       "   diag_1_Muscoloskeletal  age_child  race_Other  race_Hispanic  \\\n",
       "0               -0.200373  -0.088739   -0.131063       -0.14538   \n",
       "1               -0.200373  -0.088739   -0.131063       -0.14538   \n",
       "2               -0.200373  -0.088739   -0.131063       -0.14538   \n",
       "3               -0.200373  -0.088739   -0.131063       -0.14538   \n",
       "4                4.990687  -0.088739   -0.131063       -0.14538   \n",
       "\n",
       "   max_glu_serum_None  diag_1_Digestive  \n",
       "0             0.23193         -0.312009  \n",
       "1             0.23193         -0.312009  \n",
       "2             0.23193         -0.312009  \n",
       "3             0.23193         -0.312009  \n",
       "4             0.23193         -0.312009  "
      ]
     },
     "execution_count": 13,
     "metadata": {
      "tags": []
     },
     "output_type": "execute_result"
    }
   ],
   "source": [
    "Xtest_t = st.transform(Xtest)\n",
    "Xtest_t=pd.DataFrame(Xtest_t,columns=x.columns)\n",
    "Xtest_t.head()"
   ]
  },
  {
   "cell_type": "code",
   "execution_count": 9,
   "metadata": {
    "id": "bx9xuEXVLK-n"
   },
   "outputs": [],
   "source": [
    "from sklearn.metrics import classification_report,accuracy_score,roc_auc_score,roc_curve"
   ]
  },
  {
   "cell_type": "markdown",
   "metadata": {
    "id": "DE55Q0uWMfFY"
   },
   "source": [
    "# Logistic"
   ]
  },
  {
   "cell_type": "code",
   "execution_count": 14,
   "metadata": {
    "id": "Gaweuy32LK7R"
   },
   "outputs": [],
   "source": [
    "from sklearn.linear_model import LogisticRegression\n",
    "\n",
    "Logistic = LogisticRegression()"
   ]
  },
  {
   "cell_type": "markdown",
   "metadata": {
    "id": "25I5AgoiMufK"
   },
   "source": [
    "# RandomForest"
   ]
  },
  {
   "cell_type": "code",
   "execution_count": 15,
   "metadata": {
    "id": "swbTISt0Ly3s"
   },
   "outputs": [],
   "source": [
    "from sklearn.ensemble import RandomForestClassifier\n",
    "RandomForest=RandomForestClassifier(**{'criterion': 'entropy',\n",
    " 'max_depth': 9,\n",
    " 'max_features': 7,\n",
    " 'min_samples_leaf': 1,\n",
    " 'min_samples_split': 14,\n",
    " 'n_estimators': 143})"
   ]
  },
  {
   "cell_type": "markdown",
   "metadata": {
    "id": "82G20xIMOxtw"
   },
   "source": [
    "# AdaBoostClassifier + DT"
   ]
  },
  {
   "cell_type": "code",
   "execution_count": 16,
   "metadata": {
    "id": "Ng2zrq2qLy9T"
   },
   "outputs": [],
   "source": [
    "from sklearn.ensemble import AdaBoostClassifier\n",
    "from sklearn.tree import DecisionTreeClassifier\n",
    "wldt=DecisionTreeClassifier(max_depth=1,random_state=0)\n",
    "AdaDt = AdaBoostClassifier(base_estimator=wldt, n_estimators=10,random_state=0)"
   ]
  },
  {
   "cell_type": "markdown",
   "metadata": {
    "id": "AIg-yctwPIVW"
   },
   "source": [
    "# AdaBoostClassifier + LR"
   ]
  },
  {
   "cell_type": "code",
   "execution_count": 17,
   "metadata": {
    "id": "UTM7uDurLy7Z"
   },
   "outputs": [],
   "source": [
    "from sklearn.ensemble import AdaBoostClassifier\n",
    "wllr=LogisticRegression()\n",
    "Adalr= AdaBoostClassifier(base_estimator=wllr, n_estimators=10,random_state=0)"
   ]
  },
  {
   "cell_type": "markdown",
   "metadata": {
    "id": "FPNmBEvTPT0L"
   },
   "source": [
    "# AdaBoostClassifier + RF"
   ]
  },
  {
   "cell_type": "code",
   "execution_count": 18,
   "metadata": {
    "id": "-cDPqWVFLy1z"
   },
   "outputs": [],
   "source": [
    "wlrfc=RandomForestClassifier(**{'criterion': 'entropy',\n",
    " 'max_depth': 9,\n",
    " 'max_features': 7,\n",
    " 'min_samples_leaf': 1,\n",
    " 'min_samples_split': 14,\n",
    " 'n_estimators': 143})\n",
    "Adarf= AdaBoostClassifier(base_estimator=wlrfc, n_estimators=10,random_state=0)"
   ]
  },
  {
   "cell_type": "markdown",
   "metadata": {
    "id": "GWpR1vouP5xj"
   },
   "source": [
    "# KNN"
   ]
  },
  {
   "cell_type": "code",
   "execution_count": 19,
   "metadata": {
    "id": "elFrtJu7LK5l"
   },
   "outputs": [],
   "source": [
    "from sklearn.neighbors import KNeighborsClassifier\n",
    "\n",
    "\n",
    "knn=KNeighborsClassifier(n_neighbors=84)"
   ]
  },
  {
   "cell_type": "markdown",
   "metadata": {
    "id": "vIOr68FKQQE1"
   },
   "source": [
    "# Naive base (Gaussian)"
   ]
  },
  {
   "cell_type": "code",
   "execution_count": 26,
   "metadata": {
    "id": "w2Li2b9zQOl-"
   },
   "outputs": [],
   "source": [
    "from sklearn.naive_bayes import GaussianNB\n",
    "\n",
    "gnb = GaussianNB()"
   ]
  },
  {
   "cell_type": "markdown",
   "metadata": {
    "id": "eQUlloFOQw5W"
   },
   "source": [
    "# lightgbm"
   ]
  },
  {
   "cell_type": "code",
   "execution_count": 21,
   "metadata": {
    "id": "C8kKEx6fQY0_"
   },
   "outputs": [],
   "source": [
    "import lightgbm as lgb\n",
    "lgbm=lgb.LGBMClassifier(**{'learning_rate': 0.06166429060260803,\n",
    " 'max_depth': 7,\n",
    " 'n_estimators': 197,\n",
    " 'num_leaves': 30})"
   ]
  },
  {
   "cell_type": "markdown",
   "metadata": {
    "id": "Nq7oxVfFRVjA"
   },
   "source": [
    "# GradientBoosting"
   ]
  },
  {
   "cell_type": "code",
   "execution_count": 29,
   "metadata": {
    "id": "KulH7Re1ROsA"
   },
   "outputs": [],
   "source": [
    "from sklearn.ensemble import GradientBoostingClassifier\n",
    "\n",
    "gdBoost = GradientBoostingClassifier(**{'learning_rate': 0.05910829321971095,\n",
    " 'max_depth': 6,\n",
    " 'min_samples_leaf': 3,\n",
    " 'min_samples_split': 8,\n",
    " 'n_estimators': 185})"
   ]
  },
  {
   "cell_type": "markdown",
   "metadata": {
    "id": "fxl-K8QBRlB8"
   },
   "source": [
    "# XG boost"
   ]
  },
  {
   "cell_type": "code",
   "execution_count": 23,
   "metadata": {
    "id": "UhXZ4spRRgtr"
   },
   "outputs": [],
   "source": [
    "from xgboost import XGBClassifier\n",
    "xgBoost = XGBClassifier(**{'colsample_bytree': 0.4987836786350899,\n",
    " 'gamma': 0.4732024405692034,\n",
    " 'learning_rate': 0.35046469326049906,\n",
    " 'max_depth': 3,\n",
    " 'min_child_weight': 6,\n",
    " 'n_estimators': 85})"
   ]
  },
  {
   "cell_type": "markdown",
   "metadata": {
    "id": "qDWXzvuNS9oJ"
   },
   "source": [
    "# For all the model Bias~Varience analysis"
   ]
  },
  {
   "cell_type": "markdown",
   "metadata": {
    "id": "jg2CLBOdUfBx"
   },
   "source": [
    "###AUC"
   ]
  },
  {
   "cell_type": "code",
   "execution_count": 96,
   "metadata": {
    "colab": {
     "base_uri": "https://localhost:8080/",
     "height": 355
    },
    "id": "cr2X2aXZRgz3",
    "outputId": "2831c225-8e85-417c-d5f6-faeee389273d"
   },
   "outputs": [
    {
     "data": {
      "text/html": [
       "<div>\n",
       "<style scoped>\n",
       "    .dataframe tbody tr th:only-of-type {\n",
       "        vertical-align: middle;\n",
       "    }\n",
       "\n",
       "    .dataframe tbody tr th {\n",
       "        vertical-align: top;\n",
       "    }\n",
       "\n",
       "    .dataframe thead th {\n",
       "        text-align: right;\n",
       "    }\n",
       "</style>\n",
       "<table border=\"1\" class=\"dataframe\">\n",
       "  <thead>\n",
       "    <tr style=\"text-align: right;\">\n",
       "      <th></th>\n",
       "      <th>logistic</th>\n",
       "      <th>RandomForest</th>\n",
       "      <th>AdaBoost+DT</th>\n",
       "      <th>AdaBoost+LR</th>\n",
       "      <th>AdaBoost+RF</th>\n",
       "      <th>KNN</th>\n",
       "      <th>Naive base</th>\n",
       "      <th>LGBM</th>\n",
       "      <th>GradientBoost</th>\n",
       "      <th>XGboost</th>\n",
       "    </tr>\n",
       "  </thead>\n",
       "  <tbody>\n",
       "    <tr>\n",
       "      <th>0</th>\n",
       "      <td>0.837005</td>\n",
       "      <td>0.834936</td>\n",
       "      <td>0.827886</td>\n",
       "      <td>0.835949</td>\n",
       "      <td>0.839538</td>\n",
       "      <td>0.814917</td>\n",
       "      <td>0.822932</td>\n",
       "      <td>0.839992</td>\n",
       "      <td>0.839276</td>\n",
       "      <td>0.839492</td>\n",
       "    </tr>\n",
       "    <tr>\n",
       "      <th>1</th>\n",
       "      <td>0.828109</td>\n",
       "      <td>0.833475</td>\n",
       "      <td>0.819891</td>\n",
       "      <td>0.823878</td>\n",
       "      <td>0.834640</td>\n",
       "      <td>0.803795</td>\n",
       "      <td>0.813205</td>\n",
       "      <td>0.836490</td>\n",
       "      <td>0.837023</td>\n",
       "      <td>0.835396</td>\n",
       "    </tr>\n",
       "    <tr>\n",
       "      <th>2</th>\n",
       "      <td>0.840946</td>\n",
       "      <td>0.840233</td>\n",
       "      <td>0.827704</td>\n",
       "      <td>0.835570</td>\n",
       "      <td>0.851186</td>\n",
       "      <td>0.818698</td>\n",
       "      <td>0.822624</td>\n",
       "      <td>0.848295</td>\n",
       "      <td>0.846409</td>\n",
       "      <td>0.844279</td>\n",
       "    </tr>\n",
       "    <tr>\n",
       "      <th>3</th>\n",
       "      <td>0.833736</td>\n",
       "      <td>0.835639</td>\n",
       "      <td>0.825923</td>\n",
       "      <td>0.830302</td>\n",
       "      <td>0.835824</td>\n",
       "      <td>0.811765</td>\n",
       "      <td>0.811493</td>\n",
       "      <td>0.838650</td>\n",
       "      <td>0.835754</td>\n",
       "      <td>0.833356</td>\n",
       "    </tr>\n",
       "    <tr>\n",
       "      <th>4</th>\n",
       "      <td>0.841065</td>\n",
       "      <td>0.842243</td>\n",
       "      <td>0.831221</td>\n",
       "      <td>0.840279</td>\n",
       "      <td>0.849499</td>\n",
       "      <td>0.813996</td>\n",
       "      <td>0.824152</td>\n",
       "      <td>0.847226</td>\n",
       "      <td>0.847277</td>\n",
       "      <td>0.846370</td>\n",
       "    </tr>\n",
       "    <tr>\n",
       "      <th>5</th>\n",
       "      <td>0.830900</td>\n",
       "      <td>0.837279</td>\n",
       "      <td>0.824561</td>\n",
       "      <td>0.831111</td>\n",
       "      <td>0.844757</td>\n",
       "      <td>0.805807</td>\n",
       "      <td>0.818925</td>\n",
       "      <td>0.842837</td>\n",
       "      <td>0.841201</td>\n",
       "      <td>0.836847</td>\n",
       "    </tr>\n",
       "    <tr>\n",
       "      <th>6</th>\n",
       "      <td>0.828430</td>\n",
       "      <td>0.833605</td>\n",
       "      <td>0.818855</td>\n",
       "      <td>0.829698</td>\n",
       "      <td>0.836828</td>\n",
       "      <td>0.808668</td>\n",
       "      <td>0.818024</td>\n",
       "      <td>0.836322</td>\n",
       "      <td>0.836635</td>\n",
       "      <td>0.837661</td>\n",
       "    </tr>\n",
       "    <tr>\n",
       "      <th>7</th>\n",
       "      <td>0.821839</td>\n",
       "      <td>0.826298</td>\n",
       "      <td>0.817100</td>\n",
       "      <td>0.819521</td>\n",
       "      <td>0.831925</td>\n",
       "      <td>0.797706</td>\n",
       "      <td>0.804489</td>\n",
       "      <td>0.830795</td>\n",
       "      <td>0.831281</td>\n",
       "      <td>0.827606</td>\n",
       "    </tr>\n",
       "    <tr>\n",
       "      <th>8</th>\n",
       "      <td>0.850272</td>\n",
       "      <td>0.850253</td>\n",
       "      <td>0.835772</td>\n",
       "      <td>0.846698</td>\n",
       "      <td>0.852852</td>\n",
       "      <td>0.830048</td>\n",
       "      <td>0.828593</td>\n",
       "      <td>0.855245</td>\n",
       "      <td>0.853811</td>\n",
       "      <td>0.855690</td>\n",
       "    </tr>\n",
       "    <tr>\n",
       "      <th>9</th>\n",
       "      <td>0.828215</td>\n",
       "      <td>0.832956</td>\n",
       "      <td>0.821163</td>\n",
       "      <td>0.825762</td>\n",
       "      <td>0.838713</td>\n",
       "      <td>0.809179</td>\n",
       "      <td>0.812717</td>\n",
       "      <td>0.838146</td>\n",
       "      <td>0.836647</td>\n",
       "      <td>0.838111</td>\n",
       "    </tr>\n",
       "  </tbody>\n",
       "</table>\n",
       "</div>"
      ],
      "text/plain": [
       "   logistic  RandomForest  AdaBoost+DT  AdaBoost+LR  AdaBoost+RF       KNN  \\\n",
       "0  0.837005      0.834936     0.827886     0.835949     0.839538  0.814917   \n",
       "1  0.828109      0.833475     0.819891     0.823878     0.834640  0.803795   \n",
       "2  0.840946      0.840233     0.827704     0.835570     0.851186  0.818698   \n",
       "3  0.833736      0.835639     0.825923     0.830302     0.835824  0.811765   \n",
       "4  0.841065      0.842243     0.831221     0.840279     0.849499  0.813996   \n",
       "5  0.830900      0.837279     0.824561     0.831111     0.844757  0.805807   \n",
       "6  0.828430      0.833605     0.818855     0.829698     0.836828  0.808668   \n",
       "7  0.821839      0.826298     0.817100     0.819521     0.831925  0.797706   \n",
       "8  0.850272      0.850253     0.835772     0.846698     0.852852  0.830048   \n",
       "9  0.828215      0.832956     0.821163     0.825762     0.838713  0.809179   \n",
       "\n",
       "   Naive base      LGBM  GradientBoost   XGboost  \n",
       "0    0.822932  0.839992       0.839276  0.839492  \n",
       "1    0.813205  0.836490       0.837023  0.835396  \n",
       "2    0.822624  0.848295       0.846409  0.844279  \n",
       "3    0.811493  0.838650       0.835754  0.833356  \n",
       "4    0.824152  0.847226       0.847277  0.846370  \n",
       "5    0.818925  0.842837       0.841201  0.836847  \n",
       "6    0.818024  0.836322       0.836635  0.837661  \n",
       "7    0.804489  0.830795       0.831281  0.827606  \n",
       "8    0.828593  0.855245       0.853811  0.855690  \n",
       "9    0.812717  0.838146       0.836647  0.838111  "
      ]
     },
     "execution_count": 96,
     "metadata": {
      "tags": []
     },
     "output_type": "execute_result"
    }
   ],
   "source": [
    "from sklearn.model_selection import cross_val_score,KFold\n",
    "\n",
    "kf = KFold(n_splits=10, shuffle=False, random_state=0)\n",
    "\n",
    "model = [ Logistic  , RandomForest , AdaDt ,Adalr,Adarf,knn,gnb,lgbm , gdBoost , xgBoost ]\n",
    "model_name = ['logistic','RandomForest','AdaBoost+DT','AdaBoost+LR','AdaBoost+RF','KNN','Naive base','LGBM' , 'GradientBoost','XGboost']\n",
    "\n",
    "\n",
    "AUC_score_dic = {}\n",
    "for i , j in zip(model,model_name):\n",
    "  sc = cross_val_score(i , Xtrain_t , ytrain , scoring='roc_auc',cv=kf)\n",
    "  AUC_score_dic[j]=sc\n",
    "\n",
    "AUC_score_df = pd.DataFrame(AUC_score_dic)\n",
    "AUC_score_df"
   ]
  },
  {
   "cell_type": "code",
   "execution_count": 98,
   "metadata": {
    "id": "Y4i-T11vxqzx"
   },
   "outputs": [],
   "source": [
    "AUC_score_df.to_csv('AUC_score_df.csv')"
   ]
  },
  {
   "cell_type": "code",
   "execution_count": 72,
   "metadata": {
    "colab": {
     "base_uri": "https://localhost:8080/"
    },
    "id": "4VTqFnB4dEz7",
    "outputId": "2d4d348b-115d-4833-edb1-91a5c1c4f582"
   },
   "outputs": [
    {
     "data": {
      "text/plain": [
       "AdaBoost+RF      0.841576\n",
       "LGBM             0.841400\n",
       "GradientBoost    0.840742\n",
       "XGboost          0.839481\n",
       "RandomForest     0.836701\n",
       "logistic         0.834052\n",
       "AdaBoost+LR      0.831877\n",
       "AdaBoost+DT      0.825008\n",
       "Naive base       0.817715\n",
       "KNN              0.811458\n",
       "dtype: float64"
      ]
     },
     "execution_count": 72,
     "metadata": {
      "tags": []
     },
     "output_type": "execute_result"
    }
   ],
   "source": [
    "AUC_score_df.mean().sort_values(ascending=False)"
   ]
  },
  {
   "cell_type": "code",
   "execution_count": 42,
   "metadata": {
    "id": "jBJ6yEu4dtqu"
   },
   "outputs": [],
   "source": [
    "AUC_score_df=AUC_score_df[list(AUC_score_df.median().sort_values().index)]"
   ]
  },
  {
   "cell_type": "code",
   "execution_count": 60,
   "metadata": {
    "colab": {
     "base_uri": "https://localhost:8080/",
     "height": 492
    },
    "id": "eN_9EJddcsq0",
    "outputId": "efee0e3c-a32b-4b90-bf3b-59b56554570c"
   },
   "outputs": [
    {
     "data": {
      "image/png": "[encoded data removed]",
      "text/plain": [
       "<Figure size 1440x576 with 1 Axes>"
      ]
     },
     "metadata": {
      "needs_background": "light",
      "tags": []
     },
     "output_type": "display_data"
    }
   ],
   "source": [
    "plt.figure(figsize=(20,8))\n",
    "AUC_score_df.boxplot()\n",
    "plt.ylabel('AUC Scores')\n",
    "plt.xlabel('Models')\n",
    "plt.show()"
   ]
  },
  {
   "cell_type": "code",
   "execution_count": 76,
   "metadata": {
    "colab": {
     "base_uri": "https://localhost:8080/"
    },
    "id": "eaLKnyBEcs89",
    "outputId": "ffa3ada5-0e80-4804-99f6-b73e4f9bd510"
   },
   "outputs": [
    {
     "data": {
      "text/plain": [
       "AdaBoost+RF      0.158424\n",
       "LGBM             0.158600\n",
       "GradientBoost    0.159258\n",
       "XGboost          0.160519\n",
       "RandomForest     0.163299\n",
       "logistic         0.165948\n",
       "AdaBoost+LR      0.168123\n",
       "AdaBoost+DT      0.174992\n",
       "Naive base       0.182285\n",
       "KNN              0.188542\n",
       "dtype: float64"
      ]
     },
     "execution_count": 76,
     "metadata": {
      "tags": []
     },
     "output_type": "execute_result"
    }
   ],
   "source": [
    "bias =1-AUC_score_df.mean().sort_values(ascending=False)\n",
    "bias"
   ]
  },
  {
   "cell_type": "code",
   "execution_count": 52,
   "metadata": {
    "colab": {
     "base_uri": "https://localhost:8080/"
    },
    "id": "cjuoYnR6evtT",
    "outputId": "b64f608f-1cb7-410c-e476-0dbf486cc2f9"
   },
   "outputs": [
    {
     "data": {
      "text/plain": [
       "AdaBoost+RF    0.158424\n",
       "dtype: float64"
      ]
     },
     "execution_count": 52,
     "metadata": {
      "tags": []
     },
     "output_type": "execute_result"
    }
   ],
   "source": [
    "bias[bias==bias.min()]"
   ]
  },
  {
   "cell_type": "code",
   "execution_count": 67,
   "metadata": {
    "id": "99H6B67LcsoZ"
   },
   "outputs": [],
   "source": [
    "bias_df = pd.DataFrame(bias).reset_index()\n",
    "bias_df.columns = ['Models','Bias error']"
   ]
  },
  {
   "cell_type": "code",
   "execution_count": 68,
   "metadata": {
    "colab": {
     "base_uri": "https://localhost:8080/",
     "height": 355
    },
    "id": "mIelJMKufhH-",
    "outputId": "210231fd-c08d-4d7a-cf81-3207c1ad4a1a"
   },
   "outputs": [
    {
     "data": {
      "text/html": [
       "<div>\n",
       "<style scoped>\n",
       "    .dataframe tbody tr th:only-of-type {\n",
       "        vertical-align: middle;\n",
       "    }\n",
       "\n",
       "    .dataframe tbody tr th {\n",
       "        vertical-align: top;\n",
       "    }\n",
       "\n",
       "    .dataframe thead th {\n",
       "        text-align: right;\n",
       "    }\n",
       "</style>\n",
       "<table border=\"1\" class=\"dataframe\">\n",
       "  <thead>\n",
       "    <tr style=\"text-align: right;\">\n",
       "      <th></th>\n",
       "      <th>Models</th>\n",
       "      <th>Bias error</th>\n",
       "    </tr>\n",
       "  </thead>\n",
       "  <tbody>\n",
       "    <tr>\n",
       "      <th>8</th>\n",
       "      <td>AdaBoost+RF</td>\n",
       "      <td>0.158424</td>\n",
       "    </tr>\n",
       "    <tr>\n",
       "      <th>9</th>\n",
       "      <td>LGBM</td>\n",
       "      <td>0.158600</td>\n",
       "    </tr>\n",
       "    <tr>\n",
       "      <th>7</th>\n",
       "      <td>GradientBoost</td>\n",
       "      <td>0.159258</td>\n",
       "    </tr>\n",
       "    <tr>\n",
       "      <th>6</th>\n",
       "      <td>XGboost</td>\n",
       "      <td>0.160519</td>\n",
       "    </tr>\n",
       "    <tr>\n",
       "      <th>5</th>\n",
       "      <td>RandomForest</td>\n",
       "      <td>0.163299</td>\n",
       "    </tr>\n",
       "    <tr>\n",
       "      <th>4</th>\n",
       "      <td>logistic</td>\n",
       "      <td>0.165948</td>\n",
       "    </tr>\n",
       "    <tr>\n",
       "      <th>3</th>\n",
       "      <td>AdaBoost+LR</td>\n",
       "      <td>0.168123</td>\n",
       "    </tr>\n",
       "    <tr>\n",
       "      <th>2</th>\n",
       "      <td>AdaBoost+DT</td>\n",
       "      <td>0.174992</td>\n",
       "    </tr>\n",
       "    <tr>\n",
       "      <th>1</th>\n",
       "      <td>Naive base</td>\n",
       "      <td>0.182285</td>\n",
       "    </tr>\n",
       "    <tr>\n",
       "      <th>0</th>\n",
       "      <td>KNN</td>\n",
       "      <td>0.188542</td>\n",
       "    </tr>\n",
       "  </tbody>\n",
       "</table>\n",
       "</div>"
      ],
      "text/plain": [
       "          Models  Bias error\n",
       "8    AdaBoost+RF    0.158424\n",
       "9           LGBM    0.158600\n",
       "7  GradientBoost    0.159258\n",
       "6        XGboost    0.160519\n",
       "5   RandomForest    0.163299\n",
       "4       logistic    0.165948\n",
       "3    AdaBoost+LR    0.168123\n",
       "2    AdaBoost+DT    0.174992\n",
       "1     Naive base    0.182285\n",
       "0            KNN    0.188542"
      ]
     },
     "execution_count": 68,
     "metadata": {
      "tags": []
     },
     "output_type": "execute_result"
    }
   ],
   "source": [
    "bias_df = bias_df.sort_values('Bias error',ascending=True)\n",
    "bias_df"
   ]
  },
  {
   "cell_type": "code",
   "execution_count": 69,
   "metadata": {
    "colab": {
     "base_uri": "https://localhost:8080/",
     "height": 388
    },
    "id": "ymhHoUcvfj6f",
    "outputId": "2253d913-5ae9-48b4-c59d-65fac28893f6"
   },
   "outputs": [
    {
     "data": {
      "image/png": "[encoded data removed]",
      "text/plain": [
       "<Figure size 1080x432 with 1 Axes>"
      ]
     },
     "metadata": {
      "needs_background": "light",
      "tags": []
     },
     "output_type": "display_data"
    }
   ],
   "source": [
    "plt.figure(figsize=(15,6))\n",
    "sns.barplot(x=bias_df['Models'],y = bias_df['Bias error']);"
   ]
  },
  {
   "cell_type": "code",
   "execution_count": 65,
   "metadata": {
    "colab": {
     "base_uri": "https://localhost:8080/"
    },
    "id": "9DVgaHs4htkF",
    "outputId": "9d7e348d-af3c-44de-b346-983054306841"
   },
   "outputs": [
    {
     "data": {
      "text/plain": [
       "KNN              0.008877\n",
       "Naive base       0.007239\n",
       "AdaBoost+DT      0.005892\n",
       "AdaBoost+LR      0.008044\n",
       "logistic         0.008358\n",
       "RandomForest     0.006284\n",
       "XGboost          0.007750\n",
       "GradientBoost    0.006929\n",
       "AdaBoost+RF      0.007466\n",
       "LGBM             0.007131\n",
       "dtype: float64"
      ]
     },
     "execution_count": 65,
     "metadata": {
      "tags": []
     },
     "output_type": "execute_result"
    }
   ],
   "source": [
    "variance = AUC_score_df.std()\n",
    "variance"
   ]
  },
  {
   "cell_type": "code",
   "execution_count": 81,
   "metadata": {
    "colab": {
     "base_uri": "https://localhost:8080/",
     "height": 395
    },
    "id": "b1G15lEDjgzi",
    "outputId": "c0f8b021-5aa4-4cf8-92a8-ca52cbb1ac4e"
   },
   "outputs": [
    {
     "data": {
      "image/png": "[encoded data removed]",
      "text/plain": [
       "<Figure size 1080x360 with 1 Axes>"
      ]
     },
     "metadata": {
      "needs_background": "light",
      "tags": []
     },
     "output_type": "display_data"
    }
   ],
   "source": [
    "plt.figure(figsize=(15,5))\n",
    "variance.sort_values().plot(kind='bar')\n",
    "plt.ylabel('Varience error')\n",
    "plt.xlabel('Models')\n",
    "plt.show()"
   ]
  },
  {
   "cell_type": "markdown",
   "metadata": {
    "id": "8hkW-8X0ZWNo"
   },
   "source": [
    "# accuracy"
   ]
  },
  {
   "cell_type": "code",
   "execution_count": 82,
   "metadata": {
    "colab": {
     "base_uri": "https://localhost:8080/",
     "height": 355
    },
    "id": "DT9TFBbQRgxg",
    "outputId": "89bef6ec-d920-47df-e43c-c8dac5aba492"
   },
   "outputs": [
    {
     "data": {
      "text/html": [
       "<div>\n",
       "<style scoped>\n",
       "    .dataframe tbody tr th:only-of-type {\n",
       "        vertical-align: middle;\n",
       "    }\n",
       "\n",
       "    .dataframe tbody tr th {\n",
       "        vertical-align: top;\n",
       "    }\n",
       "\n",
       "    .dataframe thead th {\n",
       "        text-align: right;\n",
       "    }\n",
       "</style>\n",
       "<table border=\"1\" class=\"dataframe\">\n",
       "  <thead>\n",
       "    <tr style=\"text-align: right;\">\n",
       "      <th></th>\n",
       "      <th>logistic</th>\n",
       "      <th>RandomForest</th>\n",
       "      <th>AdaBoost+DT</th>\n",
       "      <th>AdaBoost+LR</th>\n",
       "      <th>AdaBoost+RF</th>\n",
       "      <th>KNN</th>\n",
       "      <th>Naive base</th>\n",
       "      <th>LGBM</th>\n",
       "      <th>GradientBoost</th>\n",
       "      <th>XGboost</th>\n",
       "    </tr>\n",
       "  </thead>\n",
       "  <tbody>\n",
       "    <tr>\n",
       "      <th>0</th>\n",
       "      <td>0.751919</td>\n",
       "      <td>0.759046</td>\n",
       "      <td>0.747533</td>\n",
       "      <td>0.752467</td>\n",
       "      <td>0.754112</td>\n",
       "      <td>0.733553</td>\n",
       "      <td>0.739583</td>\n",
       "      <td>0.754934</td>\n",
       "      <td>0.759046</td>\n",
       "      <td>0.756579</td>\n",
       "    </tr>\n",
       "    <tr>\n",
       "      <th>1</th>\n",
       "      <td>0.753838</td>\n",
       "      <td>0.751371</td>\n",
       "      <td>0.741776</td>\n",
       "      <td>0.753838</td>\n",
       "      <td>0.755757</td>\n",
       "      <td>0.729441</td>\n",
       "      <td>0.733827</td>\n",
       "      <td>0.755208</td>\n",
       "      <td>0.755757</td>\n",
       "      <td>0.757950</td>\n",
       "    </tr>\n",
       "    <tr>\n",
       "      <th>2</th>\n",
       "      <td>0.771930</td>\n",
       "      <td>0.766447</td>\n",
       "      <td>0.752467</td>\n",
       "      <td>0.764254</td>\n",
       "      <td>0.770833</td>\n",
       "      <td>0.743969</td>\n",
       "      <td>0.755482</td>\n",
       "      <td>0.770833</td>\n",
       "      <td>0.767818</td>\n",
       "      <td>0.763980</td>\n",
       "    </tr>\n",
       "    <tr>\n",
       "      <th>3</th>\n",
       "      <td>0.759868</td>\n",
       "      <td>0.758224</td>\n",
       "      <td>0.748355</td>\n",
       "      <td>0.752467</td>\n",
       "      <td>0.754660</td>\n",
       "      <td>0.738761</td>\n",
       "      <td>0.737116</td>\n",
       "      <td>0.759046</td>\n",
       "      <td>0.758498</td>\n",
       "      <td>0.754934</td>\n",
       "    </tr>\n",
       "    <tr>\n",
       "      <th>4</th>\n",
       "      <td>0.757675</td>\n",
       "      <td>0.758224</td>\n",
       "      <td>0.756853</td>\n",
       "      <td>0.757127</td>\n",
       "      <td>0.764803</td>\n",
       "      <td>0.734649</td>\n",
       "      <td>0.748904</td>\n",
       "      <td>0.763706</td>\n",
       "      <td>0.764254</td>\n",
       "      <td>0.762884</td>\n",
       "    </tr>\n",
       "    <tr>\n",
       "      <th>5</th>\n",
       "      <td>0.762061</td>\n",
       "      <td>0.773575</td>\n",
       "      <td>0.760691</td>\n",
       "      <td>0.754934</td>\n",
       "      <td>0.771107</td>\n",
       "      <td>0.732730</td>\n",
       "      <td>0.742599</td>\n",
       "      <td>0.768914</td>\n",
       "      <td>0.770011</td>\n",
       "      <td>0.769463</td>\n",
       "    </tr>\n",
       "    <tr>\n",
       "      <th>6</th>\n",
       "      <td>0.746711</td>\n",
       "      <td>0.753289</td>\n",
       "      <td>0.742599</td>\n",
       "      <td>0.745066</td>\n",
       "      <td>0.761513</td>\n",
       "      <td>0.732182</td>\n",
       "      <td>0.727522</td>\n",
       "      <td>0.759320</td>\n",
       "      <td>0.756031</td>\n",
       "      <td>0.754386</td>\n",
       "    </tr>\n",
       "    <tr>\n",
       "      <th>7</th>\n",
       "      <td>0.740060</td>\n",
       "      <td>0.736770</td>\n",
       "      <td>0.732657</td>\n",
       "      <td>0.740609</td>\n",
       "      <td>0.749109</td>\n",
       "      <td>0.722237</td>\n",
       "      <td>0.716753</td>\n",
       "      <td>0.747738</td>\n",
       "      <td>0.746915</td>\n",
       "      <td>0.743625</td>\n",
       "    </tr>\n",
       "    <tr>\n",
       "      <th>8</th>\n",
       "      <td>0.768303</td>\n",
       "      <td>0.767206</td>\n",
       "      <td>0.757335</td>\n",
       "      <td>0.761996</td>\n",
       "      <td>0.775158</td>\n",
       "      <td>0.746093</td>\n",
       "      <td>0.746093</td>\n",
       "      <td>0.772141</td>\n",
       "      <td>0.772690</td>\n",
       "      <td>0.774335</td>\n",
       "    </tr>\n",
       "    <tr>\n",
       "      <th>9</th>\n",
       "      <td>0.746915</td>\n",
       "      <td>0.749657</td>\n",
       "      <td>0.745544</td>\n",
       "      <td>0.747189</td>\n",
       "      <td>0.754319</td>\n",
       "      <td>0.728818</td>\n",
       "      <td>0.728544</td>\n",
       "      <td>0.760077</td>\n",
       "      <td>0.757061</td>\n",
       "      <td>0.755415</td>\n",
       "    </tr>\n",
       "  </tbody>\n",
       "</table>\n",
       "</div>"
      ],
      "text/plain": [
       "   logistic  RandomForest  AdaBoost+DT  AdaBoost+LR  AdaBoost+RF       KNN  \\\n",
       "0  0.751919      0.759046     0.747533     0.752467     0.754112  0.733553   \n",
       "1  0.753838      0.751371     0.741776     0.753838     0.755757  0.729441   \n",
       "2  0.771930      0.766447     0.752467     0.764254     0.770833  0.743969   \n",
       "3  0.759868      0.758224     0.748355     0.752467     0.754660  0.738761   \n",
       "4  0.757675      0.758224     0.756853     0.757127     0.764803  0.734649   \n",
       "5  0.762061      0.773575     0.760691     0.754934     0.771107  0.732730   \n",
       "6  0.746711      0.753289     0.742599     0.745066     0.761513  0.732182   \n",
       "7  0.740060      0.736770     0.732657     0.740609     0.749109  0.722237   \n",
       "8  0.768303      0.767206     0.757335     0.761996     0.775158  0.746093   \n",
       "9  0.746915      0.749657     0.745544     0.747189     0.754319  0.728818   \n",
       "\n",
       "   Naive base      LGBM  GradientBoost   XGboost  \n",
       "0    0.739583  0.754934       0.759046  0.756579  \n",
       "1    0.733827  0.755208       0.755757  0.757950  \n",
       "2    0.755482  0.770833       0.767818  0.763980  \n",
       "3    0.737116  0.759046       0.758498  0.754934  \n",
       "4    0.748904  0.763706       0.764254  0.762884  \n",
       "5    0.742599  0.768914       0.770011  0.769463  \n",
       "6    0.727522  0.759320       0.756031  0.754386  \n",
       "7    0.716753  0.747738       0.746915  0.743625  \n",
       "8    0.746093  0.772141       0.772690  0.774335  \n",
       "9    0.728544  0.760077       0.757061  0.755415  "
      ]
     },
     "execution_count": 82,
     "metadata": {
      "tags": []
     },
     "output_type": "execute_result"
    }
   ],
   "source": [
    "from sklearn.model_selection import cross_val_score,KFold\n",
    "\n",
    "kf = KFold(n_splits=10, shuffle=False, random_state=0)\n",
    "\n",
    "model = [ Logistic  , RandomForest , AdaDt ,Adalr,Adarf,knn,gnb,lgbm , gdBoost , xgBoost ]\n",
    "model_name = ['logistic','RandomForest','AdaBoost+DT','AdaBoost+LR','AdaBoost+RF','KNN','Naive base','LGBM' , 'GradientBoost','XGboost']\n",
    "\n",
    "\n",
    "accuracy_score_dic = {}\n",
    "for i , j in zip(model,model_name):\n",
    "  sc = cross_val_score(i , Xtrain_t , ytrain , scoring='accuracy',cv=kf)\n",
    "  accuracy_score_dic[j]=sc\n",
    "\n",
    "accuracy_score_df = pd.DataFrame(accuracy_score_dic)\n",
    "accuracy_score_df"
   ]
  },
  {
   "cell_type": "code",
   "execution_count": 87,
   "metadata": {
    "id": "aQC-i0SEmT1I"
   },
   "outputs": [],
   "source": [
    "accuracy_score_df.to_csv('accuracy_score_df.csv')"
   ]
  },
  {
   "cell_type": "markdown",
   "metadata": {
    "id": "yOFbcMoVapPX"
   },
   "source": [
    "# f1_weighted"
   ]
  },
  {
   "cell_type": "code",
   "execution_count": 83,
   "metadata": {
    "colab": {
     "base_uri": "https://localhost:8080/",
     "height": 355
    },
    "id": "ZAI2-gIqaNXW",
    "outputId": "91d191d0-e13d-49ab-8dad-04f4f715756c"
   },
   "outputs": [
    {
     "data": {
      "text/html": [
       "<div>\n",
       "<style scoped>\n",
       "    .dataframe tbody tr th:only-of-type {\n",
       "        vertical-align: middle;\n",
       "    }\n",
       "\n",
       "    .dataframe tbody tr th {\n",
       "        vertical-align: top;\n",
       "    }\n",
       "\n",
       "    .dataframe thead th {\n",
       "        text-align: right;\n",
       "    }\n",
       "</style>\n",
       "<table border=\"1\" class=\"dataframe\">\n",
       "  <thead>\n",
       "    <tr style=\"text-align: right;\">\n",
       "      <th></th>\n",
       "      <th>logistic</th>\n",
       "      <th>RandomForest</th>\n",
       "      <th>AdaBoost+DT</th>\n",
       "      <th>AdaBoost+LR</th>\n",
       "      <th>AdaBoost+RF</th>\n",
       "      <th>KNN</th>\n",
       "      <th>Naive base</th>\n",
       "      <th>LGBM</th>\n",
       "      <th>GradientBoost</th>\n",
       "      <th>XGboost</th>\n",
       "    </tr>\n",
       "  </thead>\n",
       "  <tbody>\n",
       "    <tr>\n",
       "      <th>0</th>\n",
       "      <td>0.751119</td>\n",
       "      <td>0.757067</td>\n",
       "      <td>0.746812</td>\n",
       "      <td>0.753010</td>\n",
       "      <td>0.754086</td>\n",
       "      <td>0.734333</td>\n",
       "      <td>0.731299</td>\n",
       "      <td>0.754681</td>\n",
       "      <td>0.758730</td>\n",
       "      <td>0.756457</td>\n",
       "    </tr>\n",
       "    <tr>\n",
       "      <th>1</th>\n",
       "      <td>0.754240</td>\n",
       "      <td>0.751857</td>\n",
       "      <td>0.741823</td>\n",
       "      <td>0.755309</td>\n",
       "      <td>0.756884</td>\n",
       "      <td>0.731053</td>\n",
       "      <td>0.727803</td>\n",
       "      <td>0.756155</td>\n",
       "      <td>0.756592</td>\n",
       "      <td>0.758900</td>\n",
       "    </tr>\n",
       "    <tr>\n",
       "      <th>2</th>\n",
       "      <td>0.771166</td>\n",
       "      <td>0.765530</td>\n",
       "      <td>0.751335</td>\n",
       "      <td>0.764598</td>\n",
       "      <td>0.770764</td>\n",
       "      <td>0.744383</td>\n",
       "      <td>0.747656</td>\n",
       "      <td>0.770568</td>\n",
       "      <td>0.767424</td>\n",
       "      <td>0.763842</td>\n",
       "    </tr>\n",
       "    <tr>\n",
       "      <th>3</th>\n",
       "      <td>0.759288</td>\n",
       "      <td>0.752207</td>\n",
       "      <td>0.747357</td>\n",
       "      <td>0.753176</td>\n",
       "      <td>0.754861</td>\n",
       "      <td>0.739521</td>\n",
       "      <td>0.728663</td>\n",
       "      <td>0.759055</td>\n",
       "      <td>0.758320</td>\n",
       "      <td>0.754934</td>\n",
       "    </tr>\n",
       "    <tr>\n",
       "      <th>4</th>\n",
       "      <td>0.756852</td>\n",
       "      <td>0.755933</td>\n",
       "      <td>0.755375</td>\n",
       "      <td>0.757435</td>\n",
       "      <td>0.764500</td>\n",
       "      <td>0.735148</td>\n",
       "      <td>0.740629</td>\n",
       "      <td>0.763146</td>\n",
       "      <td>0.766555</td>\n",
       "      <td>0.762499</td>\n",
       "    </tr>\n",
       "    <tr>\n",
       "      <th>5</th>\n",
       "      <td>0.761175</td>\n",
       "      <td>0.767781</td>\n",
       "      <td>0.759215</td>\n",
       "      <td>0.755275</td>\n",
       "      <td>0.770995</td>\n",
       "      <td>0.733302</td>\n",
       "      <td>0.734123</td>\n",
       "      <td>0.768638</td>\n",
       "      <td>0.769541</td>\n",
       "      <td>0.769065</td>\n",
       "    </tr>\n",
       "    <tr>\n",
       "      <th>6</th>\n",
       "      <td>0.745987</td>\n",
       "      <td>0.752063</td>\n",
       "      <td>0.741376</td>\n",
       "      <td>0.745803</td>\n",
       "      <td>0.761620</td>\n",
       "      <td>0.732989</td>\n",
       "      <td>0.718116</td>\n",
       "      <td>0.758986</td>\n",
       "      <td>0.755876</td>\n",
       "      <td>0.754045</td>\n",
       "    </tr>\n",
       "    <tr>\n",
       "      <th>7</th>\n",
       "      <td>0.739547</td>\n",
       "      <td>0.740365</td>\n",
       "      <td>0.731976</td>\n",
       "      <td>0.741575</td>\n",
       "      <td>0.749451</td>\n",
       "      <td>0.723439</td>\n",
       "      <td>0.708262</td>\n",
       "      <td>0.748132</td>\n",
       "      <td>0.747027</td>\n",
       "      <td>0.743805</td>\n",
       "    </tr>\n",
       "    <tr>\n",
       "      <th>8</th>\n",
       "      <td>0.768252</td>\n",
       "      <td>0.764701</td>\n",
       "      <td>0.757226</td>\n",
       "      <td>0.762860</td>\n",
       "      <td>0.775593</td>\n",
       "      <td>0.747044</td>\n",
       "      <td>0.738833</td>\n",
       "      <td>0.772472</td>\n",
       "      <td>0.772863</td>\n",
       "      <td>0.774580</td>\n",
       "    </tr>\n",
       "    <tr>\n",
       "      <th>9</th>\n",
       "      <td>0.747182</td>\n",
       "      <td>0.750029</td>\n",
       "      <td>0.745355</td>\n",
       "      <td>0.748419</td>\n",
       "      <td>0.754887</td>\n",
       "      <td>0.730208</td>\n",
       "      <td>0.721107</td>\n",
       "      <td>0.760671</td>\n",
       "      <td>0.757417</td>\n",
       "      <td>0.755948</td>\n",
       "    </tr>\n",
       "  </tbody>\n",
       "</table>\n",
       "</div>"
      ],
      "text/plain": [
       "   logistic  RandomForest  AdaBoost+DT  AdaBoost+LR  AdaBoost+RF       KNN  \\\n",
       "0  0.751119      0.757067     0.746812     0.753010     0.754086  0.734333   \n",
       "1  0.754240      0.751857     0.741823     0.755309     0.756884  0.731053   \n",
       "2  0.771166      0.765530     0.751335     0.764598     0.770764  0.744383   \n",
       "3  0.759288      0.752207     0.747357     0.753176     0.754861  0.739521   \n",
       "4  0.756852      0.755933     0.755375     0.757435     0.764500  0.735148   \n",
       "5  0.761175      0.767781     0.759215     0.755275     0.770995  0.733302   \n",
       "6  0.745987      0.752063     0.741376     0.745803     0.761620  0.732989   \n",
       "7  0.739547      0.740365     0.731976     0.741575     0.749451  0.723439   \n",
       "8  0.768252      0.764701     0.757226     0.762860     0.775593  0.747044   \n",
       "9  0.747182      0.750029     0.745355     0.748419     0.754887  0.730208   \n",
       "\n",
       "   Naive base      LGBM  GradientBoost   XGboost  \n",
       "0    0.731299  0.754681       0.758730  0.756457  \n",
       "1    0.727803  0.756155       0.756592  0.758900  \n",
       "2    0.747656  0.770568       0.767424  0.763842  \n",
       "3    0.728663  0.759055       0.758320  0.754934  \n",
       "4    0.740629  0.763146       0.766555  0.762499  \n",
       "5    0.734123  0.768638       0.769541  0.769065  \n",
       "6    0.718116  0.758986       0.755876  0.754045  \n",
       "7    0.708262  0.748132       0.747027  0.743805  \n",
       "8    0.738833  0.772472       0.772863  0.774580  \n",
       "9    0.721107  0.760671       0.757417  0.755948  "
      ]
     },
     "execution_count": 83,
     "metadata": {
      "tags": []
     },
     "output_type": "execute_result"
    }
   ],
   "source": [
    "from sklearn.model_selection import cross_val_score,KFold\n",
    "\n",
    "kf = KFold(n_splits=10, shuffle=False, random_state=0)\n",
    "\n",
    "model = [ Logistic  , RandomForest , AdaDt ,Adalr,Adarf,knn,gnb,lgbm , gdBoost , xgBoost ]\n",
    "model_name = ['logistic','RandomForest','AdaBoost+DT','AdaBoost+LR','AdaBoost+RF','KNN','Naive base','LGBM' , 'GradientBoost','XGboost']\n",
    "\n",
    "\n",
    "f1_weighted_score_dic = {}\n",
    "for i , j in zip(model,model_name):\n",
    "  sc = cross_val_score(i , Xtrain_t , ytrain , scoring='f1_weighted',cv=kf)\n",
    "  f1_weighted_score_dic[j]=sc\n",
    "\n",
    "f1_weighted_score_df = pd.DataFrame(f1_weighted_score_dic)\n",
    "f1_weighted_score_df"
   ]
  },
  {
   "cell_type": "code",
   "execution_count": 88,
   "metadata": {
    "id": "S8yUPgg0yBxS"
   },
   "outputs": [],
   "source": [
    "f1_weighted_score_df.to_csv('f1_weighted_score_df.csv')"
   ]
  },
  {
   "cell_type": "markdown",
   "metadata": {
    "id": "efeg_Tz-bkIX"
   },
   "source": [
    "# precision"
   ]
  },
  {
   "cell_type": "code",
   "execution_count": 84,
   "metadata": {
    "colab": {
     "base_uri": "https://localhost:8080/",
     "height": 355
    },
    "id": "rckjAuRtRe3i",
    "outputId": "47c3a02f-319c-49db-d193-1c8ec2429ffe"
   },
   "outputs": [
    {
     "data": {
      "text/html": [
       "<div>\n",
       "<style scoped>\n",
       "    .dataframe tbody tr th:only-of-type {\n",
       "        vertical-align: middle;\n",
       "    }\n",
       "\n",
       "    .dataframe tbody tr th {\n",
       "        vertical-align: top;\n",
       "    }\n",
       "\n",
       "    .dataframe thead th {\n",
       "        text-align: right;\n",
       "    }\n",
       "</style>\n",
       "<table border=\"1\" class=\"dataframe\">\n",
       "  <thead>\n",
       "    <tr style=\"text-align: right;\">\n",
       "      <th></th>\n",
       "      <th>logistic</th>\n",
       "      <th>RandomForest</th>\n",
       "      <th>AdaBoost+DT</th>\n",
       "      <th>AdaBoost+LR</th>\n",
       "      <th>AdaBoost+RF</th>\n",
       "      <th>KNN</th>\n",
       "      <th>Naive base</th>\n",
       "      <th>LGBM</th>\n",
       "      <th>GradientBoost</th>\n",
       "      <th>XGboost</th>\n",
       "    </tr>\n",
       "  </thead>\n",
       "  <tbody>\n",
       "    <tr>\n",
       "      <th>0</th>\n",
       "      <td>0.880370</td>\n",
       "      <td>0.910926</td>\n",
       "      <td>0.873110</td>\n",
       "      <td>0.845831</td>\n",
       "      <td>0.864695</td>\n",
       "      <td>0.818449</td>\n",
       "      <td>0.985940</td>\n",
       "      <td>0.871483</td>\n",
       "      <td>0.877970</td>\n",
       "      <td>0.870089</td>\n",
       "    </tr>\n",
       "    <tr>\n",
       "      <th>1</th>\n",
       "      <td>0.895311</td>\n",
       "      <td>0.913885</td>\n",
       "      <td>0.889691</td>\n",
       "      <td>0.860574</td>\n",
       "      <td>0.876063</td>\n",
       "      <td>0.834701</td>\n",
       "      <td>0.983306</td>\n",
       "      <td>0.881481</td>\n",
       "      <td>0.885430</td>\n",
       "      <td>0.884094</td>\n",
       "    </tr>\n",
       "    <tr>\n",
       "      <th>2</th>\n",
       "      <td>0.886719</td>\n",
       "      <td>0.905256</td>\n",
       "      <td>0.870113</td>\n",
       "      <td>0.844009</td>\n",
       "      <td>0.865884</td>\n",
       "      <td>0.820543</td>\n",
       "      <td>0.991289</td>\n",
       "      <td>0.871859</td>\n",
       "      <td>0.871909</td>\n",
       "      <td>0.860162</td>\n",
       "    </tr>\n",
       "    <tr>\n",
       "      <th>3</th>\n",
       "      <td>0.893939</td>\n",
       "      <td>0.912587</td>\n",
       "      <td>0.888291</td>\n",
       "      <td>0.849791</td>\n",
       "      <td>0.868043</td>\n",
       "      <td>0.834429</td>\n",
       "      <td>0.992914</td>\n",
       "      <td>0.878250</td>\n",
       "      <td>0.882466</td>\n",
       "      <td>0.873731</td>\n",
       "    </tr>\n",
       "    <tr>\n",
       "      <th>4</th>\n",
       "      <td>0.875000</td>\n",
       "      <td>0.903887</td>\n",
       "      <td>0.887984</td>\n",
       "      <td>0.843750</td>\n",
       "      <td>0.870886</td>\n",
       "      <td>0.813830</td>\n",
       "      <td>0.990317</td>\n",
       "      <td>0.876289</td>\n",
       "      <td>0.875000</td>\n",
       "      <td>0.870783</td>\n",
       "    </tr>\n",
       "    <tr>\n",
       "      <th>5</th>\n",
       "      <td>0.884058</td>\n",
       "      <td>0.919548</td>\n",
       "      <td>0.895167</td>\n",
       "      <td>0.842548</td>\n",
       "      <td>0.874922</td>\n",
       "      <td>0.811654</td>\n",
       "      <td>0.982379</td>\n",
       "      <td>0.877137</td>\n",
       "      <td>0.883751</td>\n",
       "      <td>0.881150</td>\n",
       "    </tr>\n",
       "    <tr>\n",
       "      <th>6</th>\n",
       "      <td>0.884232</td>\n",
       "      <td>0.915842</td>\n",
       "      <td>0.888813</td>\n",
       "      <td>0.845876</td>\n",
       "      <td>0.882353</td>\n",
       "      <td>0.830732</td>\n",
       "      <td>0.990950</td>\n",
       "      <td>0.891205</td>\n",
       "      <td>0.882807</td>\n",
       "      <td>0.885342</td>\n",
       "    </tr>\n",
       "    <tr>\n",
       "      <th>7</th>\n",
       "      <td>0.896156</td>\n",
       "      <td>0.927536</td>\n",
       "      <td>0.889946</td>\n",
       "      <td>0.862600</td>\n",
       "      <td>0.888175</td>\n",
       "      <td>0.837591</td>\n",
       "      <td>0.983156</td>\n",
       "      <td>0.885330</td>\n",
       "      <td>0.891134</td>\n",
       "      <td>0.885714</td>\n",
       "    </tr>\n",
       "    <tr>\n",
       "      <th>8</th>\n",
       "      <td>0.887056</td>\n",
       "      <td>0.907992</td>\n",
       "      <td>0.875796</td>\n",
       "      <td>0.847359</td>\n",
       "      <td>0.878880</td>\n",
       "      <td>0.829001</td>\n",
       "      <td>0.988841</td>\n",
       "      <td>0.879459</td>\n",
       "      <td>0.885287</td>\n",
       "      <td>0.884758</td>\n",
       "    </tr>\n",
       "    <tr>\n",
       "      <th>9</th>\n",
       "      <td>0.877473</td>\n",
       "      <td>0.912923</td>\n",
       "      <td>0.886483</td>\n",
       "      <td>0.848235</td>\n",
       "      <td>0.877653</td>\n",
       "      <td>0.825656</td>\n",
       "      <td>0.981034</td>\n",
       "      <td>0.883012</td>\n",
       "      <td>0.886565</td>\n",
       "      <td>0.879850</td>\n",
       "    </tr>\n",
       "  </tbody>\n",
       "</table>\n",
       "</div>"
      ],
      "text/plain": [
       "   logistic  RandomForest  AdaBoost+DT  AdaBoost+LR  AdaBoost+RF       KNN  \\\n",
       "0  0.880370      0.910926     0.873110     0.845831     0.864695  0.818449   \n",
       "1  0.895311      0.913885     0.889691     0.860574     0.876063  0.834701   \n",
       "2  0.886719      0.905256     0.870113     0.844009     0.865884  0.820543   \n",
       "3  0.893939      0.912587     0.888291     0.849791     0.868043  0.834429   \n",
       "4  0.875000      0.903887     0.887984     0.843750     0.870886  0.813830   \n",
       "5  0.884058      0.919548     0.895167     0.842548     0.874922  0.811654   \n",
       "6  0.884232      0.915842     0.888813     0.845876     0.882353  0.830732   \n",
       "7  0.896156      0.927536     0.889946     0.862600     0.888175  0.837591   \n",
       "8  0.887056      0.907992     0.875796     0.847359     0.878880  0.829001   \n",
       "9  0.877473      0.912923     0.886483     0.848235     0.877653  0.825656   \n",
       "\n",
       "   Naive base      LGBM  GradientBoost   XGboost  \n",
       "0    0.985940  0.871483       0.877970  0.870089  \n",
       "1    0.983306  0.881481       0.885430  0.884094  \n",
       "2    0.991289  0.871859       0.871909  0.860162  \n",
       "3    0.992914  0.878250       0.882466  0.873731  \n",
       "4    0.990317  0.876289       0.875000  0.870783  \n",
       "5    0.982379  0.877137       0.883751  0.881150  \n",
       "6    0.990950  0.891205       0.882807  0.885342  \n",
       "7    0.983156  0.885330       0.891134  0.885714  \n",
       "8    0.988841  0.879459       0.885287  0.884758  \n",
       "9    0.981034  0.883012       0.886565  0.879850  "
      ]
     },
     "execution_count": 84,
     "metadata": {
      "tags": []
     },
     "output_type": "execute_result"
    }
   ],
   "source": [
    "from sklearn.model_selection import cross_val_score,KFold\n",
    "\n",
    "kf = KFold(n_splits=10, shuffle=False, random_state=0)\n",
    "\n",
    "model = [ Logistic  , RandomForest , AdaDt ,Adalr,Adarf,knn,gnb,lgbm , gdBoost , xgBoost ]\n",
    "model_name = ['logistic','RandomForest','AdaBoost+DT','AdaBoost+LR','AdaBoost+RF','KNN','Naive base','LGBM' , 'GradientBoost','XGboost']\n",
    "\n",
    "\n",
    "precision_score_dic = {}\n",
    "for i , j in zip(model,model_name):\n",
    "  sc = cross_val_score(i , Xtrain_t , ytrain , scoring='precision',cv=kf)\n",
    "  precision_score_dic[j]=sc\n",
    "\n",
    "precision_score_df = pd.DataFrame(precision_score_dic)\n",
    "precision_score_df"
   ]
  },
  {
   "cell_type": "code",
   "execution_count": 89,
   "metadata": {
    "id": "5vZMG6IKyI_D"
   },
   "outputs": [],
   "source": [
    "precision_score_df.to_csv('precision_score_df.csv')"
   ]
  },
  {
   "cell_type": "markdown",
   "metadata": {
    "id": "ZEHsByYLcBUR"
   },
   "source": [
    "# recall"
   ]
  },
  {
   "cell_type": "code",
   "execution_count": 85,
   "metadata": {
    "colab": {
     "base_uri": "https://localhost:8080/",
     "height": 355
    },
    "id": "h_0qHyz1R3Gz",
    "outputId": "0dc3d429-d7b5-47b3-8545-0fe60db4d7fa"
   },
   "outputs": [
    {
     "data": {
      "text/html": [
       "<div>\n",
       "<style scoped>\n",
       "    .dataframe tbody tr th:only-of-type {\n",
       "        vertical-align: middle;\n",
       "    }\n",
       "\n",
       "    .dataframe tbody tr th {\n",
       "        vertical-align: top;\n",
       "    }\n",
       "\n",
       "    .dataframe thead th {\n",
       "        text-align: right;\n",
       "    }\n",
       "</style>\n",
       "<table border=\"1\" class=\"dataframe\">\n",
       "  <thead>\n",
       "    <tr style=\"text-align: right;\">\n",
       "      <th></th>\n",
       "      <th>logistic</th>\n",
       "      <th>RandomForest</th>\n",
       "      <th>AdaBoost+DT</th>\n",
       "      <th>AdaBoost+LR</th>\n",
       "      <th>AdaBoost+RF</th>\n",
       "      <th>KNN</th>\n",
       "      <th>Naive base</th>\n",
       "      <th>LGBM</th>\n",
       "      <th>GradientBoost</th>\n",
       "      <th>XGboost</th>\n",
       "    </tr>\n",
       "  </thead>\n",
       "  <tbody>\n",
       "    <tr>\n",
       "      <th>0</th>\n",
       "      <td>0.647860</td>\n",
       "      <td>0.649319</td>\n",
       "      <td>0.645914</td>\n",
       "      <td>0.685798</td>\n",
       "      <td>0.668288</td>\n",
       "      <td>0.677529</td>\n",
       "      <td>0.545720</td>\n",
       "      <td>0.662938</td>\n",
       "      <td>0.664883</td>\n",
       "      <td>0.667802</td>\n",
       "    </tr>\n",
       "    <tr>\n",
       "      <th>1</th>\n",
       "      <td>0.654767</td>\n",
       "      <td>0.644434</td>\n",
       "      <td>0.636449</td>\n",
       "      <td>0.689995</td>\n",
       "      <td>0.677313</td>\n",
       "      <td>0.668859</td>\n",
       "      <td>0.553311</td>\n",
       "      <td>0.670737</td>\n",
       "      <td>0.667919</td>\n",
       "      <td>0.673556</td>\n",
       "    </tr>\n",
       "    <tr>\n",
       "      <th>2</th>\n",
       "      <td>0.674257</td>\n",
       "      <td>0.652475</td>\n",
       "      <td>0.650000</td>\n",
       "      <td>0.704455</td>\n",
       "      <td>0.693564</td>\n",
       "      <td>0.688119</td>\n",
       "      <td>0.563366</td>\n",
       "      <td>0.687129</td>\n",
       "      <td>0.680693</td>\n",
       "      <td>0.685149</td>\n",
       "    </tr>\n",
       "    <tr>\n",
       "      <th>3</th>\n",
       "      <td>0.654923</td>\n",
       "      <td>0.635618</td>\n",
       "      <td>0.637066</td>\n",
       "      <td>0.685328</td>\n",
       "      <td>0.669884</td>\n",
       "      <td>0.673745</td>\n",
       "      <td>0.541023</td>\n",
       "      <td>0.668436</td>\n",
       "      <td>0.663127</td>\n",
       "      <td>0.664575</td>\n",
       "    </tr>\n",
       "    <tr>\n",
       "      <th>4</th>\n",
       "      <td>0.658621</td>\n",
       "      <td>0.630542</td>\n",
       "      <td>0.644335</td>\n",
       "      <td>0.691626</td>\n",
       "      <td>0.677833</td>\n",
       "      <td>0.678325</td>\n",
       "      <td>0.554187</td>\n",
       "      <td>0.669951</td>\n",
       "      <td>0.672414</td>\n",
       "      <td>0.673892</td>\n",
       "    </tr>\n",
       "    <tr>\n",
       "      <th>5</th>\n",
       "      <td>0.659784</td>\n",
       "      <td>0.650934</td>\n",
       "      <td>0.646509</td>\n",
       "      <td>0.689282</td>\n",
       "      <td>0.687807</td>\n",
       "      <td>0.677974</td>\n",
       "      <td>0.548181</td>\n",
       "      <td>0.680924</td>\n",
       "      <td>0.676500</td>\n",
       "      <td>0.677974</td>\n",
       "    </tr>\n",
       "    <tr>\n",
       "      <th>6</th>\n",
       "      <td>0.639250</td>\n",
       "      <td>0.625301</td>\n",
       "      <td>0.626744</td>\n",
       "      <td>0.675806</td>\n",
       "      <td>0.670996</td>\n",
       "      <td>0.665705</td>\n",
       "      <td>0.526696</td>\n",
       "      <td>0.658009</td>\n",
       "      <td>0.659452</td>\n",
       "      <td>0.653680</td>\n",
       "    </tr>\n",
       "    <tr>\n",
       "      <th>7</th>\n",
       "      <td>0.626001</td>\n",
       "      <td>0.608102</td>\n",
       "      <td>0.617051</td>\n",
       "      <td>0.659444</td>\n",
       "      <td>0.650966</td>\n",
       "      <td>0.648610</td>\n",
       "      <td>0.522374</td>\n",
       "      <td>0.650966</td>\n",
       "      <td>0.643900</td>\n",
       "      <td>0.642487</td>\n",
       "    </tr>\n",
       "    <tr>\n",
       "      <th>8</th>\n",
       "      <td>0.676998</td>\n",
       "      <td>0.652300</td>\n",
       "      <td>0.665860</td>\n",
       "      <td>0.707022</td>\n",
       "      <td>0.699274</td>\n",
       "      <td>0.694915</td>\n",
       "      <td>0.557869</td>\n",
       "      <td>0.692494</td>\n",
       "      <td>0.687651</td>\n",
       "      <td>0.691525</td>\n",
       "    </tr>\n",
       "    <tr>\n",
       "      <th>9</th>\n",
       "      <td>0.652896</td>\n",
       "      <td>0.628680</td>\n",
       "      <td>0.641500</td>\n",
       "      <td>0.684710</td>\n",
       "      <td>0.667616</td>\n",
       "      <td>0.672365</td>\n",
       "      <td>0.540361</td>\n",
       "      <td>0.673789</td>\n",
       "      <td>0.664292</td>\n",
       "      <td>0.667616</td>\n",
       "    </tr>\n",
       "  </tbody>\n",
       "</table>\n",
       "</div>"
      ],
      "text/plain": [
       "   logistic  RandomForest  AdaBoost+DT  AdaBoost+LR  AdaBoost+RF       KNN  \\\n",
       "0  0.647860      0.649319     0.645914     0.685798     0.668288  0.677529   \n",
       "1  0.654767      0.644434     0.636449     0.689995     0.677313  0.668859   \n",
       "2  0.674257      0.652475     0.650000     0.704455     0.693564  0.688119   \n",
       "3  0.654923      0.635618     0.637066     0.685328     0.669884  0.673745   \n",
       "4  0.658621      0.630542     0.644335     0.691626     0.677833  0.678325   \n",
       "5  0.659784      0.650934     0.646509     0.689282     0.687807  0.677974   \n",
       "6  0.639250      0.625301     0.626744     0.675806     0.670996  0.665705   \n",
       "7  0.626001      0.608102     0.617051     0.659444     0.650966  0.648610   \n",
       "8  0.676998      0.652300     0.665860     0.707022     0.699274  0.694915   \n",
       "9  0.652896      0.628680     0.641500     0.684710     0.667616  0.672365   \n",
       "\n",
       "   Naive base      LGBM  GradientBoost   XGboost  \n",
       "0    0.545720  0.662938       0.664883  0.667802  \n",
       "1    0.553311  0.670737       0.667919  0.673556  \n",
       "2    0.563366  0.687129       0.680693  0.685149  \n",
       "3    0.541023  0.668436       0.663127  0.664575  \n",
       "4    0.554187  0.669951       0.672414  0.673892  \n",
       "5    0.548181  0.680924       0.676500  0.677974  \n",
       "6    0.526696  0.658009       0.659452  0.653680  \n",
       "7    0.522374  0.650966       0.643900  0.642487  \n",
       "8    0.557869  0.692494       0.687651  0.691525  \n",
       "9    0.540361  0.673789       0.664292  0.667616  "
      ]
     },
     "execution_count": 85,
     "metadata": {
      "tags": []
     },
     "output_type": "execute_result"
    }
   ],
   "source": [
    "from sklearn.model_selection import cross_val_score,KFold\n",
    "\n",
    "kf = KFold(n_splits=10, shuffle=False, random_state=0)\n",
    "\n",
    "model = [ Logistic  , RandomForest , AdaDt ,Adalr,Adarf,knn,gnb,lgbm , gdBoost , xgBoost ]\n",
    "model_name = ['logistic','RandomForest','AdaBoost+DT','AdaBoost+LR','AdaBoost+RF','KNN','Naive base','LGBM' , 'GradientBoost','XGboost']\n",
    "\n",
    "\n",
    "recall_score_dic = {}\n",
    "for i , j in zip(model,model_name):\n",
    "  sc = cross_val_score(i , Xtrain_t , ytrain , scoring='recall',cv=kf)\n",
    "  recall_score_dic[j]=sc\n",
    "\n",
    "recall_score_df = pd.DataFrame(recall_score_dic)\n",
    "recall_score_df"
   ]
  },
  {
   "cell_type": "code",
   "execution_count": 90,
   "metadata": {
    "id": "jrzYbVcFR3P6"
   },
   "outputs": [],
   "source": [
    "recall_score_df.to_csv('recall_score_df.csv')"
   ]
  },
  {
   "cell_type": "markdown",
   "metadata": {
    "id": "i0VZ8d_Kyx9Y"
   },
   "source": [
    "# All Scores Df"
   ]
  },
  {
   "cell_type": "code",
   "execution_count": 115,
   "metadata": {
    "colab": {
     "base_uri": "https://localhost:8080/",
     "height": 355
    },
    "id": "sm3jLfAuR3Xk",
    "outputId": "29acecc8-4162-43e6-dde5-b8d6def2632c"
   },
   "outputs": [
    {
     "data": {
      "text/html": [
       "<div>\n",
       "<style scoped>\n",
       "    .dataframe tbody tr th:only-of-type {\n",
       "        vertical-align: middle;\n",
       "    }\n",
       "\n",
       "    .dataframe tbody tr th {\n",
       "        vertical-align: top;\n",
       "    }\n",
       "\n",
       "    .dataframe thead th {\n",
       "        text-align: right;\n",
       "    }\n",
       "</style>\n",
       "<table border=\"1\" class=\"dataframe\">\n",
       "  <thead>\n",
       "    <tr style=\"text-align: right;\">\n",
       "      <th></th>\n",
       "      <th>Models</th>\n",
       "      <th>AUC</th>\n",
       "    </tr>\n",
       "  </thead>\n",
       "  <tbody>\n",
       "    <tr>\n",
       "      <th>0</th>\n",
       "      <td>logistic</td>\n",
       "      <td>0.834052</td>\n",
       "    </tr>\n",
       "    <tr>\n",
       "      <th>1</th>\n",
       "      <td>RandomForest</td>\n",
       "      <td>0.836692</td>\n",
       "    </tr>\n",
       "    <tr>\n",
       "      <th>2</th>\n",
       "      <td>AdaBoost+DT</td>\n",
       "      <td>0.825008</td>\n",
       "    </tr>\n",
       "    <tr>\n",
       "      <th>3</th>\n",
       "      <td>AdaBoost+LR</td>\n",
       "      <td>0.831877</td>\n",
       "    </tr>\n",
       "    <tr>\n",
       "      <th>4</th>\n",
       "      <td>AdaBoost+RF</td>\n",
       "      <td>0.841576</td>\n",
       "    </tr>\n",
       "    <tr>\n",
       "      <th>5</th>\n",
       "      <td>KNN</td>\n",
       "      <td>0.811458</td>\n",
       "    </tr>\n",
       "    <tr>\n",
       "      <th>6</th>\n",
       "      <td>Naive base</td>\n",
       "      <td>0.817715</td>\n",
       "    </tr>\n",
       "    <tr>\n",
       "      <th>7</th>\n",
       "      <td>LGBM</td>\n",
       "      <td>0.841400</td>\n",
       "    </tr>\n",
       "    <tr>\n",
       "      <th>8</th>\n",
       "      <td>GradientBoost</td>\n",
       "      <td>0.840531</td>\n",
       "    </tr>\n",
       "    <tr>\n",
       "      <th>9</th>\n",
       "      <td>XGboost</td>\n",
       "      <td>0.839481</td>\n",
       "    </tr>\n",
       "  </tbody>\n",
       "</table>\n",
       "</div>"
      ],
      "text/plain": [
       "          Models       AUC\n",
       "0       logistic  0.834052\n",
       "1   RandomForest  0.836692\n",
       "2    AdaBoost+DT  0.825008\n",
       "3    AdaBoost+LR  0.831877\n",
       "4    AdaBoost+RF  0.841576\n",
       "5            KNN  0.811458\n",
       "6     Naive base  0.817715\n",
       "7           LGBM  0.841400\n",
       "8  GradientBoost  0.840531\n",
       "9        XGboost  0.839481"
      ]
     },
     "execution_count": 115,
     "metadata": {
      "tags": []
     },
     "output_type": "execute_result"
    }
   ],
   "source": [
    "auc=pd.DataFrame(AUC_score_df.mean()).reset_index()\n",
    "auc.columns = ['Models','AUC']\n",
    "auc"
   ]
  },
  {
   "cell_type": "code",
   "execution_count": 108,
   "metadata": {
    "colab": {
     "base_uri": "https://localhost:8080/",
     "height": 355
    },
    "id": "7NIhOE00R3Vw",
    "outputId": "9c1c8eaa-2652-4f0e-c1c9-cd311f456344"
   },
   "outputs": [
    {
     "data": {
      "text/html": [
       "<div>\n",
       "<style scoped>\n",
       "    .dataframe tbody tr th:only-of-type {\n",
       "        vertical-align: middle;\n",
       "    }\n",
       "\n",
       "    .dataframe tbody tr th {\n",
       "        vertical-align: top;\n",
       "    }\n",
       "\n",
       "    .dataframe thead th {\n",
       "        text-align: right;\n",
       "    }\n",
       "</style>\n",
       "<table border=\"1\" class=\"dataframe\">\n",
       "  <thead>\n",
       "    <tr style=\"text-align: right;\">\n",
       "      <th></th>\n",
       "      <th>Models</th>\n",
       "      <th>accuracy</th>\n",
       "    </tr>\n",
       "  </thead>\n",
       "  <tbody>\n",
       "    <tr>\n",
       "      <th>0</th>\n",
       "      <td>logistic</td>\n",
       "      <td>0.755928</td>\n",
       "    </tr>\n",
       "    <tr>\n",
       "      <th>1</th>\n",
       "      <td>RandomForest</td>\n",
       "      <td>0.757381</td>\n",
       "    </tr>\n",
       "    <tr>\n",
       "      <th>2</th>\n",
       "      <td>AdaBoost+DT</td>\n",
       "      <td>0.748581</td>\n",
       "    </tr>\n",
       "    <tr>\n",
       "      <th>3</th>\n",
       "      <td>AdaBoost+LR</td>\n",
       "      <td>0.752995</td>\n",
       "    </tr>\n",
       "    <tr>\n",
       "      <th>4</th>\n",
       "      <td>AdaBoost+RF</td>\n",
       "      <td>0.761137</td>\n",
       "    </tr>\n",
       "    <tr>\n",
       "      <th>5</th>\n",
       "      <td>KNN</td>\n",
       "      <td>0.734243</td>\n",
       "    </tr>\n",
       "    <tr>\n",
       "      <th>6</th>\n",
       "      <td>Naive base</td>\n",
       "      <td>0.737642</td>\n",
       "    </tr>\n",
       "    <tr>\n",
       "      <th>7</th>\n",
       "      <td>LGBM</td>\n",
       "      <td>0.761192</td>\n",
       "    </tr>\n",
       "    <tr>\n",
       "      <th>8</th>\n",
       "      <td>GradientBoost</td>\n",
       "      <td>0.760808</td>\n",
       "    </tr>\n",
       "    <tr>\n",
       "      <th>9</th>\n",
       "      <td>XGboost</td>\n",
       "      <td>0.759355</td>\n",
       "    </tr>\n",
       "  </tbody>\n",
       "</table>\n",
       "</div>"
      ],
      "text/plain": [
       "          Models  accuracy\n",
       "0       logistic  0.755928\n",
       "1   RandomForest  0.757381\n",
       "2    AdaBoost+DT  0.748581\n",
       "3    AdaBoost+LR  0.752995\n",
       "4    AdaBoost+RF  0.761137\n",
       "5            KNN  0.734243\n",
       "6     Naive base  0.737642\n",
       "7           LGBM  0.761192\n",
       "8  GradientBoost  0.760808\n",
       "9        XGboost  0.759355"
      ]
     },
     "execution_count": 108,
     "metadata": {
      "tags": []
     },
     "output_type": "execute_result"
    }
   ],
   "source": [
    "a = pd.DataFrame(accuracy_score_df.mean()).reset_index()\n",
    "a.columns = ['Models','accuracy']\n",
    "a"
   ]
  },
  {
   "cell_type": "code",
   "execution_count": 107,
   "metadata": {
    "colab": {
     "base_uri": "https://localhost:8080/",
     "height": 355
    },
    "id": "UD9J3zQBR3L7",
    "outputId": "0c9eb5b8-1337-4ea1-8e9b-38eb60171779"
   },
   "outputs": [
    {
     "data": {
      "text/html": [
       "<div>\n",
       "<style scoped>\n",
       "    .dataframe tbody tr th:only-of-type {\n",
       "        vertical-align: middle;\n",
       "    }\n",
       "\n",
       "    .dataframe tbody tr th {\n",
       "        vertical-align: top;\n",
       "    }\n",
       "\n",
       "    .dataframe thead th {\n",
       "        text-align: right;\n",
       "    }\n",
       "</style>\n",
       "<table border=\"1\" class=\"dataframe\">\n",
       "  <thead>\n",
       "    <tr style=\"text-align: right;\">\n",
       "      <th></th>\n",
       "      <th>Models</th>\n",
       "      <th>f1_weighted</th>\n",
       "    </tr>\n",
       "  </thead>\n",
       "  <tbody>\n",
       "    <tr>\n",
       "      <th>0</th>\n",
       "      <td>logistic</td>\n",
       "      <td>0.755481</td>\n",
       "    </tr>\n",
       "    <tr>\n",
       "      <th>1</th>\n",
       "      <td>RandomForest</td>\n",
       "      <td>0.755753</td>\n",
       "    </tr>\n",
       "    <tr>\n",
       "      <th>2</th>\n",
       "      <td>AdaBoost+DT</td>\n",
       "      <td>0.747785</td>\n",
       "    </tr>\n",
       "    <tr>\n",
       "      <th>3</th>\n",
       "      <td>AdaBoost+LR</td>\n",
       "      <td>0.753746</td>\n",
       "    </tr>\n",
       "    <tr>\n",
       "      <th>4</th>\n",
       "      <td>AdaBoost+RF</td>\n",
       "      <td>0.761364</td>\n",
       "    </tr>\n",
       "    <tr>\n",
       "      <th>5</th>\n",
       "      <td>KNN</td>\n",
       "      <td>0.735142</td>\n",
       "    </tr>\n",
       "    <tr>\n",
       "      <th>6</th>\n",
       "      <td>Naive base</td>\n",
       "      <td>0.729649</td>\n",
       "    </tr>\n",
       "    <tr>\n",
       "      <th>7</th>\n",
       "      <td>LGBM</td>\n",
       "      <td>0.761250</td>\n",
       "    </tr>\n",
       "    <tr>\n",
       "      <th>8</th>\n",
       "      <td>GradientBoost</td>\n",
       "      <td>0.761035</td>\n",
       "    </tr>\n",
       "    <tr>\n",
       "      <th>9</th>\n",
       "      <td>XGboost</td>\n",
       "      <td>0.759407</td>\n",
       "    </tr>\n",
       "  </tbody>\n",
       "</table>\n",
       "</div>"
      ],
      "text/plain": [
       "          Models  f1_weighted\n",
       "0       logistic     0.755481\n",
       "1   RandomForest     0.755753\n",
       "2    AdaBoost+DT     0.747785\n",
       "3    AdaBoost+LR     0.753746\n",
       "4    AdaBoost+RF     0.761364\n",
       "5            KNN     0.735142\n",
       "6     Naive base     0.729649\n",
       "7           LGBM     0.761250\n",
       "8  GradientBoost     0.761035\n",
       "9        XGboost     0.759407"
      ]
     },
     "execution_count": 107,
     "metadata": {
      "tags": []
     },
     "output_type": "execute_result"
    }
   ],
   "source": [
    "f = pd.DataFrame(f1_weighted_score_df.mean()).reset_index()\n",
    "f.columns = ['Models','f1_weighted']\n",
    "f"
   ]
  },
  {
   "cell_type": "code",
   "execution_count": 106,
   "metadata": {
    "colab": {
     "base_uri": "https://localhost:8080/",
     "height": 355
    },
    "id": "bgfqMXExR3Ev",
    "outputId": "2f289e9e-4347-4dd3-d298-089344c20342"
   },
   "outputs": [
    {
     "data": {
      "text/html": [
       "<div>\n",
       "<style scoped>\n",
       "    .dataframe tbody tr th:only-of-type {\n",
       "        vertical-align: middle;\n",
       "    }\n",
       "\n",
       "    .dataframe tbody tr th {\n",
       "        vertical-align: top;\n",
       "    }\n",
       "\n",
       "    .dataframe thead th {\n",
       "        text-align: right;\n",
       "    }\n",
       "</style>\n",
       "<table border=\"1\" class=\"dataframe\">\n",
       "  <thead>\n",
       "    <tr style=\"text-align: right;\">\n",
       "      <th></th>\n",
       "      <th>Models</th>\n",
       "      <th>precision</th>\n",
       "    </tr>\n",
       "  </thead>\n",
       "  <tbody>\n",
       "    <tr>\n",
       "      <th>0</th>\n",
       "      <td>logistic</td>\n",
       "      <td>0.886031</td>\n",
       "    </tr>\n",
       "    <tr>\n",
       "      <th>1</th>\n",
       "      <td>RandomForest</td>\n",
       "      <td>0.913038</td>\n",
       "    </tr>\n",
       "    <tr>\n",
       "      <th>2</th>\n",
       "      <td>AdaBoost+DT</td>\n",
       "      <td>0.884539</td>\n",
       "    </tr>\n",
       "    <tr>\n",
       "      <th>3</th>\n",
       "      <td>AdaBoost+LR</td>\n",
       "      <td>0.849057</td>\n",
       "    </tr>\n",
       "    <tr>\n",
       "      <th>4</th>\n",
       "      <td>AdaBoost+RF</td>\n",
       "      <td>0.874755</td>\n",
       "    </tr>\n",
       "    <tr>\n",
       "      <th>5</th>\n",
       "      <td>KNN</td>\n",
       "      <td>0.825659</td>\n",
       "    </tr>\n",
       "    <tr>\n",
       "      <th>6</th>\n",
       "      <td>Naive base</td>\n",
       "      <td>0.987013</td>\n",
       "    </tr>\n",
       "    <tr>\n",
       "      <th>7</th>\n",
       "      <td>LGBM</td>\n",
       "      <td>0.879551</td>\n",
       "    </tr>\n",
       "    <tr>\n",
       "      <th>8</th>\n",
       "      <td>GradientBoost</td>\n",
       "      <td>0.882232</td>\n",
       "    </tr>\n",
       "    <tr>\n",
       "      <th>9</th>\n",
       "      <td>XGboost</td>\n",
       "      <td>0.877567</td>\n",
       "    </tr>\n",
       "  </tbody>\n",
       "</table>\n",
       "</div>"
      ],
      "text/plain": [
       "          Models  precision\n",
       "0       logistic   0.886031\n",
       "1   RandomForest   0.913038\n",
       "2    AdaBoost+DT   0.884539\n",
       "3    AdaBoost+LR   0.849057\n",
       "4    AdaBoost+RF   0.874755\n",
       "5            KNN   0.825659\n",
       "6     Naive base   0.987013\n",
       "7           LGBM   0.879551\n",
       "8  GradientBoost   0.882232\n",
       "9        XGboost   0.877567"
      ]
     },
     "execution_count": 106,
     "metadata": {
      "tags": []
     },
     "output_type": "execute_result"
    }
   ],
   "source": [
    "p = pd.DataFrame(precision_score_df.mean()).reset_index()\n",
    "p.columns = ['Models','precision']\n",
    "p"
   ]
  },
  {
   "cell_type": "code",
   "execution_count": 105,
   "metadata": {
    "colab": {
     "base_uri": "https://localhost:8080/",
     "height": 355
    },
    "id": "kU4wsSgRzTR7",
    "outputId": "822a8cfd-0ef8-4429-c7c0-2fceb580c696"
   },
   "outputs": [
    {
     "data": {
      "text/html": [
       "<div>\n",
       "<style scoped>\n",
       "    .dataframe tbody tr th:only-of-type {\n",
       "        vertical-align: middle;\n",
       "    }\n",
       "\n",
       "    .dataframe tbody tr th {\n",
       "        vertical-align: top;\n",
       "    }\n",
       "\n",
       "    .dataframe thead th {\n",
       "        text-align: right;\n",
       "    }\n",
       "</style>\n",
       "<table border=\"1\" class=\"dataframe\">\n",
       "  <thead>\n",
       "    <tr style=\"text-align: right;\">\n",
       "      <th></th>\n",
       "      <th>Models</th>\n",
       "      <th>recall</th>\n",
       "    </tr>\n",
       "  </thead>\n",
       "  <tbody>\n",
       "    <tr>\n",
       "      <th>0</th>\n",
       "      <td>logistic</td>\n",
       "      <td>0.654536</td>\n",
       "    </tr>\n",
       "    <tr>\n",
       "      <th>1</th>\n",
       "      <td>RandomForest</td>\n",
       "      <td>0.637770</td>\n",
       "    </tr>\n",
       "    <tr>\n",
       "      <th>2</th>\n",
       "      <td>AdaBoost+DT</td>\n",
       "      <td>0.641143</td>\n",
       "    </tr>\n",
       "    <tr>\n",
       "      <th>3</th>\n",
       "      <td>AdaBoost+LR</td>\n",
       "      <td>0.687347</td>\n",
       "    </tr>\n",
       "    <tr>\n",
       "      <th>4</th>\n",
       "      <td>AdaBoost+RF</td>\n",
       "      <td>0.676354</td>\n",
       "    </tr>\n",
       "    <tr>\n",
       "      <th>5</th>\n",
       "      <td>KNN</td>\n",
       "      <td>0.674615</td>\n",
       "    </tr>\n",
       "    <tr>\n",
       "      <th>6</th>\n",
       "      <td>Naive base</td>\n",
       "      <td>0.545309</td>\n",
       "    </tr>\n",
       "    <tr>\n",
       "      <th>7</th>\n",
       "      <td>LGBM</td>\n",
       "      <td>0.671537</td>\n",
       "    </tr>\n",
       "    <tr>\n",
       "      <th>8</th>\n",
       "      <td>GradientBoost</td>\n",
       "      <td>0.668083</td>\n",
       "    </tr>\n",
       "    <tr>\n",
       "      <th>9</th>\n",
       "      <td>XGboost</td>\n",
       "      <td>0.669826</td>\n",
       "    </tr>\n",
       "  </tbody>\n",
       "</table>\n",
       "</div>"
      ],
      "text/plain": [
       "          Models    recall\n",
       "0       logistic  0.654536\n",
       "1   RandomForest  0.637770\n",
       "2    AdaBoost+DT  0.641143\n",
       "3    AdaBoost+LR  0.687347\n",
       "4    AdaBoost+RF  0.676354\n",
       "5            KNN  0.674615\n",
       "6     Naive base  0.545309\n",
       "7           LGBM  0.671537\n",
       "8  GradientBoost  0.668083\n",
       "9        XGboost  0.669826"
      ]
     },
     "execution_count": 105,
     "metadata": {
      "tags": []
     },
     "output_type": "execute_result"
    }
   ],
   "source": [
    "r = pd.DataFrame(recall_score_df.mean()).reset_index()\n",
    "r.columns = ['Models','recall']\n",
    "r"
   ]
  },
  {
   "cell_type": "code",
   "execution_count": 120,
   "metadata": {
    "id": "8jhYQ_4z4Bxs"
   },
   "outputs": [],
   "source": [
    "m_result = pd.merge(pd.merge(pd.merge(pd.merge(auc,a),f),p),r)"
   ]
  },
  {
   "cell_type": "code",
   "execution_count": 121,
   "metadata": {
    "colab": {
     "base_uri": "https://localhost:8080/",
     "height": 355
    },
    "id": "WU8TmvLP4BvM",
    "outputId": "dc1e5a42-deb1-4ccd-f933-634383add871"
   },
   "outputs": [
    {
     "data": {
      "text/html": [
       "<div>\n",
       "<style scoped>\n",
       "    .dataframe tbody tr th:only-of-type {\n",
       "        vertical-align: middle;\n",
       "    }\n",
       "\n",
       "    .dataframe tbody tr th {\n",
       "        vertical-align: top;\n",
       "    }\n",
       "\n",
       "    .dataframe thead th {\n",
       "        text-align: right;\n",
       "    }\n",
       "</style>\n",
       "<table border=\"1\" class=\"dataframe\">\n",
       "  <thead>\n",
       "    <tr style=\"text-align: right;\">\n",
       "      <th></th>\n",
       "      <th>Models</th>\n",
       "      <th>AUC</th>\n",
       "      <th>accuracy</th>\n",
       "      <th>f1_weighted</th>\n",
       "      <th>precision</th>\n",
       "      <th>recall</th>\n",
       "    </tr>\n",
       "  </thead>\n",
       "  <tbody>\n",
       "    <tr>\n",
       "      <th>0</th>\n",
       "      <td>logistic</td>\n",
       "      <td>0.834052</td>\n",
       "      <td>0.755928</td>\n",
       "      <td>0.755481</td>\n",
       "      <td>0.886031</td>\n",
       "      <td>0.654536</td>\n",
       "    </tr>\n",
       "    <tr>\n",
       "      <th>1</th>\n",
       "      <td>RandomForest</td>\n",
       "      <td>0.836692</td>\n",
       "      <td>0.757381</td>\n",
       "      <td>0.755753</td>\n",
       "      <td>0.913038</td>\n",
       "      <td>0.637770</td>\n",
       "    </tr>\n",
       "    <tr>\n",
       "      <th>2</th>\n",
       "      <td>AdaBoost+DT</td>\n",
       "      <td>0.825008</td>\n",
       "      <td>0.748581</td>\n",
       "      <td>0.747785</td>\n",
       "      <td>0.884539</td>\n",
       "      <td>0.641143</td>\n",
       "    </tr>\n",
       "    <tr>\n",
       "      <th>3</th>\n",
       "      <td>AdaBoost+LR</td>\n",
       "      <td>0.831877</td>\n",
       "      <td>0.752995</td>\n",
       "      <td>0.753746</td>\n",
       "      <td>0.849057</td>\n",
       "      <td>0.687347</td>\n",
       "    </tr>\n",
       "    <tr>\n",
       "      <th>4</th>\n",
       "      <td>AdaBoost+RF</td>\n",
       "      <td>0.841576</td>\n",
       "      <td>0.761137</td>\n",
       "      <td>0.761364</td>\n",
       "      <td>0.874755</td>\n",
       "      <td>0.676354</td>\n",
       "    </tr>\n",
       "    <tr>\n",
       "      <th>5</th>\n",
       "      <td>KNN</td>\n",
       "      <td>0.811458</td>\n",
       "      <td>0.734243</td>\n",
       "      <td>0.735142</td>\n",
       "      <td>0.825659</td>\n",
       "      <td>0.674615</td>\n",
       "    </tr>\n",
       "    <tr>\n",
       "      <th>6</th>\n",
       "      <td>Naive base</td>\n",
       "      <td>0.817715</td>\n",
       "      <td>0.737642</td>\n",
       "      <td>0.729649</td>\n",
       "      <td>0.987013</td>\n",
       "      <td>0.545309</td>\n",
       "    </tr>\n",
       "    <tr>\n",
       "      <th>7</th>\n",
       "      <td>LGBM</td>\n",
       "      <td>0.841400</td>\n",
       "      <td>0.761192</td>\n",
       "      <td>0.761250</td>\n",
       "      <td>0.879551</td>\n",
       "      <td>0.671537</td>\n",
       "    </tr>\n",
       "    <tr>\n",
       "      <th>8</th>\n",
       "      <td>GradientBoost</td>\n",
       "      <td>0.840531</td>\n",
       "      <td>0.760808</td>\n",
       "      <td>0.761035</td>\n",
       "      <td>0.882232</td>\n",
       "      <td>0.668083</td>\n",
       "    </tr>\n",
       "    <tr>\n",
       "      <th>9</th>\n",
       "      <td>XGboost</td>\n",
       "      <td>0.839481</td>\n",
       "      <td>0.759355</td>\n",
       "      <td>0.759407</td>\n",
       "      <td>0.877567</td>\n",
       "      <td>0.669826</td>\n",
       "    </tr>\n",
       "  </tbody>\n",
       "</table>\n",
       "</div>"
      ],
      "text/plain": [
       "          Models       AUC  accuracy  f1_weighted  precision    recall\n",
       "0       logistic  0.834052  0.755928     0.755481   0.886031  0.654536\n",
       "1   RandomForest  0.836692  0.757381     0.755753   0.913038  0.637770\n",
       "2    AdaBoost+DT  0.825008  0.748581     0.747785   0.884539  0.641143\n",
       "3    AdaBoost+LR  0.831877  0.752995     0.753746   0.849057  0.687347\n",
       "4    AdaBoost+RF  0.841576  0.761137     0.761364   0.874755  0.676354\n",
       "5            KNN  0.811458  0.734243     0.735142   0.825659  0.674615\n",
       "6     Naive base  0.817715  0.737642     0.729649   0.987013  0.545309\n",
       "7           LGBM  0.841400  0.761192     0.761250   0.879551  0.671537\n",
       "8  GradientBoost  0.840531  0.760808     0.761035   0.882232  0.668083\n",
       "9        XGboost  0.839481  0.759355     0.759407   0.877567  0.669826"
      ]
     },
     "execution_count": 121,
     "metadata": {
      "tags": []
     },
     "output_type": "execute_result"
    }
   ],
   "source": [
    "m_result"
   ]
  },
  {
   "cell_type": "code",
   "execution_count": 123,
   "metadata": {
    "id": "uGWwjpwy7Cd3"
   },
   "outputs": [],
   "source": [
    "m_result.to_csv('All_models_result.csv')"
   ]
  },
  {
   "cell_type": "code",
   "execution_count": null,
   "metadata": {
    "id": "D20iqjhD7RDK"
   },
   "outputs": [],
   "source": []
  }
 ],
 "metadata": {
  "colab": {
   "collapsed_sections": [],
   "name": "All Models.ipynb",
   "provenance": []
  },
  "kernelspec": {
   "display_name": "Python 3",
   "language": "python",
   "name": "python3"
  },
  "language_info": {
   "codemirror_mode": {
    "name": "ipython",
    "version": 3
   },
   "file_extension": ".py",
   "mimetype": "text/x-python",
   "name": "python",
   "nbconvert_exporter": "python",
   "pygments_lexer": "ipython3",
   "version": "3.8.5"
  }
 },
 "nbformat": 4,
 "nbformat_minor": 1
}
