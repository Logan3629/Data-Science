{
 "cells": [
  {
   "cell_type": "code",
   "execution_count": 1,
   "metadata": {
    "id": "HjVrujrZsIqc"
   },
   "outputs": [],
   "source": [
    "#warnings\n",
    "import warnings\n",
    "warnings.filterwarnings('ignore')"
   ]
  },
  {
   "cell_type": "code",
   "execution_count": 2,
   "metadata": {
    "id": "qekgUz4Nsot4"
   },
   "outputs": [],
   "source": [
    "import numpy as np\n",
    "import pandas as pd\n",
    "\n",
    "# data visuzlization\n",
    "import matplotlib.pyplot as plt\n",
    "import seaborn as sns\n",
    "import scipy.stats as st"
   ]
  },
  {
   "cell_type": "code",
   "execution_count": 3,
   "metadata": {
    "id": "N38D5_-9sreU"
   },
   "outputs": [],
   "source": [
    "# max columns\n",
    "pd.set_option('display.max_columns', None)\n",
    "# max rows\n",
    "pd.set_option('display.max_rows', None)"
   ]
  },
  {
   "cell_type": "code",
   "execution_count": 4,
   "metadata": {
    "id": "s9ABSUDNstrX"
   },
   "outputs": [],
   "source": [
    "x = pd.read_csv('x1_di.csv')\n",
    "y = pd.read_csv('y1_di.csv')"
   ]
  },
  {
   "cell_type": "code",
   "execution_count": 5,
   "metadata": {
    "colab": {
     "base_uri": "https://localhost:8080/"
    },
    "id": "HJm-N2Hcs20x",
    "outputId": "eb3ab262-03b5-48cb-a3c8-3537ac9bb619"
   },
   "outputs": [
    {
     "data": {
      "text/plain": [
       "(98052, 29)"
      ]
     },
     "execution_count": 5,
     "metadata": {},
     "output_type": "execute_result"
    }
   ],
   "source": [
    "x.shape"
   ]
  },
  {
   "cell_type": "code",
   "execution_count": 6,
   "metadata": {
    "colab": {
     "base_uri": "https://localhost:8080/",
     "height": 239
    },
    "id": "abKoo9ctz-uH",
    "outputId": "e1c715aa-5b80-4a0f-dd6f-62187a5d9745"
   },
   "outputs": [
    {
     "data": {
      "text/html": [
       "<div>\n",
       "<style scoped>\n",
       "    .dataframe tbody tr th:only-of-type {\n",
       "        vertical-align: middle;\n",
       "    }\n",
       "\n",
       "    .dataframe tbody tr th {\n",
       "        vertical-align: top;\n",
       "    }\n",
       "\n",
       "    .dataframe thead th {\n",
       "        text-align: right;\n",
       "    }\n",
       "</style>\n",
       "<table border=\"1\" class=\"dataframe\">\n",
       "  <thead>\n",
       "    <tr style=\"text-align: right;\">\n",
       "      <th></th>\n",
       "      <th>Unnamed: 0</th>\n",
       "      <th>num_lab_procedures</th>\n",
       "      <th>glimepiride_Yes</th>\n",
       "      <th>max_glu_serum_&gt;300</th>\n",
       "      <th>glyburide_Yes</th>\n",
       "      <th>insulin_Yes</th>\n",
       "      <th>rosiglitazone_Yes</th>\n",
       "      <th>number_emergency</th>\n",
       "      <th>age_adult</th>\n",
       "      <th>number_diagnoses</th>\n",
       "      <th>A1Cresult_Norm</th>\n",
       "      <th>race_Hispanic</th>\n",
       "      <th>num_medications</th>\n",
       "      <th>max_glu_serum_None</th>\n",
       "      <th>metformin_Yes</th>\n",
       "      <th>A1Cresult_Not Normal</th>\n",
       "      <th>race_Asian</th>\n",
       "      <th>age_child</th>\n",
       "      <th>race_Other</th>\n",
       "      <th>readmitted_Yes</th>\n",
       "      <th>num_procedures</th>\n",
       "      <th>number_outpatient</th>\n",
       "      <th>time_in_hospital</th>\n",
       "      <th>number_inpatient</th>\n",
       "      <th>race_Caucasian</th>\n",
       "      <th>glipizide_Yes</th>\n",
       "      <th>gender_Male</th>\n",
       "      <th>pioglitazone_Yes</th>\n",
       "      <th>change_No</th>\n",
       "    </tr>\n",
       "  </thead>\n",
       "  <tbody>\n",
       "    <tr>\n",
       "      <td>0</td>\n",
       "      <td>1</td>\n",
       "      <td>59</td>\n",
       "      <td>0</td>\n",
       "      <td>0</td>\n",
       "      <td>0</td>\n",
       "      <td>1</td>\n",
       "      <td>0</td>\n",
       "      <td>0</td>\n",
       "      <td>0</td>\n",
       "      <td>9</td>\n",
       "      <td>0</td>\n",
       "      <td>0</td>\n",
       "      <td>18</td>\n",
       "      <td>1</td>\n",
       "      <td>0</td>\n",
       "      <td>0</td>\n",
       "      <td>0</td>\n",
       "      <td>1</td>\n",
       "      <td>0</td>\n",
       "      <td>1</td>\n",
       "      <td>0</td>\n",
       "      <td>0</td>\n",
       "      <td>3</td>\n",
       "      <td>0</td>\n",
       "      <td>1</td>\n",
       "      <td>0</td>\n",
       "      <td>0</td>\n",
       "      <td>0</td>\n",
       "      <td>0</td>\n",
       "    </tr>\n",
       "    <tr>\n",
       "      <td>1</td>\n",
       "      <td>2</td>\n",
       "      <td>11</td>\n",
       "      <td>0</td>\n",
       "      <td>0</td>\n",
       "      <td>0</td>\n",
       "      <td>0</td>\n",
       "      <td>0</td>\n",
       "      <td>0</td>\n",
       "      <td>1</td>\n",
       "      <td>6</td>\n",
       "      <td>0</td>\n",
       "      <td>0</td>\n",
       "      <td>13</td>\n",
       "      <td>1</td>\n",
       "      <td>0</td>\n",
       "      <td>0</td>\n",
       "      <td>0</td>\n",
       "      <td>0</td>\n",
       "      <td>0</td>\n",
       "      <td>0</td>\n",
       "      <td>5</td>\n",
       "      <td>2</td>\n",
       "      <td>2</td>\n",
       "      <td>1</td>\n",
       "      <td>0</td>\n",
       "      <td>1</td>\n",
       "      <td>0</td>\n",
       "      <td>0</td>\n",
       "      <td>1</td>\n",
       "    </tr>\n",
       "    <tr>\n",
       "      <td>2</td>\n",
       "      <td>3</td>\n",
       "      <td>44</td>\n",
       "      <td>0</td>\n",
       "      <td>0</td>\n",
       "      <td>0</td>\n",
       "      <td>1</td>\n",
       "      <td>0</td>\n",
       "      <td>0</td>\n",
       "      <td>1</td>\n",
       "      <td>7</td>\n",
       "      <td>0</td>\n",
       "      <td>0</td>\n",
       "      <td>16</td>\n",
       "      <td>1</td>\n",
       "      <td>0</td>\n",
       "      <td>0</td>\n",
       "      <td>0</td>\n",
       "      <td>0</td>\n",
       "      <td>0</td>\n",
       "      <td>0</td>\n",
       "      <td>1</td>\n",
       "      <td>0</td>\n",
       "      <td>2</td>\n",
       "      <td>0</td>\n",
       "      <td>1</td>\n",
       "      <td>0</td>\n",
       "      <td>1</td>\n",
       "      <td>0</td>\n",
       "      <td>0</td>\n",
       "    </tr>\n",
       "    <tr>\n",
       "      <td>3</td>\n",
       "      <td>4</td>\n",
       "      <td>51</td>\n",
       "      <td>0</td>\n",
       "      <td>0</td>\n",
       "      <td>0</td>\n",
       "      <td>1</td>\n",
       "      <td>0</td>\n",
       "      <td>0</td>\n",
       "      <td>1</td>\n",
       "      <td>5</td>\n",
       "      <td>0</td>\n",
       "      <td>0</td>\n",
       "      <td>8</td>\n",
       "      <td>1</td>\n",
       "      <td>0</td>\n",
       "      <td>0</td>\n",
       "      <td>0</td>\n",
       "      <td>0</td>\n",
       "      <td>0</td>\n",
       "      <td>0</td>\n",
       "      <td>0</td>\n",
       "      <td>0</td>\n",
       "      <td>1</td>\n",
       "      <td>0</td>\n",
       "      <td>1</td>\n",
       "      <td>1</td>\n",
       "      <td>1</td>\n",
       "      <td>0</td>\n",
       "      <td>0</td>\n",
       "    </tr>\n",
       "    <tr>\n",
       "      <td>4</td>\n",
       "      <td>5</td>\n",
       "      <td>31</td>\n",
       "      <td>0</td>\n",
       "      <td>0</td>\n",
       "      <td>0</td>\n",
       "      <td>1</td>\n",
       "      <td>0</td>\n",
       "      <td>0</td>\n",
       "      <td>1</td>\n",
       "      <td>9</td>\n",
       "      <td>0</td>\n",
       "      <td>0</td>\n",
       "      <td>16</td>\n",
       "      <td>1</td>\n",
       "      <td>0</td>\n",
       "      <td>0</td>\n",
       "      <td>0</td>\n",
       "      <td>0</td>\n",
       "      <td>0</td>\n",
       "      <td>1</td>\n",
       "      <td>6</td>\n",
       "      <td>0</td>\n",
       "      <td>3</td>\n",
       "      <td>0</td>\n",
       "      <td>1</td>\n",
       "      <td>0</td>\n",
       "      <td>1</td>\n",
       "      <td>0</td>\n",
       "      <td>1</td>\n",
       "    </tr>\n",
       "  </tbody>\n",
       "</table>\n",
       "</div>"
      ],
      "text/plain": [
       "   Unnamed: 0  num_lab_procedures  glimepiride_Yes  max_glu_serum_>300  \\\n",
       "0           1                  59                0                   0   \n",
       "1           2                  11                0                   0   \n",
       "2           3                  44                0                   0   \n",
       "3           4                  51                0                   0   \n",
       "4           5                  31                0                   0   \n",
       "\n",
       "   glyburide_Yes  insulin_Yes  rosiglitazone_Yes  number_emergency  age_adult  \\\n",
       "0              0            1                  0                 0          0   \n",
       "1              0            0                  0                 0          1   \n",
       "2              0            1                  0                 0          1   \n",
       "3              0            1                  0                 0          1   \n",
       "4              0            1                  0                 0          1   \n",
       "\n",
       "   number_diagnoses  A1Cresult_Norm  race_Hispanic  num_medications  \\\n",
       "0                 9               0              0               18   \n",
       "1                 6               0              0               13   \n",
       "2                 7               0              0               16   \n",
       "3                 5               0              0                8   \n",
       "4                 9               0              0               16   \n",
       "\n",
       "   max_glu_serum_None  metformin_Yes  A1Cresult_Not Normal  race_Asian  \\\n",
       "0                   1              0                     0           0   \n",
       "1                   1              0                     0           0   \n",
       "2                   1              0                     0           0   \n",
       "3                   1              0                     0           0   \n",
       "4                   1              0                     0           0   \n",
       "\n",
       "   age_child  race_Other  readmitted_Yes  num_procedures  number_outpatient  \\\n",
       "0          1           0               1               0                  0   \n",
       "1          0           0               0               5                  2   \n",
       "2          0           0               0               1                  0   \n",
       "3          0           0               0               0                  0   \n",
       "4          0           0               1               6                  0   \n",
       "\n",
       "   time_in_hospital  number_inpatient  race_Caucasian  glipizide_Yes  \\\n",
       "0                 3                 0               1              0   \n",
       "1                 2                 1               0              1   \n",
       "2                 2                 0               1              0   \n",
       "3                 1                 0               1              1   \n",
       "4                 3                 0               1              0   \n",
       "\n",
       "   gender_Male  pioglitazone_Yes  change_No  \n",
       "0            0                 0          0  \n",
       "1            0                 0          1  \n",
       "2            1                 0          0  \n",
       "3            1                 0          0  \n",
       "4            1                 0          1  "
      ]
     },
     "execution_count": 6,
     "metadata": {},
     "output_type": "execute_result"
    }
   ],
   "source": [
    "x.head()"
   ]
  },
  {
   "cell_type": "code",
   "execution_count": 7,
   "metadata": {
    "id": "SW5I1yIy0CdG"
   },
   "outputs": [],
   "source": [
    "x = x.drop('Unnamed: 0',axis=1)"
   ]
  },
  {
   "cell_type": "code",
   "execution_count": 8,
   "metadata": {
    "colab": {
     "base_uri": "https://localhost:8080/",
     "height": 239
    },
    "id": "v_P-2pQ40Kpv",
    "outputId": "69611fb6-7fa9-4330-87bb-8f7e5afc882b"
   },
   "outputs": [
    {
     "data": {
      "text/html": [
       "<div>\n",
       "<style scoped>\n",
       "    .dataframe tbody tr th:only-of-type {\n",
       "        vertical-align: middle;\n",
       "    }\n",
       "\n",
       "    .dataframe tbody tr th {\n",
       "        vertical-align: top;\n",
       "    }\n",
       "\n",
       "    .dataframe thead th {\n",
       "        text-align: right;\n",
       "    }\n",
       "</style>\n",
       "<table border=\"1\" class=\"dataframe\">\n",
       "  <thead>\n",
       "    <tr style=\"text-align: right;\">\n",
       "      <th></th>\n",
       "      <th>num_lab_procedures</th>\n",
       "      <th>glimepiride_Yes</th>\n",
       "      <th>max_glu_serum_&gt;300</th>\n",
       "      <th>glyburide_Yes</th>\n",
       "      <th>insulin_Yes</th>\n",
       "      <th>rosiglitazone_Yes</th>\n",
       "      <th>number_emergency</th>\n",
       "      <th>age_adult</th>\n",
       "      <th>number_diagnoses</th>\n",
       "      <th>A1Cresult_Norm</th>\n",
       "      <th>race_Hispanic</th>\n",
       "      <th>num_medications</th>\n",
       "      <th>max_glu_serum_None</th>\n",
       "      <th>metformin_Yes</th>\n",
       "      <th>A1Cresult_Not Normal</th>\n",
       "      <th>race_Asian</th>\n",
       "      <th>age_child</th>\n",
       "      <th>race_Other</th>\n",
       "      <th>readmitted_Yes</th>\n",
       "      <th>num_procedures</th>\n",
       "      <th>number_outpatient</th>\n",
       "      <th>time_in_hospital</th>\n",
       "      <th>number_inpatient</th>\n",
       "      <th>race_Caucasian</th>\n",
       "      <th>glipizide_Yes</th>\n",
       "      <th>gender_Male</th>\n",
       "      <th>pioglitazone_Yes</th>\n",
       "      <th>change_No</th>\n",
       "    </tr>\n",
       "  </thead>\n",
       "  <tbody>\n",
       "    <tr>\n",
       "      <td>0</td>\n",
       "      <td>59</td>\n",
       "      <td>0</td>\n",
       "      <td>0</td>\n",
       "      <td>0</td>\n",
       "      <td>1</td>\n",
       "      <td>0</td>\n",
       "      <td>0</td>\n",
       "      <td>0</td>\n",
       "      <td>9</td>\n",
       "      <td>0</td>\n",
       "      <td>0</td>\n",
       "      <td>18</td>\n",
       "      <td>1</td>\n",
       "      <td>0</td>\n",
       "      <td>0</td>\n",
       "      <td>0</td>\n",
       "      <td>1</td>\n",
       "      <td>0</td>\n",
       "      <td>1</td>\n",
       "      <td>0</td>\n",
       "      <td>0</td>\n",
       "      <td>3</td>\n",
       "      <td>0</td>\n",
       "      <td>1</td>\n",
       "      <td>0</td>\n",
       "      <td>0</td>\n",
       "      <td>0</td>\n",
       "      <td>0</td>\n",
       "    </tr>\n",
       "    <tr>\n",
       "      <td>1</td>\n",
       "      <td>11</td>\n",
       "      <td>0</td>\n",
       "      <td>0</td>\n",
       "      <td>0</td>\n",
       "      <td>0</td>\n",
       "      <td>0</td>\n",
       "      <td>0</td>\n",
       "      <td>1</td>\n",
       "      <td>6</td>\n",
       "      <td>0</td>\n",
       "      <td>0</td>\n",
       "      <td>13</td>\n",
       "      <td>1</td>\n",
       "      <td>0</td>\n",
       "      <td>0</td>\n",
       "      <td>0</td>\n",
       "      <td>0</td>\n",
       "      <td>0</td>\n",
       "      <td>0</td>\n",
       "      <td>5</td>\n",
       "      <td>2</td>\n",
       "      <td>2</td>\n",
       "      <td>1</td>\n",
       "      <td>0</td>\n",
       "      <td>1</td>\n",
       "      <td>0</td>\n",
       "      <td>0</td>\n",
       "      <td>1</td>\n",
       "    </tr>\n",
       "    <tr>\n",
       "      <td>2</td>\n",
       "      <td>44</td>\n",
       "      <td>0</td>\n",
       "      <td>0</td>\n",
       "      <td>0</td>\n",
       "      <td>1</td>\n",
       "      <td>0</td>\n",
       "      <td>0</td>\n",
       "      <td>1</td>\n",
       "      <td>7</td>\n",
       "      <td>0</td>\n",
       "      <td>0</td>\n",
       "      <td>16</td>\n",
       "      <td>1</td>\n",
       "      <td>0</td>\n",
       "      <td>0</td>\n",
       "      <td>0</td>\n",
       "      <td>0</td>\n",
       "      <td>0</td>\n",
       "      <td>0</td>\n",
       "      <td>1</td>\n",
       "      <td>0</td>\n",
       "      <td>2</td>\n",
       "      <td>0</td>\n",
       "      <td>1</td>\n",
       "      <td>0</td>\n",
       "      <td>1</td>\n",
       "      <td>0</td>\n",
       "      <td>0</td>\n",
       "    </tr>\n",
       "    <tr>\n",
       "      <td>3</td>\n",
       "      <td>51</td>\n",
       "      <td>0</td>\n",
       "      <td>0</td>\n",
       "      <td>0</td>\n",
       "      <td>1</td>\n",
       "      <td>0</td>\n",
       "      <td>0</td>\n",
       "      <td>1</td>\n",
       "      <td>5</td>\n",
       "      <td>0</td>\n",
       "      <td>0</td>\n",
       "      <td>8</td>\n",
       "      <td>1</td>\n",
       "      <td>0</td>\n",
       "      <td>0</td>\n",
       "      <td>0</td>\n",
       "      <td>0</td>\n",
       "      <td>0</td>\n",
       "      <td>0</td>\n",
       "      <td>0</td>\n",
       "      <td>0</td>\n",
       "      <td>1</td>\n",
       "      <td>0</td>\n",
       "      <td>1</td>\n",
       "      <td>1</td>\n",
       "      <td>1</td>\n",
       "      <td>0</td>\n",
       "      <td>0</td>\n",
       "    </tr>\n",
       "    <tr>\n",
       "      <td>4</td>\n",
       "      <td>31</td>\n",
       "      <td>0</td>\n",
       "      <td>0</td>\n",
       "      <td>0</td>\n",
       "      <td>1</td>\n",
       "      <td>0</td>\n",
       "      <td>0</td>\n",
       "      <td>1</td>\n",
       "      <td>9</td>\n",
       "      <td>0</td>\n",
       "      <td>0</td>\n",
       "      <td>16</td>\n",
       "      <td>1</td>\n",
       "      <td>0</td>\n",
       "      <td>0</td>\n",
       "      <td>0</td>\n",
       "      <td>0</td>\n",
       "      <td>0</td>\n",
       "      <td>1</td>\n",
       "      <td>6</td>\n",
       "      <td>0</td>\n",
       "      <td>3</td>\n",
       "      <td>0</td>\n",
       "      <td>1</td>\n",
       "      <td>0</td>\n",
       "      <td>1</td>\n",
       "      <td>0</td>\n",
       "      <td>1</td>\n",
       "    </tr>\n",
       "  </tbody>\n",
       "</table>\n",
       "</div>"
      ],
      "text/plain": [
       "   num_lab_procedures  glimepiride_Yes  max_glu_serum_>300  glyburide_Yes  \\\n",
       "0                  59                0                   0              0   \n",
       "1                  11                0                   0              0   \n",
       "2                  44                0                   0              0   \n",
       "3                  51                0                   0              0   \n",
       "4                  31                0                   0              0   \n",
       "\n",
       "   insulin_Yes  rosiglitazone_Yes  number_emergency  age_adult  \\\n",
       "0            1                  0                 0          0   \n",
       "1            0                  0                 0          1   \n",
       "2            1                  0                 0          1   \n",
       "3            1                  0                 0          1   \n",
       "4            1                  0                 0          1   \n",
       "\n",
       "   number_diagnoses  A1Cresult_Norm  race_Hispanic  num_medications  \\\n",
       "0                 9               0              0               18   \n",
       "1                 6               0              0               13   \n",
       "2                 7               0              0               16   \n",
       "3                 5               0              0                8   \n",
       "4                 9               0              0               16   \n",
       "\n",
       "   max_glu_serum_None  metformin_Yes  A1Cresult_Not Normal  race_Asian  \\\n",
       "0                   1              0                     0           0   \n",
       "1                   1              0                     0           0   \n",
       "2                   1              0                     0           0   \n",
       "3                   1              0                     0           0   \n",
       "4                   1              0                     0           0   \n",
       "\n",
       "   age_child  race_Other  readmitted_Yes  num_procedures  number_outpatient  \\\n",
       "0          1           0               1               0                  0   \n",
       "1          0           0               0               5                  2   \n",
       "2          0           0               0               1                  0   \n",
       "3          0           0               0               0                  0   \n",
       "4          0           0               1               6                  0   \n",
       "\n",
       "   time_in_hospital  number_inpatient  race_Caucasian  glipizide_Yes  \\\n",
       "0                 3                 0               1              0   \n",
       "1                 2                 1               0              1   \n",
       "2                 2                 0               1              0   \n",
       "3                 1                 0               1              1   \n",
       "4                 3                 0               1              0   \n",
       "\n",
       "   gender_Male  pioglitazone_Yes  change_No  \n",
       "0            0                 0          0  \n",
       "1            0                 0          1  \n",
       "2            1                 0          0  \n",
       "3            1                 0          0  \n",
       "4            1                 0          1  "
      ]
     },
     "execution_count": 8,
     "metadata": {},
     "output_type": "execute_result"
    }
   ],
   "source": [
    "x.head()"
   ]
  },
  {
   "cell_type": "code",
   "execution_count": 9,
   "metadata": {
    "colab": {
     "base_uri": "https://localhost:8080/"
    },
    "id": "cnYVVXUqtTXC",
    "outputId": "2c671020-47ff-4f1a-b4c2-6cbb5fc3f6c9"
   },
   "outputs": [
    {
     "data": {
      "text/plain": [
       "Index(['Unnamed: 0', 'Diabetes'], dtype='object')"
      ]
     },
     "execution_count": 9,
     "metadata": {},
     "output_type": "execute_result"
    }
   ],
   "source": [
    "y.columns"
   ]
  },
  {
   "cell_type": "code",
   "execution_count": 10,
   "metadata": {
    "colab": {
     "base_uri": "https://localhost:8080/",
     "height": 141
    },
    "id": "0JWkA__os6pR",
    "outputId": "f82c5fe4-db6d-41ec-90e8-1f8b8c887b2f"
   },
   "outputs": [
    {
     "data": {
      "text/html": [
       "<div>\n",
       "<style scoped>\n",
       "    .dataframe tbody tr th:only-of-type {\n",
       "        vertical-align: middle;\n",
       "    }\n",
       "\n",
       "    .dataframe tbody tr th {\n",
       "        vertical-align: top;\n",
       "    }\n",
       "\n",
       "    .dataframe thead th {\n",
       "        text-align: right;\n",
       "    }\n",
       "</style>\n",
       "<table border=\"1\" class=\"dataframe\">\n",
       "  <thead>\n",
       "    <tr style=\"text-align: right;\">\n",
       "      <th></th>\n",
       "      <th>Diabetes</th>\n",
       "    </tr>\n",
       "  </thead>\n",
       "  <tbody>\n",
       "    <tr>\n",
       "      <td>0</td>\n",
       "      <td>1</td>\n",
       "    </tr>\n",
       "    <tr>\n",
       "      <td>1</td>\n",
       "      <td>1</td>\n",
       "    </tr>\n",
       "    <tr>\n",
       "      <td>2</td>\n",
       "      <td>1</td>\n",
       "    </tr>\n",
       "  </tbody>\n",
       "</table>\n",
       "</div>"
      ],
      "text/plain": [
       "   Diabetes\n",
       "0         1\n",
       "1         1\n",
       "2         1"
      ]
     },
     "execution_count": 10,
     "metadata": {},
     "output_type": "execute_result"
    }
   ],
   "source": [
    "y = y.drop('Unnamed: 0',axis=1)\n",
    "y[:3]"
   ]
  },
  {
   "cell_type": "code",
   "execution_count": 11,
   "metadata": {
    "id": "SA_Kn8xQAAfU"
   },
   "outputs": [],
   "source": [
    "y = y['Diabetes']"
   ]
  },
  {
   "cell_type": "code",
   "execution_count": 12,
   "metadata": {
    "id": "YFmBaEEBs9B6"
   },
   "outputs": [],
   "source": [
    "from sklearn.model_selection import  train_test_split\n",
    "\n",
    "Xtrain,Xtest,ytrain,ytest=train_test_split(x,y,test_size=0.3,random_state=48,stratify=y)"
   ]
  },
  {
   "cell_type": "code",
   "execution_count": 13,
   "metadata": {
    "colab": {
     "base_uri": "https://localhost:8080/"
    },
    "id": "zby6GFOl80AU",
    "outputId": "1f910633-bf43-46b0-fde5-f8d4e2662f99"
   },
   "outputs": [
    {
     "data": {
      "text/plain": [
       "((68636, 28), (29416, 28), (68636,), (29416,))"
      ]
     },
     "execution_count": 13,
     "metadata": {},
     "output_type": "execute_result"
    }
   ],
   "source": [
    "Xtrain.shape,Xtest.shape,ytrain.shape,ytest.shape"
   ]
  },
  {
   "cell_type": "code",
   "execution_count": 14,
   "metadata": {
    "colab": {
     "base_uri": "https://localhost:8080/",
     "height": 239
    },
    "id": "ufHoh79e5mPW",
    "outputId": "b13d9fba-eb90-45af-f743-711c15350f84"
   },
   "outputs": [
    {
     "data": {
      "text/html": [
       "<div>\n",
       "<style scoped>\n",
       "    .dataframe tbody tr th:only-of-type {\n",
       "        vertical-align: middle;\n",
       "    }\n",
       "\n",
       "    .dataframe tbody tr th {\n",
       "        vertical-align: top;\n",
       "    }\n",
       "\n",
       "    .dataframe thead th {\n",
       "        text-align: right;\n",
       "    }\n",
       "</style>\n",
       "<table border=\"1\" class=\"dataframe\">\n",
       "  <thead>\n",
       "    <tr style=\"text-align: right;\">\n",
       "      <th></th>\n",
       "      <th>num_lab_procedures</th>\n",
       "      <th>glimepiride_Yes</th>\n",
       "      <th>max_glu_serum_&gt;300</th>\n",
       "      <th>glyburide_Yes</th>\n",
       "      <th>insulin_Yes</th>\n",
       "      <th>rosiglitazone_Yes</th>\n",
       "      <th>number_emergency</th>\n",
       "      <th>age_adult</th>\n",
       "      <th>number_diagnoses</th>\n",
       "      <th>A1Cresult_Norm</th>\n",
       "      <th>race_Hispanic</th>\n",
       "      <th>num_medications</th>\n",
       "      <th>max_glu_serum_None</th>\n",
       "      <th>metformin_Yes</th>\n",
       "      <th>A1Cresult_Not Normal</th>\n",
       "      <th>race_Asian</th>\n",
       "      <th>age_child</th>\n",
       "      <th>race_Other</th>\n",
       "      <th>readmitted_Yes</th>\n",
       "      <th>num_procedures</th>\n",
       "      <th>number_outpatient</th>\n",
       "      <th>time_in_hospital</th>\n",
       "      <th>number_inpatient</th>\n",
       "      <th>race_Caucasian</th>\n",
       "      <th>glipizide_Yes</th>\n",
       "      <th>gender_Male</th>\n",
       "      <th>pioglitazone_Yes</th>\n",
       "      <th>change_No</th>\n",
       "    </tr>\n",
       "  </thead>\n",
       "  <tbody>\n",
       "    <tr>\n",
       "      <td>0</td>\n",
       "      <td>1.314587</td>\n",
       "      <td>-0.231316</td>\n",
       "      <td>-0.11218</td>\n",
       "      <td>-0.342417</td>\n",
       "      <td>0.940735</td>\n",
       "      <td>-0.26051</td>\n",
       "      <td>0.866474</td>\n",
       "      <td>-0.678507</td>\n",
       "      <td>0.813301</td>\n",
       "      <td>-0.226630</td>\n",
       "      <td>-0.14218</td>\n",
       "      <td>2.332501</td>\n",
       "      <td>0.237815</td>\n",
       "      <td>-0.491763</td>\n",
       "      <td>-0.362483</td>\n",
       "      <td>-0.079586</td>\n",
       "      <td>-0.073119</td>\n",
       "      <td>-0.122455</td>\n",
       "      <td>1.072717</td>\n",
       "      <td>1.553356</td>\n",
       "      <td>-0.293034</td>\n",
       "      <td>1.527613</td>\n",
       "      <td>-0.508778</td>\n",
       "      <td>0.551002</td>\n",
       "      <td>-0.377347</td>\n",
       "      <td>1.082252</td>\n",
       "      <td>-0.279187</td>\n",
       "      <td>-1.082538</td>\n",
       "    </tr>\n",
       "    <tr>\n",
       "      <td>1</td>\n",
       "      <td>-2.136965</td>\n",
       "      <td>-0.231316</td>\n",
       "      <td>-0.11218</td>\n",
       "      <td>-0.342417</td>\n",
       "      <td>0.940735</td>\n",
       "      <td>-0.26051</td>\n",
       "      <td>1.948421</td>\n",
       "      <td>-0.678507</td>\n",
       "      <td>0.813301</td>\n",
       "      <td>-0.226630</td>\n",
       "      <td>-0.14218</td>\n",
       "      <td>-0.013138</td>\n",
       "      <td>0.237815</td>\n",
       "      <td>2.033499</td>\n",
       "      <td>-0.362483</td>\n",
       "      <td>-0.079586</td>\n",
       "      <td>-0.073119</td>\n",
       "      <td>-0.122455</td>\n",
       "      <td>1.072717</td>\n",
       "      <td>-0.789611</td>\n",
       "      <td>-0.293034</td>\n",
       "      <td>1.193721</td>\n",
       "      <td>1.854920</td>\n",
       "      <td>0.551002</td>\n",
       "      <td>-0.377347</td>\n",
       "      <td>-0.923999</td>\n",
       "      <td>3.581835</td>\n",
       "      <td>-1.082538</td>\n",
       "    </tr>\n",
       "    <tr>\n",
       "      <td>2</td>\n",
       "      <td>1.060796</td>\n",
       "      <td>-0.231316</td>\n",
       "      <td>-0.11218</td>\n",
       "      <td>-0.342417</td>\n",
       "      <td>0.940735</td>\n",
       "      <td>-0.26051</td>\n",
       "      <td>-0.215472</td>\n",
       "      <td>1.473825</td>\n",
       "      <td>0.266694</td>\n",
       "      <td>4.412485</td>\n",
       "      <td>-0.14218</td>\n",
       "      <td>-0.013138</td>\n",
       "      <td>0.237815</td>\n",
       "      <td>-0.491763</td>\n",
       "      <td>-0.362483</td>\n",
       "      <td>-0.079586</td>\n",
       "      <td>-0.073119</td>\n",
       "      <td>-0.122455</td>\n",
       "      <td>1.072717</td>\n",
       "      <td>-0.789611</td>\n",
       "      <td>-0.293034</td>\n",
       "      <td>-0.475735</td>\n",
       "      <td>-0.508778</td>\n",
       "      <td>0.551002</td>\n",
       "      <td>-0.377347</td>\n",
       "      <td>1.082252</td>\n",
       "      <td>-0.279187</td>\n",
       "      <td>-1.082538</td>\n",
       "    </tr>\n",
       "    <tr>\n",
       "      <td>3</td>\n",
       "      <td>1.771410</td>\n",
       "      <td>-0.231316</td>\n",
       "      <td>-0.11218</td>\n",
       "      <td>2.920412</td>\n",
       "      <td>0.940735</td>\n",
       "      <td>-0.26051</td>\n",
       "      <td>-0.215472</td>\n",
       "      <td>-0.678507</td>\n",
       "      <td>0.813301</td>\n",
       "      <td>-0.226630</td>\n",
       "      <td>-0.14218</td>\n",
       "      <td>1.097954</td>\n",
       "      <td>0.237815</td>\n",
       "      <td>-0.491763</td>\n",
       "      <td>-0.362483</td>\n",
       "      <td>-0.079586</td>\n",
       "      <td>-0.073119</td>\n",
       "      <td>-0.122455</td>\n",
       "      <td>1.072717</td>\n",
       "      <td>-0.789611</td>\n",
       "      <td>-0.293034</td>\n",
       "      <td>0.859830</td>\n",
       "      <td>-0.508778</td>\n",
       "      <td>0.551002</td>\n",
       "      <td>2.650077</td>\n",
       "      <td>-0.923999</td>\n",
       "      <td>3.581835</td>\n",
       "      <td>-1.082538</td>\n",
       "    </tr>\n",
       "    <tr>\n",
       "      <td>4</td>\n",
       "      <td>1.974442</td>\n",
       "      <td>-0.231316</td>\n",
       "      <td>-0.11218</td>\n",
       "      <td>-0.342417</td>\n",
       "      <td>0.940735</td>\n",
       "      <td>-0.26051</td>\n",
       "      <td>-0.215472</td>\n",
       "      <td>-0.678507</td>\n",
       "      <td>0.813301</td>\n",
       "      <td>-0.226630</td>\n",
       "      <td>-0.14218</td>\n",
       "      <td>0.727590</td>\n",
       "      <td>0.237815</td>\n",
       "      <td>-0.491763</td>\n",
       "      <td>-0.362483</td>\n",
       "      <td>-0.079586</td>\n",
       "      <td>-0.073119</td>\n",
       "      <td>-0.122455</td>\n",
       "      <td>-0.932212</td>\n",
       "      <td>-0.789611</td>\n",
       "      <td>-0.293034</td>\n",
       "      <td>1.193721</td>\n",
       "      <td>-0.508778</td>\n",
       "      <td>0.551002</td>\n",
       "      <td>-0.377347</td>\n",
       "      <td>1.082252</td>\n",
       "      <td>-0.279187</td>\n",
       "      <td>-1.082538</td>\n",
       "    </tr>\n",
       "  </tbody>\n",
       "</table>\n",
       "</div>"
      ],
      "text/plain": [
       "   num_lab_procedures  glimepiride_Yes  max_glu_serum_>300  glyburide_Yes  \\\n",
       "0            1.314587        -0.231316            -0.11218      -0.342417   \n",
       "1           -2.136965        -0.231316            -0.11218      -0.342417   \n",
       "2            1.060796        -0.231316            -0.11218      -0.342417   \n",
       "3            1.771410        -0.231316            -0.11218       2.920412   \n",
       "4            1.974442        -0.231316            -0.11218      -0.342417   \n",
       "\n",
       "   insulin_Yes  rosiglitazone_Yes  number_emergency  age_adult  \\\n",
       "0     0.940735           -0.26051          0.866474  -0.678507   \n",
       "1     0.940735           -0.26051          1.948421  -0.678507   \n",
       "2     0.940735           -0.26051         -0.215472   1.473825   \n",
       "3     0.940735           -0.26051         -0.215472  -0.678507   \n",
       "4     0.940735           -0.26051         -0.215472  -0.678507   \n",
       "\n",
       "   number_diagnoses  A1Cresult_Norm  race_Hispanic  num_medications  \\\n",
       "0          0.813301       -0.226630       -0.14218         2.332501   \n",
       "1          0.813301       -0.226630       -0.14218        -0.013138   \n",
       "2          0.266694        4.412485       -0.14218        -0.013138   \n",
       "3          0.813301       -0.226630       -0.14218         1.097954   \n",
       "4          0.813301       -0.226630       -0.14218         0.727590   \n",
       "\n",
       "   max_glu_serum_None  metformin_Yes  A1Cresult_Not Normal  race_Asian  \\\n",
       "0            0.237815      -0.491763             -0.362483   -0.079586   \n",
       "1            0.237815       2.033499             -0.362483   -0.079586   \n",
       "2            0.237815      -0.491763             -0.362483   -0.079586   \n",
       "3            0.237815      -0.491763             -0.362483   -0.079586   \n",
       "4            0.237815      -0.491763             -0.362483   -0.079586   \n",
       "\n",
       "   age_child  race_Other  readmitted_Yes  num_procedures  number_outpatient  \\\n",
       "0  -0.073119   -0.122455        1.072717        1.553356          -0.293034   \n",
       "1  -0.073119   -0.122455        1.072717       -0.789611          -0.293034   \n",
       "2  -0.073119   -0.122455        1.072717       -0.789611          -0.293034   \n",
       "3  -0.073119   -0.122455        1.072717       -0.789611          -0.293034   \n",
       "4  -0.073119   -0.122455       -0.932212       -0.789611          -0.293034   \n",
       "\n",
       "   time_in_hospital  number_inpatient  race_Caucasian  glipizide_Yes  \\\n",
       "0          1.527613         -0.508778        0.551002      -0.377347   \n",
       "1          1.193721          1.854920        0.551002      -0.377347   \n",
       "2         -0.475735         -0.508778        0.551002      -0.377347   \n",
       "3          0.859830         -0.508778        0.551002       2.650077   \n",
       "4          1.193721         -0.508778        0.551002      -0.377347   \n",
       "\n",
       "   gender_Male  pioglitazone_Yes  change_No  \n",
       "0     1.082252         -0.279187  -1.082538  \n",
       "1    -0.923999          3.581835  -1.082538  \n",
       "2     1.082252         -0.279187  -1.082538  \n",
       "3    -0.923999          3.581835  -1.082538  \n",
       "4     1.082252         -0.279187  -1.082538  "
      ]
     },
     "execution_count": 14,
     "metadata": {},
     "output_type": "execute_result"
    }
   ],
   "source": [
    "from sklearn.preprocessing import  StandardScaler\n",
    "st = StandardScaler()\n",
    "Xtrain_t = st.fit_transform(Xtrain)\n",
    "Xtrain_t=pd.DataFrame(Xtrain_t,columns=x.columns)\n",
    "Xtrain_t.head()"
   ]
  },
  {
   "cell_type": "code",
   "execution_count": 15,
   "metadata": {
    "colab": {
     "base_uri": "https://localhost:8080/",
     "height": 239
    },
    "id": "orKDLlrz6d-9",
    "outputId": "9e80f41e-e3c4-496c-f2aa-7c90df8366b7"
   },
   "outputs": [
    {
     "data": {
      "text/html": [
       "<div>\n",
       "<style scoped>\n",
       "    .dataframe tbody tr th:only-of-type {\n",
       "        vertical-align: middle;\n",
       "    }\n",
       "\n",
       "    .dataframe tbody tr th {\n",
       "        vertical-align: top;\n",
       "    }\n",
       "\n",
       "    .dataframe thead th {\n",
       "        text-align: right;\n",
       "    }\n",
       "</style>\n",
       "<table border=\"1\" class=\"dataframe\">\n",
       "  <thead>\n",
       "    <tr style=\"text-align: right;\">\n",
       "      <th></th>\n",
       "      <th>num_lab_procedures</th>\n",
       "      <th>glimepiride_Yes</th>\n",
       "      <th>max_glu_serum_&gt;300</th>\n",
       "      <th>glyburide_Yes</th>\n",
       "      <th>insulin_Yes</th>\n",
       "      <th>rosiglitazone_Yes</th>\n",
       "      <th>number_emergency</th>\n",
       "      <th>age_adult</th>\n",
       "      <th>number_diagnoses</th>\n",
       "      <th>A1Cresult_Norm</th>\n",
       "      <th>race_Hispanic</th>\n",
       "      <th>num_medications</th>\n",
       "      <th>max_glu_serum_None</th>\n",
       "      <th>metformin_Yes</th>\n",
       "      <th>A1Cresult_Not Normal</th>\n",
       "      <th>race_Asian</th>\n",
       "      <th>age_child</th>\n",
       "      <th>race_Other</th>\n",
       "      <th>readmitted_Yes</th>\n",
       "      <th>num_procedures</th>\n",
       "      <th>number_outpatient</th>\n",
       "      <th>time_in_hospital</th>\n",
       "      <th>number_inpatient</th>\n",
       "      <th>race_Caucasian</th>\n",
       "      <th>glipizide_Yes</th>\n",
       "      <th>gender_Male</th>\n",
       "      <th>pioglitazone_Yes</th>\n",
       "      <th>change_No</th>\n",
       "    </tr>\n",
       "  </thead>\n",
       "  <tbody>\n",
       "    <tr>\n",
       "      <td>0</td>\n",
       "      <td>0.350183</td>\n",
       "      <td>4.323082</td>\n",
       "      <td>-0.11218</td>\n",
       "      <td>-0.342417</td>\n",
       "      <td>0.940735</td>\n",
       "      <td>-0.260510</td>\n",
       "      <td>-0.215472</td>\n",
       "      <td>-0.678507</td>\n",
       "      <td>0.813301</td>\n",
       "      <td>-0.22663</td>\n",
       "      <td>-0.14218</td>\n",
       "      <td>1.715228</td>\n",
       "      <td>0.237815</td>\n",
       "      <td>-0.491763</td>\n",
       "      <td>-0.362483</td>\n",
       "      <td>-0.079586</td>\n",
       "      <td>-0.073119</td>\n",
       "      <td>-0.122455</td>\n",
       "      <td>1.072717</td>\n",
       "      <td>-0.789611</td>\n",
       "      <td>-0.293034</td>\n",
       "      <td>2.863178</td>\n",
       "      <td>-0.508778</td>\n",
       "      <td>0.551002</td>\n",
       "      <td>-0.377347</td>\n",
       "      <td>1.082252</td>\n",
       "      <td>3.581835</td>\n",
       "      <td>-1.082538</td>\n",
       "    </tr>\n",
       "    <tr>\n",
       "      <td>1</td>\n",
       "      <td>0.603973</td>\n",
       "      <td>-0.231316</td>\n",
       "      <td>-0.11218</td>\n",
       "      <td>-0.342417</td>\n",
       "      <td>0.940735</td>\n",
       "      <td>3.838617</td>\n",
       "      <td>-0.215472</td>\n",
       "      <td>-0.678507</td>\n",
       "      <td>0.813301</td>\n",
       "      <td>-0.22663</td>\n",
       "      <td>-0.14218</td>\n",
       "      <td>2.579410</td>\n",
       "      <td>0.237815</td>\n",
       "      <td>-0.491763</td>\n",
       "      <td>-0.362483</td>\n",
       "      <td>-0.079586</td>\n",
       "      <td>-0.073119</td>\n",
       "      <td>-0.122455</td>\n",
       "      <td>-0.932212</td>\n",
       "      <td>2.139098</td>\n",
       "      <td>-0.293034</td>\n",
       "      <td>1.861504</td>\n",
       "      <td>-0.508778</td>\n",
       "      <td>0.551002</td>\n",
       "      <td>-0.377347</td>\n",
       "      <td>1.082252</td>\n",
       "      <td>-0.279187</td>\n",
       "      <td>-1.082538</td>\n",
       "    </tr>\n",
       "    <tr>\n",
       "      <td>2</td>\n",
       "      <td>0.603973</td>\n",
       "      <td>-0.231316</td>\n",
       "      <td>-0.11218</td>\n",
       "      <td>-0.342417</td>\n",
       "      <td>-1.062998</td>\n",
       "      <td>-0.260510</td>\n",
       "      <td>-0.215472</td>\n",
       "      <td>-0.678507</td>\n",
       "      <td>-0.826521</td>\n",
       "      <td>-0.22663</td>\n",
       "      <td>-0.14218</td>\n",
       "      <td>0.357226</td>\n",
       "      <td>0.237815</td>\n",
       "      <td>2.033499</td>\n",
       "      <td>-0.362483</td>\n",
       "      <td>-0.079586</td>\n",
       "      <td>-0.073119</td>\n",
       "      <td>-0.122455</td>\n",
       "      <td>1.072717</td>\n",
       "      <td>0.967614</td>\n",
       "      <td>-0.293034</td>\n",
       "      <td>-0.141844</td>\n",
       "      <td>-0.508778</td>\n",
       "      <td>0.551002</td>\n",
       "      <td>-0.377347</td>\n",
       "      <td>1.082252</td>\n",
       "      <td>-0.279187</td>\n",
       "      <td>0.923755</td>\n",
       "    </tr>\n",
       "    <tr>\n",
       "      <td>3</td>\n",
       "      <td>1.111554</td>\n",
       "      <td>-0.231316</td>\n",
       "      <td>-0.11218</td>\n",
       "      <td>-0.342417</td>\n",
       "      <td>0.940735</td>\n",
       "      <td>-0.260510</td>\n",
       "      <td>-0.215472</td>\n",
       "      <td>-0.678507</td>\n",
       "      <td>0.813301</td>\n",
       "      <td>-0.22663</td>\n",
       "      <td>-0.14218</td>\n",
       "      <td>0.480681</td>\n",
       "      <td>0.237815</td>\n",
       "      <td>-0.491763</td>\n",
       "      <td>-0.362483</td>\n",
       "      <td>-0.079586</td>\n",
       "      <td>-0.073119</td>\n",
       "      <td>-0.122455</td>\n",
       "      <td>1.072717</td>\n",
       "      <td>-0.789611</td>\n",
       "      <td>-0.293034</td>\n",
       "      <td>1.193721</td>\n",
       "      <td>-0.508778</td>\n",
       "      <td>0.551002</td>\n",
       "      <td>-0.377347</td>\n",
       "      <td>-0.923999</td>\n",
       "      <td>-0.279187</td>\n",
       "      <td>0.923755</td>\n",
       "    </tr>\n",
       "    <tr>\n",
       "      <td>4</td>\n",
       "      <td>1.822168</td>\n",
       "      <td>-0.231316</td>\n",
       "      <td>-0.11218</td>\n",
       "      <td>2.920412</td>\n",
       "      <td>0.940735</td>\n",
       "      <td>-0.260510</td>\n",
       "      <td>-0.215472</td>\n",
       "      <td>-0.678507</td>\n",
       "      <td>0.813301</td>\n",
       "      <td>-0.22663</td>\n",
       "      <td>-0.14218</td>\n",
       "      <td>1.962137</td>\n",
       "      <td>0.237815</td>\n",
       "      <td>-0.491763</td>\n",
       "      <td>-0.362483</td>\n",
       "      <td>-0.079586</td>\n",
       "      <td>-0.073119</td>\n",
       "      <td>-0.122455</td>\n",
       "      <td>-0.932212</td>\n",
       "      <td>0.967614</td>\n",
       "      <td>-0.293034</td>\n",
       "      <td>3.197069</td>\n",
       "      <td>-0.508778</td>\n",
       "      <td>0.551002</td>\n",
       "      <td>-0.377347</td>\n",
       "      <td>-0.923999</td>\n",
       "      <td>3.581835</td>\n",
       "      <td>-1.082538</td>\n",
       "    </tr>\n",
       "  </tbody>\n",
       "</table>\n",
       "</div>"
      ],
      "text/plain": [
       "   num_lab_procedures  glimepiride_Yes  max_glu_serum_>300  glyburide_Yes  \\\n",
       "0            0.350183         4.323082            -0.11218      -0.342417   \n",
       "1            0.603973        -0.231316            -0.11218      -0.342417   \n",
       "2            0.603973        -0.231316            -0.11218      -0.342417   \n",
       "3            1.111554        -0.231316            -0.11218      -0.342417   \n",
       "4            1.822168        -0.231316            -0.11218       2.920412   \n",
       "\n",
       "   insulin_Yes  rosiglitazone_Yes  number_emergency  age_adult  \\\n",
       "0     0.940735          -0.260510         -0.215472  -0.678507   \n",
       "1     0.940735           3.838617         -0.215472  -0.678507   \n",
       "2    -1.062998          -0.260510         -0.215472  -0.678507   \n",
       "3     0.940735          -0.260510         -0.215472  -0.678507   \n",
       "4     0.940735          -0.260510         -0.215472  -0.678507   \n",
       "\n",
       "   number_diagnoses  A1Cresult_Norm  race_Hispanic  num_medications  \\\n",
       "0          0.813301        -0.22663       -0.14218         1.715228   \n",
       "1          0.813301        -0.22663       -0.14218         2.579410   \n",
       "2         -0.826521        -0.22663       -0.14218         0.357226   \n",
       "3          0.813301        -0.22663       -0.14218         0.480681   \n",
       "4          0.813301        -0.22663       -0.14218         1.962137   \n",
       "\n",
       "   max_glu_serum_None  metformin_Yes  A1Cresult_Not Normal  race_Asian  \\\n",
       "0            0.237815      -0.491763             -0.362483   -0.079586   \n",
       "1            0.237815      -0.491763             -0.362483   -0.079586   \n",
       "2            0.237815       2.033499             -0.362483   -0.079586   \n",
       "3            0.237815      -0.491763             -0.362483   -0.079586   \n",
       "4            0.237815      -0.491763             -0.362483   -0.079586   \n",
       "\n",
       "   age_child  race_Other  readmitted_Yes  num_procedures  number_outpatient  \\\n",
       "0  -0.073119   -0.122455        1.072717       -0.789611          -0.293034   \n",
       "1  -0.073119   -0.122455       -0.932212        2.139098          -0.293034   \n",
       "2  -0.073119   -0.122455        1.072717        0.967614          -0.293034   \n",
       "3  -0.073119   -0.122455        1.072717       -0.789611          -0.293034   \n",
       "4  -0.073119   -0.122455       -0.932212        0.967614          -0.293034   \n",
       "\n",
       "   time_in_hospital  number_inpatient  race_Caucasian  glipizide_Yes  \\\n",
       "0          2.863178         -0.508778        0.551002      -0.377347   \n",
       "1          1.861504         -0.508778        0.551002      -0.377347   \n",
       "2         -0.141844         -0.508778        0.551002      -0.377347   \n",
       "3          1.193721         -0.508778        0.551002      -0.377347   \n",
       "4          3.197069         -0.508778        0.551002      -0.377347   \n",
       "\n",
       "   gender_Male  pioglitazone_Yes  change_No  \n",
       "0     1.082252          3.581835  -1.082538  \n",
       "1     1.082252         -0.279187  -1.082538  \n",
       "2     1.082252         -0.279187   0.923755  \n",
       "3    -0.923999         -0.279187   0.923755  \n",
       "4    -0.923999          3.581835  -1.082538  "
      ]
     },
     "execution_count": 15,
     "metadata": {},
     "output_type": "execute_result"
    }
   ],
   "source": [
    "Xtest_t = st.transform(Xtest)\n",
    "Xtest_t=pd.DataFrame(Xtest_t,columns=x.columns)\n",
    "Xtest_t.head()"
   ]
  },
  {
   "cell_type": "code",
   "execution_count": 16,
   "metadata": {
    "id": "B2qC-0lsNPZ-"
   },
   "outputs": [],
   "source": [
    "from sklearn.metrics import classification_report,accuracy_score,roc_auc_score,roc_curve"
   ]
  },
  {
   "cell_type": "markdown",
   "metadata": {
    "id": "GZNWHoVMufbM"
   },
   "source": [
    "# lightgbm"
   ]
  },
  {
   "cell_type": "code",
   "execution_count": 17,
   "metadata": {
    "colab": {
     "base_uri": "https://localhost:8080/"
    },
    "id": "q3qgiA7Jr5of",
    "outputId": "60cffef7-50f3-43f5-9815-7bd449ae59de"
   },
   "outputs": [
    {
     "name": "stdout",
     "output_type": "stream",
     "text": [
      "[LightGBM] [Warning] Accuracy may be bad since you didn't set num_leaves and 2^max_depth > num_leaves\n",
      "[LightGBM] [Warning] Accuracy may be bad since you didn't set num_leaves and 2^max_depth > num_leaves\n",
      "[LightGBM] [Warning] Accuracy may be bad since you didn't set num_leaves and 2^max_depth > num_leaves\n",
      "[LightGBM] [Warning] Accuracy may be bad since you didn't set num_leaves and 2^max_depth > num_leaves\n",
      "[LightGBM] [Warning] Accuracy may be bad since you didn't set num_leaves and 2^max_depth > num_leaves\n",
      "[LightGBM] [Warning] Accuracy may be bad since you didn't set num_leaves and 2^max_depth > num_leaves\n",
      "[LightGBM] [Warning] Accuracy may be bad since you didn't set num_leaves and 2^max_depth > num_leaves\n",
      "[LightGBM] [Warning] Accuracy may be bad since you didn't set num_leaves and 2^max_depth > num_leaves\n",
      "[LightGBM] [Warning] Accuracy may be bad since you didn't set num_leaves and 2^max_depth > num_leaves\n"
     ]
    },
    {
     "data": {
      "text/plain": [
       "RandomizedSearchCV(cv=3, error_score='raise-deprecating',\n",
       "                   estimator=LGBMClassifier(boosting_type='gbdt',\n",
       "                                            class_weight=None,\n",
       "                                            colsample_bytree=1.0,\n",
       "                                            importance_type='split',\n",
       "                                            learning_rate=0.1, max_depth=-1,\n",
       "                                            min_child_samples=20,\n",
       "                                            min_child_weight=0.001,\n",
       "                                            min_split_gain=0.0,\n",
       "                                            n_estimators=100, n_jobs=-1,\n",
       "                                            num_leaves=31, objective=None,\n",
       "                                            random_state=None, reg_alpha=0.0,\n",
       "                                            reg...\n",
       "                                        'max_depth': <scipy.stats._distn_infrastructure.rv_frozen object at 0x00000235AA70C408>,\n",
       "                                        'n_estimators': <scipy.stats._distn_infrastructure.rv_frozen object at 0x00000235A91866C8>,\n",
       "                                        'num_leaves': <scipy.stats._distn_infrastructure.rv_frozen object at 0x00000235AA70CCC8>},\n",
       "                   pre_dispatch='2*n_jobs', random_state=3, refit=True,\n",
       "                   return_train_score=False, scoring=None, verbose=0)"
      ]
     },
     "execution_count": 17,
     "metadata": {},
     "output_type": "execute_result"
    }
   ],
   "source": [
    "import lightgbm as lgb\n",
    "lgbm=lgb.LGBMClassifier()\n",
    "\n",
    "from sklearn.model_selection import RandomizedSearchCV\n",
    "from scipy.stats import randint as sp_randint\n",
    "from scipy.stats import uniform as sp_uniform\n",
    "\n",
    "params={ 'n_estimators': sp_randint(50,200),\n",
    "        'max_depth': sp_randint(2,15),\n",
    "        'learning_rate': sp_uniform(0.001,0.5),\n",
    "        'num_leaves':sp_randint(20,50)}\n",
    "        \n",
    "    \n",
    "rsearch_lgbm=RandomizedSearchCV(lgbm, param_distributions=params, cv=3, n_iter=100, random_state=3)\n",
    "rsearch_lgbm.fit(Xtrain_t,ytrain)"
   ]
  },
  {
   "cell_type": "code",
   "execution_count": 18,
   "metadata": {
    "colab": {
     "base_uri": "https://localhost:8080/"
    },
    "id": "z-XPDrIMvqJF",
    "outputId": "f1eb64ee-3a20-47b2-ef8e-94609e7ff760"
   },
   "outputs": [
    {
     "data": {
      "text/plain": [
       "{'learning_rate': 0.18154188744813732,\n",
       " 'max_depth': 9,\n",
       " 'n_estimators': 95,\n",
       " 'num_leaves': 20}"
      ]
     },
     "execution_count": 18,
     "metadata": {},
     "output_type": "execute_result"
    }
   ],
   "source": [
    "rsearch_lgbm.best_params_"
   ]
  },
  {
   "cell_type": "code",
   "execution_count": 19,
   "metadata": {
    "id": "rhqmTmASvpsB"
   },
   "outputs": [],
   "source": [
    "model = lgb.LGBMClassifier(**rsearch_lgbm.best_params_)\n",
    "model.fit(Xtrain_t,ytrain)\n",
    "ypred = model.predict(Xtest_t)\n",
    "ypred1 = model.predict(Xtrain_t)\n",
    "yprob = model.predict_proba(Xtest_t)\n",
    "y_prob1=yprob[:,1]\n",
    "fpr,tpr,thresholds=roc_curve(ytest,y_prob1)"
   ]
  },
  {
   "cell_type": "code",
   "execution_count": 20,
   "metadata": {
    "colab": {
     "base_uri": "https://localhost:8080/",
     "height": 202
    },
    "id": "Vj26g62lw4Bd",
    "outputId": "7a3b350f-d6d3-4237-f813-c24d73ec5f51"
   },
   "outputs": [
    {
     "data": {
      "text/html": [
       "<div>\n",
       "<style scoped>\n",
       "    .dataframe tbody tr th:only-of-type {\n",
       "        vertical-align: middle;\n",
       "    }\n",
       "\n",
       "    .dataframe tbody tr th {\n",
       "        vertical-align: top;\n",
       "    }\n",
       "\n",
       "    .dataframe thead th {\n",
       "        text-align: right;\n",
       "    }\n",
       "</style>\n",
       "<table border=\"1\" class=\"dataframe\">\n",
       "  <thead>\n",
       "    <tr style=\"text-align: right;\">\n",
       "      <th></th>\n",
       "      <th>y_prob0</th>\n",
       "      <th>y_prob1</th>\n",
       "      <th>y_actual</th>\n",
       "    </tr>\n",
       "  </thead>\n",
       "  <tbody>\n",
       "    <tr>\n",
       "      <td>0</td>\n",
       "      <td>0.947296</td>\n",
       "      <td>0.052704</td>\n",
       "      <td>0</td>\n",
       "    </tr>\n",
       "    <tr>\n",
       "      <td>1</td>\n",
       "      <td>0.880356</td>\n",
       "      <td>0.119644</td>\n",
       "      <td>0</td>\n",
       "    </tr>\n",
       "    <tr>\n",
       "      <td>2</td>\n",
       "      <td>0.898765</td>\n",
       "      <td>0.101235</td>\n",
       "      <td>0</td>\n",
       "    </tr>\n",
       "    <tr>\n",
       "      <td>3</td>\n",
       "      <td>0.922584</td>\n",
       "      <td>0.077416</td>\n",
       "      <td>0</td>\n",
       "    </tr>\n",
       "    <tr>\n",
       "      <td>4</td>\n",
       "      <td>0.898829</td>\n",
       "      <td>0.101171</td>\n",
       "      <td>0</td>\n",
       "    </tr>\n",
       "  </tbody>\n",
       "</table>\n",
       "</div>"
      ],
      "text/plain": [
       "    y_prob0   y_prob1  y_actual\n",
       "0  0.947296  0.052704         0\n",
       "1  0.880356  0.119644         0\n",
       "2  0.898765  0.101235         0\n",
       "3  0.922584  0.077416         0\n",
       "4  0.898829  0.101171         0"
      ]
     },
     "execution_count": 20,
     "metadata": {},
     "output_type": "execute_result"
    }
   ],
   "source": [
    "pdf=pd.DataFrame(yprob,columns=['y_prob0','y_prob1'])\n",
    "pdf['y_actual']=list(ytest)\n",
    "pdf.head()"
   ]
  },
  {
   "cell_type": "code",
   "execution_count": 21,
   "metadata": {
    "id": "-V1_o2CTxGM_"
   },
   "outputs": [],
   "source": [
    "p0=pdf[pdf['y_actual']==0]['y_prob1']\n",
    "p1=pdf[pdf['y_actual']==1]['y_prob1']"
   ]
  },
  {
   "cell_type": "code",
   "execution_count": 22,
   "metadata": {
    "colab": {
     "base_uri": "https://localhost:8080/",
     "height": 846
    },
    "id": "h5nshvvsxLRT",
    "outputId": "37fc7006-e6ad-4572-ef9d-e8cac50de901"
   },
   "outputs": [
    {
     "data": {
      "image/png": "[encoded data removed]",
      "text/plain": [
       "<Figure size 720x432 with 1 Axes>"
      ]
     },
     "metadata": {
      "needs_background": "light"
     },
     "output_type": "display_data"
    },
    {
     "data": {
      "image/png": "[encoded data removed]",
      "text/plain": [
       "<Figure size 720x504 with 1 Axes>"
      ]
     },
     "metadata": {
      "needs_background": "light"
     },
     "output_type": "display_data"
    }
   ],
   "source": [
    "plt.figure(figsize=(10,6))\n",
    "x=[i/10 for i in range(11)]\n",
    "plt.plot(fpr,tpr,color='g')\n",
    "plt.plot(x,x,color='r')\n",
    "plt.title(f'ROC curve with auc score {roc_auc_score(ytest,y_prob1)}')\n",
    "plt.ylabel('True positive rate (tpr)')\n",
    "plt.xlabel('False Positive rate(fpr)')\n",
    "plt.show()\n",
    "\n",
    "plt.figure(figsize=(10,7))\n",
    "sns.distplot(p0,color='b',label='Probabality of class: 0')\n",
    "sns.distplot(p1,color='r',label='Probabality of class: 1')\n",
    "plt.title(f'auc score {roc_auc_score(ytest,y_prob1)}')\n",
    "plt.legend()\n",
    "plt.show()"
   ]
  },
  {
   "cell_type": "code",
   "execution_count": 23,
   "metadata": {
    "colab": {
     "base_uri": "https://localhost:8080/"
    },
    "id": "XB7jqfk3xLOi",
    "outputId": "129b39e6-5ca9-401f-d326-ce380a141b02"
   },
   "outputs": [
    {
     "name": "stdout",
     "output_type": "stream",
     "text": [
      "              precision    recall  f1-score   support\n",
      "\n",
      "           0       0.83      0.97      0.90     23497\n",
      "           1       0.66      0.20      0.31      5919\n",
      "\n",
      "    accuracy                           0.82     29416\n",
      "   macro avg       0.74      0.59      0.60     29416\n",
      "weighted avg       0.79      0.82      0.78     29416\n",
      "\n"
     ]
    }
   ],
   "source": [
    "print(classification_report(ytest,ypred))"
   ]
  },
  {
   "cell_type": "code",
   "execution_count": 24,
   "metadata": {
    "id": "4C9qOosmeCL3"
   },
   "outputs": [
    {
     "name": "stdout",
     "output_type": "stream",
     "text": [
      "              precision    recall  f1-score   support\n",
      "\n",
      "           0       0.83      0.98      0.90     54825\n",
      "           1       0.71      0.21      0.33     13811\n",
      "\n",
      "    accuracy                           0.82     68636\n",
      "   macro avg       0.77      0.60      0.61     68636\n",
      "weighted avg       0.81      0.82      0.78     68636\n",
      "\n"
     ]
    }
   ],
   "source": [
    "print(classification_report(ytrain,ypred1))"
   ]
  },
  {
   "cell_type": "markdown",
   "metadata": {
    "id": "BX-_PDW8xdNn"
   },
   "source": [
    "# GradientBoosting"
   ]
  },
  {
   "cell_type": "code",
   "execution_count": 25,
   "metadata": {
    "colab": {
     "base_uri": "https://localhost:8080/"
    },
    "id": "WXyAnB7_zTuX",
    "outputId": "7ceb021f-a806-4835-aa8e-680b54d52cdc"
   },
   "outputs": [
    {
     "data": {
      "text/plain": [
       "RandomizedSearchCV(cv=3, error_score='raise-deprecating',\n",
       "                   estimator=GradientBoostingClassifier(criterion='friedman_mse',\n",
       "                                                        init=None,\n",
       "                                                        learning_rate=0.1,\n",
       "                                                        loss='deviance',\n",
       "                                                        max_depth=3,\n",
       "                                                        max_features=None,\n",
       "                                                        max_leaf_nodes=None,\n",
       "                                                        min_impurity_decrease=0.0,\n",
       "                                                        min_impurity_split=None,\n",
       "                                                        min_samples_leaf=1,\n",
       "                                                        min_samples_split=2,\n",
       "                                                        min_weight_fraction_leaf=0.0,\n",
       "                                                        n_estimators=100,\n",
       "                                                        n_i...\n",
       "                                        'min_samples_leaf': <scipy.stats._distn_infrastructure.rv_frozen object at 0x00000235B0705788>,\n",
       "                                        'min_samples_split': <scipy.stats._distn_infrastructure.rv_frozen object at 0x00000235B0705948>,\n",
       "                                        'n_estimators': <scipy.stats._distn_infrastructure.rv_frozen object at 0x00000235AA75C648>},\n",
       "                   pre_dispatch='2*n_jobs', random_state=3, refit=True,\n",
       "                   return_train_score=False, scoring=None, verbose=0)"
      ]
     },
     "execution_count": 25,
     "metadata": {},
     "output_type": "execute_result"
    }
   ],
   "source": [
    "from sklearn.ensemble import GradientBoostingClassifier\n",
    "\n",
    "gdBoost = GradientBoostingClassifier()\n",
    "from sklearn.model_selection import RandomizedSearchCV\n",
    "from scipy.stats import randint as sp_randint\n",
    "from scipy.stats import uniform as sp_uniform\n",
    "\n",
    "params={ 'n_estimators': sp_randint(50,200),\n",
    "        'max_depth': sp_randint(2,15),\n",
    "        'learning_rate': sp_uniform(0.001,0.5),\n",
    "        'min_samples_leaf': sp_randint(2,15),\n",
    "        'min_samples_split': sp_randint(2,15)}\n",
    "        \n",
    "    \n",
    "rsearch_gdBoost = RandomizedSearchCV(gdBoost, param_distributions=params, cv=3, n_iter=100, random_state=3)\n",
    "rsearch_gdBoost.fit(Xtrain_t,ytrain)"
   ]
  },
  {
   "cell_type": "code",
   "execution_count": 26,
   "metadata": {
    "colab": {
     "base_uri": "https://localhost:8080/"
    },
    "id": "YKPK8RitTxlw",
    "outputId": "019b43e4-7802-4c1c-e8a5-e3b12e84be8c"
   },
   "outputs": [
    {
     "data": {
      "text/plain": [
       "{'learning_rate': 0.37330572354222125,\n",
       " 'max_depth': 2,\n",
       " 'min_samples_leaf': 14,\n",
       " 'min_samples_split': 14,\n",
       " 'n_estimators': 164}"
      ]
     },
     "execution_count": 26,
     "metadata": {},
     "output_type": "execute_result"
    }
   ],
   "source": [
    "rsearch_gdBoost.best_params_"
   ]
  },
  {
   "cell_type": "code",
   "execution_count": 27,
   "metadata": {
    "id": "EwkulNfocLSO"
   },
   "outputs": [],
   "source": [
    "model = GradientBoostingClassifier(**rsearch_gdBoost.best_params_)\n",
    "model.fit(Xtrain_t,ytrain)\n",
    "ypred = model.predict(Xtest_t)\n",
    "ypred1 = model.predict(Xtrain_t)\n",
    "yprob = model.predict_proba(Xtest_t)\n",
    "y_prob1=yprob[:,1]\n",
    "fpr,tpr,thresholds=roc_curve(ytest,y_prob1)"
   ]
  },
  {
   "cell_type": "code",
   "execution_count": 28,
   "metadata": {
    "colab": {
     "base_uri": "https://localhost:8080/",
     "height": 202
    },
    "id": "-CkGpz01cLHl",
    "outputId": "076e16e9-6707-439c-adc4-22120e38e009"
   },
   "outputs": [
    {
     "data": {
      "text/html": [
       "<div>\n",
       "<style scoped>\n",
       "    .dataframe tbody tr th:only-of-type {\n",
       "        vertical-align: middle;\n",
       "    }\n",
       "\n",
       "    .dataframe tbody tr th {\n",
       "        vertical-align: top;\n",
       "    }\n",
       "\n",
       "    .dataframe thead th {\n",
       "        text-align: right;\n",
       "    }\n",
       "</style>\n",
       "<table border=\"1\" class=\"dataframe\">\n",
       "  <thead>\n",
       "    <tr style=\"text-align: right;\">\n",
       "      <th></th>\n",
       "      <th>y_prob0</th>\n",
       "      <th>y_prob1</th>\n",
       "      <th>y_actual</th>\n",
       "    </tr>\n",
       "  </thead>\n",
       "  <tbody>\n",
       "    <tr>\n",
       "      <td>0</td>\n",
       "      <td>0.953998</td>\n",
       "      <td>0.046002</td>\n",
       "      <td>0</td>\n",
       "    </tr>\n",
       "    <tr>\n",
       "      <td>1</td>\n",
       "      <td>0.917568</td>\n",
       "      <td>0.082432</td>\n",
       "      <td>0</td>\n",
       "    </tr>\n",
       "    <tr>\n",
       "      <td>2</td>\n",
       "      <td>0.908951</td>\n",
       "      <td>0.091049</td>\n",
       "      <td>0</td>\n",
       "    </tr>\n",
       "    <tr>\n",
       "      <td>3</td>\n",
       "      <td>0.922178</td>\n",
       "      <td>0.077822</td>\n",
       "      <td>0</td>\n",
       "    </tr>\n",
       "    <tr>\n",
       "      <td>4</td>\n",
       "      <td>0.945162</td>\n",
       "      <td>0.054838</td>\n",
       "      <td>0</td>\n",
       "    </tr>\n",
       "  </tbody>\n",
       "</table>\n",
       "</div>"
      ],
      "text/plain": [
       "    y_prob0   y_prob1  y_actual\n",
       "0  0.953998  0.046002         0\n",
       "1  0.917568  0.082432         0\n",
       "2  0.908951  0.091049         0\n",
       "3  0.922178  0.077822         0\n",
       "4  0.945162  0.054838         0"
      ]
     },
     "execution_count": 28,
     "metadata": {},
     "output_type": "execute_result"
    }
   ],
   "source": [
    "pdf=pd.DataFrame(yprob,columns=['y_prob0','y_prob1'])\n",
    "pdf['y_actual']=list(ytest)\n",
    "pdf.head()"
   ]
  },
  {
   "cell_type": "code",
   "execution_count": 29,
   "metadata": {
    "id": "BC-aBZrOco9y"
   },
   "outputs": [],
   "source": [
    "p0=pdf[pdf['y_actual']==0]['y_prob1']\n",
    "p1=pdf[pdf['y_actual']==1]['y_prob1']"
   ]
  },
  {
   "cell_type": "code",
   "execution_count": 30,
   "metadata": {
    "colab": {
     "base_uri": "https://localhost:8080/",
     "height": 846
    },
    "id": "FtMuHCoIcuxm",
    "outputId": "1349fd9d-6181-4d6f-f1c9-55e48e2074d2"
   },
   "outputs": [
    {
     "data": {
      "image/png": "[encoded data removed]",
      "text/plain": [
       "<Figure size 720x432 with 1 Axes>"
      ]
     },
     "metadata": {
      "needs_background": "light"
     },
     "output_type": "display_data"
    },
    {
     "data": {
      "image/png": "[encoded data removed]",
      "text/plain": [
       "<Figure size 720x504 with 1 Axes>"
      ]
     },
     "metadata": {
      "needs_background": "light"
     },
     "output_type": "display_data"
    }
   ],
   "source": [
    "plt.figure(figsize=(10,6))\n",
    "x=[i/10 for i in range(11)]\n",
    "plt.plot(fpr,tpr,color='g')\n",
    "plt.plot(x,x,color='r')\n",
    "plt.title(f'ROC curve with auc score {roc_auc_score(ytest,y_prob1)}')\n",
    "plt.ylabel('True positive rate (tpr)')\n",
    "plt.xlabel('False Positive rate(fpr)')\n",
    "plt.show()\n",
    "\n",
    "plt.figure(figsize=(10,7))\n",
    "sns.distplot(p0,color='b',label='Probabality of class: 0')\n",
    "sns.distplot(p1,color='r',label='Probabality of class: 1')\n",
    "plt.title(f'auc score {roc_auc_score(ytest,y_prob1)}')\n",
    "plt.legend()\n",
    "plt.show()"
   ]
  },
  {
   "cell_type": "code",
   "execution_count": 31,
   "metadata": {
    "colab": {
     "base_uri": "https://localhost:8080/"
    },
    "id": "LuVEwJ76curT",
    "outputId": "8b315c3b-b46c-4039-919e-2c8bd59050fc"
   },
   "outputs": [
    {
     "name": "stdout",
     "output_type": "stream",
     "text": [
      "              precision    recall  f1-score   support\n",
      "\n",
      "           0       0.83      0.97      0.89     23497\n",
      "           1       0.65      0.19      0.30      5919\n",
      "\n",
      "    accuracy                           0.82     29416\n",
      "   macro avg       0.74      0.58      0.60     29416\n",
      "weighted avg       0.79      0.82      0.77     29416\n",
      "\n"
     ]
    }
   ],
   "source": [
    "print(classification_report(ytest,ypred))"
   ]
  },
  {
   "cell_type": "code",
   "execution_count": 32,
   "metadata": {
    "id": "MEiW1GgneHcm"
   },
   "outputs": [
    {
     "name": "stdout",
     "output_type": "stream",
     "text": [
      "              precision    recall  f1-score   support\n",
      "\n",
      "           0       0.83      0.98      0.90     54825\n",
      "           1       0.66      0.19      0.30     13811\n",
      "\n",
      "    accuracy                           0.82     68636\n",
      "   macro avg       0.75      0.58      0.60     68636\n",
      "weighted avg       0.79      0.82      0.77     68636\n",
      "\n"
     ]
    }
   ],
   "source": [
    "print(classification_report(ytrain,ypred1))"
   ]
  },
  {
   "cell_type": "markdown",
   "metadata": {
    "id": "-j45S-_LdMtL"
   },
   "source": [
    "# XG boost"
   ]
  },
  {
   "cell_type": "code",
   "execution_count": 33,
   "metadata": {
    "colab": {
     "base_uri": "https://localhost:8080/"
    },
    "id": "ydE9f_Y-dKBy",
    "outputId": "60643850-9f88-4d81-f6dd-9c6091e8b6c3"
   },
   "outputs": [
    {
     "data": {
      "text/plain": [
       "RandomizedSearchCV(cv=3, error_score='raise-deprecating',\n",
       "                   estimator=XGBClassifier(base_score=None, booster=None,\n",
       "                                           colsample_bylevel=None,\n",
       "                                           colsample_bynode=None,\n",
       "                                           colsample_bytree=None, gamma=None,\n",
       "                                           gpu_id=None, importance_type='gain',\n",
       "                                           interaction_constraints=None,\n",
       "                                           learning_rate=None,\n",
       "                                           max_delta_step=None, max_depth=None,\n",
       "                                           min_child_weight=None, missing=nan,\n",
       "                                           monotone_co...\n",
       "                                        'max_depth': <scipy.stats._distn_infrastructure.rv_frozen object at 0x00000235B331B488>,\n",
       "                                        'min_child_weight': <scipy.stats._distn_infrastructure.rv_frozen object at 0x00000235B331BF48>,\n",
       "                                        'n_estimators': <scipy.stats._distn_infrastructure.rv_frozen object at 0x00000235B32F2E08>},\n",
       "                   pre_dispatch='2*n_jobs', random_state=3, refit=True,\n",
       "                   return_train_score=False, scoring=None, verbose=0)"
      ]
     },
     "execution_count": 33,
     "metadata": {},
     "output_type": "execute_result"
    }
   ],
   "source": [
    "from xgboost import XGBClassifier\n",
    "xgBoost = XGBClassifier()\n",
    "from sklearn.model_selection import RandomizedSearchCV\n",
    "from scipy.stats import randint as sp_randint\n",
    "from scipy.stats import uniform as sp_uniform\n",
    "\n",
    "params={ 'n_estimators': sp_randint(50,200),\n",
    "        \"max_depth\": sp_randint(1,20),\n",
    "        'learning_rate': sp_uniform(0.001,0.5),\n",
    "        \"min_child_weight\" : sp_randint(1,10),\n",
    "        \"gamma\" : sp_uniform(0.0,0.7),\n",
    "        \"colsample_bytree\" : sp_uniform(0.0,.9)}\n",
    "        \n",
    "    \n",
    "rsearch_xgBoos = RandomizedSearchCV(xgBoost, param_distributions=params, cv=3, n_iter=100, random_state=3)\n",
    "rsearch_xgBoos.fit(Xtrain_t,ytrain)"
   ]
  },
  {
   "cell_type": "code",
   "execution_count": 34,
   "metadata": {
    "colab": {
     "base_uri": "https://localhost:8080/"
    },
    "id": "P5jLpCu3ixtB",
    "outputId": "940b0037-5631-412a-9ebe-4aeeb178915e"
   },
   "outputs": [
    {
     "data": {
      "text/plain": [
       "{'colsample_bytree': 0.44451235785409277,\n",
       " 'gamma': 0.4785749927177465,\n",
       " 'learning_rate': 0.0529230997548944,\n",
       " 'max_depth': 9,\n",
       " 'min_child_weight': 9,\n",
       " 'n_estimators': 139}"
      ]
     },
     "execution_count": 34,
     "metadata": {},
     "output_type": "execute_result"
    }
   ],
   "source": [
    "rsearch_xgBoos.best_params_"
   ]
  },
  {
   "cell_type": "code",
   "execution_count": 35,
   "metadata": {
    "id": "JduNSFRBixj2"
   },
   "outputs": [],
   "source": [
    "model = XGBClassifier(**rsearch_xgBoos.best_params_)\n",
    "model.fit(Xtrain_t,ytrain)\n",
    "ypred = model.predict(Xtest_t)\n",
    "ypred1 = model.predict(Xtrain_t)\n",
    "yprob = model.predict_proba(Xtest_t)\n",
    "y_prob1=yprob[:,1]\n",
    "fpr,tpr,thresholds=roc_curve(ytest,y_prob1)"
   ]
  },
  {
   "cell_type": "code",
   "execution_count": 36,
   "metadata": {
    "colab": {
     "base_uri": "https://localhost:8080/",
     "height": 202
    },
    "id": "Jv1Y3vZBoWwQ",
    "outputId": "269671cc-cb45-4707-95eb-c7272831b9af"
   },
   "outputs": [
    {
     "data": {
      "text/html": [
       "<div>\n",
       "<style scoped>\n",
       "    .dataframe tbody tr th:only-of-type {\n",
       "        vertical-align: middle;\n",
       "    }\n",
       "\n",
       "    .dataframe tbody tr th {\n",
       "        vertical-align: top;\n",
       "    }\n",
       "\n",
       "    .dataframe thead th {\n",
       "        text-align: right;\n",
       "    }\n",
       "</style>\n",
       "<table border=\"1\" class=\"dataframe\">\n",
       "  <thead>\n",
       "    <tr style=\"text-align: right;\">\n",
       "      <th></th>\n",
       "      <th>y_prob0</th>\n",
       "      <th>y_prob1</th>\n",
       "      <th>y_actual</th>\n",
       "    </tr>\n",
       "  </thead>\n",
       "  <tbody>\n",
       "    <tr>\n",
       "      <td>0</td>\n",
       "      <td>0.933208</td>\n",
       "      <td>0.066792</td>\n",
       "      <td>0</td>\n",
       "    </tr>\n",
       "    <tr>\n",
       "      <td>1</td>\n",
       "      <td>0.914785</td>\n",
       "      <td>0.085215</td>\n",
       "      <td>0</td>\n",
       "    </tr>\n",
       "    <tr>\n",
       "      <td>2</td>\n",
       "      <td>0.886636</td>\n",
       "      <td>0.113364</td>\n",
       "      <td>0</td>\n",
       "    </tr>\n",
       "    <tr>\n",
       "      <td>3</td>\n",
       "      <td>0.914168</td>\n",
       "      <td>0.085832</td>\n",
       "      <td>0</td>\n",
       "    </tr>\n",
       "    <tr>\n",
       "      <td>4</td>\n",
       "      <td>0.926256</td>\n",
       "      <td>0.073744</td>\n",
       "      <td>0</td>\n",
       "    </tr>\n",
       "  </tbody>\n",
       "</table>\n",
       "</div>"
      ],
      "text/plain": [
       "    y_prob0   y_prob1  y_actual\n",
       "0  0.933208  0.066792         0\n",
       "1  0.914785  0.085215         0\n",
       "2  0.886636  0.113364         0\n",
       "3  0.914168  0.085832         0\n",
       "4  0.926256  0.073744         0"
      ]
     },
     "execution_count": 36,
     "metadata": {},
     "output_type": "execute_result"
    }
   ],
   "source": [
    "pdf=pd.DataFrame(yprob,columns=['y_prob0','y_prob1'])\n",
    "pdf['y_actual']=list(ytest)\n",
    "pdf.head()"
   ]
  },
  {
   "cell_type": "code",
   "execution_count": 37,
   "metadata": {
    "id": "DV6fW0BVoWl_"
   },
   "outputs": [],
   "source": [
    "p0=pdf[pdf['y_actual']==0]['y_prob1']\n",
    "p1=pdf[pdf['y_actual']==1]['y_prob1']"
   ]
  },
  {
   "cell_type": "code",
   "execution_count": 38,
   "metadata": {
    "colab": {
     "base_uri": "https://localhost:8080/",
     "height": 846
    },
    "id": "jLXXHiQVogjh",
    "outputId": "edb894c6-5bb7-4a5a-a90c-099c494539f4"
   },
   "outputs": [
    {
     "data": {
      "image/png": "[encoded data removed]",
      "text/plain": [
       "<Figure size 720x432 with 1 Axes>"
      ]
     },
     "metadata": {
      "needs_background": "light"
     },
     "output_type": "display_data"
    },
    {
     "data": {
      "image/png": "[encoded data removed]",
      "text/plain": [
       "<Figure size 720x504 with 1 Axes>"
      ]
     },
     "metadata": {
      "needs_background": "light"
     },
     "output_type": "display_data"
    }
   ],
   "source": [
    "plt.figure(figsize=(10,6))\n",
    "x=[i/10 for i in range(11)]\n",
    "plt.plot(fpr,tpr,color='g')\n",
    "plt.plot(x,x,color='r')\n",
    "plt.title(f'ROC curve with auc score {roc_auc_score(ytest,y_prob1)}')\n",
    "plt.ylabel('True positive rate (tpr)')\n",
    "plt.xlabel('False Positive rate(fpr)')\n",
    "plt.show()\n",
    "\n",
    "plt.figure(figsize=(10,7))\n",
    "sns.distplot(p0,color='b',label='Probabality of class: 0')\n",
    "sns.distplot(p1,color='r',label='Probabality of class: 1')\n",
    "plt.title(f'auc score {roc_auc_score(ytest,y_prob1)}')\n",
    "plt.legend()\n",
    "plt.show()"
   ]
  },
  {
   "cell_type": "code",
   "execution_count": 39,
   "metadata": {
    "colab": {
     "base_uri": "https://localhost:8080/"
    },
    "id": "Xwgb0OZHogfo",
    "outputId": "9981f945-ad1e-46e9-9fce-696ceffd87fa"
   },
   "outputs": [
    {
     "name": "stdout",
     "output_type": "stream",
     "text": [
      "              precision    recall  f1-score   support\n",
      "\n",
      "           0       0.83      0.98      0.89     23497\n",
      "           1       0.66      0.18      0.29      5919\n",
      "\n",
      "    accuracy                           0.82     29416\n",
      "   macro avg       0.74      0.58      0.59     29416\n",
      "weighted avg       0.79      0.82      0.77     29416\n",
      "\n"
     ]
    }
   ],
   "source": [
    "print(classification_report(ytest,ypred))"
   ]
  },
  {
   "cell_type": "code",
   "execution_count": 40,
   "metadata": {
    "id": "Jn6J2zyAogdy"
   },
   "outputs": [
    {
     "name": "stdout",
     "output_type": "stream",
     "text": [
      "              precision    recall  f1-score   support\n",
      "\n",
      "           0       0.83      0.98      0.90     54825\n",
      "           1       0.76      0.21      0.33     13811\n",
      "\n",
      "    accuracy                           0.83     68636\n",
      "   macro avg       0.80      0.60      0.62     68636\n",
      "weighted avg       0.82      0.83      0.79     68636\n",
      "\n"
     ]
    }
   ],
   "source": [
    "print(classification_report(ytrain,ypred1))"
   ]
  },
  {
   "cell_type": "code",
   "execution_count": null,
   "metadata": {
    "id": "nsrBwpUJI1kW"
   },
   "outputs": [],
   "source": []
  },
  {
   "cell_type": "code",
   "execution_count": null,
   "metadata": {
    "id": "Oa_V58yXI1rr"
   },
   "outputs": [],
   "source": []
  },
  {
   "cell_type": "code",
   "execution_count": null,
   "metadata": {
    "id": "31bjQUO5I1_q"
   },
   "outputs": [],
   "source": []
  },
  {
   "cell_type": "code",
   "execution_count": null,
   "metadata": {
    "id": "baF1g9BwI1n_"
   },
   "outputs": [],
   "source": []
  },
  {
   "cell_type": "code",
   "execution_count": null,
   "metadata": {
    "id": "ecFhsGL7I1gy"
   },
   "outputs": [],
   "source": []
  }
 ],
 "metadata": {
  "colab": {
   "collapsed_sections": [],
   "name": "ML_Models3_t.ipynb",
   "provenance": []
  },
  "kernelspec": {
   "display_name": "Python 3",
   "language": "python",
   "name": "python3"
  },
  "language_info": {
   "codemirror_mode": {
    "name": "ipython",
    "version": 3
   },
   "file_extension": ".py",
   "mimetype": "text/x-python",
   "name": "python",
   "nbconvert_exporter": "python",
   "pygments_lexer": "ipython3",
   "version": "3.7.4"
  }
 },
 "nbformat": 4,
 "nbformat_minor": 1
}
