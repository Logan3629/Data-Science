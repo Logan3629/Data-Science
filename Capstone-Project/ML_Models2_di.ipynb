{
 "cells": [
  {
   "cell_type": "code",
   "execution_count": 1,
   "metadata": {
    "id": "HjVrujrZsIqc"
   },
   "outputs": [],
   "source": [
    "#warnings\n",
    "import warnings\n",
    "warnings.filterwarnings('ignore')"
   ]
  },
  {
   "cell_type": "code",
   "execution_count": 2,
   "metadata": {
    "id": "qekgUz4Nsot4"
   },
   "outputs": [],
   "source": [
    "import numpy as np\n",
    "import pandas as pd\n",
    "\n",
    "# data visuzlization\n",
    "import matplotlib.pyplot as plt\n",
    "import seaborn as sns\n",
    "import scipy.stats as st"
   ]
  },
  {
   "cell_type": "code",
   "execution_count": 3,
   "metadata": {
    "id": "N38D5_-9sreU"
   },
   "outputs": [],
   "source": [
    "# max columns\n",
    "pd.set_option('display.max_columns', None)\n",
    "# max rows\n",
    "pd.set_option('display.max_rows', None)"
   ]
  },
  {
   "cell_type": "code",
   "execution_count": 4,
   "metadata": {
    "id": "s9ABSUDNstrX"
   },
   "outputs": [],
   "source": [
    "x = pd.read_csv('x1_di.csv')\n",
    "y = pd.read_csv('y1_di.csv')"
   ]
  },
  {
   "cell_type": "code",
   "execution_count": 5,
   "metadata": {
    "colab": {
     "base_uri": "https://localhost:8080/"
    },
    "id": "HJm-N2Hcs20x",
    "outputId": "8c1c61cd-f424-4fc6-c4fa-cd626ce4d28a"
   },
   "outputs": [
    {
     "data": {
      "text/plain": [
       "(98052, 29)"
      ]
     },
     "execution_count": 5,
     "metadata": {},
     "output_type": "execute_result"
    }
   ],
   "source": [
    "x.shape"
   ]
  },
  {
   "cell_type": "code",
   "execution_count": 6,
   "metadata": {
    "colab": {
     "base_uri": "https://localhost:8080/",
     "height": 239
    },
    "id": "abKoo9ctz-uH",
    "outputId": "a3619a21-d683-4179-db9d-1697c175e8b8"
   },
   "outputs": [
    {
     "data": {
      "text/html": [
       "<div>\n",
       "<style scoped>\n",
       "    .dataframe tbody tr th:only-of-type {\n",
       "        vertical-align: middle;\n",
       "    }\n",
       "\n",
       "    .dataframe tbody tr th {\n",
       "        vertical-align: top;\n",
       "    }\n",
       "\n",
       "    .dataframe thead th {\n",
       "        text-align: right;\n",
       "    }\n",
       "</style>\n",
       "<table border=\"1\" class=\"dataframe\">\n",
       "  <thead>\n",
       "    <tr style=\"text-align: right;\">\n",
       "      <th></th>\n",
       "      <th>Unnamed: 0</th>\n",
       "      <th>num_lab_procedures</th>\n",
       "      <th>glimepiride_Yes</th>\n",
       "      <th>max_glu_serum_&gt;300</th>\n",
       "      <th>glyburide_Yes</th>\n",
       "      <th>insulin_Yes</th>\n",
       "      <th>rosiglitazone_Yes</th>\n",
       "      <th>number_emergency</th>\n",
       "      <th>age_adult</th>\n",
       "      <th>number_diagnoses</th>\n",
       "      <th>A1Cresult_Norm</th>\n",
       "      <th>race_Hispanic</th>\n",
       "      <th>num_medications</th>\n",
       "      <th>max_glu_serum_None</th>\n",
       "      <th>metformin_Yes</th>\n",
       "      <th>A1Cresult_Not Normal</th>\n",
       "      <th>race_Asian</th>\n",
       "      <th>age_child</th>\n",
       "      <th>race_Other</th>\n",
       "      <th>readmitted_Yes</th>\n",
       "      <th>num_procedures</th>\n",
       "      <th>number_outpatient</th>\n",
       "      <th>time_in_hospital</th>\n",
       "      <th>number_inpatient</th>\n",
       "      <th>race_Caucasian</th>\n",
       "      <th>glipizide_Yes</th>\n",
       "      <th>gender_Male</th>\n",
       "      <th>pioglitazone_Yes</th>\n",
       "      <th>change_No</th>\n",
       "    </tr>\n",
       "  </thead>\n",
       "  <tbody>\n",
       "    <tr>\n",
       "      <td>0</td>\n",
       "      <td>1</td>\n",
       "      <td>59</td>\n",
       "      <td>0</td>\n",
       "      <td>0</td>\n",
       "      <td>0</td>\n",
       "      <td>1</td>\n",
       "      <td>0</td>\n",
       "      <td>0</td>\n",
       "      <td>0</td>\n",
       "      <td>9</td>\n",
       "      <td>0</td>\n",
       "      <td>0</td>\n",
       "      <td>18</td>\n",
       "      <td>1</td>\n",
       "      <td>0</td>\n",
       "      <td>0</td>\n",
       "      <td>0</td>\n",
       "      <td>1</td>\n",
       "      <td>0</td>\n",
       "      <td>1</td>\n",
       "      <td>0</td>\n",
       "      <td>0</td>\n",
       "      <td>3</td>\n",
       "      <td>0</td>\n",
       "      <td>1</td>\n",
       "      <td>0</td>\n",
       "      <td>0</td>\n",
       "      <td>0</td>\n",
       "      <td>0</td>\n",
       "    </tr>\n",
       "    <tr>\n",
       "      <td>1</td>\n",
       "      <td>2</td>\n",
       "      <td>11</td>\n",
       "      <td>0</td>\n",
       "      <td>0</td>\n",
       "      <td>0</td>\n",
       "      <td>0</td>\n",
       "      <td>0</td>\n",
       "      <td>0</td>\n",
       "      <td>1</td>\n",
       "      <td>6</td>\n",
       "      <td>0</td>\n",
       "      <td>0</td>\n",
       "      <td>13</td>\n",
       "      <td>1</td>\n",
       "      <td>0</td>\n",
       "      <td>0</td>\n",
       "      <td>0</td>\n",
       "      <td>0</td>\n",
       "      <td>0</td>\n",
       "      <td>0</td>\n",
       "      <td>5</td>\n",
       "      <td>2</td>\n",
       "      <td>2</td>\n",
       "      <td>1</td>\n",
       "      <td>0</td>\n",
       "      <td>1</td>\n",
       "      <td>0</td>\n",
       "      <td>0</td>\n",
       "      <td>1</td>\n",
       "    </tr>\n",
       "    <tr>\n",
       "      <td>2</td>\n",
       "      <td>3</td>\n",
       "      <td>44</td>\n",
       "      <td>0</td>\n",
       "      <td>0</td>\n",
       "      <td>0</td>\n",
       "      <td>1</td>\n",
       "      <td>0</td>\n",
       "      <td>0</td>\n",
       "      <td>1</td>\n",
       "      <td>7</td>\n",
       "      <td>0</td>\n",
       "      <td>0</td>\n",
       "      <td>16</td>\n",
       "      <td>1</td>\n",
       "      <td>0</td>\n",
       "      <td>0</td>\n",
       "      <td>0</td>\n",
       "      <td>0</td>\n",
       "      <td>0</td>\n",
       "      <td>0</td>\n",
       "      <td>1</td>\n",
       "      <td>0</td>\n",
       "      <td>2</td>\n",
       "      <td>0</td>\n",
       "      <td>1</td>\n",
       "      <td>0</td>\n",
       "      <td>1</td>\n",
       "      <td>0</td>\n",
       "      <td>0</td>\n",
       "    </tr>\n",
       "    <tr>\n",
       "      <td>3</td>\n",
       "      <td>4</td>\n",
       "      <td>51</td>\n",
       "      <td>0</td>\n",
       "      <td>0</td>\n",
       "      <td>0</td>\n",
       "      <td>1</td>\n",
       "      <td>0</td>\n",
       "      <td>0</td>\n",
       "      <td>1</td>\n",
       "      <td>5</td>\n",
       "      <td>0</td>\n",
       "      <td>0</td>\n",
       "      <td>8</td>\n",
       "      <td>1</td>\n",
       "      <td>0</td>\n",
       "      <td>0</td>\n",
       "      <td>0</td>\n",
       "      <td>0</td>\n",
       "      <td>0</td>\n",
       "      <td>0</td>\n",
       "      <td>0</td>\n",
       "      <td>0</td>\n",
       "      <td>1</td>\n",
       "      <td>0</td>\n",
       "      <td>1</td>\n",
       "      <td>1</td>\n",
       "      <td>1</td>\n",
       "      <td>0</td>\n",
       "      <td>0</td>\n",
       "    </tr>\n",
       "    <tr>\n",
       "      <td>4</td>\n",
       "      <td>5</td>\n",
       "      <td>31</td>\n",
       "      <td>0</td>\n",
       "      <td>0</td>\n",
       "      <td>0</td>\n",
       "      <td>1</td>\n",
       "      <td>0</td>\n",
       "      <td>0</td>\n",
       "      <td>1</td>\n",
       "      <td>9</td>\n",
       "      <td>0</td>\n",
       "      <td>0</td>\n",
       "      <td>16</td>\n",
       "      <td>1</td>\n",
       "      <td>0</td>\n",
       "      <td>0</td>\n",
       "      <td>0</td>\n",
       "      <td>0</td>\n",
       "      <td>0</td>\n",
       "      <td>1</td>\n",
       "      <td>6</td>\n",
       "      <td>0</td>\n",
       "      <td>3</td>\n",
       "      <td>0</td>\n",
       "      <td>1</td>\n",
       "      <td>0</td>\n",
       "      <td>1</td>\n",
       "      <td>0</td>\n",
       "      <td>1</td>\n",
       "    </tr>\n",
       "  </tbody>\n",
       "</table>\n",
       "</div>"
      ],
      "text/plain": [
       "   Unnamed: 0  num_lab_procedures  glimepiride_Yes  max_glu_serum_>300  \\\n",
       "0           1                  59                0                   0   \n",
       "1           2                  11                0                   0   \n",
       "2           3                  44                0                   0   \n",
       "3           4                  51                0                   0   \n",
       "4           5                  31                0                   0   \n",
       "\n",
       "   glyburide_Yes  insulin_Yes  rosiglitazone_Yes  number_emergency  age_adult  \\\n",
       "0              0            1                  0                 0          0   \n",
       "1              0            0                  0                 0          1   \n",
       "2              0            1                  0                 0          1   \n",
       "3              0            1                  0                 0          1   \n",
       "4              0            1                  0                 0          1   \n",
       "\n",
       "   number_diagnoses  A1Cresult_Norm  race_Hispanic  num_medications  \\\n",
       "0                 9               0              0               18   \n",
       "1                 6               0              0               13   \n",
       "2                 7               0              0               16   \n",
       "3                 5               0              0                8   \n",
       "4                 9               0              0               16   \n",
       "\n",
       "   max_glu_serum_None  metformin_Yes  A1Cresult_Not Normal  race_Asian  \\\n",
       "0                   1              0                     0           0   \n",
       "1                   1              0                     0           0   \n",
       "2                   1              0                     0           0   \n",
       "3                   1              0                     0           0   \n",
       "4                   1              0                     0           0   \n",
       "\n",
       "   age_child  race_Other  readmitted_Yes  num_procedures  number_outpatient  \\\n",
       "0          1           0               1               0                  0   \n",
       "1          0           0               0               5                  2   \n",
       "2          0           0               0               1                  0   \n",
       "3          0           0               0               0                  0   \n",
       "4          0           0               1               6                  0   \n",
       "\n",
       "   time_in_hospital  number_inpatient  race_Caucasian  glipizide_Yes  \\\n",
       "0                 3                 0               1              0   \n",
       "1                 2                 1               0              1   \n",
       "2                 2                 0               1              0   \n",
       "3                 1                 0               1              1   \n",
       "4                 3                 0               1              0   \n",
       "\n",
       "   gender_Male  pioglitazone_Yes  change_No  \n",
       "0            0                 0          0  \n",
       "1            0                 0          1  \n",
       "2            1                 0          0  \n",
       "3            1                 0          0  \n",
       "4            1                 0          1  "
      ]
     },
     "execution_count": 6,
     "metadata": {},
     "output_type": "execute_result"
    }
   ],
   "source": [
    "x.head()"
   ]
  },
  {
   "cell_type": "code",
   "execution_count": 7,
   "metadata": {
    "id": "SW5I1yIy0CdG"
   },
   "outputs": [],
   "source": [
    "x = x.drop('Unnamed: 0',axis=1)"
   ]
  },
  {
   "cell_type": "code",
   "execution_count": 8,
   "metadata": {
    "colab": {
     "base_uri": "https://localhost:8080/",
     "height": 239
    },
    "id": "v_P-2pQ40Kpv",
    "outputId": "67d8057d-267b-464d-d8bd-9091f70af55b"
   },
   "outputs": [
    {
     "data": {
      "text/html": [
       "<div>\n",
       "<style scoped>\n",
       "    .dataframe tbody tr th:only-of-type {\n",
       "        vertical-align: middle;\n",
       "    }\n",
       "\n",
       "    .dataframe tbody tr th {\n",
       "        vertical-align: top;\n",
       "    }\n",
       "\n",
       "    .dataframe thead th {\n",
       "        text-align: right;\n",
       "    }\n",
       "</style>\n",
       "<table border=\"1\" class=\"dataframe\">\n",
       "  <thead>\n",
       "    <tr style=\"text-align: right;\">\n",
       "      <th></th>\n",
       "      <th>num_lab_procedures</th>\n",
       "      <th>glimepiride_Yes</th>\n",
       "      <th>max_glu_serum_&gt;300</th>\n",
       "      <th>glyburide_Yes</th>\n",
       "      <th>insulin_Yes</th>\n",
       "      <th>rosiglitazone_Yes</th>\n",
       "      <th>number_emergency</th>\n",
       "      <th>age_adult</th>\n",
       "      <th>number_diagnoses</th>\n",
       "      <th>A1Cresult_Norm</th>\n",
       "      <th>race_Hispanic</th>\n",
       "      <th>num_medications</th>\n",
       "      <th>max_glu_serum_None</th>\n",
       "      <th>metformin_Yes</th>\n",
       "      <th>A1Cresult_Not Normal</th>\n",
       "      <th>race_Asian</th>\n",
       "      <th>age_child</th>\n",
       "      <th>race_Other</th>\n",
       "      <th>readmitted_Yes</th>\n",
       "      <th>num_procedures</th>\n",
       "      <th>number_outpatient</th>\n",
       "      <th>time_in_hospital</th>\n",
       "      <th>number_inpatient</th>\n",
       "      <th>race_Caucasian</th>\n",
       "      <th>glipizide_Yes</th>\n",
       "      <th>gender_Male</th>\n",
       "      <th>pioglitazone_Yes</th>\n",
       "      <th>change_No</th>\n",
       "    </tr>\n",
       "  </thead>\n",
       "  <tbody>\n",
       "    <tr>\n",
       "      <td>0</td>\n",
       "      <td>59</td>\n",
       "      <td>0</td>\n",
       "      <td>0</td>\n",
       "      <td>0</td>\n",
       "      <td>1</td>\n",
       "      <td>0</td>\n",
       "      <td>0</td>\n",
       "      <td>0</td>\n",
       "      <td>9</td>\n",
       "      <td>0</td>\n",
       "      <td>0</td>\n",
       "      <td>18</td>\n",
       "      <td>1</td>\n",
       "      <td>0</td>\n",
       "      <td>0</td>\n",
       "      <td>0</td>\n",
       "      <td>1</td>\n",
       "      <td>0</td>\n",
       "      <td>1</td>\n",
       "      <td>0</td>\n",
       "      <td>0</td>\n",
       "      <td>3</td>\n",
       "      <td>0</td>\n",
       "      <td>1</td>\n",
       "      <td>0</td>\n",
       "      <td>0</td>\n",
       "      <td>0</td>\n",
       "      <td>0</td>\n",
       "    </tr>\n",
       "    <tr>\n",
       "      <td>1</td>\n",
       "      <td>11</td>\n",
       "      <td>0</td>\n",
       "      <td>0</td>\n",
       "      <td>0</td>\n",
       "      <td>0</td>\n",
       "      <td>0</td>\n",
       "      <td>0</td>\n",
       "      <td>1</td>\n",
       "      <td>6</td>\n",
       "      <td>0</td>\n",
       "      <td>0</td>\n",
       "      <td>13</td>\n",
       "      <td>1</td>\n",
       "      <td>0</td>\n",
       "      <td>0</td>\n",
       "      <td>0</td>\n",
       "      <td>0</td>\n",
       "      <td>0</td>\n",
       "      <td>0</td>\n",
       "      <td>5</td>\n",
       "      <td>2</td>\n",
       "      <td>2</td>\n",
       "      <td>1</td>\n",
       "      <td>0</td>\n",
       "      <td>1</td>\n",
       "      <td>0</td>\n",
       "      <td>0</td>\n",
       "      <td>1</td>\n",
       "    </tr>\n",
       "    <tr>\n",
       "      <td>2</td>\n",
       "      <td>44</td>\n",
       "      <td>0</td>\n",
       "      <td>0</td>\n",
       "      <td>0</td>\n",
       "      <td>1</td>\n",
       "      <td>0</td>\n",
       "      <td>0</td>\n",
       "      <td>1</td>\n",
       "      <td>7</td>\n",
       "      <td>0</td>\n",
       "      <td>0</td>\n",
       "      <td>16</td>\n",
       "      <td>1</td>\n",
       "      <td>0</td>\n",
       "      <td>0</td>\n",
       "      <td>0</td>\n",
       "      <td>0</td>\n",
       "      <td>0</td>\n",
       "      <td>0</td>\n",
       "      <td>1</td>\n",
       "      <td>0</td>\n",
       "      <td>2</td>\n",
       "      <td>0</td>\n",
       "      <td>1</td>\n",
       "      <td>0</td>\n",
       "      <td>1</td>\n",
       "      <td>0</td>\n",
       "      <td>0</td>\n",
       "    </tr>\n",
       "    <tr>\n",
       "      <td>3</td>\n",
       "      <td>51</td>\n",
       "      <td>0</td>\n",
       "      <td>0</td>\n",
       "      <td>0</td>\n",
       "      <td>1</td>\n",
       "      <td>0</td>\n",
       "      <td>0</td>\n",
       "      <td>1</td>\n",
       "      <td>5</td>\n",
       "      <td>0</td>\n",
       "      <td>0</td>\n",
       "      <td>8</td>\n",
       "      <td>1</td>\n",
       "      <td>0</td>\n",
       "      <td>0</td>\n",
       "      <td>0</td>\n",
       "      <td>0</td>\n",
       "      <td>0</td>\n",
       "      <td>0</td>\n",
       "      <td>0</td>\n",
       "      <td>0</td>\n",
       "      <td>1</td>\n",
       "      <td>0</td>\n",
       "      <td>1</td>\n",
       "      <td>1</td>\n",
       "      <td>1</td>\n",
       "      <td>0</td>\n",
       "      <td>0</td>\n",
       "    </tr>\n",
       "    <tr>\n",
       "      <td>4</td>\n",
       "      <td>31</td>\n",
       "      <td>0</td>\n",
       "      <td>0</td>\n",
       "      <td>0</td>\n",
       "      <td>1</td>\n",
       "      <td>0</td>\n",
       "      <td>0</td>\n",
       "      <td>1</td>\n",
       "      <td>9</td>\n",
       "      <td>0</td>\n",
       "      <td>0</td>\n",
       "      <td>16</td>\n",
       "      <td>1</td>\n",
       "      <td>0</td>\n",
       "      <td>0</td>\n",
       "      <td>0</td>\n",
       "      <td>0</td>\n",
       "      <td>0</td>\n",
       "      <td>1</td>\n",
       "      <td>6</td>\n",
       "      <td>0</td>\n",
       "      <td>3</td>\n",
       "      <td>0</td>\n",
       "      <td>1</td>\n",
       "      <td>0</td>\n",
       "      <td>1</td>\n",
       "      <td>0</td>\n",
       "      <td>1</td>\n",
       "    </tr>\n",
       "  </tbody>\n",
       "</table>\n",
       "</div>"
      ],
      "text/plain": [
       "   num_lab_procedures  glimepiride_Yes  max_glu_serum_>300  glyburide_Yes  \\\n",
       "0                  59                0                   0              0   \n",
       "1                  11                0                   0              0   \n",
       "2                  44                0                   0              0   \n",
       "3                  51                0                   0              0   \n",
       "4                  31                0                   0              0   \n",
       "\n",
       "   insulin_Yes  rosiglitazone_Yes  number_emergency  age_adult  \\\n",
       "0            1                  0                 0          0   \n",
       "1            0                  0                 0          1   \n",
       "2            1                  0                 0          1   \n",
       "3            1                  0                 0          1   \n",
       "4            1                  0                 0          1   \n",
       "\n",
       "   number_diagnoses  A1Cresult_Norm  race_Hispanic  num_medications  \\\n",
       "0                 9               0              0               18   \n",
       "1                 6               0              0               13   \n",
       "2                 7               0              0               16   \n",
       "3                 5               0              0                8   \n",
       "4                 9               0              0               16   \n",
       "\n",
       "   max_glu_serum_None  metformin_Yes  A1Cresult_Not Normal  race_Asian  \\\n",
       "0                   1              0                     0           0   \n",
       "1                   1              0                     0           0   \n",
       "2                   1              0                     0           0   \n",
       "3                   1              0                     0           0   \n",
       "4                   1              0                     0           0   \n",
       "\n",
       "   age_child  race_Other  readmitted_Yes  num_procedures  number_outpatient  \\\n",
       "0          1           0               1               0                  0   \n",
       "1          0           0               0               5                  2   \n",
       "2          0           0               0               1                  0   \n",
       "3          0           0               0               0                  0   \n",
       "4          0           0               1               6                  0   \n",
       "\n",
       "   time_in_hospital  number_inpatient  race_Caucasian  glipizide_Yes  \\\n",
       "0                 3                 0               1              0   \n",
       "1                 2                 1               0              1   \n",
       "2                 2                 0               1              0   \n",
       "3                 1                 0               1              1   \n",
       "4                 3                 0               1              0   \n",
       "\n",
       "   gender_Male  pioglitazone_Yes  change_No  \n",
       "0            0                 0          0  \n",
       "1            0                 0          1  \n",
       "2            1                 0          0  \n",
       "3            1                 0          0  \n",
       "4            1                 0          1  "
      ]
     },
     "execution_count": 8,
     "metadata": {},
     "output_type": "execute_result"
    }
   ],
   "source": [
    "x.head()"
   ]
  },
  {
   "cell_type": "code",
   "execution_count": 9,
   "metadata": {
    "colab": {
     "base_uri": "https://localhost:8080/"
    },
    "id": "cnYVVXUqtTXC",
    "outputId": "2144807e-76d5-46ec-f42a-bbeaa70cb782"
   },
   "outputs": [
    {
     "data": {
      "text/plain": [
       "Index(['Unnamed: 0', 'Diabetes'], dtype='object')"
      ]
     },
     "execution_count": 9,
     "metadata": {},
     "output_type": "execute_result"
    }
   ],
   "source": [
    "y.columns"
   ]
  },
  {
   "cell_type": "code",
   "execution_count": 10,
   "metadata": {
    "colab": {
     "base_uri": "https://localhost:8080/",
     "height": 141
    },
    "id": "0JWkA__os6pR",
    "outputId": "4407cb1f-d2c3-4f8e-e981-2fa4d1b46895"
   },
   "outputs": [
    {
     "data": {
      "text/html": [
       "<div>\n",
       "<style scoped>\n",
       "    .dataframe tbody tr th:only-of-type {\n",
       "        vertical-align: middle;\n",
       "    }\n",
       "\n",
       "    .dataframe tbody tr th {\n",
       "        vertical-align: top;\n",
       "    }\n",
       "\n",
       "    .dataframe thead th {\n",
       "        text-align: right;\n",
       "    }\n",
       "</style>\n",
       "<table border=\"1\" class=\"dataframe\">\n",
       "  <thead>\n",
       "    <tr style=\"text-align: right;\">\n",
       "      <th></th>\n",
       "      <th>Diabetes</th>\n",
       "    </tr>\n",
       "  </thead>\n",
       "  <tbody>\n",
       "    <tr>\n",
       "      <td>0</td>\n",
       "      <td>1</td>\n",
       "    </tr>\n",
       "    <tr>\n",
       "      <td>1</td>\n",
       "      <td>1</td>\n",
       "    </tr>\n",
       "    <tr>\n",
       "      <td>2</td>\n",
       "      <td>1</td>\n",
       "    </tr>\n",
       "  </tbody>\n",
       "</table>\n",
       "</div>"
      ],
      "text/plain": [
       "   Diabetes\n",
       "0         1\n",
       "1         1\n",
       "2         1"
      ]
     },
     "execution_count": 10,
     "metadata": {},
     "output_type": "execute_result"
    }
   ],
   "source": [
    "y = y.drop('Unnamed: 0',axis=1)\n",
    "y[:3]"
   ]
  },
  {
   "cell_type": "code",
   "execution_count": 11,
   "metadata": {
    "id": "SA_Kn8xQAAfU"
   },
   "outputs": [],
   "source": [
    "y = y['Diabetes']"
   ]
  },
  {
   "cell_type": "markdown",
   "metadata": {
    "id": "UKyUs3HC5LWs"
   },
   "source": [
    "# Logistic Regression"
   ]
  },
  {
   "cell_type": "code",
   "execution_count": 12,
   "metadata": {
    "id": "YFmBaEEBs9B6"
   },
   "outputs": [],
   "source": [
    "from sklearn.model_selection import  train_test_split\n",
    "\n",
    "Xtrain,Xtest,ytrain,ytest=train_test_split(x,y,test_size=0.3,random_state=48,stratify=y)"
   ]
  },
  {
   "cell_type": "code",
   "execution_count": 13,
   "metadata": {
    "colab": {
     "base_uri": "https://localhost:8080/"
    },
    "id": "zby6GFOl80AU",
    "outputId": "8bc2d876-b101-4d72-97f1-30559c044377"
   },
   "outputs": [
    {
     "data": {
      "text/plain": [
       "((68636, 28), (29416, 28), (68636,), (29416,))"
      ]
     },
     "execution_count": 13,
     "metadata": {},
     "output_type": "execute_result"
    }
   ],
   "source": [
    "Xtrain.shape,Xtest.shape,ytrain.shape,ytest.shape"
   ]
  },
  {
   "cell_type": "code",
   "execution_count": 14,
   "metadata": {
    "colab": {
     "base_uri": "https://localhost:8080/",
     "height": 239
    },
    "id": "ufHoh79e5mPW",
    "outputId": "1e082ff9-fe42-4663-e7b5-77af48bba3fc"
   },
   "outputs": [
    {
     "data": {
      "text/html": [
       "<div>\n",
       "<style scoped>\n",
       "    .dataframe tbody tr th:only-of-type {\n",
       "        vertical-align: middle;\n",
       "    }\n",
       "\n",
       "    .dataframe tbody tr th {\n",
       "        vertical-align: top;\n",
       "    }\n",
       "\n",
       "    .dataframe thead th {\n",
       "        text-align: right;\n",
       "    }\n",
       "</style>\n",
       "<table border=\"1\" class=\"dataframe\">\n",
       "  <thead>\n",
       "    <tr style=\"text-align: right;\">\n",
       "      <th></th>\n",
       "      <th>num_lab_procedures</th>\n",
       "      <th>glimepiride_Yes</th>\n",
       "      <th>max_glu_serum_&gt;300</th>\n",
       "      <th>glyburide_Yes</th>\n",
       "      <th>insulin_Yes</th>\n",
       "      <th>rosiglitazone_Yes</th>\n",
       "      <th>number_emergency</th>\n",
       "      <th>age_adult</th>\n",
       "      <th>number_diagnoses</th>\n",
       "      <th>A1Cresult_Norm</th>\n",
       "      <th>race_Hispanic</th>\n",
       "      <th>num_medications</th>\n",
       "      <th>max_glu_serum_None</th>\n",
       "      <th>metformin_Yes</th>\n",
       "      <th>A1Cresult_Not Normal</th>\n",
       "      <th>race_Asian</th>\n",
       "      <th>age_child</th>\n",
       "      <th>race_Other</th>\n",
       "      <th>readmitted_Yes</th>\n",
       "      <th>num_procedures</th>\n",
       "      <th>number_outpatient</th>\n",
       "      <th>time_in_hospital</th>\n",
       "      <th>number_inpatient</th>\n",
       "      <th>race_Caucasian</th>\n",
       "      <th>glipizide_Yes</th>\n",
       "      <th>gender_Male</th>\n",
       "      <th>pioglitazone_Yes</th>\n",
       "      <th>change_No</th>\n",
       "    </tr>\n",
       "  </thead>\n",
       "  <tbody>\n",
       "    <tr>\n",
       "      <td>0</td>\n",
       "      <td>1.314587</td>\n",
       "      <td>-0.231316</td>\n",
       "      <td>-0.11218</td>\n",
       "      <td>-0.342417</td>\n",
       "      <td>0.940735</td>\n",
       "      <td>-0.26051</td>\n",
       "      <td>0.866474</td>\n",
       "      <td>-0.678507</td>\n",
       "      <td>0.813301</td>\n",
       "      <td>-0.226630</td>\n",
       "      <td>-0.14218</td>\n",
       "      <td>2.332501</td>\n",
       "      <td>0.237815</td>\n",
       "      <td>-0.491763</td>\n",
       "      <td>-0.362483</td>\n",
       "      <td>-0.079586</td>\n",
       "      <td>-0.073119</td>\n",
       "      <td>-0.122455</td>\n",
       "      <td>1.072717</td>\n",
       "      <td>1.553356</td>\n",
       "      <td>-0.293034</td>\n",
       "      <td>1.527613</td>\n",
       "      <td>-0.508778</td>\n",
       "      <td>0.551002</td>\n",
       "      <td>-0.377347</td>\n",
       "      <td>1.082252</td>\n",
       "      <td>-0.279187</td>\n",
       "      <td>-1.082538</td>\n",
       "    </tr>\n",
       "    <tr>\n",
       "      <td>1</td>\n",
       "      <td>-2.136965</td>\n",
       "      <td>-0.231316</td>\n",
       "      <td>-0.11218</td>\n",
       "      <td>-0.342417</td>\n",
       "      <td>0.940735</td>\n",
       "      <td>-0.26051</td>\n",
       "      <td>1.948421</td>\n",
       "      <td>-0.678507</td>\n",
       "      <td>0.813301</td>\n",
       "      <td>-0.226630</td>\n",
       "      <td>-0.14218</td>\n",
       "      <td>-0.013138</td>\n",
       "      <td>0.237815</td>\n",
       "      <td>2.033499</td>\n",
       "      <td>-0.362483</td>\n",
       "      <td>-0.079586</td>\n",
       "      <td>-0.073119</td>\n",
       "      <td>-0.122455</td>\n",
       "      <td>1.072717</td>\n",
       "      <td>-0.789611</td>\n",
       "      <td>-0.293034</td>\n",
       "      <td>1.193721</td>\n",
       "      <td>1.854920</td>\n",
       "      <td>0.551002</td>\n",
       "      <td>-0.377347</td>\n",
       "      <td>-0.923999</td>\n",
       "      <td>3.581835</td>\n",
       "      <td>-1.082538</td>\n",
       "    </tr>\n",
       "    <tr>\n",
       "      <td>2</td>\n",
       "      <td>1.060796</td>\n",
       "      <td>-0.231316</td>\n",
       "      <td>-0.11218</td>\n",
       "      <td>-0.342417</td>\n",
       "      <td>0.940735</td>\n",
       "      <td>-0.26051</td>\n",
       "      <td>-0.215472</td>\n",
       "      <td>1.473825</td>\n",
       "      <td>0.266694</td>\n",
       "      <td>4.412485</td>\n",
       "      <td>-0.14218</td>\n",
       "      <td>-0.013138</td>\n",
       "      <td>0.237815</td>\n",
       "      <td>-0.491763</td>\n",
       "      <td>-0.362483</td>\n",
       "      <td>-0.079586</td>\n",
       "      <td>-0.073119</td>\n",
       "      <td>-0.122455</td>\n",
       "      <td>1.072717</td>\n",
       "      <td>-0.789611</td>\n",
       "      <td>-0.293034</td>\n",
       "      <td>-0.475735</td>\n",
       "      <td>-0.508778</td>\n",
       "      <td>0.551002</td>\n",
       "      <td>-0.377347</td>\n",
       "      <td>1.082252</td>\n",
       "      <td>-0.279187</td>\n",
       "      <td>-1.082538</td>\n",
       "    </tr>\n",
       "    <tr>\n",
       "      <td>3</td>\n",
       "      <td>1.771410</td>\n",
       "      <td>-0.231316</td>\n",
       "      <td>-0.11218</td>\n",
       "      <td>2.920412</td>\n",
       "      <td>0.940735</td>\n",
       "      <td>-0.26051</td>\n",
       "      <td>-0.215472</td>\n",
       "      <td>-0.678507</td>\n",
       "      <td>0.813301</td>\n",
       "      <td>-0.226630</td>\n",
       "      <td>-0.14218</td>\n",
       "      <td>1.097954</td>\n",
       "      <td>0.237815</td>\n",
       "      <td>-0.491763</td>\n",
       "      <td>-0.362483</td>\n",
       "      <td>-0.079586</td>\n",
       "      <td>-0.073119</td>\n",
       "      <td>-0.122455</td>\n",
       "      <td>1.072717</td>\n",
       "      <td>-0.789611</td>\n",
       "      <td>-0.293034</td>\n",
       "      <td>0.859830</td>\n",
       "      <td>-0.508778</td>\n",
       "      <td>0.551002</td>\n",
       "      <td>2.650077</td>\n",
       "      <td>-0.923999</td>\n",
       "      <td>3.581835</td>\n",
       "      <td>-1.082538</td>\n",
       "    </tr>\n",
       "    <tr>\n",
       "      <td>4</td>\n",
       "      <td>1.974442</td>\n",
       "      <td>-0.231316</td>\n",
       "      <td>-0.11218</td>\n",
       "      <td>-0.342417</td>\n",
       "      <td>0.940735</td>\n",
       "      <td>-0.26051</td>\n",
       "      <td>-0.215472</td>\n",
       "      <td>-0.678507</td>\n",
       "      <td>0.813301</td>\n",
       "      <td>-0.226630</td>\n",
       "      <td>-0.14218</td>\n",
       "      <td>0.727590</td>\n",
       "      <td>0.237815</td>\n",
       "      <td>-0.491763</td>\n",
       "      <td>-0.362483</td>\n",
       "      <td>-0.079586</td>\n",
       "      <td>-0.073119</td>\n",
       "      <td>-0.122455</td>\n",
       "      <td>-0.932212</td>\n",
       "      <td>-0.789611</td>\n",
       "      <td>-0.293034</td>\n",
       "      <td>1.193721</td>\n",
       "      <td>-0.508778</td>\n",
       "      <td>0.551002</td>\n",
       "      <td>-0.377347</td>\n",
       "      <td>1.082252</td>\n",
       "      <td>-0.279187</td>\n",
       "      <td>-1.082538</td>\n",
       "    </tr>\n",
       "  </tbody>\n",
       "</table>\n",
       "</div>"
      ],
      "text/plain": [
       "   num_lab_procedures  glimepiride_Yes  max_glu_serum_>300  glyburide_Yes  \\\n",
       "0            1.314587        -0.231316            -0.11218      -0.342417   \n",
       "1           -2.136965        -0.231316            -0.11218      -0.342417   \n",
       "2            1.060796        -0.231316            -0.11218      -0.342417   \n",
       "3            1.771410        -0.231316            -0.11218       2.920412   \n",
       "4            1.974442        -0.231316            -0.11218      -0.342417   \n",
       "\n",
       "   insulin_Yes  rosiglitazone_Yes  number_emergency  age_adult  \\\n",
       "0     0.940735           -0.26051          0.866474  -0.678507   \n",
       "1     0.940735           -0.26051          1.948421  -0.678507   \n",
       "2     0.940735           -0.26051         -0.215472   1.473825   \n",
       "3     0.940735           -0.26051         -0.215472  -0.678507   \n",
       "4     0.940735           -0.26051         -0.215472  -0.678507   \n",
       "\n",
       "   number_diagnoses  A1Cresult_Norm  race_Hispanic  num_medications  \\\n",
       "0          0.813301       -0.226630       -0.14218         2.332501   \n",
       "1          0.813301       -0.226630       -0.14218        -0.013138   \n",
       "2          0.266694        4.412485       -0.14218        -0.013138   \n",
       "3          0.813301       -0.226630       -0.14218         1.097954   \n",
       "4          0.813301       -0.226630       -0.14218         0.727590   \n",
       "\n",
       "   max_glu_serum_None  metformin_Yes  A1Cresult_Not Normal  race_Asian  \\\n",
       "0            0.237815      -0.491763             -0.362483   -0.079586   \n",
       "1            0.237815       2.033499             -0.362483   -0.079586   \n",
       "2            0.237815      -0.491763             -0.362483   -0.079586   \n",
       "3            0.237815      -0.491763             -0.362483   -0.079586   \n",
       "4            0.237815      -0.491763             -0.362483   -0.079586   \n",
       "\n",
       "   age_child  race_Other  readmitted_Yes  num_procedures  number_outpatient  \\\n",
       "0  -0.073119   -0.122455        1.072717        1.553356          -0.293034   \n",
       "1  -0.073119   -0.122455        1.072717       -0.789611          -0.293034   \n",
       "2  -0.073119   -0.122455        1.072717       -0.789611          -0.293034   \n",
       "3  -0.073119   -0.122455        1.072717       -0.789611          -0.293034   \n",
       "4  -0.073119   -0.122455       -0.932212       -0.789611          -0.293034   \n",
       "\n",
       "   time_in_hospital  number_inpatient  race_Caucasian  glipizide_Yes  \\\n",
       "0          1.527613         -0.508778        0.551002      -0.377347   \n",
       "1          1.193721          1.854920        0.551002      -0.377347   \n",
       "2         -0.475735         -0.508778        0.551002      -0.377347   \n",
       "3          0.859830         -0.508778        0.551002       2.650077   \n",
       "4          1.193721         -0.508778        0.551002      -0.377347   \n",
       "\n",
       "   gender_Male  pioglitazone_Yes  change_No  \n",
       "0     1.082252         -0.279187  -1.082538  \n",
       "1    -0.923999          3.581835  -1.082538  \n",
       "2     1.082252         -0.279187  -1.082538  \n",
       "3    -0.923999          3.581835  -1.082538  \n",
       "4     1.082252         -0.279187  -1.082538  "
      ]
     },
     "execution_count": 14,
     "metadata": {},
     "output_type": "execute_result"
    }
   ],
   "source": [
    "from sklearn.preprocessing import  StandardScaler\n",
    "st = StandardScaler()\n",
    "Xtrain_t = st.fit_transform(Xtrain)\n",
    "Xtrain_t=pd.DataFrame(Xtrain_t,columns=x.columns)\n",
    "Xtrain_t.head()"
   ]
  },
  {
   "cell_type": "code",
   "execution_count": 15,
   "metadata": {
    "colab": {
     "base_uri": "https://localhost:8080/",
     "height": 239
    },
    "id": "orKDLlrz6d-9",
    "outputId": "35cf3e86-cd3f-4e60-d0ae-392f4047c37c"
   },
   "outputs": [
    {
     "data": {
      "text/html": [
       "<div>\n",
       "<style scoped>\n",
       "    .dataframe tbody tr th:only-of-type {\n",
       "        vertical-align: middle;\n",
       "    }\n",
       "\n",
       "    .dataframe tbody tr th {\n",
       "        vertical-align: top;\n",
       "    }\n",
       "\n",
       "    .dataframe thead th {\n",
       "        text-align: right;\n",
       "    }\n",
       "</style>\n",
       "<table border=\"1\" class=\"dataframe\">\n",
       "  <thead>\n",
       "    <tr style=\"text-align: right;\">\n",
       "      <th></th>\n",
       "      <th>num_lab_procedures</th>\n",
       "      <th>glimepiride_Yes</th>\n",
       "      <th>max_glu_serum_&gt;300</th>\n",
       "      <th>glyburide_Yes</th>\n",
       "      <th>insulin_Yes</th>\n",
       "      <th>rosiglitazone_Yes</th>\n",
       "      <th>number_emergency</th>\n",
       "      <th>age_adult</th>\n",
       "      <th>number_diagnoses</th>\n",
       "      <th>A1Cresult_Norm</th>\n",
       "      <th>race_Hispanic</th>\n",
       "      <th>num_medications</th>\n",
       "      <th>max_glu_serum_None</th>\n",
       "      <th>metformin_Yes</th>\n",
       "      <th>A1Cresult_Not Normal</th>\n",
       "      <th>race_Asian</th>\n",
       "      <th>age_child</th>\n",
       "      <th>race_Other</th>\n",
       "      <th>readmitted_Yes</th>\n",
       "      <th>num_procedures</th>\n",
       "      <th>number_outpatient</th>\n",
       "      <th>time_in_hospital</th>\n",
       "      <th>number_inpatient</th>\n",
       "      <th>race_Caucasian</th>\n",
       "      <th>glipizide_Yes</th>\n",
       "      <th>gender_Male</th>\n",
       "      <th>pioglitazone_Yes</th>\n",
       "      <th>change_No</th>\n",
       "    </tr>\n",
       "  </thead>\n",
       "  <tbody>\n",
       "    <tr>\n",
       "      <td>0</td>\n",
       "      <td>0.350183</td>\n",
       "      <td>4.323082</td>\n",
       "      <td>-0.11218</td>\n",
       "      <td>-0.342417</td>\n",
       "      <td>0.940735</td>\n",
       "      <td>-0.260510</td>\n",
       "      <td>-0.215472</td>\n",
       "      <td>-0.678507</td>\n",
       "      <td>0.813301</td>\n",
       "      <td>-0.22663</td>\n",
       "      <td>-0.14218</td>\n",
       "      <td>1.715228</td>\n",
       "      <td>0.237815</td>\n",
       "      <td>-0.491763</td>\n",
       "      <td>-0.362483</td>\n",
       "      <td>-0.079586</td>\n",
       "      <td>-0.073119</td>\n",
       "      <td>-0.122455</td>\n",
       "      <td>1.072717</td>\n",
       "      <td>-0.789611</td>\n",
       "      <td>-0.293034</td>\n",
       "      <td>2.863178</td>\n",
       "      <td>-0.508778</td>\n",
       "      <td>0.551002</td>\n",
       "      <td>-0.377347</td>\n",
       "      <td>1.082252</td>\n",
       "      <td>3.581835</td>\n",
       "      <td>-1.082538</td>\n",
       "    </tr>\n",
       "    <tr>\n",
       "      <td>1</td>\n",
       "      <td>0.603973</td>\n",
       "      <td>-0.231316</td>\n",
       "      <td>-0.11218</td>\n",
       "      <td>-0.342417</td>\n",
       "      <td>0.940735</td>\n",
       "      <td>3.838617</td>\n",
       "      <td>-0.215472</td>\n",
       "      <td>-0.678507</td>\n",
       "      <td>0.813301</td>\n",
       "      <td>-0.22663</td>\n",
       "      <td>-0.14218</td>\n",
       "      <td>2.579410</td>\n",
       "      <td>0.237815</td>\n",
       "      <td>-0.491763</td>\n",
       "      <td>-0.362483</td>\n",
       "      <td>-0.079586</td>\n",
       "      <td>-0.073119</td>\n",
       "      <td>-0.122455</td>\n",
       "      <td>-0.932212</td>\n",
       "      <td>2.139098</td>\n",
       "      <td>-0.293034</td>\n",
       "      <td>1.861504</td>\n",
       "      <td>-0.508778</td>\n",
       "      <td>0.551002</td>\n",
       "      <td>-0.377347</td>\n",
       "      <td>1.082252</td>\n",
       "      <td>-0.279187</td>\n",
       "      <td>-1.082538</td>\n",
       "    </tr>\n",
       "    <tr>\n",
       "      <td>2</td>\n",
       "      <td>0.603973</td>\n",
       "      <td>-0.231316</td>\n",
       "      <td>-0.11218</td>\n",
       "      <td>-0.342417</td>\n",
       "      <td>-1.062998</td>\n",
       "      <td>-0.260510</td>\n",
       "      <td>-0.215472</td>\n",
       "      <td>-0.678507</td>\n",
       "      <td>-0.826521</td>\n",
       "      <td>-0.22663</td>\n",
       "      <td>-0.14218</td>\n",
       "      <td>0.357226</td>\n",
       "      <td>0.237815</td>\n",
       "      <td>2.033499</td>\n",
       "      <td>-0.362483</td>\n",
       "      <td>-0.079586</td>\n",
       "      <td>-0.073119</td>\n",
       "      <td>-0.122455</td>\n",
       "      <td>1.072717</td>\n",
       "      <td>0.967614</td>\n",
       "      <td>-0.293034</td>\n",
       "      <td>-0.141844</td>\n",
       "      <td>-0.508778</td>\n",
       "      <td>0.551002</td>\n",
       "      <td>-0.377347</td>\n",
       "      <td>1.082252</td>\n",
       "      <td>-0.279187</td>\n",
       "      <td>0.923755</td>\n",
       "    </tr>\n",
       "    <tr>\n",
       "      <td>3</td>\n",
       "      <td>1.111554</td>\n",
       "      <td>-0.231316</td>\n",
       "      <td>-0.11218</td>\n",
       "      <td>-0.342417</td>\n",
       "      <td>0.940735</td>\n",
       "      <td>-0.260510</td>\n",
       "      <td>-0.215472</td>\n",
       "      <td>-0.678507</td>\n",
       "      <td>0.813301</td>\n",
       "      <td>-0.22663</td>\n",
       "      <td>-0.14218</td>\n",
       "      <td>0.480681</td>\n",
       "      <td>0.237815</td>\n",
       "      <td>-0.491763</td>\n",
       "      <td>-0.362483</td>\n",
       "      <td>-0.079586</td>\n",
       "      <td>-0.073119</td>\n",
       "      <td>-0.122455</td>\n",
       "      <td>1.072717</td>\n",
       "      <td>-0.789611</td>\n",
       "      <td>-0.293034</td>\n",
       "      <td>1.193721</td>\n",
       "      <td>-0.508778</td>\n",
       "      <td>0.551002</td>\n",
       "      <td>-0.377347</td>\n",
       "      <td>-0.923999</td>\n",
       "      <td>-0.279187</td>\n",
       "      <td>0.923755</td>\n",
       "    </tr>\n",
       "    <tr>\n",
       "      <td>4</td>\n",
       "      <td>1.822168</td>\n",
       "      <td>-0.231316</td>\n",
       "      <td>-0.11218</td>\n",
       "      <td>2.920412</td>\n",
       "      <td>0.940735</td>\n",
       "      <td>-0.260510</td>\n",
       "      <td>-0.215472</td>\n",
       "      <td>-0.678507</td>\n",
       "      <td>0.813301</td>\n",
       "      <td>-0.22663</td>\n",
       "      <td>-0.14218</td>\n",
       "      <td>1.962137</td>\n",
       "      <td>0.237815</td>\n",
       "      <td>-0.491763</td>\n",
       "      <td>-0.362483</td>\n",
       "      <td>-0.079586</td>\n",
       "      <td>-0.073119</td>\n",
       "      <td>-0.122455</td>\n",
       "      <td>-0.932212</td>\n",
       "      <td>0.967614</td>\n",
       "      <td>-0.293034</td>\n",
       "      <td>3.197069</td>\n",
       "      <td>-0.508778</td>\n",
       "      <td>0.551002</td>\n",
       "      <td>-0.377347</td>\n",
       "      <td>-0.923999</td>\n",
       "      <td>3.581835</td>\n",
       "      <td>-1.082538</td>\n",
       "    </tr>\n",
       "  </tbody>\n",
       "</table>\n",
       "</div>"
      ],
      "text/plain": [
       "   num_lab_procedures  glimepiride_Yes  max_glu_serum_>300  glyburide_Yes  \\\n",
       "0            0.350183         4.323082            -0.11218      -0.342417   \n",
       "1            0.603973        -0.231316            -0.11218      -0.342417   \n",
       "2            0.603973        -0.231316            -0.11218      -0.342417   \n",
       "3            1.111554        -0.231316            -0.11218      -0.342417   \n",
       "4            1.822168        -0.231316            -0.11218       2.920412   \n",
       "\n",
       "   insulin_Yes  rosiglitazone_Yes  number_emergency  age_adult  \\\n",
       "0     0.940735          -0.260510         -0.215472  -0.678507   \n",
       "1     0.940735           3.838617         -0.215472  -0.678507   \n",
       "2    -1.062998          -0.260510         -0.215472  -0.678507   \n",
       "3     0.940735          -0.260510         -0.215472  -0.678507   \n",
       "4     0.940735          -0.260510         -0.215472  -0.678507   \n",
       "\n",
       "   number_diagnoses  A1Cresult_Norm  race_Hispanic  num_medications  \\\n",
       "0          0.813301        -0.22663       -0.14218         1.715228   \n",
       "1          0.813301        -0.22663       -0.14218         2.579410   \n",
       "2         -0.826521        -0.22663       -0.14218         0.357226   \n",
       "3          0.813301        -0.22663       -0.14218         0.480681   \n",
       "4          0.813301        -0.22663       -0.14218         1.962137   \n",
       "\n",
       "   max_glu_serum_None  metformin_Yes  A1Cresult_Not Normal  race_Asian  \\\n",
       "0            0.237815      -0.491763             -0.362483   -0.079586   \n",
       "1            0.237815      -0.491763             -0.362483   -0.079586   \n",
       "2            0.237815       2.033499             -0.362483   -0.079586   \n",
       "3            0.237815      -0.491763             -0.362483   -0.079586   \n",
       "4            0.237815      -0.491763             -0.362483   -0.079586   \n",
       "\n",
       "   age_child  race_Other  readmitted_Yes  num_procedures  number_outpatient  \\\n",
       "0  -0.073119   -0.122455        1.072717       -0.789611          -0.293034   \n",
       "1  -0.073119   -0.122455       -0.932212        2.139098          -0.293034   \n",
       "2  -0.073119   -0.122455        1.072717        0.967614          -0.293034   \n",
       "3  -0.073119   -0.122455        1.072717       -0.789611          -0.293034   \n",
       "4  -0.073119   -0.122455       -0.932212        0.967614          -0.293034   \n",
       "\n",
       "   time_in_hospital  number_inpatient  race_Caucasian  glipizide_Yes  \\\n",
       "0          2.863178         -0.508778        0.551002      -0.377347   \n",
       "1          1.861504         -0.508778        0.551002      -0.377347   \n",
       "2         -0.141844         -0.508778        0.551002      -0.377347   \n",
       "3          1.193721         -0.508778        0.551002      -0.377347   \n",
       "4          3.197069         -0.508778        0.551002      -0.377347   \n",
       "\n",
       "   gender_Male  pioglitazone_Yes  change_No  \n",
       "0     1.082252          3.581835  -1.082538  \n",
       "1     1.082252         -0.279187  -1.082538  \n",
       "2     1.082252         -0.279187   0.923755  \n",
       "3    -0.923999         -0.279187   0.923755  \n",
       "4    -0.923999          3.581835  -1.082538  "
      ]
     },
     "execution_count": 15,
     "metadata": {},
     "output_type": "execute_result"
    }
   ],
   "source": [
    "Xtest_t = st.transform(Xtest)\n",
    "Xtest_t=pd.DataFrame(Xtest_t,columns=x.columns)\n",
    "Xtest_t.head()"
   ]
  },
  {
   "cell_type": "code",
   "execution_count": 16,
   "metadata": {
    "id": "B2qC-0lsNPZ-"
   },
   "outputs": [],
   "source": [
    "from sklearn.metrics import classification_report,accuracy_score,roc_auc_score,roc_curve"
   ]
  },
  {
   "cell_type": "markdown",
   "metadata": {
    "id": "b9SxIakxNxyq"
   },
   "source": [
    "# KNN"
   ]
  },
  {
   "cell_type": "code",
   "execution_count": 17,
   "metadata": {
    "colab": {
     "base_uri": "https://localhost:8080/"
    },
    "id": "oQqyZrYL6YHX",
    "outputId": "9c247e13-16ae-4adf-be65-48b21d883a28"
   },
   "outputs": [
    {
     "name": "stdout",
     "output_type": "stream",
     "text": [
      "n_neighbors = 1 auc score is 0.5692968658769083\n",
      "n_neighbors = 2 auc score is 0.6045963256944306\n",
      "n_neighbors = 3 auc score is 0.6248392897827671\n",
      "n_neighbors = 4 auc score is 0.636254556887964\n",
      "n_neighbors = 5 auc score is 0.6455454878535967\n",
      "n_neighbors = 6 auc score is 0.6527553603213109\n",
      "n_neighbors = 7 auc score is 0.6594556509617001\n",
      "n_neighbors = 8 auc score is 0.6660830584297127\n",
      "n_neighbors = 9 auc score is 0.6708377210455518\n",
      "n_neighbors = 10 auc score is 0.6747837662007055\n",
      "n_neighbors = 11 auc score is 0.6779954683657157\n",
      "n_neighbors = 12 auc score is 0.6816677369596301\n",
      "n_neighbors = 13 auc score is 0.6841795406505795\n",
      "n_neighbors = 14 auc score is 0.6861162564576816\n",
      "n_neighbors = 15 auc score is 0.6879429266915361\n",
      "n_neighbors = 16 auc score is 0.6904658499825527\n",
      "n_neighbors = 17 auc score is 0.6917038465037033\n",
      "n_neighbors = 18 auc score is 0.6936996870902119\n",
      "n_neighbors = 19 auc score is 0.6936277386401168\n",
      "n_neighbors = 20 auc score is 0.6947892425228491\n",
      "n_neighbors = 21 auc score is 0.6969296127446306\n",
      "n_neighbors = 22 auc score is 0.697835408966847\n",
      "n_neighbors = 23 auc score is 0.6993743069708359\n",
      "n_neighbors = 24 auc score is 0.7006595357279006\n",
      "n_neighbors = 25 auc score is 0.7014161430837781\n",
      "n_neighbors = 26 auc score is 0.7023895880335933\n",
      "n_neighbors = 27 auc score is 0.7027821426312431\n",
      "n_neighbors = 28 auc score is 0.7039663746457645\n",
      "n_neighbors = 29 auc score is 0.7052032530952627\n",
      "n_neighbors = 30 auc score is 0.7054489160863353\n",
      "n_neighbors = 31 auc score is 0.7059395410267693\n",
      "n_neighbors = 32 auc score is 0.7065822740431297\n",
      "n_neighbors = 33 auc score is 0.7065505581970928\n",
      "n_neighbors = 34 auc score is 0.7065217471803005\n",
      "n_neighbors = 35 auc score is 0.7069519962515048\n",
      "n_neighbors = 36 auc score is 0.707426792029606\n",
      "n_neighbors = 37 auc score is 0.7072230333574413\n",
      "n_neighbors = 38 auc score is 0.7081559185503998\n",
      "n_neighbors = 39 auc score is 0.7091755963023049\n",
      "n_neighbors = 40 auc score is 0.7097426851204716\n",
      "n_neighbors = 41 auc score is 0.7102589070710829\n",
      "n_neighbors = 42 auc score is 0.7105163008267913\n",
      "n_neighbors = 43 auc score is 0.7109814905359045\n",
      "n_neighbors = 44 auc score is 0.7118912377573042\n",
      "n_neighbors = 45 auc score is 0.7116803572203698\n",
      "n_neighbors = 46 auc score is 0.712202791479069\n",
      "n_neighbors = 47 auc score is 0.7123304349968134\n",
      "n_neighbors = 48 auc score is 0.7129109226993804\n",
      "n_neighbors = 49 auc score is 0.71337359944359\n",
      "n_neighbors = 50 auc score is 0.7136489578425367\n",
      "n_neighbors = 51 auc score is 0.714259511246805\n",
      "n_neighbors = 52 auc score is 0.7146442896740877\n",
      "n_neighbors = 53 auc score is 0.715086017853929\n",
      "n_neighbors = 54 auc score is 0.7154013284402492\n",
      "n_neighbors = 55 auc score is 0.7156446905764743\n",
      "n_neighbors = 56 auc score is 0.715613517588378\n",
      "n_neighbors = 57 auc score is 0.7158570127427741\n",
      "n_neighbors = 58 auc score is 0.7161511734399267\n",
      "n_neighbors = 59 auc score is 0.7160734584723707\n",
      "n_neighbors = 60 auc score is 0.7158999308758491\n",
      "n_neighbors = 61 auc score is 0.7160827589590739\n",
      "n_neighbors = 62 auc score is 0.7163701537049411\n",
      "n_neighbors = 63 auc score is 0.7160869831847704\n",
      "n_neighbors = 64 auc score is 0.7166067534849665\n",
      "n_neighbors = 65 auc score is 0.7168277541881435\n",
      "n_neighbors = 66 auc score is 0.7171432948599484\n",
      "n_neighbors = 67 auc score is 0.7173352077247347\n",
      "n_neighbors = 68 auc score is 0.7176728833391888\n",
      "n_neighbors = 69 auc score is 0.717766628793877\n",
      "n_neighbors = 70 auc score is 0.7175800654166107\n",
      "n_neighbors = 71 auc score is 0.7178909756180353\n",
      "n_neighbors = 72 auc score is 0.7179735151905995\n",
      "n_neighbors = 73 auc score is 0.7179528865888585\n",
      "n_neighbors = 74 auc score is 0.7180749541286837\n",
      "n_neighbors = 75 auc score is 0.7183677774539565\n",
      "n_neighbors = 76 auc score is 0.7186413419051393\n",
      "n_neighbors = 77 auc score is 0.7186882829391117\n",
      "n_neighbors = 78 auc score is 0.7188061873696975\n",
      "n_neighbors = 79 auc score is 0.7185673334709388\n",
      "n_neighbors = 80 auc score is 0.7186424455964491\n",
      "n_neighbors = 81 auc score is 0.7188326831512993\n",
      "n_neighbors = 82 auc score is 0.7191048095682027\n",
      "n_neighbors = 83 auc score is 0.7191492807782998\n",
      "n_neighbors = 84 auc score is 0.7192588158493782\n",
      "n_neighbors = 85 auc score is 0.7195546590466381\n",
      "n_neighbors = 86 auc score is 0.7197175272140618\n",
      "n_neighbors = 87 auc score is 0.7197321052865714\n",
      "n_neighbors = 88 auc score is 0.7197799630673971\n",
      "n_neighbors = 89 auc score is 0.7202300246558887\n",
      "n_neighbors = 90 auc score is 0.7205905542301313\n",
      "n_neighbors = 91 auc score is 0.7205298080670746\n",
      "n_neighbors = 92 auc score is 0.720501802349479\n",
      "n_neighbors = 93 auc score is 0.7208025564338039\n",
      "n_neighbors = 94 auc score is 0.721144707929953\n",
      "n_neighbors = 95 auc score is 0.7211284078113936\n",
      "n_neighbors = 96 auc score is 0.7211601991542302\n",
      "n_neighbors = 97 auc score is 0.7212679654431446\n",
      "n_neighbors = 98 auc score is 0.7210979322699227\n",
      "n_neighbors = 99 auc score is 0.7211884529327389\n",
      "n_neighbors = 100 auc score is 0.7210404504446808\n"
     ]
    }
   ],
   "source": [
    "from sklearn.neighbors import KNeighborsClassifier\n",
    "\n",
    "\n",
    "knn=KNeighborsClassifier()\n",
    "\n",
    "s = []\n",
    "for i in range(1,101):\n",
    "  model=KNeighborsClassifier(n_neighbors=i)\n",
    "  model.fit(Xtrain_t,ytrain)\n",
    "  yprob = model.predict_proba(Xtest_t)\n",
    "  y_prob1=yprob[:,1]\n",
    "  print(f'n_neighbors = {i} auc score is {roc_auc_score(ytest,y_prob1)}')\n",
    "  s.append(roc_auc_score(ytest,y_prob1))"
   ]
  },
  {
   "cell_type": "code",
   "execution_count": 18,
   "metadata": {
    "colab": {
     "base_uri": "https://localhost:8080/"
    },
    "id": "pwNe_auRo3zI",
    "outputId": "fd231e85-ea30-4623-d6ba-7e4cc12a4704"
   },
   "outputs": [
    {
     "data": {
      "text/plain": [
       "array([1, 2])"
      ]
     },
     "execution_count": 18,
     "metadata": {},
     "output_type": "execute_result"
    }
   ],
   "source": [
    "np.arange(1,3)"
   ]
  },
  {
   "cell_type": "code",
   "execution_count": 19,
   "metadata": {
    "colab": {
     "base_uri": "https://localhost:8080/",
     "height": 374
    },
    "id": "g6BxVzEARafp",
    "outputId": "1823d25e-0ff2-479d-def1-639ab0ec8069"
   },
   "outputs": [
    {
     "data": {
      "image/png": "[encoded data removed]",
      "text/plain": [
       "<Figure size 1080x432 with 1 Axes>"
      ]
     },
     "metadata": {
      "needs_background": "light"
     },
     "output_type": "display_data"
    }
   ],
   "source": [
    "plt.figure(figsize=(15,6))\n",
    "plt.plot( np.arange(1,101),s,marker='o');"
   ]
  },
  {
   "cell_type": "code",
   "execution_count": 20,
   "metadata": {
    "colab": {
     "base_uri": "https://localhost:8080/"
    },
    "id": "uWLr8IL7pkvk",
    "outputId": "f742ac59-9b2b-463a-89a1-60cca327d175"
   },
   "outputs": [
    {
     "data": {
      "text/plain": [
       "0.7212679654431446"
      ]
     },
     "execution_count": 20,
     "metadata": {},
     "output_type": "execute_result"
    }
   ],
   "source": [
    "np.max(s)"
   ]
  },
  {
   "cell_type": "code",
   "execution_count": 21,
   "metadata": {
    "colab": {
     "base_uri": "https://localhost:8080/"
    },
    "id": "BgOw75g7po4O",
    "outputId": "39847cfc-6cb3-4dc9-96b6-83d77ea26e6c"
   },
   "outputs": [
    {
     "data": {
      "text/plain": [
       "97"
      ]
     },
     "execution_count": 21,
     "metadata": {},
     "output_type": "execute_result"
    }
   ],
   "source": [
    "n = np.argmax(s)+1\n",
    "n"
   ]
  },
  {
   "cell_type": "code",
   "execution_count": 22,
   "metadata": {
    "id": "U0Kmm7Ippvs_"
   },
   "outputs": [],
   "source": [
    "knn =KNeighborsClassifier(n_neighbors=n)\n",
    "knn.fit(Xtrain_t,ytrain)\n",
    "ypred = knn.predict(Xtest_t)\n",
    "ypred1 = knn.predict(Xtrain_t)\n",
    "yprob = knn.predict_proba(Xtest_t)\n",
    "y_prob1=yprob[:,1]\n",
    "fpr,tpr,thresholds=roc_curve(ytest,y_prob1)"
   ]
  },
  {
   "cell_type": "code",
   "execution_count": 23,
   "metadata": {
    "colab": {
     "base_uri": "https://localhost:8080/",
     "height": 202
    },
    "id": "gmdY-xPnq5zT",
    "outputId": "c9174cdf-5e70-42c1-d84e-a25c72ad020f"
   },
   "outputs": [
    {
     "data": {
      "text/html": [
       "<div>\n",
       "<style scoped>\n",
       "    .dataframe tbody tr th:only-of-type {\n",
       "        vertical-align: middle;\n",
       "    }\n",
       "\n",
       "    .dataframe tbody tr th {\n",
       "        vertical-align: top;\n",
       "    }\n",
       "\n",
       "    .dataframe thead th {\n",
       "        text-align: right;\n",
       "    }\n",
       "</style>\n",
       "<table border=\"1\" class=\"dataframe\">\n",
       "  <thead>\n",
       "    <tr style=\"text-align: right;\">\n",
       "      <th></th>\n",
       "      <th>y_prob0</th>\n",
       "      <th>y_prob1</th>\n",
       "      <th>y_actual</th>\n",
       "    </tr>\n",
       "  </thead>\n",
       "  <tbody>\n",
       "    <tr>\n",
       "      <td>0</td>\n",
       "      <td>0.896907</td>\n",
       "      <td>0.103093</td>\n",
       "      <td>0</td>\n",
       "    </tr>\n",
       "    <tr>\n",
       "      <td>1</td>\n",
       "      <td>0.917526</td>\n",
       "      <td>0.082474</td>\n",
       "      <td>0</td>\n",
       "    </tr>\n",
       "    <tr>\n",
       "      <td>2</td>\n",
       "      <td>0.845361</td>\n",
       "      <td>0.154639</td>\n",
       "      <td>0</td>\n",
       "    </tr>\n",
       "    <tr>\n",
       "      <td>3</td>\n",
       "      <td>0.917526</td>\n",
       "      <td>0.082474</td>\n",
       "      <td>0</td>\n",
       "    </tr>\n",
       "    <tr>\n",
       "      <td>4</td>\n",
       "      <td>0.896907</td>\n",
       "      <td>0.103093</td>\n",
       "      <td>0</td>\n",
       "    </tr>\n",
       "  </tbody>\n",
       "</table>\n",
       "</div>"
      ],
      "text/plain": [
       "    y_prob0   y_prob1  y_actual\n",
       "0  0.896907  0.103093         0\n",
       "1  0.917526  0.082474         0\n",
       "2  0.845361  0.154639         0\n",
       "3  0.917526  0.082474         0\n",
       "4  0.896907  0.103093         0"
      ]
     },
     "execution_count": 23,
     "metadata": {},
     "output_type": "execute_result"
    }
   ],
   "source": [
    "pdf=pd.DataFrame(yprob,columns=['y_prob0','y_prob1'])\n",
    "pdf['y_actual']=list(ytest)\n",
    "pdf.head()"
   ]
  },
  {
   "cell_type": "code",
   "execution_count": 24,
   "metadata": {
    "id": "uMjKgejcq_VZ"
   },
   "outputs": [],
   "source": [
    "p0=pdf[pdf['y_actual']==0]['y_prob1']\n",
    "p1=pdf[pdf['y_actual']==1]['y_prob1']"
   ]
  },
  {
   "cell_type": "code",
   "execution_count": 25,
   "metadata": {
    "colab": {
     "base_uri": "https://localhost:8080/",
     "height": 846
    },
    "id": "k-5-VtVLrE3o",
    "outputId": "46b049eb-7acc-422c-b93b-64d013770ed2"
   },
   "outputs": [
    {
     "data": {
      "image/png": "[encoded data removed]",
      "text/plain": [
       "<Figure size 720x432 with 1 Axes>"
      ]
     },
     "metadata": {
      "needs_background": "light"
     },
     "output_type": "display_data"
    },
    {
     "data": {
      "image/png": "[encoded data removed]",
      "text/plain": [
       "<Figure size 720x504 with 1 Axes>"
      ]
     },
     "metadata": {
      "needs_background": "light"
     },
     "output_type": "display_data"
    }
   ],
   "source": [
    "plt.figure(figsize=(10,6))\n",
    "x=[i/10 for i in range(11)]\n",
    "plt.plot(fpr,tpr,color='g')\n",
    "plt.plot(x,x,color='r')\n",
    "plt.title(f'ROC curve with auc score {roc_auc_score(ytest,y_prob1)}')\n",
    "plt.ylabel('True positive rate (tpr)')\n",
    "plt.xlabel('False Positive rate(fpr)')\n",
    "plt.show()\n",
    "\n",
    "plt.figure(figsize=(10,7))\n",
    "sns.distplot(p0,color='b',label='Probabality of class: 0')\n",
    "sns.distplot(p1,color='r',label='Probabality of class: 1')\n",
    "plt.title(f'auc score {roc_auc_score(ytest,y_prob1)}')\n",
    "plt.legend()\n",
    "plt.show()"
   ]
  },
  {
   "cell_type": "code",
   "execution_count": 26,
   "metadata": {
    "colab": {
     "base_uri": "https://localhost:8080/"
    },
    "id": "fcRD9upgsMcW",
    "outputId": "8bd8c454-6d3f-4a95-bfae-cd8b47d48b0a"
   },
   "outputs": [
    {
     "name": "stdout",
     "output_type": "stream",
     "text": [
      "              precision    recall  f1-score   support\n",
      "\n",
      "           0       0.81      0.99      0.89     23497\n",
      "           1       0.71      0.10      0.18      5919\n",
      "\n",
      "    accuracy                           0.81     29416\n",
      "   macro avg       0.76      0.55      0.54     29416\n",
      "weighted avg       0.79      0.81      0.75     29416\n",
      "\n"
     ]
    }
   ],
   "source": [
    "print(classification_report(ytest,ypred))"
   ]
  },
  {
   "cell_type": "code",
   "execution_count": 27,
   "metadata": {
    "id": "sqd-QFggc3nH"
   },
   "outputs": [
    {
     "name": "stdout",
     "output_type": "stream",
     "text": [
      "              precision    recall  f1-score   support\n",
      "\n",
      "           0       0.81      0.99      0.89     54825\n",
      "           1       0.72      0.10      0.18     13811\n",
      "\n",
      "    accuracy                           0.81     68636\n",
      "   macro avg       0.76      0.54      0.53     68636\n",
      "weighted avg       0.79      0.81      0.75     68636\n",
      "\n"
     ]
    }
   ],
   "source": [
    "print(classification_report(ytrain,ypred1))"
   ]
  },
  {
   "cell_type": "markdown",
   "metadata": {
    "id": "h6Q1Ld3pxpcW"
   },
   "source": [
    "# Naive base (Gaussian)"
   ]
  },
  {
   "cell_type": "code",
   "execution_count": 28,
   "metadata": {
    "colab": {
     "base_uri": "https://localhost:8080/"
    },
    "id": "Csja4twO6Ypc",
    "outputId": "e3a00ca7-6d90-4894-fbb4-68c82c70d3d4"
   },
   "outputs": [
    {
     "data": {
      "text/plain": [
       "GaussianNB(priors=None, var_smoothing=1e-09)"
      ]
     },
     "execution_count": 28,
     "metadata": {},
     "output_type": "execute_result"
    }
   ],
   "source": [
    "from sklearn.naive_bayes import GaussianNB\n",
    "\n",
    "gnb = GaussianNB()\n",
    "gnb.fit(Xtrain_t,ytrain)"
   ]
  },
  {
   "cell_type": "code",
   "execution_count": 29,
   "metadata": {
    "id": "fznuHXeg3aks"
   },
   "outputs": [],
   "source": [
    "gnb.fit(Xtrain_t,ytrain)\n",
    "ypred = gnb.predict(Xtest_t)\n",
    "ypred1 = gnb.predict(Xtrain_t)\n",
    "yprob = gnb.predict_proba(Xtest_t)\n",
    "y_prob1=yprob[:,1]\n",
    "fpr,tpr,thresholds=roc_curve(ytest,y_prob1)"
   ]
  },
  {
   "cell_type": "code",
   "execution_count": 30,
   "metadata": {
    "colab": {
     "base_uri": "https://localhost:8080/",
     "height": 202
    },
    "id": "N8jI54VorzYx",
    "outputId": "02f9fe2f-a276-4f54-bf1f-bee9ea1eeffa"
   },
   "outputs": [
    {
     "data": {
      "text/html": [
       "<div>\n",
       "<style scoped>\n",
       "    .dataframe tbody tr th:only-of-type {\n",
       "        vertical-align: middle;\n",
       "    }\n",
       "\n",
       "    .dataframe tbody tr th {\n",
       "        vertical-align: top;\n",
       "    }\n",
       "\n",
       "    .dataframe thead th {\n",
       "        text-align: right;\n",
       "    }\n",
       "</style>\n",
       "<table border=\"1\" class=\"dataframe\">\n",
       "  <thead>\n",
       "    <tr style=\"text-align: right;\">\n",
       "      <th></th>\n",
       "      <th>y_prob0</th>\n",
       "      <th>y_prob1</th>\n",
       "      <th>y_actual</th>\n",
       "    </tr>\n",
       "  </thead>\n",
       "  <tbody>\n",
       "    <tr>\n",
       "      <td>0</td>\n",
       "      <td>0.999848</td>\n",
       "      <td>0.000152</td>\n",
       "      <td>0</td>\n",
       "    </tr>\n",
       "    <tr>\n",
       "      <td>1</td>\n",
       "      <td>0.998972</td>\n",
       "      <td>0.001028</td>\n",
       "      <td>0</td>\n",
       "    </tr>\n",
       "    <tr>\n",
       "      <td>2</td>\n",
       "      <td>0.988260</td>\n",
       "      <td>0.011740</td>\n",
       "      <td>0</td>\n",
       "    </tr>\n",
       "    <tr>\n",
       "      <td>3</td>\n",
       "      <td>0.992298</td>\n",
       "      <td>0.007702</td>\n",
       "      <td>0</td>\n",
       "    </tr>\n",
       "    <tr>\n",
       "      <td>4</td>\n",
       "      <td>0.999748</td>\n",
       "      <td>0.000252</td>\n",
       "      <td>0</td>\n",
       "    </tr>\n",
       "  </tbody>\n",
       "</table>\n",
       "</div>"
      ],
      "text/plain": [
       "    y_prob0   y_prob1  y_actual\n",
       "0  0.999848  0.000152         0\n",
       "1  0.998972  0.001028         0\n",
       "2  0.988260  0.011740         0\n",
       "3  0.992298  0.007702         0\n",
       "4  0.999748  0.000252         0"
      ]
     },
     "execution_count": 30,
     "metadata": {},
     "output_type": "execute_result"
    }
   ],
   "source": [
    "pdf=pd.DataFrame(yprob,columns=['y_prob0','y_prob1'])\n",
    "pdf['y_actual']=list(ytest)\n",
    "pdf.head()"
   ]
  },
  {
   "cell_type": "code",
   "execution_count": 31,
   "metadata": {
    "id": "XCwMKgZbrzWM"
   },
   "outputs": [],
   "source": [
    "p0=pdf[pdf['y_actual']==0]['y_prob1']\n",
    "p1=pdf[pdf['y_actual']==1]['y_prob1']"
   ]
  },
  {
   "cell_type": "code",
   "execution_count": 32,
   "metadata": {
    "colab": {
     "base_uri": "https://localhost:8080/",
     "height": 846
    },
    "id": "ByPL72Xyr5Di",
    "outputId": "347e7d5a-4b95-4041-9edf-e6a9012da7a1"
   },
   "outputs": [
    {
     "data": {
      "image/png": "[encoded data removed]",
      "text/plain": [
       "<Figure size 720x432 with 1 Axes>"
      ]
     },
     "metadata": {
      "needs_background": "light"
     },
     "output_type": "display_data"
    },
    {
     "data": {
      "image/png": "[encoded data removed]",
      "text/plain": [
       "<Figure size 720x504 with 1 Axes>"
      ]
     },
     "metadata": {
      "needs_background": "light"
     },
     "output_type": "display_data"
    }
   ],
   "source": [
    "plt.figure(figsize=(10,6))\n",
    "x=[i/10 for i in range(11)]\n",
    "plt.plot(fpr,tpr,color='g')\n",
    "plt.plot(x,x,color='r')\n",
    "plt.title(f'ROC curve with auc score {roc_auc_score(ytest,y_prob1)}')\n",
    "plt.ylabel('True positive rate (tpr)')\n",
    "plt.xlabel('False Positive rate(fpr)')\n",
    "plt.show()\n",
    "\n",
    "plt.figure(figsize=(10,7))\n",
    "sns.distplot(p0,color='b',label='Probabality of class: 0')\n",
    "sns.distplot(p1,color='r',label='Probabality of class: 1')\n",
    "plt.title(f'auc score {roc_auc_score(ytest,y_prob1)}')\n",
    "plt.legend()\n",
    "plt.show()"
   ]
  },
  {
   "cell_type": "code",
   "execution_count": 33,
   "metadata": {
    "colab": {
     "base_uri": "https://localhost:8080/"
    },
    "id": "TlySzqCdr5rE",
    "outputId": "2ecd94d6-ce33-4e1c-91d3-6e39d9625e4e"
   },
   "outputs": [
    {
     "name": "stdout",
     "output_type": "stream",
     "text": [
      "              precision    recall  f1-score   support\n",
      "\n",
      "           0       0.82      0.94      0.88     23497\n",
      "           1       0.44      0.19      0.27      5919\n",
      "\n",
      "    accuracy                           0.79     29416\n",
      "   macro avg       0.63      0.57      0.57     29416\n",
      "weighted avg       0.75      0.79      0.75     29416\n",
      "\n"
     ]
    }
   ],
   "source": [
    "print(classification_report(ytest,ypred))"
   ]
  },
  {
   "cell_type": "code",
   "execution_count": 34,
   "metadata": {
    "id": "q3qgiA7Jr5of"
   },
   "outputs": [
    {
     "name": "stdout",
     "output_type": "stream",
     "text": [
      "              precision    recall  f1-score   support\n",
      "\n",
      "           0       0.82      0.94      0.88     54825\n",
      "           1       0.44      0.18      0.26     13811\n",
      "\n",
      "    accuracy                           0.79     68636\n",
      "   macro avg       0.63      0.56      0.57     68636\n",
      "weighted avg       0.74      0.79      0.75     68636\n",
      "\n"
     ]
    }
   ],
   "source": [
    "print(classification_report(ytrain,ypred1))"
   ]
  },
  {
   "cell_type": "code",
   "execution_count": null,
   "metadata": {
    "id": "o7GgHh5mtcbN"
   },
   "outputs": [],
   "source": []
  },
  {
   "cell_type": "code",
   "execution_count": null,
   "metadata": {
    "id": "nsrBwpUJI1kW"
   },
   "outputs": [],
   "source": []
  },
  {
   "cell_type": "code",
   "execution_count": null,
   "metadata": {
    "id": "Oa_V58yXI1rr"
   },
   "outputs": [],
   "source": []
  },
  {
   "cell_type": "code",
   "execution_count": null,
   "metadata": {
    "id": "31bjQUO5I1_q"
   },
   "outputs": [],
   "source": []
  },
  {
   "cell_type": "code",
   "execution_count": null,
   "metadata": {
    "id": "baF1g9BwI1n_"
   },
   "outputs": [],
   "source": []
  },
  {
   "cell_type": "code",
   "execution_count": null,
   "metadata": {
    "id": "ecFhsGL7I1gy"
   },
   "outputs": [],
   "source": []
  }
 ],
 "metadata": {
  "colab": {
   "collapsed_sections": [],
   "name": "ML_Models2_t.ipynb",
   "provenance": []
  },
  "kernelspec": {
   "display_name": "Python 3",
   "language": "python",
   "name": "python3"
  },
  "language_info": {
   "codemirror_mode": {
    "name": "ipython",
    "version": 3
   },
   "file_extension": ".py",
   "mimetype": "text/x-python",
   "name": "python",
   "nbconvert_exporter": "python",
   "pygments_lexer": "ipython3",
   "version": "3.7.4"
  }
 },
 "nbformat": 4,
 "nbformat_minor": 1
}
